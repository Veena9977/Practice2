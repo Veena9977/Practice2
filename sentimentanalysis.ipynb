{
  "nbformat": 4,
  "nbformat_minor": 0,
  "metadata": {
    "colab": {
      "provenance": [],
      "authorship_tag": "ABX9TyOE2JqjOASb7BbY7XjrhjaI",
      "include_colab_link": true
    },
    "kernelspec": {
      "name": "python3",
      "display_name": "Python 3"
    },
    "language_info": {
      "name": "python"
    }
  },
  "cells": [
    {
      "cell_type": "markdown",
      "metadata": {
        "id": "view-in-github",
        "colab_type": "text"
      },
      "source": [
        "<a href=\"https://colab.research.google.com/github/Veena9977/Practice2/blob/main/sentimentanalysis.ipynb\" target=\"_parent\"><img src=\"https://colab.research.google.com/assets/colab-badge.svg\" alt=\"Open In Colab\"/></a>"
      ]
    },
    {
      "cell_type": "code",
      "execution_count": null,
      "metadata": {
        "colab": {
          "base_uri": "https://localhost:8080/"
        },
        "id": "VQjlaZI289I2",
        "outputId": "8e10c90e-5267-4d28-bdc0-a9a218fc56f5"
      },
      "outputs": [
        {
          "output_type": "stream",
          "name": "stderr",
          "text": [
            "[nltk_data] Downloading package punkt_tab to /root/nltk_data...\n",
            "[nltk_data]   Package punkt_tab is already up-to-date!\n"
          ]
        }
      ],
      "source": [
        "import pandas as pd\n",
        "import nltk\n",
        "import re\n",
        "nltk.download('punkt_tab')\n",
        "import numpy as np\n",
        "from sklearn.feature_extraction.text import CountVectorizer, TfidfVectorizer\n",
        "from gensim.models import Word2Vec"
      ]
    },
    {
      "cell_type": "code",
      "source": [
        "import seaborn as sns\n",
        "import matplotlib.pyplot as plt\n",
        "from nltk.corpus import stopwords\n",
        "from nltk.tokenize import word_tokenize\n",
        "import tensorflow as tf\n",
        "from tensorflow.keras.layers import SimpleRNN, LSTM, Dense, Dropout, Embedding, BatchNormalization, GRU\n",
        "from tensorflow.keras.models import Sequential\n",
        "from tensorflow.keras.preprocessing.text import Tokenizer\n",
        "from tensorflow.keras.utils import pad_sequences\n",
        "from tensorflow.keras.datasets import imdb\n",
        "from tensorflow.keras.preprocessing import sequence\n"
      ],
      "metadata": {
        "id": "QsmER5aDBdxC"
      },
      "execution_count": 128,
      "outputs": []
    },
    {
      "cell_type": "code",
      "source": [
        "data = pd.read_csv('/content/tweets.csv')\n"
      ],
      "metadata": {
        "id": "edAo7IH4CLox"
      },
      "execution_count": null,
      "outputs": []
    },
    {
      "cell_type": "code",
      "source": [
        "print(data.shape)"
      ],
      "metadata": {
        "colab": {
          "base_uri": "https://localhost:8080/"
        },
        "id": "ZqXAtTLOCeVX",
        "outputId": "a7cfb273-2aa0-400d-adbe-0fae5de80464"
      },
      "execution_count": null,
      "outputs": [
        {
          "output_type": "stream",
          "name": "stdout",
          "text": [
            "(7920, 3)\n"
          ]
        }
      ]
    },
    {
      "cell_type": "code",
      "source": [
        "#Display the dtype information\n",
        "print(data.info())"
      ],
      "metadata": {
        "colab": {
          "base_uri": "https://localhost:8080/"
        },
        "id": "-hc2ERnLClEn",
        "outputId": "fd0b698d-d5c8-4151-e579-c6e066e08745"
      },
      "execution_count": null,
      "outputs": [
        {
          "output_type": "stream",
          "name": "stdout",
          "text": [
            "<class 'pandas.core.frame.DataFrame'>\n",
            "RangeIndex: 7920 entries, 0 to 7919\n",
            "Data columns (total 3 columns):\n",
            " #   Column  Non-Null Count  Dtype \n",
            "---  ------  --------------  ----- \n",
            " 0   id      7920 non-null   int64 \n",
            " 1   label   7920 non-null   int64 \n",
            " 2   tweet   7920 non-null   object\n",
            "dtypes: int64(2), object(1)\n",
            "memory usage: 185.8+ KB\n",
            "None\n"
          ]
        }
      ]
    },
    {
      "cell_type": "code",
      "source": [
        "print(data['label'].value_counts())"
      ],
      "metadata": {
        "colab": {
          "base_uri": "https://localhost:8080/"
        },
        "id": "gXfMEGr3CS2o",
        "outputId": "f074e4c0-fa40-4602-9967-dcf9bdb92956"
      },
      "execution_count": null,
      "outputs": [
        {
          "output_type": "stream",
          "name": "stdout",
          "text": [
            "label\n",
            "0    5894\n",
            "1    2026\n",
            "Name: count, dtype: int64\n"
          ]
        }
      ]
    },
    {
      "cell_type": "code",
      "source": [
        "data.head()"
      ],
      "metadata": {
        "colab": {
          "base_uri": "https://localhost:8080/",
          "height": 206
        },
        "id": "wfUVMRuLCqdM",
        "outputId": "0797b5af-b57e-437b-d413-bd335378c3d5"
      },
      "execution_count": null,
      "outputs": [
        {
          "output_type": "execute_result",
          "data": {
            "text/plain": [
              "   id  label                                              tweet\n",
              "0   1      0  #fingerprint #Pregnancy Test https://goo.gl/h1...\n",
              "1   2      0  Finally a transparant silicon case ^^ Thanks t...\n",
              "2   3      0  We love this! Would you go? #talk #makememorie...\n",
              "3   4      0  I'm wired I know I'm George I was made that wa...\n",
              "4   5      1  What amazing service! Apple won't even talk to..."
            ],
            "text/html": [
              "\n",
              "  <div id=\"df-2f17b543-d8f6-4e5f-af93-d8c33a6a8d13\" class=\"colab-df-container\">\n",
              "    <div>\n",
              "<style scoped>\n",
              "    .dataframe tbody tr th:only-of-type {\n",
              "        vertical-align: middle;\n",
              "    }\n",
              "\n",
              "    .dataframe tbody tr th {\n",
              "        vertical-align: top;\n",
              "    }\n",
              "\n",
              "    .dataframe thead th {\n",
              "        text-align: right;\n",
              "    }\n",
              "</style>\n",
              "<table border=\"1\" class=\"dataframe\">\n",
              "  <thead>\n",
              "    <tr style=\"text-align: right;\">\n",
              "      <th></th>\n",
              "      <th>id</th>\n",
              "      <th>label</th>\n",
              "      <th>tweet</th>\n",
              "    </tr>\n",
              "  </thead>\n",
              "  <tbody>\n",
              "    <tr>\n",
              "      <th>0</th>\n",
              "      <td>1</td>\n",
              "      <td>0</td>\n",
              "      <td>#fingerprint #Pregnancy Test https://goo.gl/h1...</td>\n",
              "    </tr>\n",
              "    <tr>\n",
              "      <th>1</th>\n",
              "      <td>2</td>\n",
              "      <td>0</td>\n",
              "      <td>Finally a transparant silicon case ^^ Thanks t...</td>\n",
              "    </tr>\n",
              "    <tr>\n",
              "      <th>2</th>\n",
              "      <td>3</td>\n",
              "      <td>0</td>\n",
              "      <td>We love this! Would you go? #talk #makememorie...</td>\n",
              "    </tr>\n",
              "    <tr>\n",
              "      <th>3</th>\n",
              "      <td>4</td>\n",
              "      <td>0</td>\n",
              "      <td>I'm wired I know I'm George I was made that wa...</td>\n",
              "    </tr>\n",
              "    <tr>\n",
              "      <th>4</th>\n",
              "      <td>5</td>\n",
              "      <td>1</td>\n",
              "      <td>What amazing service! Apple won't even talk to...</td>\n",
              "    </tr>\n",
              "  </tbody>\n",
              "</table>\n",
              "</div>\n",
              "    <div class=\"colab-df-buttons\">\n",
              "\n",
              "  <div class=\"colab-df-container\">\n",
              "    <button class=\"colab-df-convert\" onclick=\"convertToInteractive('df-2f17b543-d8f6-4e5f-af93-d8c33a6a8d13')\"\n",
              "            title=\"Convert this dataframe to an interactive table.\"\n",
              "            style=\"display:none;\">\n",
              "\n",
              "  <svg xmlns=\"http://www.w3.org/2000/svg\" height=\"24px\" viewBox=\"0 -960 960 960\">\n",
              "    <path d=\"M120-120v-720h720v720H120Zm60-500h600v-160H180v160Zm220 220h160v-160H400v160Zm0 220h160v-160H400v160ZM180-400h160v-160H180v160Zm440 0h160v-160H620v160ZM180-180h160v-160H180v160Zm440 0h160v-160H620v160Z\"/>\n",
              "  </svg>\n",
              "    </button>\n",
              "\n",
              "  <style>\n",
              "    .colab-df-container {\n",
              "      display:flex;\n",
              "      gap: 12px;\n",
              "    }\n",
              "\n",
              "    .colab-df-convert {\n",
              "      background-color: #E8F0FE;\n",
              "      border: none;\n",
              "      border-radius: 50%;\n",
              "      cursor: pointer;\n",
              "      display: none;\n",
              "      fill: #1967D2;\n",
              "      height: 32px;\n",
              "      padding: 0 0 0 0;\n",
              "      width: 32px;\n",
              "    }\n",
              "\n",
              "    .colab-df-convert:hover {\n",
              "      background-color: #E2EBFA;\n",
              "      box-shadow: 0px 1px 2px rgba(60, 64, 67, 0.3), 0px 1px 3px 1px rgba(60, 64, 67, 0.15);\n",
              "      fill: #174EA6;\n",
              "    }\n",
              "\n",
              "    .colab-df-buttons div {\n",
              "      margin-bottom: 4px;\n",
              "    }\n",
              "\n",
              "    [theme=dark] .colab-df-convert {\n",
              "      background-color: #3B4455;\n",
              "      fill: #D2E3FC;\n",
              "    }\n",
              "\n",
              "    [theme=dark] .colab-df-convert:hover {\n",
              "      background-color: #434B5C;\n",
              "      box-shadow: 0px 1px 3px 1px rgba(0, 0, 0, 0.15);\n",
              "      filter: drop-shadow(0px 1px 2px rgba(0, 0, 0, 0.3));\n",
              "      fill: #FFFFFF;\n",
              "    }\n",
              "  </style>\n",
              "\n",
              "    <script>\n",
              "      const buttonEl =\n",
              "        document.querySelector('#df-2f17b543-d8f6-4e5f-af93-d8c33a6a8d13 button.colab-df-convert');\n",
              "      buttonEl.style.display =\n",
              "        google.colab.kernel.accessAllowed ? 'block' : 'none';\n",
              "\n",
              "      async function convertToInteractive(key) {\n",
              "        const element = document.querySelector('#df-2f17b543-d8f6-4e5f-af93-d8c33a6a8d13');\n",
              "        const dataTable =\n",
              "          await google.colab.kernel.invokeFunction('convertToInteractive',\n",
              "                                                    [key], {});\n",
              "        if (!dataTable) return;\n",
              "\n",
              "        const docLinkHtml = 'Like what you see? Visit the ' +\n",
              "          '<a target=\"_blank\" href=https://colab.research.google.com/notebooks/data_table.ipynb>data table notebook</a>'\n",
              "          + ' to learn more about interactive tables.';\n",
              "        element.innerHTML = '';\n",
              "        dataTable['output_type'] = 'display_data';\n",
              "        await google.colab.output.renderOutput(dataTable, element);\n",
              "        const docLink = document.createElement('div');\n",
              "        docLink.innerHTML = docLinkHtml;\n",
              "        element.appendChild(docLink);\n",
              "      }\n",
              "    </script>\n",
              "  </div>\n",
              "\n",
              "\n",
              "<div id=\"df-982a3826-06fb-4ad5-807b-dd5ec59915e3\">\n",
              "  <button class=\"colab-df-quickchart\" onclick=\"quickchart('df-982a3826-06fb-4ad5-807b-dd5ec59915e3')\"\n",
              "            title=\"Suggest charts\"\n",
              "            style=\"display:none;\">\n",
              "\n",
              "<svg xmlns=\"http://www.w3.org/2000/svg\" height=\"24px\"viewBox=\"0 0 24 24\"\n",
              "     width=\"24px\">\n",
              "    <g>\n",
              "        <path d=\"M19 3H5c-1.1 0-2 .9-2 2v14c0 1.1.9 2 2 2h14c1.1 0 2-.9 2-2V5c0-1.1-.9-2-2-2zM9 17H7v-7h2v7zm4 0h-2V7h2v10zm4 0h-2v-4h2v4z\"/>\n",
              "    </g>\n",
              "</svg>\n",
              "  </button>\n",
              "\n",
              "<style>\n",
              "  .colab-df-quickchart {\n",
              "      --bg-color: #E8F0FE;\n",
              "      --fill-color: #1967D2;\n",
              "      --hover-bg-color: #E2EBFA;\n",
              "      --hover-fill-color: #174EA6;\n",
              "      --disabled-fill-color: #AAA;\n",
              "      --disabled-bg-color: #DDD;\n",
              "  }\n",
              "\n",
              "  [theme=dark] .colab-df-quickchart {\n",
              "      --bg-color: #3B4455;\n",
              "      --fill-color: #D2E3FC;\n",
              "      --hover-bg-color: #434B5C;\n",
              "      --hover-fill-color: #FFFFFF;\n",
              "      --disabled-bg-color: #3B4455;\n",
              "      --disabled-fill-color: #666;\n",
              "  }\n",
              "\n",
              "  .colab-df-quickchart {\n",
              "    background-color: var(--bg-color);\n",
              "    border: none;\n",
              "    border-radius: 50%;\n",
              "    cursor: pointer;\n",
              "    display: none;\n",
              "    fill: var(--fill-color);\n",
              "    height: 32px;\n",
              "    padding: 0;\n",
              "    width: 32px;\n",
              "  }\n",
              "\n",
              "  .colab-df-quickchart:hover {\n",
              "    background-color: var(--hover-bg-color);\n",
              "    box-shadow: 0 1px 2px rgba(60, 64, 67, 0.3), 0 1px 3px 1px rgba(60, 64, 67, 0.15);\n",
              "    fill: var(--button-hover-fill-color);\n",
              "  }\n",
              "\n",
              "  .colab-df-quickchart-complete:disabled,\n",
              "  .colab-df-quickchart-complete:disabled:hover {\n",
              "    background-color: var(--disabled-bg-color);\n",
              "    fill: var(--disabled-fill-color);\n",
              "    box-shadow: none;\n",
              "  }\n",
              "\n",
              "  .colab-df-spinner {\n",
              "    border: 2px solid var(--fill-color);\n",
              "    border-color: transparent;\n",
              "    border-bottom-color: var(--fill-color);\n",
              "    animation:\n",
              "      spin 1s steps(1) infinite;\n",
              "  }\n",
              "\n",
              "  @keyframes spin {\n",
              "    0% {\n",
              "      border-color: transparent;\n",
              "      border-bottom-color: var(--fill-color);\n",
              "      border-left-color: var(--fill-color);\n",
              "    }\n",
              "    20% {\n",
              "      border-color: transparent;\n",
              "      border-left-color: var(--fill-color);\n",
              "      border-top-color: var(--fill-color);\n",
              "    }\n",
              "    30% {\n",
              "      border-color: transparent;\n",
              "      border-left-color: var(--fill-color);\n",
              "      border-top-color: var(--fill-color);\n",
              "      border-right-color: var(--fill-color);\n",
              "    }\n",
              "    40% {\n",
              "      border-color: transparent;\n",
              "      border-right-color: var(--fill-color);\n",
              "      border-top-color: var(--fill-color);\n",
              "    }\n",
              "    60% {\n",
              "      border-color: transparent;\n",
              "      border-right-color: var(--fill-color);\n",
              "    }\n",
              "    80% {\n",
              "      border-color: transparent;\n",
              "      border-right-color: var(--fill-color);\n",
              "      border-bottom-color: var(--fill-color);\n",
              "    }\n",
              "    90% {\n",
              "      border-color: transparent;\n",
              "      border-bottom-color: var(--fill-color);\n",
              "    }\n",
              "  }\n",
              "</style>\n",
              "\n",
              "  <script>\n",
              "    async function quickchart(key) {\n",
              "      const quickchartButtonEl =\n",
              "        document.querySelector('#' + key + ' button');\n",
              "      quickchartButtonEl.disabled = true;  // To prevent multiple clicks.\n",
              "      quickchartButtonEl.classList.add('colab-df-spinner');\n",
              "      try {\n",
              "        const charts = await google.colab.kernel.invokeFunction(\n",
              "            'suggestCharts', [key], {});\n",
              "      } catch (error) {\n",
              "        console.error('Error during call to suggestCharts:', error);\n",
              "      }\n",
              "      quickchartButtonEl.classList.remove('colab-df-spinner');\n",
              "      quickchartButtonEl.classList.add('colab-df-quickchart-complete');\n",
              "    }\n",
              "    (() => {\n",
              "      let quickchartButtonEl =\n",
              "        document.querySelector('#df-982a3826-06fb-4ad5-807b-dd5ec59915e3 button');\n",
              "      quickchartButtonEl.style.display =\n",
              "        google.colab.kernel.accessAllowed ? 'block' : 'none';\n",
              "    })();\n",
              "  </script>\n",
              "</div>\n",
              "\n",
              "    </div>\n",
              "  </div>\n"
            ],
            "application/vnd.google.colaboratory.intrinsic+json": {
              "type": "dataframe",
              "variable_name": "data",
              "summary": "{\n  \"name\": \"data\",\n  \"rows\": 7920,\n  \"fields\": [\n    {\n      \"column\": \"id\",\n      \"properties\": {\n        \"dtype\": \"number\",\n        \"std\": 2286,\n        \"min\": 1,\n        \"max\": 7920,\n        \"num_unique_values\": 7920,\n        \"samples\": [\n          4897,\n          7540,\n          1678\n        ],\n        \"semantic_type\": \"\",\n        \"description\": \"\"\n      }\n    },\n    {\n      \"column\": \"label\",\n      \"properties\": {\n        \"dtype\": \"number\",\n        \"std\": 0,\n        \"min\": 0,\n        \"max\": 1,\n        \"num_unique_values\": 2,\n        \"samples\": [\n          1,\n          0\n        ],\n        \"semantic_type\": \"\",\n        \"description\": \"\"\n      }\n    },\n    {\n      \"column\": \"tweet\",\n      \"properties\": {\n        \"dtype\": \"string\",\n        \"num_unique_values\": 7918,\n        \"samples\": [\n          \"My face as dad gave me cards worth \\u00a320, 000.00 #gay #shopping #boy #macbook #apple #blonde #pickofthe http://instagr.am/p/Uo5Ue7H7A8/\",\n          \"@skullcandy your product is brutal, 1 headphone always stops working. Get it together #Sony ftw\"\n        ],\n        \"semantic_type\": \"\",\n        \"description\": \"\"\n      }\n    }\n  ]\n}"
            }
          },
          "metadata": {},
          "execution_count": 40
        }
      ]
    },
    {
      "cell_type": "code",
      "source": [
        "#Checking missing values\n",
        "data.isna().sum()"
      ],
      "metadata": {
        "colab": {
          "base_uri": "https://localhost:8080/",
          "height": 178
        },
        "id": "Yr40WXM0CwNS",
        "outputId": "ae64fcf5-c0d8-42eb-c25a-98d14f0dc5ad"
      },
      "execution_count": null,
      "outputs": [
        {
          "output_type": "execute_result",
          "data": {
            "text/plain": [
              "id       0\n",
              "label    0\n",
              "tweet    0\n",
              "dtype: int64"
            ],
            "text/html": [
              "<div>\n",
              "<style scoped>\n",
              "    .dataframe tbody tr th:only-of-type {\n",
              "        vertical-align: middle;\n",
              "    }\n",
              "\n",
              "    .dataframe tbody tr th {\n",
              "        vertical-align: top;\n",
              "    }\n",
              "\n",
              "    .dataframe thead th {\n",
              "        text-align: right;\n",
              "    }\n",
              "</style>\n",
              "<table border=\"1\" class=\"dataframe\">\n",
              "  <thead>\n",
              "    <tr style=\"text-align: right;\">\n",
              "      <th></th>\n",
              "      <th>0</th>\n",
              "    </tr>\n",
              "  </thead>\n",
              "  <tbody>\n",
              "    <tr>\n",
              "      <th>id</th>\n",
              "      <td>0</td>\n",
              "    </tr>\n",
              "    <tr>\n",
              "      <th>label</th>\n",
              "      <td>0</td>\n",
              "    </tr>\n",
              "    <tr>\n",
              "      <th>tweet</th>\n",
              "      <td>0</td>\n",
              "    </tr>\n",
              "  </tbody>\n",
              "</table>\n",
              "</div><br><label><b>dtype:</b> int64</label>"
            ]
          },
          "metadata": {},
          "execution_count": 41
        }
      ]
    },
    {
      "cell_type": "code",
      "source": [
        "#Checking null values\n",
        "data.isnull().sum()"
      ],
      "metadata": {
        "colab": {
          "base_uri": "https://localhost:8080/",
          "height": 178
        },
        "id": "n4Gv6n9GC6Eh",
        "outputId": "65e14816-6144-43a2-b7cc-76382c805cd4"
      },
      "execution_count": null,
      "outputs": [
        {
          "output_type": "execute_result",
          "data": {
            "text/plain": [
              "id       0\n",
              "label    0\n",
              "tweet    0\n",
              "dtype: int64"
            ],
            "text/html": [
              "<div>\n",
              "<style scoped>\n",
              "    .dataframe tbody tr th:only-of-type {\n",
              "        vertical-align: middle;\n",
              "    }\n",
              "\n",
              "    .dataframe tbody tr th {\n",
              "        vertical-align: top;\n",
              "    }\n",
              "\n",
              "    .dataframe thead th {\n",
              "        text-align: right;\n",
              "    }\n",
              "</style>\n",
              "<table border=\"1\" class=\"dataframe\">\n",
              "  <thead>\n",
              "    <tr style=\"text-align: right;\">\n",
              "      <th></th>\n",
              "      <th>0</th>\n",
              "    </tr>\n",
              "  </thead>\n",
              "  <tbody>\n",
              "    <tr>\n",
              "      <th>id</th>\n",
              "      <td>0</td>\n",
              "    </tr>\n",
              "    <tr>\n",
              "      <th>label</th>\n",
              "      <td>0</td>\n",
              "    </tr>\n",
              "    <tr>\n",
              "      <th>tweet</th>\n",
              "      <td>0</td>\n",
              "    </tr>\n",
              "  </tbody>\n",
              "</table>\n",
              "</div><br><label><b>dtype:</b> int64</label>"
            ]
          },
          "metadata": {},
          "execution_count": 42
        }
      ]
    },
    {
      "cell_type": "code",
      "source": [
        "from sklearn.model_selection import train_test_split"
      ],
      "metadata": {
        "id": "diM3BqNMF6a9"
      },
      "execution_count": null,
      "outputs": []
    },
    {
      "cell_type": "code",
      "source": [
        "nltk.download('punkt')"
      ],
      "metadata": {
        "id": "39XNeI33EgtO",
        "colab": {
          "base_uri": "https://localhost:8080/"
        },
        "outputId": "81da4112-ccaf-4a20-c7c6-88455a9e7b4d"
      },
      "execution_count": null,
      "outputs": [
        {
          "output_type": "stream",
          "name": "stderr",
          "text": [
            "[nltk_data] Downloading package punkt to /root/nltk_data...\n",
            "[nltk_data]   Package punkt is already up-to-date!\n"
          ]
        },
        {
          "output_type": "execute_result",
          "data": {
            "text/plain": [
              "True"
            ]
          },
          "metadata": {},
          "execution_count": 44
        }
      ]
    },
    {
      "cell_type": "code",
      "source": [
        "print(nltk.data.find('tokenizers/punkt'))"
      ],
      "metadata": {
        "id": "H96vFdNnEltA",
        "colab": {
          "base_uri": "https://localhost:8080/"
        },
        "outputId": "d34f69e8-78c2-4294-f316-d00d7d5b546e"
      },
      "execution_count": null,
      "outputs": [
        {
          "output_type": "stream",
          "name": "stdout",
          "text": [
            "/root/nltk_data/tokenizers/punkt\n"
          ]
        }
      ]
    },
    {
      "cell_type": "code",
      "source": [
        "nltk.download('stopwords')"
      ],
      "metadata": {
        "id": "mwn47OZqB5dC",
        "colab": {
          "base_uri": "https://localhost:8080/"
        },
        "outputId": "a14c39f5-9342-4a24-e0aa-059a72f0630d"
      },
      "execution_count": null,
      "outputs": [
        {
          "output_type": "stream",
          "name": "stderr",
          "text": [
            "[nltk_data] Downloading package stopwords to /root/nltk_data...\n",
            "[nltk_data]   Package stopwords is already up-to-date!\n"
          ]
        },
        {
          "output_type": "execute_result",
          "data": {
            "text/plain": [
              "True"
            ]
          },
          "metadata": {},
          "execution_count": 46
        }
      ]
    },
    {
      "cell_type": "code",
      "source": [
        "nltk.download('wordnet')"
      ],
      "metadata": {
        "colab": {
          "base_uri": "https://localhost:8080/"
        },
        "id": "dOOM2ANp5fXA",
        "outputId": "ce932cef-1524-4f52-ea91-356b952a3d6b"
      },
      "execution_count": null,
      "outputs": [
        {
          "output_type": "stream",
          "name": "stderr",
          "text": [
            "[nltk_data] Downloading package wordnet to /root/nltk_data...\n",
            "[nltk_data]   Package wordnet is already up-to-date!\n"
          ]
        },
        {
          "output_type": "execute_result",
          "data": {
            "text/plain": [
              "True"
            ]
          },
          "metadata": {},
          "execution_count": 47
        }
      ]
    },
    {
      "cell_type": "code",
      "source": [
        "from nltk.stem import WordNetLemmatizer"
      ],
      "metadata": {
        "id": "pXOQ_mAw54kH"
      },
      "execution_count": null,
      "outputs": []
    },
    {
      "cell_type": "code",
      "source": [
        "lemmatizer = WordNetLemmatizer()"
      ],
      "metadata": {
        "id": "RCT4w2kW-p-x"
      },
      "execution_count": null,
      "outputs": []
    },
    {
      "cell_type": "code",
      "source": [
        "stopwords = set(nltk.corpus.stopwords.words('english'))"
      ],
      "metadata": {
        "id": "Utkqu04HFFzo"
      },
      "execution_count": null,
      "outputs": []
    },
    {
      "cell_type": "code",
      "source": [
        "from nltk.stem import PorterStemmer\n",
        "porter_stemmer = PorterStemmer()"
      ],
      "metadata": {
        "id": "oN4GikIh9n4K"
      },
      "execution_count": null,
      "outputs": []
    },
    {
      "cell_type": "code",
      "source": [
        "#Using the function removes urls,special characters,stop words etc....It preserves the hash tags.And also  convert text to lower\n",
        "#case and tokenize text and apply stemming\n",
        "def clean_reviews(text):\n",
        "    # Remove URLs\n",
        "    text = re.sub(r'http\\S+', '', text)\n",
        "    # Remove user mentions (@username)\n",
        "    text = re.sub(r'@\\S+', '', text)\n",
        "    # Remove special characters except hashtags\n",
        "    text = re.sub(r'[^A-Za-z#\\s]', '', text)\n",
        "\n",
        "    # Convert to lowercase\n",
        "    text = text.lower()\n",
        "\n",
        "    # Tokenize the text (split into words)\n",
        "    tokens = word_tokenize(text)\n",
        "\n",
        "    # Remove stopwords\n",
        "    tokens = [word for word in tokens if word not in stopwords]\n",
        "\n",
        "    # Apply stemming\n",
        "    stemmed_tokens = [porter_stemmer.stem(word) for word in tokens]\n",
        "\n",
        "    # Apply lemmatization\n",
        "    lemmatized_tokens = [lemmatizer.lemmatize(word) for word in stemmed_tokens]\n",
        "\n",
        "    # Join words back into a string\n",
        "    cleaned_text = ' '.join(lemmatized_tokens)\n",
        "\n",
        "    return cleaned_text"
      ],
      "metadata": {
        "id": "QH4K9bgxFUZo"
      },
      "execution_count": null,
      "outputs": []
    },
    {
      "cell_type": "code",
      "source": [
        "data['cleaned_tweet'] = data['tweet'].apply(clean_reviews)"
      ],
      "metadata": {
        "id": "AeBOY27ZFuMi"
      },
      "execution_count": null,
      "outputs": []
    },
    {
      "cell_type": "code",
      "source": [
        "#Display the old and new cleaned tweets\n",
        "print(data[['tweet', 'cleaned_tweet']].head())"
      ],
      "metadata": {
        "colab": {
          "base_uri": "https://localhost:8080/"
        },
        "id": "TzRIxC8s_Pjg",
        "outputId": "02b1d145-2d07-49f7-bf25-e4b9ef1a246d"
      },
      "execution_count": null,
      "outputs": [
        {
          "output_type": "stream",
          "name": "stdout",
          "text": [
            "                                               tweet  \\\n",
            "0  #fingerprint #Pregnancy Test https://goo.gl/h1...   \n",
            "1  Finally a transparant silicon case ^^ Thanks t...   \n",
            "2  We love this! Would you go? #talk #makememorie...   \n",
            "3  I'm wired I know I'm George I was made that wa...   \n",
            "4  What amazing service! Apple won't even talk to...   \n",
            "\n",
            "                                       cleaned_tweet  \n",
            "0  # fingerprint # pregnanc test # android # app ...  \n",
            "1  final transpar silicon case thank uncl # yay #...  \n",
            "2  love would go # talk # makememori # unplug # r...  \n",
            "3  im wire know im georg made way # iphon # cute ...  \n",
            "4  amaz servic appl wont even talk question unles...  \n"
          ]
        }
      ]
    },
    {
      "cell_type": "code",
      "source": [
        "import re\n",
        "import string\n",
        "from sklearn.model_selection import train_test_split\n",
        "from sklearn.feature_extraction.text import CountVectorizer\n",
        "from sklearn.metrics import accuracy_score\n",
        "from sklearn.preprocessing import LabelEncoder\n",
        "from keras.optimizers import Adam\n",
        "\n"
      ],
      "metadata": {
        "id": "_uFq6ePkE4wt"
      },
      "execution_count": null,
      "outputs": []
    },
    {
      "cell_type": "code",
      "source": [
        "# Display the first few rows of the DataFrame to check the updated column\n",
        "print(data[['tweet', 'cleaned_tweet']].head())\n"
      ],
      "metadata": {
        "colab": {
          "base_uri": "https://localhost:8080/"
        },
        "id": "XWi-zmHqFZMa",
        "outputId": "8f06323a-20f0-403c-93d2-d433a2bf99f7"
      },
      "execution_count": null,
      "outputs": [
        {
          "output_type": "stream",
          "name": "stdout",
          "text": [
            "                                               tweet  \\\n",
            "0  #fingerprint #Pregnancy Test https://goo.gl/h1...   \n",
            "1  Finally a transparant silicon case ^^ Thanks t...   \n",
            "2  We love this! Would you go? #talk #makememorie...   \n",
            "3  I'm wired I know I'm George I was made that wa...   \n",
            "4  What amazing service! Apple won't even talk to...   \n",
            "\n",
            "                                       cleaned_tweet  \n",
            "0  # fingerprint # pregnanc test # android # app ...  \n",
            "1  final transpar silicon case thank uncl # yay #...  \n",
            "2  love would go # talk # makememori # unplug # r...  \n",
            "3  im wire know im georg made way # iphon # cute ...  \n",
            "4  amaz servic appl wont even talk question unles...  \n"
          ]
        }
      ]
    },
    {
      "cell_type": "code",
      "source": [
        "tokenized_corpus = [word_tokenize(tweet) for tweet in data['cleaned_tweet']]"
      ],
      "metadata": {
        "id": "jYeYKET4ZzUR"
      },
      "execution_count": 125,
      "outputs": []
    },
    {
      "cell_type": "markdown",
      "source": [
        "Word2Vec"
      ],
      "metadata": {
        "id": "3ve43LmykWlC"
      }
    },
    {
      "cell_type": "code",
      "source": [
        "model_w2v = Word2Vec(sentences=tokenized_corpus, vector_size=100, window=5, min_count=1, workers=4)\n",
        "\n",
        "# Print the Word2Vec vocabulary\n",
        "print(\"\\nWord2Vec Model Vocabulary:\", model_w2v.wv.key_to_index)"
      ],
      "metadata": {
        "colab": {
          "base_uri": "https://localhost:8080/"
        },
        "collapsed": true,
        "id": "kegqlMzDZzBQ",
        "outputId": "13762321-be51-48be-cad5-1f08053af220"
      },
      "execution_count": 126,
      "outputs": [
        {
          "output_type": "stream",
          "name": "stdout",
          "text": [
            "\n",
            "Word2Vec Model Vocabulary: {'#': 0, 'iphon': 1, 'appl': 2, 'samsung': 3, 'new': 4, 'phone': 5, 'follow': 6, 'soni': 7, 'ipad': 8, 'rt': 9, 'love': 10, 'like': 11, 'day': 12, 'app': 13, 'life': 14, 'android': 15, 'photo': 16, 'io': 17, 'get': 18, 'instagram': 19, 'galaxi': 20, 'case': 21, 'beauti': 22, 'cute': 23, 'gain': 24, 'today': 25, 'im': 26, 'work': 27, 'happi': 28, 'fuck': 29, 'photographi': 30, 'back': 31, 'got': 32, 'game': 33, 'fun': 34, 'music': 35, 'thank': 36, 'news': 37, 'instagood': 38, 'time': 39, 'make': 40, 'smile': 41, 'p': 42, 'updat': 43, 'funni': 44, 'girl': 45, 'one': 46, 'fashion': 47, 'lol': 48, 'ipod': 49, 'go': 50, 'itun': 51, 'tech': 52, 'birthday': 53, 'iphonex': 54, 'final': 55, 'u': 56, 'photooftheday': 57, 'friend': 58, 'everyon': 59, 'cant': 60, 'good': 61, 'amaz': 62, 'dont': 63, 'use': 64, 'look': 65, 'fail': 66, 'note': 67, 'must': 68, 'selfi': 69, 'mac': 70, 'want': 71, 'sougofollow': 72, 'gift': 73, 'sale': 74, 'hate': 75, 'babi': 76, 'iger': 77, 'free': 78, 'home': 79, 'would': 80, 'year': 81, 'camera': 82, 'famili': 83, 'need': 84, 'iphonesia': 85, 'best': 86, 'cool': 87, 'smartphon': 88, 'art': 89, 'iphoneonli': 90, 'charger': 91, 'everi': 92, 'suck': 93, 'live': 94, 'color': 95, 'christma': 96, 'buy': 97, 'tri': 98, 'summer': 99, 'picoftheday': 100, 'health': 101, 'shop': 102, 'product': 103, 'white': 104, 'thing': 105, 'hour': 106, 'mobil': 107, 'still': 108, 'minut': 109, 'much': 110, 'natur': 111, 'say': 112, 'macbook': 113, 'awesom': 114, 'night': 115, 'even': 116, 'come': 117, 'know': 118, 'laptop': 119, 'ff': 120, 'money': 121, 'window': 122, 'screen': 123, 'ever': 124, 'download': 125, 'excit': 126, 'great': 127, 'wait': 128, 'wish': 129, 'instamood': 130, 'sexi': 131, 'motorola': 132, 'style': 133, 'take': 134, 'black': 135, 'delet': 136, 'accessori': 137, 'followm': 138, 'store': 139, 'comput': 140, 'retweet': 141, 'nice': 142, 'last': 143, 'technolog': 144, 'ive': 145, 'wont': 146, 'sweet': 147, 'morn': 148, 'twitter': 149, 'pink': 150, 'keep': 151, 'peopl': 152, 'pictur': 153, 'guy': 154, 'travel': 155, 'realli': 156, 'watch': 157, 'video': 158, 'first': 159, 'charg': 160, 'never': 161, 'right': 162, 'fix': 163, 'think': 164, 'batteri': 165, 'boy': 166, 'old': 167, 'via': 168, 'custom': 169, 'play': 170, 'googl': 171, 'playstat': 172, 'kid': 173, 'fuckyou': 174, 'give': 175, 'let': 176, 'job': 177, 'everyth': 178, 'pretti': 179, 'well': 180, 'tv': 181, 'toy': 182, 'red': 183, 'instadaili': 184, 'hey': 185, 'upgrad': 186, 'anoth': 187, 'dog': 188, 'made': 189, 'doesnt': 190, 'cover': 191, 'blue': 192, 'feel': 193, 'pic': 194, 'see': 195, 'world': 196, 'count': 197, 'week': 198, 'g': 199, 'yay': 200, 'x': 201, 'stupid': 202, 'start': 203, 'food': 204, 'text': 205, 'gadget': 206, 'present': 207, 'offer': 208, 'check': 209, 'sun': 210, 'friday': 211, 'na': 212, 'design': 213, 'nokia': 214, 'headphon': 215, 'quot': 216, 'big': 217, 'alway': 218, 'deal': 219, 'date': 220, 'cat': 221, 'tl': 222, 'book': 223, 'rhyme': 224, 'instap': 225, 'sunset': 226, 'tablet': 227, 'pc': 228, 'laugh': 229, 'sunday': 230, 'song': 231, 'xperia': 232, 'ig': 233, 'appstor': 234, 'hot': 235, 'sky': 236, 'hello': 237, 'capetown': 238, 'imag': 239, 'month': 240, 'holiday': 241, 'green': 242, 'bought': 243, 'blackberri': 244, 'lost': 245, 'amazon': 246, 'sinc': 247, 'surf': 248, 'top': 249, 'wow': 250, 'better': 251, 'gamer': 252, 'mine': 253, 'flower': 254, 'way': 255, 'followback': 256, 'iphoneographi': 257, 'oh': 258, 'gb': 259, 'weekend': 260, 'facebook': 261, 'phonecas': 262, 'valentin': 263, 'youtub': 264, 'share': 265, 'beach': 266, 'help': 267, 'put': 268, 'ye': 269, 'sup': 270, 'newyear': 271, 'tweegram': 272, 'macbookpro': 273, 'th': 274, 'gold': 275, 'miss': 276, 'heart': 277, 'wifi': 278, 'find': 279, 'servic': 280, 'god': 281, 'face': 282, 'call': 283, 'that': 284, 'moment': 285, 'twitch': 286, 'chang': 287, 'hateappl': 288, 'support': 289, 'hard': 290, 'iphoneplu': 291, 'didnt': 292, 'user': 293, 'plea': 294, 'dear': 295, 'parti': 296, 'show': 297, 'ya': 298, 'enjoy': 299, 'pay': 300, 'stop': 301, 'arriv': 302, 'yeah': 303, 'pro': 304, 'listen': 305, 'restor': 306, 'problem': 307, 'littl': 308, 'man': 309, 'power': 310, 'plu': 311, 'messag': 312, 'likelik': 313, 'siri': 314, 'newphon': 315, 'run': 316, 'two': 317, 'came': 318, 'could': 319, 'word': 320, 'swag': 321, 'welcom': 322, 'hair': 323, 'light': 324, 'fit': 325, 'lock': 326, 'may': 327, 'win': 328, 'vsco': 329, 'gon': 330, 'order': 331, 'blog': 332, 'turn': 333, 'tweet': 334, 'insta': 335, 'switch': 336, 'crazi': 337, 'id': 338, 'took': 339, 'devic': 340, 'avail': 341, 'random': 342, 'sonyphoto': 343, 'car': 344, 'usa': 345, 'busi': 346, 'saturday': 347, 'discount': 348, 'joy': 349, 'reason': 350, 'nofilt': 351, 'bless': 352, 'alreadi': 353, 'photograph': 354, 'movi': 355, 'relax': 356, 'microsoft': 357, 'piss': 358, 'att': 359, 'tbt': 360, 'model': 361, 'cabl': 362, 'hope': 363, 'readi': 364, 'coffe': 365, 'serious': 366, 'bestpric': 367, 'r': 368, 'tell': 369, 'w': 370, 'compani': 371, 'replac': 372, 'tab': 373, 'coupl': 374, 'die': 375, 'bad': 376, 'broken': 377, 'annoy': 378, 'done': 379, 'haha': 380, 'shit': 381, 'trip': 382, 'piec': 383, 'imessag': 384, 'hous': 385, 'crash': 386, 'contact': 387, 'mom': 388, 'yet': 389, 'iphonecas': 390, 'soon': 391, 'break': 392, 'monday': 393, 'gay': 394, 'oneplu': 395, 'enough': 396, 'samsunggalaxi': 397, 'sync': 398, 'fresh': 399, 'actual': 400, 'peac': 401, 'stuff': 402, 'noth': 403, 'earli': 404, 'spring': 405, 'ago': 406, 'sleep': 407, 'tree': 408, 'next': 409, 'happen': 410, 'anyon': 411, 'taken': 412, 'instago': 413, 'woman': 414, 'number': 415, 'complet': 416, 'code': 417, 'k': 418, 'mani': 419, 'decid': 420, 'real': 421, 'password': 422, 'drop': 423, 'fan': 424, 'long': 425, 'mini': 426, 'geek': 427, 'emoji': 428, 'favorit': 429, 'send': 430, 'colleg': 431, 'care': 432, 'sister': 433, 'kiss': 434, 'unlock': 435, 'galaxynot': 436, 'sad': 437, 'portrait': 438, 'singl': 439, 'someth': 440, 'someon': 441, 'featur': 442, 'chill': 443, 'london': 444, 'teamfollowback': 445, 'worst': 446, 'perfect': 447, 'ill': 448, 'market': 449, 'end': 450, 'anyth': 451, 'verizon': 452, 'instalik': 453, 'steemit': 454, 'healthi': 455, 'fast': 456, 'husband': 457, 'set': 458, 'sound': 459, 'steve': 460, 'wed': 461, 'cloud': 462, 'air': 463, 'email': 464, 'decor': 465, 'followsunday': 466, 'nyc': 467, 'gratitud': 468, 'c': 469, 'learn': 470, 'water': 471, 'releas': 472, 'brand': 473, 'sonyphotographi': 474, 'sonylen': 475, 'fruit': 476, 'wonder': 477, 'anim': 478, 'gone': 479, 'kindl': 480, 'broke': 481, 'button': 482, 'instalov': 483, 'map': 484, 'dad': 485, 'itali': 486, 'z': 487, 'softwar': 488, 'school': 489, 'beat': 490, 'popular': 491, 'pop': 492, 'b': 493, 'ad': 494, 'thailand': 495, 'puppi': 496, 'xbox': 497, 'instahub': 498, 'tomorrow': 499, 'drink': 500, 'sure': 501, 'ugh': 502, 'daughter': 503, 'talk': 504, 'version': 505, 'crack': 506, 'card': 507, 'flash': 508, 'relationship': 509, 'cake': 510, 'florida': 511, 'ok': 512, 'bestfriend': 513, 'lg': 514, 'luxuri': 515, 'without': 516, 'cellphon': 517, 'also': 518, 'stori': 519, 'f': 520, 'crap': 521, 'inspir': 522, 'o': 523, 'isnt': 524, 'dream': 525, 'connect': 526, 'said': 527, 'psn': 528, 'igdaili': 529, 'read': 530, 'eye': 531, 'imac': 532, 'ilc': 533, 'film': 534, 'away': 535, 'pet': 536, 'whole': 537, 'pm': 538, 'ask': 539, 'shoot': 540, 'pie': 541, 'lifestyl': 542, 'smart': 543, 'brother': 544, 'super': 545, 'jj': 546, 'vocat': 547, 'post': 548, 'memori': 549, 'leav': 550, 'less': 551, 'applewatch': 552, 'khaoko': 553, 'instacool': 554, 'blackandwhit': 555, 'save': 556, 'your': 557, 'uk': 558, 'garden': 559, 'e': 560, 'newyork': 561, 'gear': 562, 'mirror': 563, 'sport': 564, 'htc': 565, 'japan': 566, 'edit': 567, 'purchas': 568, 'likeforlik': 569, 'hand': 570, 'india': 571, 'there': 572, 'mother': 573, 'rain': 574, 'yesterday': 575, 'danc': 576, 'unitedst': 577, 'guitarplay': 578, 'v': 579, 'xperiaz': 580, 'differ': 581, 'el': 582, 'wallpap': 583, 'idea': 584, 'total': 585, 'instal': 586, 'entrepreneur': 587, 'citi': 588, 'line': 589, 'bestoftheday': 590, 'makeup': 591, 'ly': 592, 'ador': 593, 'though': 594, 'reallyr': 595, 'inch': 596, 'click': 597, 'wtf': 598, 'snapspe': 599, 'true': 600, 'human': 601, 'price': 602, 'addict': 603, 'rock': 604, 'shotoniphon': 605, 'photofe': 606, 'full': 607, 'kill': 608, 'tshirt': 609, 'forev': 610, 'lot': 611, 'charm': 612, 'nike': 613, 'jun': 614, 'caus': 615, 'thought': 616, 'keyboard': 617, 'tattoo': 618, 'orang': 619, 'goe': 620, 'receiv': 621, 'went': 622, 'icloud': 623, 'squishi': 624, 'small': 625, 'exquisit': 626, 'strap': 627, 'person': 628, 'tonight': 629, 'fact': 630, 'ootd': 631, 'facetim': 632, 'boyfriend': 633, 'usb': 634, 'proud': 635, 'trend': 636, 'repost': 637, 'tuesday': 638, 'child': 639, 'might': 640, 'repair': 641, 'dj': 642, 'n': 643, 'xma': 644, 'ship': 645, 'truth': 646, 'lose': 647, 'liter': 648, 'bit': 649, 'togeth': 650, 'bring': 651, 'ipadmini': 652, 'street': 653, 'chocol': 654, 'almost': 655, 'slow': 656, 'sick': 657, 'latest': 658, 'consol': 659, 'magic': 660, 'ur': 661, 'drive': 662, 'len': 663, 'videogam': 664, 'link': 665, 'feed': 666, 'canon': 667, 'havent': 668, 'load': 669, 'prophet': 670, 'open': 671, 'bore': 672, 'thankyou': 673, 'eat': 674, 'foodporn': 675, 'trump': 676, 'daddi': 677, 'hashtag': 678, 'dead': 679, 'data': 680, 'what': 681, 'account': 682, 'believ': 683, 'futur': 684, 'april': 685, 'mean': 686, 'photobooth': 687, 'shitti': 688, 'yummi': 689, 'goodnight': 690, 'pick': 691, 'visit': 692, 'tag': 693, 'type': 694, 'half': 695, 'cut': 696, 'fall': 697, 'winter': 698, 'freak': 699, 'artist': 700, 'simpl': 701, 'second': 702, 'wrong': 703, 'creativ': 704, 'room': 705, 'past': 706, 'mess': 707, 'men': 708, 'touch': 709, 'mm': 710, 'guess': 711, 'sea': 712, 'poem': 713, 'move': 714, 'min': 715, 'skin': 716, 'stay': 717, 'bug': 718, 'al': 719, 'king': 720, 'sorri': 721, 'captur': 722, 'roll': 723, 'team': 724, 'fml': 725, 'high': 726, 'experi': 727, 'calendar': 728, 'miami': 729, 'mind': 730, 'followfollow': 731, 'glad': 732, 'uniqu': 733, 'edg': 734, 'soror': 735, 'issu': 736, 'indonesia': 737, 'box': 738, 'offici': 739, 'patent': 740, 'sonyalpha': 741, 'hd': 742, 'digit': 743, 'stream': 744, 'canada': 745, 'wipe': 746, 'motiv': 747, 'zeeland': 748, 'internet': 749, 'freez': 750, 'sunni': 751, 'nikon': 752, 'develop': 753, 'mood': 754, 'bright': 755, 'novemb': 756, 'q': 757, 'hold': 758, 'reset': 759, 'special': 760, 'far': 761, 'wast': 762, 'space': 763, 'daili': 764, 'vlog': 765, 'protect': 766, 'delici': 767, 'sent': 768, 'blackfriday': 769, 'draw': 770, 'applesuck': 771, 'earphon': 772, 'rose': 773, 'mad': 774, 'june': 775, 'passion': 776, 'stand': 777, 'inlov': 778, 'purpos': 779, 'california': 780, 'surpris': 781, 'wall': 782, 'march': 783, 'throw': 784, 'adventur': 785, 'vaio': 786, 'colour': 787, 'meet': 788, 'banana': 789, 'dress': 790, 'celebr': 791, 'storag': 792, 'subscrib': 793, 'spend': 794, 'gorgeou': 795, 'mommi': 796, 'soul': 797, 'manag': 798, 'abl': 799, 'hack': 800, 'lte': 801, 'fb': 802, 'angri': 803, 'bird': 804, 'blond': 805, 'origin': 806, 'least': 807, 'left': 808, 'landscap': 809, 'ta': 810, 'creat': 811, 'outdoor': 812, 'wan': 813, 'onlin': 814, 'europ': 815, 'join': 816, 'ebay': 817, 'tmobil': 818, 'snow': 819, 'januari': 820, 'ny': 821, 'hateiphon': 822, 'fish': 823, 'yum': 824, 'walk': 825, 'cell': 826, 'bye': 827, 'sell': 828, 'wife': 829, 'explor': 830, 'gave': 831, 'answer': 832, 'uae': 833, 'singer': 834, 'wireless': 835, 'univers': 836, 'photoshoot': 837, 'longer': 838, 'vintag': 839, 'pari': 840, 'goal': 841, 'shot': 842, 'cd': 843, 'seem': 844, 'gener': 845, 'found': 846, 'stevejob': 847, 'purpl': 848, 'vscocam': 849, 'produc': 850, 'silver': 851, 'provid': 852, 'cook': 853, 'screw': 854, 'mi': 855, 'sonya': 856, 'plan': 857, 'part': 858, 'sprint': 859, 'later': 860, 'program': 861, 'newtoy': 862, 'offic': 863, 'goodby': 864, 'librari': 865, 'bull': 866, 'question': 867, 'webstagram': 868, 'iphonephotographi': 869, 'current': 870, 'bed': 871, 'ink': 872, 'self': 873, 'america': 874, 'sticker': 875, 'porn': 876, 'close': 877, 'bday': 878, 'anymor': 879, 'droid': 880, 'xd': 881, 'finger': 882, 'track': 883, 'dessert': 884, 'block': 885, 'aliusaexpress': 886, 'qualiti': 887, 'tea': 888, 'useless': 889, 'valentinesday': 890, 'breakfast': 891, 'park': 892, 'electron': 893, 'choos': 894, 'blogger': 895, 'blow': 896, 'level': 897, 'stuck': 898, 'collect': 899, 'babe': 900, 'bot': 901, 'led': 902, 'starbuck': 903, 'nail': 904, 'merri': 905, 'playlist': 906, 'instaphoto': 907, 'dinner': 908, 'cold': 909, 'cri': 910, 'spent': 911, 'info': 912, 'social': 913, 'vacat': 914, 'okay': 915, 'display': 916, 'middl': 917, 'event': 918, 'rid': 919, 'februari': 920, 'wouldnt': 921, 'million': 922, 'asshol': 923, 'speaker': 924, 'shoppinglist': 925, 'hi': 926, 'network': 927, 'innov': 928, 'mode': 929, 'tip': 930, 'tire': 931, 'bitch': 932, 'system': 933, 'huge': 934, 'appletv': 935, 'followtrick': 936, 'test': 937, 'bluetooth': 938, 'secur': 939, 'weather': 940, 'kawaii': 941, 'key': 942, 'bar': 943, 'launch': 944, 'becom': 945, 'agre': 946, 'place': 947, 'effect': 948, 'smoke': 949, 'view': 950, 'wasnt': 951, 'redbubbl': 952, 'bro': 953, 'da': 954, 'told': 955, 'three': 956, 'thx': 957, 'jailbreak': 958, 'till': 959, 'piano': 960, 'stock': 961, 'minion': 962, 'ladi': 963, 'goodmorn': 964, 'mp': 965, 'mail': 966, 'educ': 967, 'chat': 968, 'review': 969, 'error': 970, 'kind': 971, 'ear': 972, 'forgot': 973, 'planet': 974, 'l': 975, 'nowplay': 976, 'zoom': 977, 'followu': 978, 'fire': 979, 'wors': 980, 'tagsforlik': 981, 'sign': 982, 'spoil': 983, 'treat': 984, 'la': 985, 'bc': 986, 'sing': 987, 'girlfriend': 988, 'convers': 989, 'duo': 990, 'cuz': 991, 'chariti': 992, 'boostmobil': 993, 'either': 994, 'sort': 995, 'shut': 996, 'applestor': 997, 'yr': 998, 'voic': 999, 'lion': 1000, 'geniu': 1001, 'bff': 1002, 'worth': 1003, 'player': 1004, 'forc': 1005, 'appar': 1006, 'radio': 1007, 'princess': 1008, 'cost': 1009, 'merrychristma': 1010, 'cl': 1011, 'cousin': 1012, 'cheer': 1013, 'fli': 1014, 'obsess': 1015, 'juic': 1016, 'deliveri': 1017, 'everyday': 1018, 'file': 1019, 'unbox': 1020, 'cuti': 1021, 'bbm': 1022, 'frustrat': 1023, 'correct': 1024, 'candi': 1025, 'easi': 1026, 'potd': 1027, 'yall': 1028, 'absolut': 1029, 'destini': 1030, 'icon': 1031, 'expect': 1032, 'easter': 1033, 'reflect': 1034, 'backup': 1035, 'rememb': 1036, 'lip': 1037, 'son': 1038, 'sim': 1039, 'august': 1040, 'socialmedia': 1041, 'edm': 1042, 'spotifi': 1043, 'nx': 1044, 'access': 1045, 'macbookair': 1046, 'friendship': 1047, 'hit': 1048, 'paint': 1049, 'page': 1050, 'theyr': 1051, 'winner': 1052, 'rest': 1053, 'around': 1054, 'bos': 1055, 'joke': 1056, 'appoint': 1057, 'inform': 1058, 'score': 1059, 'loud': 1060, 'brazil': 1061, 'boot': 1062, 'wine': 1063, 'late': 1064, 'septemb': 1065, 'netflix': 1066, 'import': 1067, 'wake': 1068, 'romanc': 1069, 'instagramhub': 1070, 'figur': 1071, 'rip': 1072, 'ignat': 1073, 'satisfi': 1074, 'osx': 1075, 'tweetgram': 1076, 'speed': 1077, 'sweden': 1078, 'hdr': 1079, 'ride': 1080, 'decemb': 1081, 'remov': 1082, 'icecream': 1083, 'lunch': 1084, 'autumn': 1085, 'teamandroid': 1086, 'filter': 1087, 'sue': 1088, 'hors': 1089, 'credit': 1090, 'omg': 1091, 'tasti': 1092, 'chine': 1093, 'yolo': 1094, 'nascar': 1095, 'cheap': 1096, 'bag': 1097, 'report': 1098, 'theme': 1099, 'advanc': 1100, 'father': 1101, 'gr': 1102, 'mr': 1103, 'glass': 1104, 'bullshit': 1105, 'fine': 1106, 'yellow': 1107, 'liverpool': 1108, 'notebook': 1109, 'idol': 1110, 'sit': 1111, 'ar': 1112, 'ball': 1113, 'catch': 1114, 'dark': 1115, 'possibl': 1116, 'newappstor': 1117, 'blast': 1118, 'flag': 1119, 'mayb': 1120, 'lucki': 1121, 'heat': 1122, 'cinnamon': 1123, 'side': 1124, 'here': 1125, 'marri': 1126, 'mountain': 1127, 'smallbiz': 1128, 'search': 1129, 'refus': 1130, 'entir': 1131, 'safari': 1132, 'act': 1133, 'yo': 1134, 'co': 1135, 'smh': 1136, 'cash': 1137, 'sketch': 1138, 'medium': 1139, 'earth': 1140, 'santa': 1141, 'prank': 1142, 'effin': 1143, 'vibe': 1144, 'dumb': 1145, 'parent': 1146, 'impress': 1147, 'amor': 1148, 'resist': 1149, 'hellokitti': 1150, 'bow': 1151, 'weekday': 1152, 'foe': 1153, 'england': 1154, 'spawn': 1155, 'sunglass': 1156, 'youll': 1157, 'nd': 1158, 'advertis': 1159, 'lightn': 1160, 'thursday': 1161, 'incred': 1162, 'friendli': 1163, 'era': 1164, 'doug': 1165, 'sometim': 1166, 'zazzlecom': 1167, 'record': 1168, 'tokyo': 1169, 'disney': 1170, 'iphonesplu': 1171, 'name': 1172, 'paper': 1173, 'michel': 1174, 'justinbieb': 1175, 'smartwatch': 1176, 'itouch': 1177, 'ring': 1178, 'speak': 1179, 'youv': 1180, 'asian': 1181, 'crappi': 1182, 'wild': 1183, 'yousuck': 1184, 'beard': 1185, 'thanksgiv': 1186, 'success': 1187, 'star': 1188, 'gig': 1189, 'web': 1190, 'h': 1191, 'streetphotographi': 1192, 'quit': 1193, 'gopro': 1194, 'warranti': 1195, 'everywher': 1196, 'bear': 1197, 'invest': 1198, 'add': 1199, 'factori': 1200, 'dope': 1201, 'lake': 1202, 'plug': 1203, 'etc': 1204, 'valentineapp': 1205, 'pattern': 1206, 'compat': 1207, 'bond': 1208, 'kitti': 1209, 'puzzl': 1210, 'idiot': 1211, 'studi': 1212, 'everybodi': 1213, 'freedom': 1214, 'normal': 1215, 'shine': 1216, 'datingadvic': 1217, 'marriag': 1218, 'cours': 1219, 'couldnt': 1220, 'suppli': 1221, 'copi': 1222, 'tool': 1223, 'land': 1224, 'instamo': 1225, 'upload': 1226, 'jesu': 1227, 'shoe': 1228, 'hehe': 1229, 'due': 1230, 'fill': 1231, 'who': 1232, 'commerci': 1233, 'si': 1234, 'hiphop': 1235, 'restart': 1236, 'low': 1237, 'startup': 1238, 'bodi': 1239, 'con': 1240, 'artphotographi': 1241, 'hacker': 1242, 'tho': 1243, 'wisdom': 1244, 'bw': 1245, 'rather': 1246, 'posit': 1247, 'deliv': 1248, 'burn': 1249, 'websit': 1250, 'secret': 1251, 'respons': 1252, 'promot': 1253, 'clear': 1254, 'discov': 1255, 'core': 1256, 'rate': 1257, 'machin': 1258, 'comment': 1259, 'poor': 1260, 'diy': 1261, 'instead': 1262, 'pocket': 1263, 'arent': 1264, 'compass': 1265, 'grate': 1266, 'cloth': 1267, 'warn': 1268, 'galleri': 1269, 'apart': 1270, 'she': 1271, 'instafood': 1272, 'heaven': 1273, 'silli': 1274, 'fantast': 1275, 'brick': 1276, 'imovi': 1277, 'sold': 1278, 'drandrew': 1279, 'faith': 1280, 'hear': 1281, 'announc': 1282, 'mous': 1283, 'southport': 1284, 'instafollow': 1285, 'choic': 1286, 'stress': 1287, 'forget': 1288, 'decis': 1289, 'album': 1290, 'jump': 1291, 'pain': 1292, 'gym': 1293, 'halloween': 1294, 'countri': 1295, 'project': 1296, 'lie': 1297, 'club': 1298, 'vote': 1299, 'bedroom': 1300, 'sunris': 1301, 'ugli': 1302, 'sail': 1303, 'yea': 1304, 'lenovo': 1305, 'setup': 1306, 'nearli': 1307, 'as': 1308, 'alcohol': 1309, 'option': 1310, 'wwdc': 1311, 'queen': 1312, 'pack': 1313, 'tcot': 1314, 'theater': 1315, 'accept': 1316, 'sedg': 1317, 'hype': 1318, 'death': 1319, 'j': 1320, 'technew': 1321, 'seri': 1322, 'octob': 1323, 'juli': 1324, 'comic': 1325, 'audio': 1326, 'pull': 1327, 'train': 1328, 'shoutout': 1329, 'costum': 1330, 'round': 1331, 'own': 1332, 'rant': 1333, 'nxmini': 1334, 'major': 1335, 'profil': 1336, 'tb': 1337, 'control': 1338, 'safe': 1339, 'employe': 1340, 'illustr': 1341, 'metromanb': 1342, 'stylish': 1343, 'ridicul': 1344, 'jean': 1345, 'wednesday': 1346, 'stormhour': 1347, 'trade': 1348, 'behind': 1349, 'doubl': 1350, 'altern': 1351, 'se': 1352, 'detail': 1353, 'st': 1354, 'driver': 1355, 'pool': 1356, 'dev': 1357, 'gsm': 1358, 'letter': 1359, 'teamiphon': 1360, 'hobbi': 1361, 'graphicdesign': 1362, 'korea': 1363, 'function': 1364, 'workout': 1365, 'fake': 1366, 'accessoir': 1367, 'cup': 1368, 'brunett': 1369, 'mexico': 1370, 'jack': 1371, 'season': 1372, 'rainbow': 1373, 'brain': 1374, 'hialeah': 1375, 'aliv': 1376, 'brown': 1377, 'germani': 1378, 'front': 1379, 'musician': 1380, 'po': 1381, 'snapchat': 1382, 'articl': 1383, 'randomli': 1384, 'ruin': 1385, 'adapt': 1386, 'recov': 1387, 'happyday': 1388, 'xoxo': 1389, 'cream': 1390, 'whatev': 1391, 'logo': 1392, 'anniversari': 1393, 'poodl': 1394, 'soft': 1395, 'desk': 1396, 'ceo': 1397, 'fanci': 1398, 'campaign': 1399, 'yup': 1400, 'aw': 1401, 'four': 1402, 'goodvib': 1403, 'toronto': 1404, 'cord': 1405, 'zeta': 1406, 'foodi': 1407, 'jam': 1408, 'songwrit': 1409, 'metal': 1410, 'door': 1411, 'shini': 1412, 'societi': 1413, 'transfer': 1414, 'diet': 1415, 'bb': 1416, 'mothersday': 1417, 'none': 1418, 'main': 1419, 'graphic': 1420, 'vr': 1421, 'gl': 1422, 'china': 1423, 'plaza': 1424, 'age': 1425, 'rd': 1426, 'kick': 1427, 'en': 1428, 'serv': 1429, 'sunshin': 1430, 'hahaha': 1431, 'american': 1432, 'concept': 1433, 'malaysia': 1434, 'bathroom': 1435, 'dubai': 1436, 'probabl': 1437, 'cupcak': 1438, 'chanc': 1439, 'basketbal': 1440, 'bluray': 1441, 'alon': 1442, 'onlineshop': 1443, 'unit': 1444, 'prime': 1445, 'mistak': 1446, 'goodtim': 1447, 'avoid': 1448, 'warm': 1449, 'mysteri': 1450, 'epic': 1451, 'urban': 1452, 'de': 1453, 'ah': 1454, 'insid': 1455, 'kuwait': 1456, 'woke': 1457, 'dude': 1458, 'abuja': 1459, 'hatemac': 1460, 'nano': 1461, 'jul': 1462, 'ipho': 1463, 'indian': 1464, 'sm': 1465, 'except': 1466, 'nerd': 1467, 'actor': 1468, 'wire': 1469, 'grand': 1470, 'waterproof': 1471, 'compar': 1472, 'earlier': 1473, 'standard': 1474, 'follo': 1475, 'hop': 1476, 'loo': 1477, 'write': 1478, 'foot': 1479, 'cam': 1480, 'split': 1481, 'strawberri': 1482, 'appreci': 1483, 'pissedoff': 1484, 'shaw': 1485, 'teacher': 1486, 'touchscreen': 1487, 'ice': 1488, 'mondaymotiv': 1489, 'breviti': 1490, 'hr': 1491, 'plastic': 1492, 'popsocket': 1493, 'worldcup': 1494, 'bedtim': 1495, 'pug': 1496, 'losangel': 1497, 'panda': 1498, 'cartoon': 1499, 'boostmobilemiami': 1500, 'instafun': 1501, 'applic': 1502, 'topcel': 1503, 'saw': 1504, 'rush': 1505, 'huski': 1506, 'soccer': 1507, 'xiaomi': 1508, 'manhattan': 1509, 'cinema': 1510, 'cydia': 1511, 'samsungblast': 1512, 'fct': 1513, 'capitalhub': 1514, 'near': 1515, 'hungri': 1516, 'abujac': 1517, 'sydney': 1518, 'abujaphon': 1519, 'log': 1520, 'contract': 1521, 'wuse': 1522, 'abujapeopl': 1523, 'neighbour': 1524, 'ip': 1525, 'rich': 1526, 'abujafct': 1527, 'loyalti': 1528, 'moscow': 1529, 'instas': 1530, 'tgif': 1531, 'aint': 1532, 'autocorrect': 1533, 'mylif': 1534, 'fifa': 1535, 'festiv': 1536, 'histori': 1537, 'guitar': 1538, 'destroy': 1539, 'tabl': 1540, 'sum': 1541, 'weed': 1542, 'fight': 1543, 'band': 1544, 'usual': 1545, 'australia': 1546, 'nikkor': 1547, 'onto': 1548, 'north': 1549, 'mouth': 1550, 'homemad': 1551, 'snap': 1552, 'push': 1553, 'nintendo': 1554, 'duck': 1555, 'ripoff': 1556, 'foreveryoung': 1557, 'moon': 1558, 'yosemit': 1559, 'bike': 1560, 'mensstyl': 1561, 'smell': 1562, 'promo': 1563, 'vegan': 1564, 'freakin': 1565, 'chuck': 1566, 'woo': 1567, 'site': 1568, 'nexu': 1569, 'point': 1570, 'head': 1571, 'finish': 1572, 'picstitch': 1573, 'followforfollow': 1574, 'strong': 1575, 'fucker': 1576, 'hoodi': 1577, 'bunni': 1578, 'scratch': 1579, 'print': 1580, 'attack': 1581, 'iphoneisa': 1582, 'tha': 1583, 'jk': 1584, 'match': 1585, 'process': 1586, 'sam': 1587, 'center': 1588, 'iii': 1589, 'ha': 1590, 'clarksvilletn': 1591, 'namast': 1592, 'freelanc': 1593, 'five': 1594, 'melt': 1595, 'war': 1596, 'mall': 1597, 'psvita': 1598, 'disabl': 1599, 'apolog': 1600, 'instagay': 1601, 'background': 1602, 'giftidea': 1603, 'terribl': 1604, 'getoutandexplor': 1605, 'build': 1606, 'architectur': 1607, 'given': 1608, 'sibl': 1609, 'mama': 1610, 'paid': 1611, 'in': 1612, 'hotel': 1613, 'pandora': 1614, 'chanel': 1615, 'denmark': 1616, 'hasnt': 1617, 'beta': 1618, 'samsungnot': 1619, 'bf': 1620, 'pictureoftheday': 1621, 'screenshot': 1622, 'earpod': 1623, 'french': 1624, 'item': 1625, 'miramar': 1626, 'return': 1627, 'troll': 1628, 'exist': 1629, 'client': 1630, 'attent': 1631, 'realiti': 1632, 'heheh': 1633, 'rome': 1634, 'expens': 1635, 'central': 1636, 'hubbi': 1637, 'bestbuy': 1638, 'recoveri': 1639, 'tim': 1640, 'cross': 1641, 'diamond': 1642, 'iphoneproblem': 1643, 'naturephotographi': 1644, 'boo': 1645, 'handmad': 1646, 'yey': 1647, 'tune': 1648, 'gun': 1649, 'organ': 1650, 'bank': 1651, 'xxoo': 1652, 'ipadair': 1653, 'wave': 1654, 'freckl': 1655, 'competit': 1656, 'trap': 1657, 'realiz': 1658, 'anybodi': 1659, 'sa': 1660, 'giveaway': 1661, 'moto': 1662, 'hipster': 1663, 'catsofinstagram': 1664, 'applefan': 1665, 'starwar': 1666, 'comedi': 1667, 'consum': 1668, 'content': 1669, 'church': 1670, 'ginger': 1671, 'grab': 1672, 'igaddict': 1673, 'definit': 1674, 'rise': 1675, 'dang': 1676, 'kinda': 1677, 'fool': 1678, 'valentineday': 1679, 'su': 1680, 'non': 1681, 'tear': 1682, 'relat': 1683, 'doglov': 1684, 'ef': 1685, 'mum': 1686, 'netbook': 1687, 'auto': 1688, 'samsunggalaxynot': 1689, 'christmasgift': 1690, 'marvel': 1691, 'rumor': 1692, 'beyond': 1693, 'emerg': 1694, 'tagforlik': 1695, 'handsom': 1696, 'bigger': 1697, 'iphoto': 1698, 'footbal': 1699, 'fotografi': 1700, 'drunk': 1701, 'irrit': 1702, 'skate': 1703, 'ipadpro': 1704, 'aww': 1705, 'swear': 1706, 'assist': 1707, 'ebook': 1708, 'imposs': 1709, 'pure': 1710, 'karma': 1711, 'fl': 1712, 'bt': 1713, 'decept': 1714, 'brouwersdam': 1715, 'pamela': 1716, 'preview': 1717, 'jellybean': 1718, 'bride': 1719, 'indiegam': 1720, 'mexican': 1721, 'spain': 1722, 'scienc': 1723, 'evo': 1724, 'girli': 1725, 'biggest': 1726, 'haveaniceday': 1727, 'palm': 1728, 'tumblr': 1729, 'allow': 1730, 'action': 1731, 'pose': 1732, 'kregjig': 1733, 'ryobi': 1734, 'appli': 1735, 'eleg': 1736, 'clean': 1737, 'surfac': 1738, 'cinematographi': 1739, 'gamedev': 1740, 'tee': 1741, 'bio': 1742, 'doggi': 1743, 'student': 1744, 'exactli': 1745, 'adob': 1746, 'explain': 1747, 'anyway': 1748, 'statu': 1749, 'stoke': 1750, 'newer': 1751, 'ne': 1752, 'newest': 1753, 'siii': 1754, 'worri': 1755, 'progress': 1756, 'charli': 1757, 'rabbit': 1758, 'unlimit': 1759, 'interview': 1760, 'carrot': 1761, 'eri': 1762, 'soup': 1763, 'klip': 1764, 'buck': 1765, 'dvd': 1766, 'aug': 1767, 'basic': 1768, 'pitbul': 1769, 'mimmoal': 1770, 'rx': 1771, 'portabl': 1772, 'leg': 1773, 'candl': 1774, 'actress': 1775, 'butterfli': 1776, 'spiderman': 1777, 'vine': 1778, 'downgrad': 1779, 'trial': 1780, 'along': 1781, 'smoothi': 1782, 'swim': 1783, 'includ': 1784, 'retard': 1785, 'fame': 1786, 'egg': 1787, 'stripe': 1788, 'young': 1789, 'recip': 1790, 'dual': 1791, 'perform': 1792, 'pray': 1793, 'foto': 1794, 'disappoint': 1795, 'promis': 1796, 'concert': 1797, 'extra': 1798, 'vive': 1799, 'state': 1800, 'golden': 1801, 'je': 1802, 'berri': 1803, 'sex': 1804, 'monitor': 1805, 'hatey': 1806, 'earn': 1807, 'paccent': 1808, 'monster': 1809, 'romant': 1810, 'skype': 1811, 'outfit': 1812, 'rule': 1813, 'platypu': 1814, 'homework': 1815, 'loyal': 1816, 'pre': 1817, 'premium': 1818, 'reach': 1819, 'heartbreak': 1820, 'he': 1821, 'homeschool': 1822, 'selca': 1823, 'chicago': 1824, 'splu': 1825, 'size': 1826, 'math': 1827, 'previou': 1828, 'mobilegam': 1829, 'tini': 1830, 'zen': 1831, 'pair': 1832, 'partner': 1833, 'begin': 1834, 'leak': 1835, 'pin': 1836, 'fave': 1837, 'dell': 1838, 'hell': 1839, 'remot': 1840, 'outsid': 1841, 'zipper': 1842, 'focu': 1843, 'languag': 1844, 'psp': 1845, 'other': 1846, 'station': 1847, 'belieb': 1848, 'craft': 1849, 'court': 1850, 'leather': 1851, 'upset': 1852, 'shadow': 1853, 'slowingitdown': 1854, 'iphonec': 1855, 'naturelov': 1856, 'continu': 1857, 'road': 1858, 'ate': 1859, 'bare': 1860, 'sparkl': 1861, 'cod': 1862, 'thousand': 1863, 'ksa': 1864, 'mount': 1865, 'inst': 1866, 'mmm': 1867, 'pricelessswitch': 1868, 'italian': 1869, 'protector': 1870, 'bestoff': 1871, 'mbp': 1872, 'complic': 1873, 'twice': 1874, 'elcambio': 1875, 'sushi': 1876, 'rubik': 1877, 'classic': 1878, 'sourc': 1879, 'momma': 1880, 'niec': 1881, 'delay': 1882, 'town': 1883, 'dammit': 1884, 'logic': 1885, 'hdtv': 1886, 'np': 1887, 'bieber': 1888, 'preciou': 1889, 'lego': 1890, 'soundcloud': 1891, 'damag': 1892, 'besti': 1893, 'alert': 1894, 'prize': 1895, 'expert': 1896, 'shouldnt': 1897, 'peach': 1898, 'meow': 1899, 'hateio': 1900, 'perfum': 1901, 'istanbul': 1902, 'suppos': 1903, 'inc': 1904, 'chees': 1905, 'fantasi': 1906, 'lovin': 1907, 'amus': 1908, 'comp': 1909, 'ce': 1910, 'vega': 1911, 'customerservic': 1912, 'drama': 1913, 'stereo': 1914, 'twin': 1915, 'notif': 1916, 'morocco': 1917, 'improv': 1918, 'smarttv': 1919, 'crappl': 1920, 'luck': 1921, 'manchest': 1922, 'insan': 1923, 'soooo': 1924, 'spot': 1925, 'damn': 1926, 'legit': 1927, 'wolf': 1928, 'ahhh': 1929, 'member': 1930, 'imagin': 1931, 'barcelona': 1932, 'omfg': 1933, 'quick': 1934, 'studio': 1935, 'animoji': 1936, 'deep': 1937, 'iphoneg': 1938, 'teach': 1939, 'plur': 1940, 'lil': 1941, 'keynot': 1942, 'humor': 1943, 'motox': 1944, 'leopard': 1945, 'jailbroken': 1946, 'programm': 1947, 'msg': 1948, 'consid': 1949, 'fuckappl': 1950, 'birthdaygift': 1951, 'empti': 1952, 'doctor': 1953, 'chile': 1954, 'ahh': 1955, 'coat': 1956, 'eu': 1957, 'express': 1958, 'rosegold': 1959, 'up': 1960, 'remind': 1961, 'heard': 1962, 'adult': 1963, 'spanish': 1964, 'alp': 1965, 'arkit': 1966, 'ban': 1967, 'timelaps': 1968, 'chicken': 1969, 'finalcutpro': 1970, 'indiedev': 1971, 'shame': 1972, 'hahahaha': 1973, 'wouldv': 1974, 'fund': 1975, 'drain': 1976, 'lockscreen': 1977, 'wind': 1978, 'firstworldproblem': 1979, 'apparel': 1980, 'bang': 1981, 'salad': 1982, 'transpar': 1983, 'iphonesuck': 1984, 'steam': 1985, 'shatter': 1986, 'boost': 1987, 'jakarta': 1988, 'tax': 1989, 'silicon': 1990, 'balloon': 1991, 'smash': 1992, 'especi': 1993, 'introduc': 1994, 'walmart': 1995, 'honor': 1996, 'troubl': 1997, 'zeiss': 1998, 'tan': 1999, 'appear': 2000, 'mylov': 2001, 'seen': 2002, 'pharrel': 2003, 'retina': 2004, 'fanboy': 2005, 'beast': 2006, 'snapshot': 2007, 'coupon': 2008, 'english': 2009, 'mix': 2010, 'pieceof': 2011, 'mo': 2012, 'travelblogg': 2013, 'shade': 2014, 'floor': 2015, 'sir': 2016, 'malayali': 2017, 'victori': 2018, 'yoga': 2019, 'frame': 2020, 'glitter': 2021, 'meme': 2022, 'flat': 2023, 'pakistan': 2024, 'forward': 2025, 'viral': 2026, 'massiv': 2027, 'fingerprint': 2028, 'cali': 2029, 'honey': 2030, 'doodl': 2031, 'bounc': 2032, 'ocean': 2033, 'frank': 2034, 'excus': 2035, 'pa': 2036, 'awsom': 2037, 'blossom': 2038, 'feliz': 2039, 'server': 2040, 'bake': 2041, 'accident': 2042, 'recommend': 2043, 'aa': 2044, 'frozen': 2045, 'mariajensen': 2046, 'keepthefaith': 2047, 'compos': 2048, 'copenhagen': 2049, 'mobilephotographi': 2050, 'profit': 2051, 'sen': 2052, 'skyhub': 2053, 'cloudhub': 2054, 'wood': 2055, 'candid': 2056, 'cherri': 2057, 'hollywood': 2058, 'videoproduct': 2059, 'wear': 2060, 'itll': 2061, 'hardrock': 2062, 'nephew': 2063, 'dollar': 2064, 'tenni': 2065, 'milk': 2066, 'flip': 2067, 'approv': 2068, 'headset': 2069, 'naturephoto': 2070, 'exchang': 2071, 'ram': 2072, 'bout': 2073, 'hug': 2074, 'lumia': 2075, 'popularpag': 2076, 'behappi': 2077, 'york': 2078, 'fuckin': 2079, 'braid': 2080, 'iwatch': 2081, 'gta': 2082, 'simpli': 2083, 'depress': 2084, 'bokeh': 2085, 'dof': 2086, 'constantli': 2087, 'short': 2088, 'downtown': 2089, 'hill': 2090, 'qatar': 2091, 'scene': 2092, 'involv': 2093, 'ninja': 2094, 'donut': 2095, 'le': 2096, 'storm': 2097, 'howto': 2098, 'yogurt': 2099, 'fridg': 2100, 'stick': 2101, 'hole': 2102, 'awar': 2103, 'buddi': 2104, 'brasil': 2105, 'sanfrancisco': 2106, 'latergram': 2107, 'bling': 2108, 'tpu': 2109, 'slim': 2110, 'jordan': 2111, 'sand': 2112, 'childhood': 2113, 'stitch': 2114, 'brilliant': 2115, 'odd': 2116, 'shock': 2117, 'bill': 2118, 'puppylov': 2119, 'puppyrush': 2120, 'entertain': 2121, 'administr': 2122, 'award': 2123, 'dogsofinstagram': 2124, 'angel': 2125, 'ignor': 2126, 'kaiedel': 2127, 'fotoshoot': 2128, 'fotograf': 2129, 'kamera': 2130, 'modeln': 2131, 'tfpshoot': 2132, 'tfpmodel': 2133, 'tfp': 2134, 'ic': 2135, 'brow': 2136, 'hilari': 2137, 'pumpkin': 2138, 'wanderlust': 2139, 'atx': 2140, 'sleepi': 2141, 'hardwar': 2142, 'monkey': 2143, 'cultur': 2144, 'ux': 2145, 'streamer': 2146, 'applemacbook': 2147, 'owner': 2148, 'enter': 2149, 'microphon': 2150, 'bunch': 2151, 'princ': 2152, 'champion': 2153, 'ii': 2154, 'lover': 2155, 'hake': 2156, 'ticket': 2157, 'mb': 2158, 'race': 2159, 'survey': 2160, 'eve': 2161, 'artwork': 2162, 'tryit': 2163, 'jacket': 2164, 'van': 2165, 'stolen': 2166, 'samsungcas': 2167, 'stun': 2168, 'invent': 2169, 'spam': 2170, 'older': 2171, 'platform': 2172, 'bn': 2173, 'regret': 2174, 'easier': 2175, 'respond': 2176, 'cc': 2177, 'sooo': 2178, 'lawsuit': 2179, 'pathet': 2180, 'joe': 2181, 'amount': 2182, 'login': 2183, 'virtual': 2184, 'gameofthron': 2185, 'ihatey': 2186, 'batman': 2187, 'podcast': 2188, 'ipodtouch': 2189, 'proof': 2190, 'greec': 2191, 'arii': 2192, 'selfportrait': 2193, 'alpha': 2194, 'longhair': 2195, 'sogood': 2196, 'difficult': 2197, 'teen': 2198, 'overr': 2199, 'nation': 2200, 'preschool': 2201, 'mobi': 2202, 'grow': 2203, 'caramel': 2204, 'ui': 2205, 'hk': 2206, 'rubbish': 2207, 'convo': 2208, 'refinedrug': 2209, 'snack': 2210, 'david': 2211, 'appleiphon': 2212, 'volum': 2213, 'pokemon': 2214, 'kingcrowley': 2215, 'claim': 2216, 'moustach': 2217, 'theyv': 2218, 'unicorn': 2219, 'ego': 2220, 'neveragain': 2221, 'preorder': 2222, 'thin': 2223, 'superman': 2224, 'newiphon': 2225, 'flirt': 2226, 'instagam': 2227, 'airpod': 2228, 'chose': 2229, 'michael': 2230, 'jst': 2231, 'til': 2232, 'wide': 2233, 'cancel': 2234, 'xx': 2235, 'conclus': 2236, 'atlanta': 2237, 'vodka': 2238, 'sausag': 2239, 'refund': 2240, 'afford': 2241, 'portraitmod': 2242, 'presdak': 2243, 'ea': 2244, 'west': 2245, 'fox': 2246, 'mate': 2247, 'prepar': 2248, 'influenc': 2249, 'iossuck': 2250, 'vinyl': 2251, 'airplan': 2252, 'mega': 2253, 'grip': 2254, 'activ': 2255, 'clue': 2256, 'pad': 2257, 'yahoo': 2258, 'intens': 2259, 'comfort': 2260, 'base': 2261, 'industri': 2262, 'realis': 2263, 'wrist': 2264, 'experia': 2265, 'labrador': 2266, 'woof': 2267, 'westi': 2268, 'cutepuppi': 2269, 'attempt': 2270, 'snapse': 2271, 'underwat': 2272, 'txt': 2273, 'root': 2274, 'pixel': 2275, 'overpr': 2276, 'dick': 2277, 'iloveit': 2278, 'cakesmash': 2279, 'accesorio': 2280, 'adam': 2281, 'curl': 2282, 'stone': 2283, 'woodwork': 2284, 'arab': 2285, 'ridgid': 2286, 'foodphotographi': 2287, 'grill': 2288, 'coolest': 2289, 'cybermonday': 2290, 'southafrica': 2291, 'chica': 2292, 'soooooo': 2293, 'hitler': 2294, 'tfler': 2295, 'iphonelov': 2296, 'justin': 2297, 'enabl': 2298, 'dribbbl': 2299, 'pizza': 2300, 'fff': 2301, 'escap': 2302, 'engin': 2303, 'bundl': 2304, 'seriou': 2305, 'doubt': 2306, 'honestli': 2307, 'unchart': 2308, 'unravel': 2309, 'instafram': 2310, 'aztec': 2311, 'doll': 2312, 'dl': 2313, 'clarksvil': 2314, 'mint': 2315, 'redhead': 2316, 'shopifi': 2317, 'russi': 2318, 'venic': 2319, 'ilov': 2320, 'explod': 2321, 'paradis': 2322, 'travelphotographi': 2323, 'documentari': 2324, 'squareadi': 2325, 'freebi': 2326, 'singersongwrit': 2327, 'veggi': 2328, 'lyric': 2329, 'shite': 2330, 'razr': 2331, 'felicidad': 2332, 'brazilian': 2333, 'pointless': 2334, 'beg': 2335, 'pretenti': 2336, 'guid': 2337, 'flight': 2338, 'com': 2339, 'geefilmworkz': 2340, 'greeneyed': 2341, 'tourist': 2342, 'punch': 2343, 'backpack': 2344, 'vent': 2345, 'locat': 2346, 'ibbleobbl': 2347, 'unus': 2348, 'lit': 2349, 'wash': 2350, 'confirm': 2351, 'gracia': 2352, 'iphoneprob': 2353, 'donald': 2354, 'lead': 2355, 'lad': 2356, 'papa': 2357, 'resort': 2358, 'breath': 2359, 'innoc': 2360, 'cano': 2361, 'prick': 2362, 'modern': 2363, 'bother': 2364, 'hillari': 2365, 'congratul': 2366, 'bae': 2367, 'sabo': 2368, 'musthav': 2369, 'instashop': 2370, 'battl': 2371, 'subscript': 2372, 'flow': 2373, 'ludapix': 2374, 'grassroot': 2375, 'born': 2376, 'fav': 2377, 'hurt': 2378, 'skirt': 2379, 'polic': 2380, 'sonynexn': 2381, 'lack': 2382, 'feedback': 2383, 'six': 2384, 'lemon': 2385, 'aboutalook': 2386, 'googlemap': 2387, 'sonyarii': 2388, 'zoo': 2389, 'augmentedr': 2390, 'specif': 2391, 'cutest': 2392, 'rington': 2393, 'sol': 2394, 'pen': 2395, 'sonyxperia': 2396, 'armi': 2397, 'spongebob': 2398, 'teamdroid': 2399, 'appalta': 2400, 'mod': 2401, 'honda': 2402, 'iphonephoto': 2403, 'nothappi': 2404, 'blackop': 2405, 'ghost': 2406, 'damnit': 2407, 'oppo': 2408, 'whatsapp': 2409, 'area': 2410, 'applepay': 2411, 'manual': 2412, 'smartphonecas': 2413, 'hide': 2414, 'temper': 2415, 'cont': 2416, 'cheat': 2417, 'swedish': 2418, 'expir': 2419, 'combo': 2420, 'contest': 2421, 'montreal': 2422, 'setlif': 2423, 'madrid': 2424, 'grandma': 2425, 'emot': 2426, 'techlink': 2427, 'nearest': 2428, 'retail': 2429, 'healthyeat': 2430, 'comfi': 2431, 'lord': 2432, 'beyonc': 2433, 'master': 2434, 'fair': 2435, 'step': 2436, 'fujifilm': 2437, 'clinton': 2438, 'drake': 2439, 'iv': 2440, 'militari': 2441, 'hp': 2442, 'scan': 2443, 'rescu': 2444, 'playtim': 2445, 'zune': 2446, 'fist': 2447, 'cafe': 2448, 'chrome': 2449, 'femal': 2450, 'nite': 2451, 'grr': 2452, 'hunt': 2453, 'hockey': 2454, 'hahah': 2455, 'rang': 2456, 'golf': 2457, 'drug': 2458, 'killzon': 2459, 'hash': 2460, 'filchi': 2461, 'cutter': 2462, 'hung': 2463, 'ti': 2464, 'tank': 2465, 'blah': 2466, 'cheeki': 2467, 'fam': 2468, 'awkward': 2469, 'opportun': 2470, 'surviv': 2471, 'wonderland': 2472, 'motog': 2473, 'board': 2474, 'among': 2475, 'firefox': 2476, 'solv': 2477, 'caught': 2478, 'carv': 2479, 'curli': 2480, 'felic': 2481, 'travelgram': 2482, 'saa': 2483, 'hint': 2484, 'instant': 2485, 'redmi': 2486, 'address': 2487, 'sugar': 2488, 'em': 2489, 'browser': 2490, 'oper': 2491, 'singapor': 2492, 'phoenix': 2493, 'fork': 2494, 'sceneri': 2495, 'favourit': 2496, 'instaboy': 2497, 'iphones': 2498, 'pour': 2499, 'earthandcloud': 2500, 'sundaymorn': 2501, 'target': 2502, 'multitask': 2503, 'rayban': 2504, 'gaza': 2505, 'tt': 2506, 'applemus': 2507, 'bowl': 2508, 'applecar': 2509, 'lame': 2510, 'instatravel': 2511, 'fixit': 2512, 'freeship': 2513, 'increas': 2514, 'bali': 2515, 'lsl': 2516, 'austin': 2517, 'hightech': 2518, 'java': 2519, 'dm': 2520, 'calm': 2521, 'list': 2522, 'bahrain': 2523, 'requir': 2524, 'noordze': 2525, 'jealou': 2526, 'william': 2527, 'beer': 2528, 'practic': 2529, 'alaska': 2530, 'blank': 2531, 'somehow': 2532, 'russia': 2533, 'tradit': 2534, 'weird': 2535, 'dot': 2536, 'truck': 2537, 'watermelon': 2538, 'fp': 2539, 'verifi': 2540, 'pirat': 2541, 'roadtrip': 2542, 'kushk': 2543, 'facial': 2544, 'desktop': 2545, 'hdmi': 2546, 'adaptor': 2547, 'nailart': 2548, 'describ': 2549, 'gamersunit': 2550, 'confus': 2551, 'fell': 2552, 'sonyaii': 2553, 'appleev': 2554, 'sigh': 2555, 'rabbitsofig': 2556, 'lookoftheday': 2557, 'commun': 2558, 'tat': 2559, 'fear': 2560, 'nextbigth': 2561, 'spacegray': 2562, 'latepost': 2563, 'privat': 2564, 'obama': 2565, 'iran': 2566, 'shuffl': 2567, 'financ': 2568, 'loser': 2569, 'hookahbar': 2570, 'bunnylov': 2571, 'diva': 2572, 'houserabbit': 2573, 'lick': 2574, 'knew': 2575, 'defect': 2576, 'bunniesofinstagram': 2577, 'warner': 2578, 'carri': 2579, 'lmao': 2580, 'rabbitsofinstagram': 2581, 'ace': 2582, 'whilst': 2583, 'instaphon': 2584, 'israel': 2585, 'vicio': 2586, 'understand': 2587, 'poser': 2588, 'franc': 2589, 'polici': 2590, 'erot': 2591, 'chord': 2592, 'usag': 2593, 'gilmor': 2594, 'geniusbar': 2595, 'grey': 2596, 'bell': 2597, 'holi': 2598, 'onelov': 2599, 'creepi': 2600, 'hospit': 2601, 'challeng': 2602, 'vid': 2603, 'positivevib': 2604, 'mwah': 2605, 'episod': 2606, 'beaut': 2607, 'pearl': 2608, 'bottl': 2609, 'upon': 2610, 'desert': 2611, 'solid': 2612, 'medit': 2613, 'nougat': 2614, 'extrem': 2615, 'feb': 2616, 'colorchalleng': 2617, 'channel': 2618, 'moi': 2619, 'boob': 2620, 'chennai': 2621, 'muscl': 2622, 'galaxya': 2623, 'runner': 2624, 'recept': 2625, 'whenev': 2626, 'taylor': 2627, 'cybershot': 2628, 'straight': 2629, 'faster': 2630, 'gd': 2631, 'recent': 2632, 'rnb': 2633, 'justm': 2634, 'loui': 2635, 'etsi': 2636, 'poetri': 2637, 'sonyxperiaz': 2638, 'homi': 2639, 'workshop': 2640, 'outta': 2641, 'group': 2642, 'chromebook': 2643, 'swap': 2644, 'limit': 2645, 'muslim': 2646, 'occas': 2647, 'hypocrit': 2648, 'uncl': 2649, 'adida': 2650, 'manufactur': 2651, 'volkswagen': 2652, 'crisp': 2653, 'pear': 2654, 'picstich': 2655, 'larg': 2656, 'hang': 2657, 'madewitharkit': 2658, 'rais': 2659, 'xcode': 2660, 'shihtzu': 2661, 'knowledg': 2662, 'bandung': 2663, 'vw': 2664, 'crowd': 2665, 'christmaspres': 2666, 'awak': 2667, 'bob': 2668, 'sandler': 2669, 'deer': 2670, 'bam': 2671, 'cg': 2672, 'studiolif': 2673, 'persian': 2674, 'failur': 2675, 'dogsoftwitt': 2676, 'boredom': 2677, 'hefe': 2678, 'xxx': 2679, 'ran': 2680, 'dive': 2681, 'frog': 2682, 'unix': 2683, 'picovbk': 2684, 'pond': 2685, 'casa': 2686, 'ssd': 2687, 'rightnow': 2688, 'srsli': 2689, 'guru': 2690, 'request': 2691, 'stole': 2692, 'fault': 2693, 'meee': 2694, 'inbox': 2695, 'cowork': 2696, 'dubstep': 2697, 'succeed': 2698, 'hahahah': 2699, 'abc': 2700, 'instaday': 2701, 'instafam': 2702, 'decent': 2703, 'ughh': 2704, 'flawless': 2705, 'taco': 2706, 'cooki': 2707, 'bangalor': 2708, 'tube': 2709, 'photoshop': 2710, 'instapopular': 2711, 'katyperri': 2712, 'crave': 2713, 'furri': 2714, 'infograph': 2715, 'hook': 2716, 'fuckthat': 2717, 'antiqu': 2718, 'skull': 2719, 'lust': 2720, 'allsmil': 2721, 'palmtre': 2722, 'port': 2723, 'ideacentr': 2724, 'lay': 2725, 'cave': 2726, 'likeit': 2727, 'shotononeplu': 2728, 'multipl': 2729, 'iosdev': 2730, 'reward': 2731, 'capit': 2732, 'looov': 2733, 'lollypop': 2734, 'handl': 2735, 'applewatchseri': 2736, 'woot': 2737, 'pierc': 2738, 'british': 2739, 'ai': 2740, 'xboxon': 2741, 'ee': 2742, 'silenc': 2743, 'iot': 2744, 'crumbl': 2745, 'bikini': 2746, 'fals': 2747, 'steem': 2748, 'brush': 2749, 'usd': 2750, 'harddriv': 2751, 'newstuff': 2752, 'natgeo': 2753, 'playschool': 2754, 'learnmath': 2755, 'farm': 2756, 'kitchen': 2757, 'lollipop': 2758, 'ct': 2759, 'hip': 2760, 'idk': 2761, 'neon': 2762, 'minecraft': 2763, 'pastel': 2764, 'abus': 2765, 'statement': 2766, 'dock': 2767, 'scent': 2768, 'across': 2769, 'vibrat': 2770, 'handset': 2771, 'incorrect': 2772, 'tht': 2773, 'steemithelp': 2774, 'gwarinpa': 2775, 'colombia': 2776, 'exclus': 2777, 'craziest': 2778, 'courtesi': 2779, 'sigma': 2780, 'brussel': 2781, 'assum': 2782, 'artistsontwitt': 2783, 'htt': 2784, 'speck': 2785, 'metroman': 2786, 'proofjalenmcmillan': 2787, 'villag': 2788, 'pe': 2789, 'mighti': 2790, 'kindergarten': 2791, 'chase': 2792, 'coff': 2793, 'truli': 2794, 'familia': 2795, 'disappear': 2796, 'moda': 2797, 'edmfam': 2798, 'yep': 2799, 'askmeanyth': 2800, 'rateyourd': 2801, 'galaxyac': 2802, 'goodday': 2803, 'instacollag': 2804, 'turkey': 2805, 'iphoneart': 2806, 'callofduti': 2807, 'poison': 2808, 'edclv': 2809, 'malfunct': 2810, 'edc': 2811, 'fridayfeel': 2812, 'stupidphon': 2813, 'nhl': 2814, 'percent': 2815, 'bash': 2816, 'trophi': 2817, 'earbud': 2818, 'euro': 2819, 'fitfam': 2820, 'babygirl': 2821, 'topcellcomun': 2822, 'spice': 2823, 'furiou': 2824, 'holli': 2825, 'schedul': 2826, 'sp': 2827, 'adultr': 2828, 'barber': 2829, 'shisha': 2830, 'fucken': 2831, 'groom': 2832, 'charact': 2833, 'instagramm': 2834, 'debat': 2835, 'smoker': 2836, 'coup': 2837, 'lap': 2838, 'bestsel': 2839, 'sundayfunday': 2840, 'javascript': 2841, 'dia': 2842, 'term': 2843, 'imfix': 2844, 'fanta': 2845, 'syria': 2846, 'polka': 2847, 'asleep': 2848, 'pinoy': 2849, 'hater': 2850, 'entri': 2851, 'dontjudgem': 2852, 'panic': 2853, 'peep': 2854, 'bust': 2855, 'bose': 2856, 'peanut': 2857, 'bmw': 2858, 'glutenfre': 2859, 'palestin': 2860, 'mackenzi': 2861, 'boi': 2862, 'crystal': 2863, 'bahraini': 2864, 'galaxytab': 2865, 'africa': 2866, 'bestdeal': 2867, 'distributor': 2868, 'camper': 2869, 'bearbrick': 2870, 'zazzl': 2871, 'sonystori': 2872, 'bolton': 2873, 'dotnet': 2874, 'wah': 2875, 'gt': 2876, 'settl': 2877, 'photographyislif': 2878, 'confess': 2879, 'potion': 2880, 'sonyvideo': 2881, 'chicco': 2882, 'breastcanc': 2883, 'ciak': 2884, 'pt': 2885, 'ilovey': 2886, 'dslr': 2887, 'francocovidirector': 2888, 'flake': 2889, 'therefor': 2890, 'annual': 2891, 'ki': 2892, 'bordercolli': 2893, 'mask': 2894, 'instaquot': 2895, 'girlpow': 2896, 'motherfuck': 2897, 'lazi': 2898, 'mill': 2899, 'freetim': 2900, 'punk': 2901, 'garageband': 2902, 'lesbian': 2903, 'crook': 2904, 'seo': 2905, 'mic': 2906, 'ru': 2907, 'paul': 2908, 'chew': 2909, 'propos': 2910, 'where': 2911, 'ninjanaptap': 2912, 'codinglif': 2913, 'proper': 2914, 'reader': 2915, 'tast': 2916, 'hub': 2917, 'bravia': 2918, 'tap': 2919, 'computersci': 2920, 'coder': 2921, 'disgrac': 2922, 'foodstagram': 2923, 'newin': 2924, 'hairstyl': 2925, 'eff': 2926, 'mobileaccessori': 2927, 'diner': 2928, 'law': 2929, 'so': 2930, 'disneyland': 2931, 'foodlov': 2932, 'ky': 2933, 'shortcut': 2934, 'reinstal': 2935, 'mari': 2936, 'warrior': 2937, 'onlyknowwindow': 2938, 'juri': 2939, 'onlinestor': 2940, 'certif': 2941, 'hamburg': 2942, 'amour': 2943, 'thnov': 2944, 'surround': 2945, 'jeann': 2946, 'beardgang': 2947, 'pothead': 2948, 'prob': 2949, 'horribl': 2950, 'jewish': 2951, 'rim': 2952, 'hunger': 2953, 'pdf': 2954, 'spank': 2955, 'disk': 2956, 'cloudi': 2957, 'fd': 2958, 'grind': 2959, 'arsen': 2960, 'config': 2961, 'fallen': 2962, 'fangirl': 2963, 'andriod': 2964, 'finalfantasi': 2965, 'mission': 2966, 'yongnuo': 2967, 'congrat': 2968, 'trout': 2969, 'ftw': 2970, 'greatest': 2971, 'lolz': 2972, 'macpro': 2973, 'ultra': 2974, 'danish': 2975, 'coach': 2976, 'mexicoc': 2977, 'jjforum': 2978, 'mickey': 2979, 'obsolet': 2980, 'beatsbydr': 2981, 'manor': 2982, 'az': 2983, 'climb': 2984, 'kapil': 2985, 'junk': 2986, 'adornthewick': 2987, 'allshot': 2988, 'sg': 2989, 'iwork': 2990, 'loath': 2991, 'af': 2992, 'wise': 2993, 'revolut': 2994, 'instafit': 2995, 'ladygaga': 2996, 'collag': 2997, 'alexa': 2998, 'traveldiari': 2999, 'boom': 3000, 'needanewphon': 3001, 'cancer': 3002, 'beati': 3003, 'torra': 3004, 'blood': 3005, 'liquid': 3006, 'newcamera': 3007, 'redhair': 3008, 'probando': 3009, 'stockholm': 3010, 'thai': 3011, 'agne': 3012, 'doubletap': 3013, 'cricket': 3014, 'bigappl': 3015, 'citylif': 3016, 'jw': 3017, 'gotten': 3018, 'slower': 3019, 'sublim': 3020, 'simpson': 3021, 'wee': 3022, 'otaku': 3023, 'perk': 3024, 'sharma': 3025, 'gf': 3026, 'airport': 3027, 'texa': 3028, 'brooklyn': 3029, 'timesq': 3030, 'passcod': 3031, 'byp': 3032, 'motion': 3033, 'abudhabi': 3034, 'endless': 3035, 'iph': 3036, 'infin': 3037, 'ing': 3038, 'bottom': 3039, 'concret': 3040, 'otstor': 3041, 'heavi': 3042, 'leica': 3043, 'scari': 3044, 'eboni': 3045, 'effici': 3046, 'iphonegang': 3047, 'desi': 3048, 'disc': 3049, 'fk': 3050, 'handcraft': 3051, 'whether': 3052, 'bee': 3053, 'hurri': 3054, 'faceid': 3055, 'butt': 3056, 'maco': 3057, 'snowwhit': 3058, 'dust': 3059, 'condom': 3060, 'switzerland': 3061, 'staff': 3062, 'btw': 3063, 'philippin': 3064, 'takemorephoto': 3065, 'beatl': 3066, 'struggl': 3067, 'orbit': 3068, 'buienradar': 3069, 'botch': 3070, 'dezeekust': 3071, 'valu': 3072, 'sexybeast': 3073, 'bleh': 3074, 'net': 3075, 'bomb': 3076, 'templ': 3077, 'humbl': 3078, 'freeupgrad': 3079, 'sur': 3080, 'pant': 3081, 'perman': 3082, 'garbag': 3083, 'wallet': 3084, 'homescreen': 3085, 'projector': 3086, 'thrill': 3087, 'nativ': 3088, 'nfl': 3089, 'newmus': 3090, 'splash': 3091, 'addit': 3092, 'holder': 3093, 'cradl': 3094, 'worldwid': 3095, 'shark': 3096, 'bite': 3097, 'aapl': 3098, 'bu': 3099, 'mark': 3100, 'ilovemyjob': 3101, 'dee': 3102, 'kuw': 3103, 'sfssale': 3104, 'matter': 3105, 'connector': 3106, 'centr': 3107, 'technic': 3108, 'thinner': 3109, 'likeforfollow': 3110, 'scam': 3111, 'hire': 3112, 'trailer': 3113, 'marbl': 3114, 'fin': 3115, 'melon': 3116, 'rebel': 3117, 'iso': 3118, 'emoticon': 3119, 'properli': 3120, 'often': 3121, 'mu': 3122, 'famou': 3123, 'dunno': 3124, 'workflow': 3125, 'brainwash': 3126, 'unavail': 3127, 'notic': 3128, 'overal': 3129, 'socal': 3130, 'virtualr': 3131, 'newbal': 3132, 'thebest': 3133, 'skinni': 3134, 'toward': 3135, 'suit': 3136, 'healthyfood': 3137, 'un': 3138, 'shell': 3139, 'arti': 3140, 'berlin': 3141, 'yayi': 3142, 'intern': 3143, 'plaid': 3144, 'androidlif': 3145, 'lordsiva': 3146, 'per': 3147, 'shirt': 3148, 'bracelet': 3149, 'fairi': 3150, 'loop': 3151, 'ipon': 3152, 'reveal': 3153, 'photgraphi': 3154, 'pune': 3155, 'regrann': 3156, 'engag': 3157, 'aruba': 3158, 'sooooo': 3159, 'inconveni': 3160, 'revis': 3161, 'contemporari': 3162, 'dat': 3163, 'architecten': 3164, 'architect': 3165, 'buzz': 3166, 'arquitectura': 3167, 'mimar': 3168, 'mimarlk': 3169, 'araba': 3170, 'firmwar': 3171, 'instaarchitectur': 3172, 'architektur': 3173, 'flagship': 3174, 'archit': 3175, 'brandnew': 3176, 'wet': 3177, 'haiti': 3178, 'boxer': 3179, 'pepsi': 3180, 'shooter': 3181, 'aliexpress': 3182, 'disturb': 3183, 'easili': 3184, 'sanantonio': 3185, 'bl': 3186, 'regist': 3187, 'form': 3188, 'recogn': 3189, 'proverb': 3190, 'aunt': 3191, 'pillow': 3192, 'entrpreneur': 3193, 'armband': 3194, 'cloudporn': 3195, 'royal': 3196, 'retro': 3197, 'ericsson': 3198, 'slomo': 3199, 'victoriassecret': 3200, 'coke': 3201, 'notreal': 3202, 'nowher': 3203, 'sudoku': 3204, 'homepag': 3205, 'gtav': 3206, 'public': 3207, 'oreo': 3208, 'spin': 3209, 'gunna': 3210, 'chihuahua': 3211, 'onesi': 3212, 'cosplay': 3213, 'ihateappl': 3214, 'mention': 3215, 'wit': 3216, 'phoneunlock': 3217, 'hateverizon': 3218, 'ikea': 3219, 'dewalt': 3220, 'repeat': 3221, 'countrysid': 3222, 'corner': 3223, 'primeday': 3224, 'slowli': 3225, 'ariii': 3226, 'repres': 3227, 'fabul': 3228, 's': 3229, 'lo': 3230, 'huawei': 3231, 'hatewindow': 3232, 'budget': 3233, 'yacht': 3234, 'phrase': 3235, 'ton': 3236, 'instacut': 3237, 'googel': 3238, 'myblockmus': 3239, 'newmusicalert': 3240, 'voicenot': 3241, 'boat': 3242, 'jb': 3243, 'coz': 3244, 'translat': 3245, 'iosproblem': 3246, 'fishey': 3247, 'concern': 3248, 'brighton': 3249, 'cheesecak': 3250, 'gril': 3251, 'bugger': 3252, 'ep': 3253, 'raspberri': 3254, 'bigboy': 3255, 'urg': 3256, 'grrr': 3257, 'forest': 3258, 'cite': 3259, 'luke': 3260, 'plz': 3261, 'unless': 3262, 'nightmar': 3263, 'afrolatina': 3264, 'ray': 3265, 'bliss': 3266, 'ahhhh': 3267, 'hollist': 3268, 'walkman': 3269, 'rearlip': 3270, 'honest': 3271, 'nex': 3272, 'energi': 3273, 'pineappl': 3274, 'rescuedog': 3275, 'afternoon': 3276, 'phoneless': 3277, 'hijab': 3278, 'georgia': 3279, 'press': 3280, 'antoin': 3281, 'ten': 3282, 'breakup': 3283, 'instagirl': 3284, 'redeem': 3285, 'worthless': 3286, 'bigbang': 3287, 'alllllll': 3288, 'buggi': 3289, 'ich': 3290, 'asia': 3291, 'clearli': 3292, 'designermonday': 3293, 'prefer': 3294, 'thinkpink': 3295, 'cairo': 3296, 'photogram': 3297, 'fur': 3298, 'happier': 3299, 'messi': 3300, 'bath': 3301, 'bullet': 3302, 'reddit': 3303, 'unplug': 3304, 'spoilt': 3305, 'tour': 3306, 'du': 3307, 'payment': 3308, 'exercis': 3309, 'fat': 3310, 'musica': 3311, 'kim': 3312, 'iphonegraphi': 3313, 'macintosh': 3314, 'bastard': 3315, 'epicfail': 3316, 'peic': 3317, 'toilet': 3318, 'familyfirst': 3319, 'smarthom': 3320, 'sneak': 3321, 'hat': 3322, 'pieceofshit': 3323, 'tobi': 3324, 'os': 3325, 'indulg': 3326, 'debug': 3327, 'viru': 3328, 'evolut': 3329, 'loss': 3330, 'nba': 3331, 'happin': 3332, 'phantom': 3333, 'exec': 3334, 'overit': 3335, 'spiritu': 3336, 'soo': 3337, 'tmz': 3338, 'giant': 3339, 'fume': 3340, 'galaxysiii': 3341, 'wale': 3342, 'priceless': 3343, 'tower': 3344, 'pasta': 3345, 'hateit': 3346, 'oldpic': 3347, 'sock': 3348, 'indoor': 3349, 'rattl': 3350, 'lcd': 3351, 'nobodi': 3352, 'host': 3353, 'smiley': 3354, 'accomplish': 3355, 'movil': 3356, 'sundayvib': 3357, 'archiv': 3358, 'shout': 3359, 'fe': 3360, 'booti': 3361, 'timcook': 3362, 'smooth': 3363, 'fifaworldcup': 3364, 'adword': 3365, 'trunklip': 3366, 'sbamfest': 3367, 'junki': 3368, 'fuel': 3369, 'travelita': 3370, 'fenix': 3371, 'ppl': 3372, 'workhard': 3373, 'recognit': 3374, 'dig': 3375, 'mba': 3376, 'microscop': 3377, 'musicvideo': 3378, 'pine': 3379, 'newyorkc': 3380, 'scroll': 3381, 'linux': 3382, 'corpor': 3383, 'lime': 3384, 'dg': 3385, 'clip': 3386, 'hum': 3387, 'bay': 3388, 'scare': 3389, 'pst': 3390, 'maggi': 3391, 'danmark': 3392, 'bacon': 3393, 'karl': 3394, 'pinkcas': 3395, 'parcel': 3396, 'coldplay': 3397, 'fond': 3398, 'um': 3399, 'longday': 3400, 'lifetim': 3401, 'dualsim': 3402, 'electro': 3403, 'accumul': 3404, 'sweetheart': 3405, 'androidftw': 3406, 'xperiac': 3407, 'grati': 3408, 'sayin': 3409, 'vida': 3410, 'valid': 3411, 'peek': 3412, 'lightpeak': 3413, 'totem': 3414, 'lux': 3415, 'thelastofu': 3416, 'bahaha': 3417, 'dynam': 3418, 'sleev': 3419, 'casual': 3420, 'instacrazi': 3421, 'fyi': 3422, 'instaselfi': 3423, 'pee': 3424, 'mortim': 3425, 'placement': 3426, 'estim': 3427, 'whip': 3428, 'goiphon': 3429, 'former': 3430, 'mar': 3431, 'somad': 3432, 'unveil': 3433, 'goodmus': 3434, 'milf': 3435, 'watchfac': 3436, 'slap': 3437, 'meandmyteam': 3438, 'artofpo': 3439, 'iphonessuck': 3440, 'bo': 3441, 'ilovemus': 3442, 'googlehom': 3443, 'dong': 3444, 'indiana': 3445, 'nophon': 3446, 'samsunglov': 3447, 'threesom': 3448, 'ableton': 3449, 'kale': 3450, 'utpol': 3451, 'muslimsforpeac': 3452, 'suffer': 3453, 'igersmanila': 3454, 'sayang': 3455, 'codefindgift': 3456, 'hendrizi': 3457, 'meday': 3458, 'dru': 3459, 'prolli': 3460, 'jag': 3461, 'rb': 3462, 'gocoug': 3463, 'harlem': 3464, 'tardi': 3465, 'christianpickuplin': 3466, 'sonyimag': 3467, 'keepcalm': 3468, 'susanko': 3469, 'workspac': 3470, 'shaki': 3471, 'solehop': 3472, 'wbf': 3473, 'tile': 3474, 'optic': 3475, 'mahashivaratri': 3476, 'knock': 3477, 'admit': 3478, 'killm': 3479, 'nsa': 3480, 'exploit': 3481, 'fbi': 3482, 'lower': 3483, 'belat': 3484, 'harri': 3485, 'habitat': 3486, 'loung': 3487, 'likemyphoto': 3488, 'naughti': 3489, 'yousaidthat': 3490, 'beyourself': 3491, 'salut': 3492, 'feathr': 3493, 'washington': 3494, 'plane': 3495, 'ylod': 3496, 'aerial': 3497, 'drone': 3498, 'instahappi': 3499, 'slime': 3500, 'bblogger': 3501, 'wheel': 3502, 'rucku': 3503, 'reboot': 3504, 'polyvor': 3505, 'homedecor': 3506, 'oomf': 3507, 'weav': 3508, 'fierc': 3509, 'fitbit': 3510, 'waterpark': 3511, 'amsterdam': 3512, 'taiwan': 3513, 'instatech': 3514, 'taipei': 3515, 'sorrynotsorri': 3516, 'lawyer': 3517, 'hmu': 3518, 'stroll': 3519, 'freedeliveri': 3520, 'libra': 3521, 'findgift': 3522, 'chai': 3523, 'agh': 3524, 'sillouett': 3525, 'bestof': 3526, 'superdri': 3527, 'coqu': 3528, 'whoo': 3529, 'govern': 3530, 'teamappl': 3531, 'zero': 3532, 'fathersday': 3533, 'holidayfashion': 3534, 'trafford': 3535, 'roller': 3536, 'kimjongun': 3537, 'northkorea': 3538, 'theinterview': 3539, 'obvious': 3540, 'ifa': 3541, 'felicitat': 3542, 'nolosaben': 3543, 'durisim': 3544, 'motorolamotogplusnartlgb': 3545, 'clone': 3546, 'toe': 3547, 'michaelkor': 3548, 'incompet': 3549, 'fraudul': 3550, 'ouch': 3551, 'chin': 3552, 'xperiat': 3553, 'renam': 3554, 'nespresso': 3555, 'faculdad': 3556, 'ahora': 3557, 'seat': 3558, 'rap': 3559, 'attract': 3560, 'tart': 3561, 'sara': 3562, 'typographi': 3563, 'panther': 3564, 'smdh': 3565, 'unrel': 3566, 'tempt': 3567, 'hun': 3568, 'field': 3569, 'gnudarwin': 3570, 'bulli': 3571, 'iphonep': 3572, 'journey': 3573, 'playstationnetwork': 3574, 'newappleiphonextengbspacegray': 3575, 'appleiphonexgbsilverunlock': 3576, 'cop': 3577, 'restaur': 3578, 'hamilton': 3579, 'interfac': 3580, 'plain': 3581, 'separ': 3582, 'picveri': 3583, 'materi': 3584, 'analyst': 3585, 'seoul': 3586, 'panorama': 3587, 'thirsti': 3588, 'neg': 3589, 'bangkok': 3590, 'lanadelray': 3591, 'didyouknow': 3592, 'resync': 3593, 'strip': 3594, 'britishflag': 3595, 'prompt': 3596, 'biatchi': 3597, 'diver': 3598, 'cosi': 3599, 'aviat': 3600, 'avgeek': 3601, 'mummi': 3602, 'iphoneasia': 3603, 'dnt': 3604, 'tesla': 3605, 'clever': 3606, 'slowmot': 3607, 'avid': 3608, 'blackgirlmag': 3609, 'ment': 3610, 'igphoto': 3611, 'subway': 3612, 'wat': 3613, 'shahdag': 3614, 'reviv': 3615, 'jogja': 3616, 'miz': 3617, 'lug': 3618, 'agua': 3619, 'trendi': 3620, 'instam': 3621, 'hike': 3622, 'wing': 3623, 'thatweb': 3624, 'failtub': 3625, 'magazin': 3626, 'associ': 3627, 'float': 3628, 'mirag': 3629, 'punjabi': 3630, 'royalti': 3631, 'juicyjelli': 3632, 'nope': 3633, 'kiwi': 3634, 'barbado': 3635, 'capsul': 3636, 'rallymobil': 3637, 'resid': 3638, 'pinterest': 3639, 'fairytail': 3640, 'bibl': 3641, 'duggar': 3642, 'yt': 3643, 'otter': 3644, 'instag': 3645, 'italia': 3646, 'suspend': 3647, 'alex': 3648, 'sxsw': 3649, 'ishq': 3650, 'punjaben': 3651, 'ooooo': 3652, 'palac': 3653, 'holidayvib': 3654, 'luxurylifestyl': 3655, 'fashiongram': 3656, 'idealofsweden': 3657, 'dumbphon': 3658, 'cello': 3659, 'cellist': 3660, 'dominican': 3661, 'cosmet': 3662, 'artista': 3663, 'cozi': 3664, 'vietnam': 3665, 'asap': 3666, 'galaxynoteii': 3667, 'seaport': 3668, 'bohol': 3669, 'loay': 3670, 'belt': 3671, 'safeti': 3672, 'quest': 3673, 'appleii': 3674, 'yayyy': 3675, 'teamdianit': 3676, 'hah': 3677, 'kakuro': 3678, 'impati': 3679, 'uh': 3680, 'beatssuck': 3681, 'toastmast': 3682, 'tongu': 3683, 'european': 3684, 'tecnolog': 3685, 'rfleme': 3686, 'soooooadd': 3687, 'instacat': 3688, 'galaxysedg': 3689, 'googleplay': 3690, 'iphonestgenerationgagbrareiosatt': 3691, 'meant': 3692, 'googlechrom': 3693, 'photoo': 3694, 'pitsofig': 3695, 'arianasurpris': 3696, 'weloveyoutaylor': 3697, 'sissi': 3698, 'kenken': 3699, 'redu': 3700, 'deceiv': 3701, 'railway': 3702, 'queenlina': 3703, 'likem': 3704, 'babylov': 3705, 'samsungwirelesscharg': 3706, 'par': 3707, 'rebelheart': 3708, 'finalact': 3709, 'datastash': 3710, 'samantha': 3711, 'tad': 3712, 'hugo': 3713, 'hangov': 3714, 'weigh': 3715, 'latenight': 3716, 'octo': 3717, 'squid': 3718, 'abit': 3719, 'ahhhhh': 3720, 'instacoupl': 3721, 'banter': 3722, 'skylov': 3723, 'sefton': 3724, 'merseysid': 3725, 'imagefe': 3726, 'raptur': 3727, 'bioshock': 3728, 'instapost': 3729, 'rm': 3730, 'indiegogo': 3731, 'ammay': 3732, 'squar': 3733, 'looooov': 3734, 'simplic': 3735, 'flexibl': 3736, 'hellomoto': 3737, 'tropic': 3738, 'micro': 3739, 'kauai': 3740, 'copycat': 3741, 'retriev': 3742, 'throwbackthursday': 3743, 'doughnut': 3744, 'patch': 3745, 'agl': 3746, 'bent': 3747, 'held': 3748, 'myeveryth': 3749, 'minha': 3750, 'skier': 3751, 'linda': 3752, 'todo': 3753, 'minim': 3754, 'snowman': 3755, 'fffound': 3756, 'leaf': 3757, 'fambam': 3758, 'androidonli': 3759, 'retrica': 3760, 'hotdog': 3761, 'freddiemercuri': 3762, 'bitter': 3763, 'jelli': 3764, 'jio': 3765, 'trello': 3766, 'casio': 3767, 'battlefront': 3768, 'phonerepair': 3769, 'galaxycamera': 3770, 'salmon': 3771, 'fedup': 3772, 'eb': 3773, 'input': 3774, 'reject': 3775, 'nap': 3776, 'wearabl': 3777, 'quicktim': 3778, 'framegrab': 3779, 'latt': 3780, 'printer': 3781, 'hoop': 3782, 'quickchic': 3783, 'graffiti': 3784, 'vuitton': 3785, 'loreen': 3786, 'australianshepherd': 3787, 'oculu': 3788, 'imfixedbolton': 3789, 'tbh': 3790, 'nightout': 3791, 'popington': 3792, 'lifeisbeauti': 3793, 'gamergirl': 3794, 'interest': 3795, 'platino': 3796, 'giraff': 3797, 'tq': 3798, 'hu': 3799, 'lor': 3800, 'myheart': 3801, 'speechless': 3802, 'nip': 3803, 'socket': 3804, 'ditch': 3805, 'bbc': 3806, 'rumour': 3807, 'kelli': 3808, 'liber': 3809, 'twit': 3810, 'impala': 3811, 'regram': 3812, 'dare': 3813, 'be': 3814, 'yipe': 3815, 'unreal': 3816, 'pas': 3817, 'respect': 3818, 'grape': 3819, 'tunnel': 3820, 'laundri': 3821, 'gang': 3822, 'buena': 3823, 'pg': 3824, 'sillyfac': 3825, 'guitarist': 3826, 'i': 3827, 'stoopid': 3828, 'treasur': 3829, 'netherland': 3830, 'pspro': 3831, 'unimpress': 3832, 'awe': 3833, 'permiss': 3834, 'faulti': 3835, 'havefun': 3836, 'televis': 3837, 'snugli': 3838, 'aim': 3839, 'affirm': 3840, 'customis': 3841, 'allstar': 3842, 'satisfact': 3843, 'class': 3844, 'bubbl': 3845, 'soexcit': 3846, 'ughhh': 3847, 'advantag': 3848, 'ota': 3849, 'ocd': 3850, 'shitbox': 3851, 'goof': 3852, 'zone': 3853, 'anytim': 3854, 'assassinscre': 3855, 'justifi': 3856, 'powerplu': 3857, 'bollock': 3858, 'magnacarta': 3859, 'backtocolleg': 3860, 'kingdom': 3861, 'hatr': 3862, 'automat': 3863, 'format': 3864, 'reestablish': 3865, 'arrog': 3866, 'meh': 3867, 'imma': 3868, 'overli': 3869, 'sopiss': 3870, 'stylegram': 3871, 'alienwar': 3872, 'camouflag': 3873, 'camo': 3874, 'onfir': 3875, 'router': 3876, 'distribut': 3877, 'convert': 3878, 'truelov': 3879, 'nammavivek': 3880, 'natal': 3881, 'selpg': 3882, 'ahead': 3883, 'lumberjack': 3884, 'devon': 3885, 'musicindustri': 3886, 'morningwalk': 3887, 'indesign': 3888, 'truelovecalcul': 3889, 'unlockthesecrettoyoursoulm': 3890, 'empow': 3891, 'queu': 3892, 'bigroom': 3893, 'booth': 3894, 'edmlifestyl': 3895, 'oasi': 3896, 'dish': 3897, 'ripstevejob': 3898, 'picsoftheday': 3899, 'cropsensor': 3900, 'primelen': 3901, 'neewer': 3902, 'ezra': 3903, 'iron': 3904, 'refuge': 3905, 'nbc': 3906, 'spooki': 3907, 'familytim': 3908, 'measur': 3909, 'despis': 3910, 'kava': 3911, 'puppet': 3912, 'steak': 3913, 'necklac': 3914, 'penguin': 3915, 'tooexcit': 3916, 'thnx': 3917, 'appleaddict': 3918, 'crosssel': 3919, 'kingston': 3920, 'iam': 3921, 'storeus': 3922, 'simon': 3923, 'gelato': 3924, 'pride': 3925, 'shower': 3926, 'lifeproof': 3927, 'micromania': 3928, 'gaymer': 3929, 'weddingcak': 3930, 'koh': 3931, 'frankwilliamsru': 3932, 'mirrorp': 3933, 'superior': 3934, 'multiplay': 3935, 'whore': 3936, 'itunesi': 3937, 'myphon': 3938, 'foodblogg': 3939, 'complain': 3940, 'crop': 3941, 'whoever': 3942, 'mumbai': 3943, 'counti': 3944, 'instashot': 3945, 'mextagram': 3946, 'samsunggalaxysmidnightblackgb': 3947, 'freddi': 3948, 'cu': 3949, 'speedi': 3950, 'bediffer': 3951, 'voicemail': 3952, 'agad': 3953, 'gaga': 3954, 'sonytv': 3955, 'dressedup': 3956, 'controversi': 3957, 'screenprotector': 3958, 'onepluson': 3959, 'linger': 3960, 'phablet': 3961, 'izzi': 3962, 'protest': 3963, 'hatemyself': 3964, 'marcjacob': 3965, 'twinagoya': 3966, 'spread': 3967, 'gayman': 3968, 'gayboy': 3969, 'teamgalaxi': 3970, 'eco': 3971, 'macsar': 3972, 'iphonei': 3973, 'rightli': 3974, 'usuck': 3975, 'junior': 3976, 'appleh': 3977, 'onthisday': 3978, 'newtv': 3979, 'justinproo': 3980, 'projectartsocieti': 3981, 'artsocieti': 3982, 'cookjk': 3983, 'fafsa': 3984, 'appleit': 3985, 'aka': 3986, 'fu': 3987, 'excid': 3988, 'plot': 3989, 'serial': 3990, 'dragon': 3991, 'lesson': 3992, 'nut': 3993, 'pump': 3994, 'skill': 3995, 'tweeterindia': 3996, 'superslowmo': 3997, 'samsungsplu': 3998, 'bestapp': 3999, 'twat': 4000, 'nonsens': 4001, 'zx': 4002, 'fourth': 4003, 'fone': 4004, 'cuddl': 4005, 'fiverr': 4006, 'byeby': 4007, 'cantwait': 4008, 'rustic': 4009, 'rust': 4010, 'tekken': 4011, 'yogap': 4012, 'romp': 4013, 'endlesssumm': 4014, 'titanium': 4015, 'nl': 4016, 'goandroid': 4017, 'third': 4018, 'ironman': 4019, 'twitchtv': 4020, 'unbeliev': 4021, 'sub': 4022, 'colorsplash': 4023, 'despicablem': 4024, 'beaboutiqu': 4025, 'raffl': 4026, 'wirelesscharg': 4027, 'applewatchsport': 4028, 'muzzl': 4029, 'pictoftheday': 4030, 'exact': 4031, 'photogrid': 4032, 'allah': 4033, 'ofcours': 4034, 'gravao': 4035, 'pacatuba': 4036, 'aovivo': 4037, 'eita': 4038, 'equipedelta': 4039, 'hdv': 4040, 'rec': 4041, 'paixaodecristo': 4042, 'thanksmom': 4043, 'deserv': 4044, 'task': 4045, 'nextgen': 4046, 'squad': 4047, 'guardian': 4048, 'suggest': 4049, 'execut': 4050, 'argu': 4051, 'swipe': 4052, 'rawagroup': 4053, 'forsal': 4054, 'flipcov': 4055, 'doutzen': 4056, 'wk': 4057, 'myman': 4058, 'tfc': 4059, 'ho': 4060, 'applegeek': 4061, 'amazonprimeday': 4062, 'bladerunn': 4063, 'visual': 4064, 'fuckpc': 4065, 'delawar': 4066, 'nowaday': 4067, 'wwe': 4068, 'realtalk': 4069, 'dawn': 4070, 'bulldog': 4071, 'igersasia': 4072, 'helpfor': 4073, 'lfl': 4074, 'qvb': 4075, 'thunderbolt': 4076, 'aso': 4077, 'ifollowback': 4078, 'arrow': 4079, 'exploretocr': 4080, 'nycphotographi': 4081, 'nycphotograph': 4082, 'westsid': 4083, 'bridg': 4084, 'qa': 4085, 'denim': 4086, 'bridesmaid': 4087, 'bend': 4088, 'colleagu': 4089, 'resiz': 4090, 'plagu': 4091, 'nerv': 4092, 'typo': 4093, 'myfamili': 4094, 'necessari': 4095, 'mondaymorn': 4096, 'miamibeach': 4097, 'beilngri': 4098, 'altmhltal': 4099, 'samsungph': 4100, 'belov': 4101, 'minimum': 4102, 'newday': 4103, 'blueski': 4104, 'specul': 4105, 'crib': 4106, 'ultraviolet': 4107, 'api': 4108, 'titl': 4109, 'unhelp': 4110, 'vh': 4111, 'oclock': 4112, 'clock': 4113, 'prove': 4114, 'untildawn': 4115, 'brake': 4116, 'preserv': 4117, 'muchlov': 4118, 'savior': 4119, 'dropbox': 4120, 'ty': 4121, 'swing': 4122, 'delight': 4123, 'funtim': 4124, 'lagfix': 4125, 'englishitalian': 4126, 'modest': 4127, 'minni': 4128, 'inkstagram': 4129, 'sonycamera': 4130, 'rxv': 4131, 'likeback': 4132, 'atlast': 4133, 'mfortphoto': 4134, 'slept': 4135, 'explicitcont': 4136, 'icrack': 4137, 'kernel': 4138, 'nois': 4139, 'gravitaion': 4140, 'pictwittercomitdloutok': 4141, 'igsg': 4142, 'justdanc': 4143, 'compact': 4144, 'fo': 4145, 'lucknow': 4146, 'salli': 4147, 'swarovski': 4148, 'charl': 4149, 'traffic': 4150, 'wcw': 4151, 'itit': 4152, 'wordphoto': 4153, 'sonic': 4154, 'gray': 4155, 'swagger': 4156, 'chicwithatwist': 4157, 'louse': 4158, 'prixhappi': 4159, 'comm': 4160, 'pepsimax': 4161, 'fiesta': 4162, 'platin': 4163, 'sweat': 4164, 'dissatisfi': 4165, 'potato': 4166, 'windowsphon': 4167, 'neo': 4168, 'inner': 4169, 'simsimi': 4170, 'kitkat': 4171, 'woohoo': 4172, 'soulmat': 4173, 'customerexperi': 4174, 'integr': 4175, 'audi': 4176, 'prosper': 4177, 'dualshock': 4178, 'minnesota': 4179, 'updateit': 4180, 'sin': 4181, 'expressyourselfi': 4182, 'soangri': 4183, 'kansa': 4184, 'hidden': 4185, 'majest': 4186, 'startupvideo': 4187, 'reduc': 4188, 'dint': 4189, 'curlyhair': 4190, 'individu': 4191, 'americanbulli': 4192, 'suewe': 4193, 'ch': 4194, 'demi': 4195, 'iphoneth': 4196, 'billion': 4197, 'diwali': 4198, 'realitycheck': 4199, 'privaci': 4200, 'hateorang': 4201, 'overnight': 4202, 'contempl': 4203, 'westpark': 4204, 'rob': 4205, 'hotyootoo': 4206, 'sonyexperia': 4207, 'raoumi': 4208, 'babyboy': 4209, 'muesli': 4210, 'editor': 4211, 'pantri': 4212, 'caf': 4213, 'yourtechcompani': 4214, 'mainten': 4215, 'korean': 4216, 'written': 4217, 'jealos': 4218, 'spider': 4219, 'commonwealth': 4220, 'absurd': 4221, 'throwback': 4222, 'iwant': 4223, 'occur': 4224, 'lithium': 4225, 'oct': 4226, 'acquisit': 4227, 'lamp': 4228, 'actorslif': 4229, 'loljk': 4230, 'indi': 4231, 'techno': 4232, 'cycl': 4233, 'extralif': 4234, 'mixandmatch': 4235, 'tlv': 4236, 'pronounc': 4237, 'lipstick': 4238, 'shortbread': 4239, 'butter': 4240, 'lush': 4241, 'outing': 4242, 'paula': 4243, 'meal': 4244, 'refresh': 4245, 'sauc': 4246, 'defin': 4247, 'roast': 4248, 'gearfit': 4249, 'douchebag': 4250, 'londonfoodi': 4251, 'laughter': 4252, 'unityd': 4253, 'promocod': 4254, 'amani': 4255, 'ofmylif': 4256, 'fullfram': 4257, 'krlek': 4258, 'cutenessoverload': 4259, 'highlight': 4260, 'ifttt': 4261, 'instafav': 4262, 'dabbal': 4263, 'bribe': 4264, 'browniepoint': 4265, 'neopren': 4266, 'houston': 4267, 'newjob': 4268, 'genius': 4269, 'omroepzeeland': 4270, 'highscor': 4271, 'lightroom': 4272, 'dreamer': 4273, 'smaller': 4274, 'larger': 4275, 'instgram': 4276, 'byeiphon': 4277, 'lag': 4278, 'lv': 4279, 'workonlin': 4280, 'rig': 4281, 'toddler': 4282, 'myboy': 4283, 'sevastopol': 4284, 'sunflow': 4285, 'pl': 4286, 'calend': 4287, 'frost': 4288, 'cantdeal': 4289, 'diningout': 4290, 'wrap': 4291, 'sharp': 4292, 'swift': 4293, 'loom': 4294, 'vatican': 4295, 'stratocast': 4296, 'guitarpractic': 4297, 'turin': 4298, 'torino': 4299, 'stage': 4300, 'nah': 4301, 'cram': 4302, 'iraq': 4303, 'tehran': 4304, 'poster': 4305, 'nick': 4306, 'reput': 4307, 'conveni': 4308, 'instragram': 4309, 'outlook': 4310, 'domin': 4311, 'vodafon': 4312, 'although': 4313, 'newmotorolamotoextndgengbsimfre': 4314, 'belkin': 4315, 'singlepictwittercomddzqcxo': 4316, 'vc': 4317, 'whirl': 4318, 'initi': 4319, 'achiev': 4320, 'androidalltheway': 4321, 'flopshow': 4322, 'coog': 4323, 'soemthin': 4324, 'snapdeal': 4325, 'oneplust': 4326, 'valencia': 4327, 'nailpolish': 4328, 'vday': 4329, 'rilakkuma': 4330, 'cadburi': 4331, 'colorphotographi': 4332, 'summertim': 4333, 'piccollag': 4334, 'otterbox': 4335, 'op': 4336, 'font': 4337, 'samsungcheerd': 4338, 'galaxypocket': 4339, 'meanwhil': 4340, 'monopoli': 4341, 'ppi': 4342, 'graduationgift': 4343, 'phonebook': 4344, 'lanc': 4345, 'peak': 4346, 'ab': 4347, 'instanow': 4348, 'callwhatsapp': 4349, 'hola': 4350, 'religion': 4351, 'underthesea': 4352, 'ariel': 4353, 'mcdonald': 4354, 'ankara': 4355, 'amjun': 4356, 'nationalpetday': 4357, 'spare': 4358, 'samsungpay': 4359, 'anchorag': 4360, 'instagr': 4361, 'amo': 4362, 'newsdict': 4363, 'snapback': 4364, 'girlboss': 4365, 'sentiment': 4366, 'murder': 4367, 'mitsubishi': 4368, 'pinch': 4369, 'scribbl': 4370, 'dictat': 4371, 'quicker': 4372, 'nationwid': 4373, 'amagetonlin': 4374, 'amagetstor': 4375, 'iphonesonli': 4376, 'stuf': 4377, 'cbc': 4378, 'maitama': 4379, 'gwarinpaest': 4380, 'redbul': 4381, 'onceuponatim': 4382, 'syke': 4383, 'bumper': 4384, 'plate': 4385, 'revert': 4386, 'washer': 4387, 'mundial': 4388, 'whistl': 4389, 'lastday': 4390, 'stuckonrepeat': 4391, 'popstar': 4392, 'partofm': 4393, 'everytim': 4394, 'abercrombi': 4395, 'bronx': 4396, 'corrupt': 4397, 'sf': 4398, 'tourism': 4399, 'illeg': 4400, 'han': 4401, 'owe': 4402, 'goofi': 4403, 'demo': 4404, 'iosbug': 4405, 'incompat': 4406, 'chloe': 4407, 'funda': 4408, 'glow': 4409, 'quoteoftheday': 4410, 'glori': 4411, 'sonyz': 4412, 'classi': 4413, 'cent': 4414, 'dissidia': 4415, 'artofportrait': 4416, 'witch': 4417, 'trackpad': 4418, 'lp': 4419, 'lowpro': 4420, 'realupgrad': 4421, 'gp': 4422, 'kay': 4423, 'demand': 4424, 'overwhelm': 4425, 'opt': 4426, 'yeay': 4427, 'hv': 4428, 'wheelbarrow': 4429, 'dominicanrepubl': 4430, 'dogsofinsta': 4431, 'galaxymini': 4432, 'bogo': 4433, 'sanrio': 4434, 'symbol': 4435, 'result': 4436, 'artphoto': 4437, 'kati': 4438, 'bet': 4439, 'revenu': 4440, 'waffl': 4441, 'legend': 4442, 'leagu': 4443, 'comedian': 4444, 'solari': 4445, 'liangliangclub': 4446, 'laser': 4447, 'instadog': 4448, 'pup': 4449, 'doggo': 4450, 'pupper': 4451, 'atxdog': 4452, 'dogsonstagram': 4453, 'dogsofaustin': 4454, 'xp': 4455, 'uptown': 4456, 'tutori': 4457, 'birmingham': 4458, 'kent': 4459, 'goog': 4460, 'thi': 4461, 'rage': 4462, 'mk': 4463, 'enhanc': 4464, 'seal': 4465, 'ysl': 4466, 'sulsel': 4467, 'makassar': 4468, 'chinatown': 4469, 'holland': 4470, 'roy': 4471, 'manx': 4472, 'idc': 4473, 'huh': 4474, 'turd': 4475, 'olloclip': 4476, 'limitededit': 4477, 'teal': 4478, 'iphonographi': 4479, 'poo': 4480, 'seattl': 4481, 'everyt': 4482, 'exot': 4483, 'signal': 4484, 'gcseresult': 4485, 'draft': 4486, 'londonlif': 4487, 'lool': 4488, 'stupidiphon': 4489, 'angrytweet': 4490, 'chip': 4491, 'walkin': 4492, 'cameron': 4493, 'coutur': 4494, 'vip': 4495, 'prevent': 4496, 'homesweethom': 4497, 'angrybird': 4498, 'teddi': 4499, 'lone': 4500, 'forum': 4501, 'snag': 4502, 'transform': 4503, 'belgium': 4504, 'prayer': 4505, 'worship': 4506, 'qualifi': 4507, 'pda': 4508, 'bk': 4509, 'comut': 4510, 'wifey': 4511, 'beani': 4512, 'overload': 4513, 'wildlif': 4514, 'typic': 4515, 'chorizo': 4516, 'lamborghini': 4517, 'tunisia': 4518, 'sidibouzid': 4519, 'camp': 4520, 'kinder': 4521, 'achi': 4522, 'document': 4523, 'cock': 4524, 'chillen': 4525, 'lmfao': 4526, 'orangutan': 4527, 'osxyosemit': 4528, 'itwork': 4529, 'flipkart': 4530, 'chaildren': 4531, 'advic': 4532, 'happili': 4533, 'arabfoto': 4534, 'delhi': 4535, 'phonestand': 4536, 'myfoto': 4537, 'au': 4538, 'beliv': 4539, 'ufo': 4540, 'dsct': 4541, 'courag': 4542, 'instamagandroid': 4543, 'smartgirl': 4544, 'vivosuck': 4545, 'perfectli': 4546, 'fortnit': 4547, 'shape': 4548, 'mullen': 4549, 'mang': 4550, 'bruin': 4551, 'alltheway': 4552, 'global': 4553, 'hardwork': 4554, 'polish': 4555, 'topshop': 4556, 'fring': 4557, 'godisgood': 4558, 'homestead': 4559, 'outlet': 4560, 'sheep': 4561, 'judg': 4562, 'plant': 4563, 'ht': 4564, 'pokemongo': 4565, 'momdad': 4566, 'tiesto': 4567, 'smil': 4568, 'islamofascist': 4569, 'instagreat': 4570, 'blame': 4571, 'truro': 4572, 'caption': 4573, 'dogslif': 4574, 'winterwonderland': 4575, 'ducki': 4576, 'vwcanada': 4577, 'pacot': 4578, 'violi': 4579, 'beastmod': 4580, 'makeupartist': 4581, 'venezuela': 4582, 'antenna': 4583, 'hateitun': 4584, 'gen': 4585, 'fifth': 4586, 'ipodclass': 4587, 'rare': 4588, 'region': 4589, 'monopol': 4590, 'anonym': 4591, 'jayz': 4592, 'grade': 4593, 'accid': 4594, 'goodmood': 4595, 'newipad': 4596, 'nashvil': 4597, 'bait': 4598, 'hustl': 4599, 'poli': 4600, 'thevoic': 4601, 'wayn': 4602, 'whop': 4603, 'mobitog': 4604, 'tempar': 4605, 'mentor': 4606, 'hong': 4607, 'captiv': 4608, 'boal': 4609, 'moal': 4610, 'cockhead': 4611, 'genuin': 4612, 'twelveskip': 4613, 'infuri': 4614, 'howev': 4615, 'sega': 4616, 'signific': 4617, 'showtim': 4618, 'regga': 4619, 'maya': 4620, 'toledo': 4621, 'duti': 4622, 'thru': 4623, 'keepup': 4624, 'highlin': 4625, 'mmmmmeeeee': 4626, 'within': 4627, 'hohoho': 4628, 'applecomput': 4629, 'johnson': 4630, 'paypal': 4631, 'hairdo': 4632, 'geisha': 4633, 'instafunni': 4634, 'glanc': 4635, 'datewithbaboo': 4636, 'solareclips': 4637, 'mdr': 4638, 'trick': 4639, 'drag': 4640, 'tale': 4641, 'conspiraci': 4642, 'floral': 4643, 'templerun': 4644, 'grandpa': 4645, 'tribal': 4646, 'pentax': 4647, 'db': 4648, 'supereasi': 4649, 'sis': 4650, 'champ': 4651, 'wherev': 4652, 'plum': 4653, 'blueey': 4654, 'cocktail': 4655, 'island': 4656, 'tueday': 4657, 'river': 4658, 'chock': 4659, 'ph': 4660, 'blowin': 4661, 'reliabl': 4662, 'overheat': 4663, 'quickli': 4664, 'republican': 4665, 'steeler': 4666, 'muffin': 4667, 'synonym': 4668, 'detach': 4669, 'yesallwomen': 4670, 'verifydjzoodel': 4671, 'ipadgam': 4672, 'crisi': 4673, 'inbbbox': 4674, 'michaeljackson': 4675, 'aswel': 4676, 'vic': 4677, 'thu': 4678, 'proclaim': 4679, 'instaguy': 4680, 'cof': 4681, 'goodfriday': 4682, 'polym': 4683, 'philadelphia': 4684, 'ghana': 4685, 'meeee': 4686, 'raw': 4687, 'broadway': 4688, 'wick': 4689, 'pastri': 4690, 'complaint': 4691, 'inshot': 4692, 'custommad': 4693, 'porsch': 4694, 'monochrom': 4695, 'px': 4696, 'mtv': 4697, 'kh': 4698, 'ballet': 4699, 'wednesdaymotiv': 4700, 'penni': 4701, 'packag': 4702, 'instamac': 4703, 'bloat': 4704, 'flamingo': 4705, 'urgh': 4706, 'cmon': 4707, 'laggi': 4708, 'regalo': 4709, 'void': 4710, 'fuckio': 4711, 'rubber': 4712, 'implement': 4713, 'relief': 4714, 'earlybiz': 4715, 'thursdaythought': 4716, 'curiou': 4717, 'cutiepi': 4718, 'theyll': 4719, 'at': 4720, 'cadillac': 4721, 'somebodi': 4722, 'local': 4723, 'pickup': 4724, 'proprietari': 4725, 'lahor': 4726, 'protool': 4727, 'rat': 4728, 'dayon': 4729, 'hardest': 4730, 'brisban': 4731, 'rainyday': 4732, 'newhair': 4733, 'pmjune': 4734, 'canin': 4735, 'petsofinstagram': 4736, 'instagramdog': 4737, 'petsagram': 4738, 'ilovemydog': 4739, 'vlogger': 4740, 'migro': 4741, 'ground': 4742, 'funki': 4743, 'humour': 4744, 'zip': 4745, 'remotework': 4746, 'kik': 4747, 'shotongalaxysplu': 4748, 'mygirlfriend': 4749, 'whyihateappl': 4750, 'brusela': 4751, 'fotodeldia': 4752, 'somewher': 4753, 'mooieluchten': 4754, 'pharrellwilliam': 4755, 'dri': 4756, 'gloomi': 4757, 'zara': 4758, 'tvmount': 4759, 'ca': 4760, 'certifi': 4761, 'worklifebal': 4762, 'travelworld': 4763, 'travelphoto': 4764, 'repli': 4765, 'ounc': 4766, 'tot': 4767, 'loner': 4768, 'jour': 4769, 'selfpic': 4770, 'iphoneus': 4771, 'popcorn': 4772, 'trigger': 4773, 'monthli': 4774, 'booklov': 4775, 'androidphon': 4776, 'elit': 4777, 'groceri': 4778, 'agneeadventur': 4779, 'fuelyourfir': 4780, 'comingsoon': 4781, 'cap': 4782, 'pundit': 4783, 'sincer': 4784, 'handphon': 4785, 'huaweiporschedesignmatedualsimgbgbhk': 4786, 'deepli': 4787, 'turtl': 4788, 'cider': 4789, 'pan': 4790, 'videooftheday': 4791, 'watchm': 4792, 'woop': 4793, 'soda': 4794, 'breez': 4795, 'marshmallow': 4796, 'kitten': 4797, 'mydubai': 4798, 'fetish': 4799, 'moron': 4800, 'blu': 4801, 'alik': 4802, 'whisper': 4803, 'uncomfort': 4804, 'quad': 4805, 'benefit': 4806, 'chaz': 4807, 'bluedarkart': 4808, 'hoo': 4809, 'bamboo': 4810, 'spen': 4811, 'onion': 4812, 'dashcam': 4813, 'rice': 4814, 'killer': 4815, 'takenwithxperia': 4816, 'joemarselo': 4817, 'jehovahscr': 4818, 'xperiapicsitalia': 4819, 'snazzi': 4820, 'hookup': 4821, 'harleydavidson': 4822, 'gromit': 4823, 'ralphlauren': 4824, 'oregon': 4825, 'cathedr': 4826, 'tn': 4827, 'racial': 4828, 'evil': 4829, 'allen': 4830, 'breezeslc': 4831, 'mlittl': 4832, 'dave': 4833, 'hav': 4834, 'ping': 4835, 'slot': 4836, 'homecook': 4837, 'latina': 4838, 'profession': 4839, 'kept': 4840, 'karli': 4841, 'misshijabimk': 4842, 'tuesdaythought': 4843, 'appleiphonegbrosegoldunlock': 4844, 'macair': 4845, 'mental': 4846, 'ski': 4847, 'macro': 4848, 'landscsp': 4849, 'selfien': 4850, 'mystyl': 4851, 'inde': 4852, 'lecco': 4853, 'elig': 4854, 'postcard': 4855, 'hatemicrosoft': 4856, 'tang': 4857, 'bestshot': 4858, 'legal': 4859, 'winnipeg': 4860, 'pubg': 4861, 'hound': 4862, 'kush': 4863, 'mainli': 4864, 'sneaker': 4865, 'bigtim': 4866, 'balanc': 4867, 'lattakia': 4868, 'jay': 4869, 'spec': 4870, 'observatoir': 4871, 'blackisbeauti': 4872, 'whi': 4873, 'donna': 4874, 'spacegrey': 4875, 'cart': 4876, 'nokiasapphirearteluxushandyphon': 4877, 'abuloui': 4878, 'pursuit': 4879, 'threat': 4880, 'cardigan': 4881, 'shopahol': 4882, 'cushion': 4883, 'scape': 4884, 'folk': 4885, 'skip': 4886, 'askzayn': 4887, 'thunderstorm': 4888, 'syrian': 4889, 'career': 4890, 'ricadi': 4891, 'capovaticano': 4892, 'arizona': 4893, 'topic': 4894, 'experiencethedreamz': 4895, 'galaxytimelin': 4896, 'almond': 4897, 'coconut': 4898, 'lovat': 4899, 'baller': 4900, 'timemachin': 4901, 'tough': 4902, 'opera': 4903, 'reunit': 4904, 'appleairpod': 4905, 'mirrorselfi': 4906, 'productplac': 4907, 'emir': 4908, 'forth': 4909, 'goodread': 4910, 'vivo': 4911, 'lace': 4912, 'monteithelgort': 4913, 'greeney': 4914, 'brought': 4915, 'hostag': 4916, 'quebec': 4917, 'otto': 4918, 'pregnant': 4919, 'chicagofoodi': 4920, 'idgaf': 4921, 'shove': 4922, 'stilllif': 4923, 'bibrav': 4924, 'il': 4925, 'reciev': 4926, 'newcastl': 4927, 'gra': 4928, 'goprohero': 4929, 'gule': 4930, 'index': 4931, 'hmmm': 4932, 'chicagofood': 4933, 'geohot': 4934, 'popart': 4935, 'trust': 4936, 'middlefing': 4937, 'correctli': 4938, 'pi': 4939, 'caramelappl': 4940, 'bid': 4941, 'glide': 4942, 'chicagodessert': 4943, 'todayatappl': 4944, 'tikedaoneplu': 4945, 'newlaptop': 4946, 'sat': 4947, 'foxandfiddl': 4948, 'leadership': 4949, 'fucktheiphon': 4950, 'jaylin': 4951, 'tinder': 4952, 'lalala': 4953, 'wilder': 4954, 'wtfappl': 4955, 'catlov': 4956, 'san': 4957, 'arm': 4958, 'eatwithcoco': 4959, 'froze': 4960, 'asot': 4961, 'giftsforh': 4962, 'applecinnamon': 4963, 'hanumanjayanti': 4964, 'villamorra': 4965, 'overwatch': 4966, 'fashionblogg': 4967, 'squareenix': 4968, 'cirebon': 4969, 'atm': 4970, 'osxmaverick': 4971, 'sxe': 4972, 'socialmediaapp': 4973, 'ft': 4974, 'mile': 4975, 'thinkenvi': 4976, 'notcool': 4977, 'googlepixel': 4978, 'hairi': 4979, 'androidapp': 4980, 'giftcard': 4981, 'fashionblog': 4982, 'excel': 4983, 'patient': 4984, 'moor': 4985, 'thumb': 4986, 'applesux': 4987, 'degre': 4988, 'hopeless': 4989, 'grimsbi': 4990, 'underway': 4991, 'androidnesia': 4992, 'blowout': 4993, 'disconnect': 4994, 'tagpracaralho': 4995, 'miso': 4996, 'steemitphotographi': 4997, 'strategi': 4998, 'lauren': 4999, 'refurb': 5000, 'greatoutdoor': 5001, 'common': 5002, 'tf': 5003, 'dealer': 5004, 'dirti': 5005, 'breno': 5006, 'allmin': 5007, 'petstagram': 5008, 'alarm': 5009, 'jumper': 5010, 'sweetdream': 5011, 'scott': 5012, 'birthdaymonth': 5013, 'noter': 5014, 'fucktard': 5015, 'polit': 5016, 'techi': 5017, 'onedirect': 5018, 'eurydic': 5019, 'flood': 5020, 'galaxysii': 5021, 'chest': 5022, 'gamescom': 5023, 'iphonewallpap': 5024, 'bella': 5025, 'gamestop': 5026, 'mushroom': 5027, 'sonrisa': 5028, 'finna': 5029, 'reg': 5030, 'thingi': 5031, 'phoneaccessori': 5032, 'sista': 5033, 'abil': 5034, 'tote': 5035, 'gayyyyy': 5036, 'gent': 5037, 'certain': 5038, 'creator': 5039, 'seek': 5040, 'keypad': 5041, 'onsi': 5042, 'gothenburg': 5043, 'gabbar': 5044, 'eer': 5045, 'fck': 5046, 'sgsii': 5047, 'naughtydog': 5048, 'playstation': 5049, 'empir': 5050, 'databas': 5051, 'pageant': 5052, 'pukk': 5053, 'solut': 5054, 'hateu': 5055, 'nj': 5056, 'hotkid': 5057, 'kl': 5058, 'livingroom': 5059, 'statenisland': 5060, 'droidlif': 5061, 'nigh': 5062, 'shiitak': 5063, 'orpheu': 5064, 'bada': 5065, 'gamerlif': 5066, 'firewir': 5067, 'goldenretriev': 5068, 'opposit': 5069, 'sassi': 5070, 'patentwar': 5071, 'defo': 5072, 'mug': 5073, 'koralia': 5074, 'thanksdad': 5075, 'deadlin': 5076, 'wreck': 5077, 'pile': 5078, 'nose': 5079, 'loan': 5080, 'backyard': 5081, 'healthylifestyl': 5082, 'likesforlik': 5083, 'forgotten': 5084, 'hatetheiphon': 5085, 'appleiphonexgbspacegrayunlock': 5086, 'londr': 5087, 'moneygrabb': 5088, 'orlando': 5089, 'confidenti': 5090, 'iyou': 5091, 'patronis': 5092, 'durdledoor': 5093, 'wtc': 5094, 'gag': 5095, 'ledtv': 5096, 'smallyoutub': 5097, 'ballerstatu': 5098, 'watson': 5099, 'gnammi': 5100, 'smirnoff': 5101, 'pictwittercomtqyucamhl': 5102, 'meantim': 5103, 'crappad': 5104, 'banner': 5105, 'dailyart': 5106, 'artoftheday': 5107, 'gamecent': 5108, 'rehobothbeach': 5109, 'iphoneprobz': 5110, 'instafollowback': 5111, 'assfuck': 5112, 'instaupload': 5113, 'usbcabl': 5114, 'phonei': 5115, 'accur': 5116, 'amd': 5117, 'jaffacak': 5118, 'justfucky': 5119, 'morningwhat': 5120, 'iphonebestphoto': 5121, 'wag': 5122, 'piti': 5123, 'graphicdesignpictwittercomfzkgxna': 5124, 'nycpictwittercomjjietelk': 5125, 'dodger': 5126, 'blakk': 5127, 'miavsfsu': 5128, 'sweetgift': 5129, 'elimi': 5130, 'getaroundit': 5131, 'ieveryth': 5132, 'ownyourmus': 5133, 'disenografico': 5134, 'twintow': 5135, 'liguria': 5136, 'venecia': 5137, 'pictwittercomgghkyjbrl': 5138, 'pp': 5139, 'lifeproofpet': 5140, 'hiss': 5141, 'jill': 5142, 'holm': 5143, 'twa': 5144, 'depart': 5145, 'gingerroot': 5146, 'cranemachin': 5147, 'killthetim': 5148, 'avocado': 5149, 'flax': 5150, 'ghant': 5151, 'sorus': 5152, 'iphoneday': 5153, 'kapamilya': 5154, 'academ': 5155, 'mutt': 5156, 'almonddream': 5157, 'beacharcad': 5158, 'frontcam': 5159, 'buynow': 5160, 'samsungpictwittercommfokxpwlp': 5161, 'laura': 5162, 'galaxyspictwittercomizqenkiv': 5163, 'campanil': 5164, 'debut': 5165, 'rizetka': 5166, 'lea': 5167, 'syncronis': 5168, 'vg': 5169, 'intelenet': 5170, 'wednesdaywisdom': 5171, 'dip': 5172, 'noworri': 5173, 'instantfollow': 5174, 'pictwittercomcmsbqp': 5175, 'helovesm': 5176, 'ultrasound': 5177, 'palmspr': 5178, 'wantit': 5179, 'quentavur': 5180, 'pictwittercomidrhvyxcbi': 5181, 'navi': 5182, 'missingpina': 5183, 'quid': 5184, 'scumbagappl': 5185, 'micr': 5186, 'feast': 5187, 'pictwittercomwwfjuxg': 5188, 'bezzi': 5189, 'boycottappl': 5190, 'spous': 5191, 'tripod': 5192, 'rehears': 5193, 'themartian': 5194, 'brianmay': 5195, 'jumanji': 5196, 'swerv': 5197, 'boardgam': 5198, 'clari': 5199, 'kuyakim': 5200, 'cybermondayd': 5201, 'ontheblog': 5202, 'photogen': 5203, 'urbanplac': 5204, 'critic': 5205, 'ideaspictwittercomvgysezup': 5206, 'unrespons': 5207, 'skrillex': 5208, 'interstellar': 5209, 'lololololololllll': 5210, 'mileston': 5211, 'lifeofpi': 5212, 'troubleshoot': 5213, 'bandel': 5214, 'billi': 5215, 'googlewinsagain': 5216, 'narrow': 5217, 'dumbupd': 5218, 'reven': 5219, 'wound': 5220, 'needtochang': 5221, 'syncedeven': 5222, 'itsnot': 5223, 'respondingthat': 5224, 'tshirtspictwittercomxxqygqybdp': 5225, 'macdraw': 5226, 'xlarg': 5227, 'imstagram': 5228, 'beautif': 5229, 'intechbb': 5230, 'wiediasetiani': 5231, 'uhd': 5232, 'disgustingli': 5233, 'bopictwittercomusmvsydv': 5234, 'galaxycrew': 5235, 'worldpictwittercomoflakrzzg': 5236, 'meter': 5237, 'eeeekkkkk': 5238, 'rockingtherazernowpictwittercomjtvnxbpb': 5239, 'yah': 5240, 'ting': 5241, 'longd': 5242, 'alchemi': 5243, 'yamaha': 5244, 'nang': 5245, 'teamu': 5246, 'pictwittercomvspiasqpgi': 5247, 'iamhappi': 5248, 'goodi': 5249, 'nutela': 5250, 'iphonepictwittercomvfzlcrolx': 5251, 'hongkong': 5252, 'rtpictwittercomhrvpifp': 5253, 'pandahaluha': 5254, 'lumialov': 5255, 'pictwittercomrkwxptzwn': 5256, 'mailbag': 5257, 'weve': 5258, 'tvpatrol': 5259, 'sticki': 5260, 'decenc': 5261, 'amazond': 5262, 'pcisgay': 5263, 'whattoread': 5264, 'instasweet': 5265, 'iliketohashtag': 5266, 'analoglondon': 5267, 'baii': 5268, 'sicilia': 5269, 'oldso': 5270, 'goaloflif': 5271, 'bossman': 5272, 'officespac': 5273, 'pictwittercomwwzskz': 5274, 'calayerlayerusescoreimagefilt': 5275, 'concertinad': 5276, 'welovesamsung': 5277, 'glitch': 5278, 'butstilllovey': 5279, 'amazonpictwittercomwthbgurpw': 5280, 'canonc': 5281, 'chandeli': 5282, 'phonecess': 5283, 'necessitiescar': 5284, 'rag': 5285, 'cyclistlif': 5286, 'whydoihaveaniphon': 5287, 'lane': 5288, 'transport': 5289, 'maroc': 5290, 'fonzi': 5291, 'ehi': 5292, 'sbronzidifonzi': 5293, 'limitless': 5294, 'shae': 5295, 'larryhwan': 5296, 'cyclist': 5297, 'ala': 5298, 'nevergiveup': 5299, 'masti': 5300, 'instababi': 5301, 'backord': 5302, 'jokingilovey': 5303, 'casablancapictwittercomqowmcoj': 5304, 'borderless': 5305, 'bigey': 5306, 'ross': 5307, 'mammasboy': 5308, 'mason': 5309, 'squirm': 5310, 'tyga': 5311, 'detroy': 5312, 'oo': 5313, 'igpictwittercomklivxicp': 5314, 'againhop': 5315, 'yeahhh': 5316, 'pictwittercomblqrjukan': 5317, 'jazz': 5318, 'sausagesandwich': 5319, 'porkandappl': 5320, 'fisherpric': 5321, 'fisherpricepictwittercomppaeihvv': 5322, 'workhardplayhard': 5323, 'suchb': 5324, 'itwantithaveit': 5325, 'dari': 5326, 'stallingborough': 5327, 'fblogger': 5328, 'yessss': 5329, 'coltd': 5330, 'cavit': 5331, 'bluedarkartcopyright': 5332, 'perfectpictwittercomhhnzggylb': 5333, 'couldntlivewithoutit': 5334, 'myphonesmybabi': 5335, 'peaceout': 5336, 'whateverthefuck': 5337, 'ronni': 5338, 'macaw': 5339, 'lynx': 5340, 'lab': 5341, 'fitpictwittercomehcxeeqp': 5342, 'torn': 5343, 'gentli': 5344, 'fro': 5345, 'designingforalien': 5346, 'contribut': 5347, 'matchesmyoutfit': 5348, 'irini': 5349, 'allcountriesrockwit': 5350, 'againpictwittercomyjawvltcc': 5351, 'preset': 5352, 'smartv': 5353, 'midwest': 5354, 'tout': 5355, 'rendent': 5356, 'fonction': 5357, 'nouvel': 5358, 'twitchstream': 5359, 'stophashtagginglikethi': 5360, 'twitchaffili': 5361, 'ideair': 5362, 'smallstep': 5363, 'inear': 5364, 'christianlouboutin': 5365, 'cecream': 5366, 'burrough': 5367, 'pictwittercomelowaghif': 5368, 'kesha': 5369, 'fruitsalad': 5370, 'riri': 5371, 'juicycoutur': 5372, 'pictwittercomsowpoyn': 5373, 'canyon': 5374, 'calilif': 5375, 'jefferycampbel': 5376, 'instafashion': 5377, 'oohellopictwittercomsqtuzrlt': 5378, 'srk': 5379, 'needsmoarpc': 5380, 'peso': 5381, 'nildosalvatori': 5382, 'pinkmonday': 5383, 'cellulit': 5384, 'evian': 5385, 'truefruit': 5386, 'miniondav': 5387, 'peng': 5388, 'bleed': 5389, 'slide': 5390, 'beatspro': 5391, 'emo': 5392, 'rhineston': 5393, 'zealand': 5394, 'novalueformoney': 5395, 'guyz': 5396, 'gcu': 5397, 'thursdaypictwittercomvytjbtv': 5398, 'glimsp': 5399, 'maclif': 5400, 'veganpictwittercomaftayddv': 5401, 'einhorn': 5402, 'identifi': 5403, 'mid': 5404, 'foldabl': 5405, 'worstdevic': 5406, 'perfekt': 5407, 'noproblempictwittercomhxpierjm': 5408, 'outif': 5409, 'onelessbitchyperson': 5410, 'superhero': 5411, 'newmusicfriday': 5412, 'sweather': 5413, 'workiphon': 5414, 'pvz': 5415, 'gardenwarfar': 5416, 'superpow': 5417, 'patten': 5418, 'bankrupt': 5419, 'mnszelmerlw': 5420, 'pictwittercomvkcataugw': 5421, 'notphys': 5422, 'eatoncent': 5423, 'dnb': 5424, 'pictwittercommlxqeqfyo': 5425, 'dwnld': 5426, 'friendspictwittercomvtqukxluq': 5427, 'stillth': 5428, 'naturepictwittercombhsfsstn': 5429, 'menor': 5430, 'bullybroth': 5431, 'shittycustomerservic': 5432, 'gssuck': 5433, 'papitasfrita': 5434, 'meaningfulquot': 5435, 'watermelo': 5436, 'vscom': 5437, 'riceand': 5438, 'pictwittercomoshxuam': 5439, 'pictwittercomffoctgu': 5440, 'dearli': 5441, 'blasss': 5442, 'bristol': 5443, 'gurrr': 5444, 'sag': 5445, 'pictwittercomynvyewb': 5446, 'iman': 5447, 'revers': 5448, 'hero': 5449, 'biolink': 5450, 'realcool': 5451, 'wallac': 5452, 'teampinch': 5453, 'bigbangtheori': 5454, 'teamfollow': 5455, 'crutchfield': 5456, 'textgram': 5457, 'pictwittercomdpfrqemfu': 5458, 'scooter': 5459, 'wallaceandgromit': 5460, 'dragonballz': 5461, 'mortalkombat': 5462, 'uspictwittercomwdikuhcnc': 5463, 'shaggi': 5464, 'girltalk': 5465, 'blockbust': 5466, 'nyv': 5467, 'savesouthbank': 5468, 'skateboard': 5469, 'rugman': 5470, 'pictwittercomtuuktqzrl': 5471, 'senat': 5472, 'rumknuckl': 5473, 'topman': 5474, 'instaaddict': 5475, 'instafashio': 5476, 'bighop': 5477, 'changeitback': 5478, 'allprofit': 5479, 'handyhl': 5480, 'levi': 5481, 'yokdal': 5482, 'yeeh': 5483, 'notcri': 5484, 'primebook': 5485, 'thrue': 5486, 'iosif': 5487, 'glitzer': 5488, 'katespad': 5489, 'preggi': 5490, 'pictwittercomznowxgyup': 5491, 'instadailypictwittercomwfewciox': 5492, 'earlystil': 5493, 'greymild': 5494, 'sundaygalor': 5495, 'streetfight': 5496, 'sleepmod': 5497, 'fulfil': 5498, 'select': 5499, 'maho': 5500, 'noir': 5501, 'asokoro': 5502, 'dept': 5503, 'samsungj': 5504, 'superdup': 5505, 'lieb': 5506, 'godthank': 5507, 'itampon': 5508, 'facepictwittercomkhyuufr': 5509, 'phonephotographi': 5510, 'tattooedgi': 5511, 'roffl': 5512, 'sunsetp': 5513, 'scant': 5514, 'linz': 5515, 'bosnian': 5516, 'dongl': 5517, 'abareta': 5518, 'transitoo': 5519, 'zachari': 5520, 'bharat': 5521, 'peoplepictwittercomyfxxasui': 5522, 'militaryparad': 5523, 'twi': 5524, 'cyntia': 5525, 'timberland': 5526, 'infus': 5527, 'thansk': 5528, 'darthvad': 5529, 'timber': 5530, 'erinohagainhair': 5531, 'yompott': 5532, 'kome': 5533, 'africaboot': 5534, 'starv': 5535, 'seenoevilimag': 5536, 'trier': 5537, 'travelpictwittercomedryileca': 5538, 'nikkorpictwittercomyetsust': 5539, 'teehe': 5540, 'pictwittercomgchijytzg': 5541, 'pictwittercomorvsvbh': 5542, 'apparatu': 5543, 'natgeoyourshot': 5544, 'analog': 5545, 'bowdapr': 5546, 'bowlov': 5547, 'karmavazquez': 5548, 'loadsa': 5549, 'onethousandyuan': 5550, 'kv': 5551, 'biotherm': 5552, 'femm': 5553, 'circl': 5554, 'authoritypictwittercomdaewwrri': 5555, 'schiller': 5556, 'porfin': 5557, 'wuuuoopp': 5558, 'pictwittercomdxvnzoy': 5559, 'hookbait': 5560, 'teresa': 5561, 'domain': 5562, 'reconsid': 5563, 'versionwould': 5564, 'pinkberri': 5565, 'todayani': 5566, 'nuvar': 5567, 'loveabl': 5568, 'versu': 5569, 'insert': 5570, 'pictwittercomjhuumeirrc': 5571, 'madrasday': 5572, 'smapictwittercomxqnsbfi': 5573, 'imaginejustic': 5574, 'giudic': 5575, 'bru': 5576, 'redo': 5577, 'nugz': 5578, 'mediapictwittercomxudvmn': 5579, 'mylittlebabi': 5580, 'firstpres': 5581, 'firstlov': 5582, 'afghan': 5583, 'tangtang': 5584, 'jewelri': 5585, 'pho': 5586, 'mspetuniac': 5587, 'compil': 5588, 'pictwittercomswfmdgz': 5589, 'microwav': 5590, 'crusher': 5591, 'baromet': 5592, 'satsuma': 5593, 'specialedit': 5594, 'dlz': 5595, 'blake': 5596, 'pictwittercomebaozhk': 5597, 'pictwittercomnxexledcz': 5598, 'laptopskin': 5599, 'vivid': 5600, 'itunesisabitch': 5601, 'brunch': 5602, 'andarilho': 5603, 'androidfamili': 5604, 'ahhhhhhh': 5605, 'superkawaii': 5606, 'upliftingdesign': 5607, 'ooh': 5608, 'enjoyingmyself': 5609, 'pictwittercomcvfqowx': 5610, 'terrif': 5611, 'eventu': 5612, 'bluewat': 5613, 'strandcustom': 5614, 'porai': 5615, 'pictwittercomalabayac': 5616, 'applepictwittercomkqjyojnqn': 5617, 'slit': 5618, 'encontreiporai': 5619, 'highbun': 5620, 'mochilando': 5621, 'bowbun': 5622, 'livid': 5623, 'ipadpictwittercomwctqerxmg': 5624, 'binari': 5625, 'traid': 5626, 'forex': 5627, 'dispatch': 5628, 'digalindaprint': 5629, 'handpaint': 5630, 'sade': 5631, 'protip': 5632, 'redirect': 5633, 'electr': 5634, 'twwitter': 5635, 'guesswork': 5636, 'pictwittercomewtofgh': 5637, 'sn': 5638, 'tom': 5639, 'plantbas': 5640, 'hydrat': 5641, 'lastfm': 5642, 'sinanew': 5643, 'jobpounc': 5644, 'remix': 5645, 'movingon': 5646, 'friendspictwittercomakuzijr': 5647, 'lslpictwittercomgkpcbmf': 5648, 'watermellon': 5649, 'birthdayboy': 5650, 'yumyum': 5651, 'instadelici': 5652, 'instasexi': 5653, 'meeeee': 5654, 'thame': 5655, 'askquest': 5656, 'cecimasonartpictwittercomkwnmcghna': 5657, 'flowerpow': 5658, 'preppi': 5659, 'monogram': 5660, 'pictwittercomgzvhkgf': 5661, 'coastal': 5662, 'ipodshuffl': 5663, 'zurich': 5664, 'hitpictwittercomsyeqivxxzz': 5665, 'hone': 5666, 'tbf': 5667, 'justmyluck': 5668, 'abi': 5669, 'unjail': 5670, 'onlineagain': 5671, 'luci': 5672, 'ppap': 5673, 'instagramworthi': 5674, 'servisa': 5675, 'nazaj': 5676, 'pinappl': 5677, 'moj': 5678, 'prisel': 5679, 'penpinappleapplepen': 5680, 'mouss': 5681, 'pictwittercomiaejiqevr': 5682, 'starkinc': 5683, 'happinessi': 5684, 'kregjigproject': 5685, 'opo': 5686, 'swedenpictwittercomtdwxbyfn': 5687, 'yeapp': 5688, 'notw': 5689, 'honesti': 5690, 'shatterproof': 5691, 'chairman': 5692, 'indianpictwittercommmjsmf': 5693, 'goodhairday': 5694, 'instamobil': 5695, 'hippo': 5696, 'derrenbrown': 5697, 'bluepictwittercompoftnsssrl': 5698, 'koncno': 5699, 'goatchees': 5700, 'heartless': 5701, 'twoweek': 5702, 'nexus': 5703, 'bimbofelic': 5704, 'drwho': 5705, 'snowday': 5706, 'viterbo': 5707, 'froyolif': 5708, 'centro': 5709, 'polyphoni': 5710, 'andthrough': 5711, 'storico': 5712, 'bq': 5713, 'lune': 5714, 'rie': 5715, 'cambium': 5716, 'ontop': 5717, 'worker': 5718, 'gettingold': 5719, 'mailonlin': 5720, 'whiteheadphon': 5721, 'califo': 5722, 'fuckyeah': 5723, 'pictwittercomdtaxttip': 5724, 'outflank': 5725, 'chuf': 5726, 'armani': 5727, 'mxvsatv': 5728, 'dine': 5729, 'purplepink': 5730, 'beet': 5731, 'bwahaha': 5732, 'pictwittercomcbwrhkc': 5733, 'stark': 5734, 'nero': 5735, 'selfiepictwittercomqfzwvrqonj': 5736, 'robin': 5737, 'portugues': 5738, 'xtianta': 5739, 'macaddict': 5740, 'manchesterbe': 5741, 'rxiii': 5742, 'hatch': 5743, 'gimmegimm': 5744, 'listenrecordlearn': 5745, 'district': 5746, 'backforward': 5747, 'druhil': 5748, 'screwyoupictwittercomyapgybhon': 5749, 'wft': 5750, 'dontcar': 5751, 'photoscavengerhunt': 5752, 'autumnpictwittercomomwshikrx': 5753, 'indiegamedev': 5754, 'mrng': 5755, 'hardworkpictwittercomgftaebx': 5756, 'lipictwittercomlncxuvfqyu': 5757, 'moodmonday': 5758, 'igersparma': 5759, 'nexrl': 5760, 'pictwittercommuxywcolqu': 5761, 'scruff': 5762, 'trim': 5763, 'lonelyplanet': 5764, 'pongal': 5765, 'pictwittercomxqdlcihah': 5766, 'slightli': 5767, 'pswhite': 5768, 'confid': 5769, 'samsungdontcar': 5770, 'pictwittercomdcxfslf': 5771, 'tradein': 5772, 'whaddup': 5773, 'littletokyo': 5774, 'spiritpunk': 5775, 'newgameswelov': 5776, 'mustcreat': 5777, 'pictwittercomhbtxrucg': 5778, 'onepluspictwittercomgpquhlcx': 5779, 'iosx': 5780, 'drown': 5781, 'itatak': 5782, 'parodi': 5783, 'knight': 5784, 'ollo': 5785, 'itselfhow': 5786, 'heck': 5787, 'madewithov': 5788, 'bestofov': 5789, 'graphicdesignerspictwittercompqowsa': 5790, 'persist': 5791, 'notch': 5792, 'izzigadget': 5793, 'photolif': 5794, 'topnotch': 5795, 'banappl': 5796, 'drun': 5797, 'playnow': 5798, 'idist': 5799, 'chief': 5800, 'moet': 5801, 'instrument': 5802, 'inphon': 5803, 'carr': 5804, 'boanoit': 5805, 'backoninstagram': 5806, 'prettypictwittercombsvarrnb': 5807, 'polyvorestyl': 5808, 'stckle': 5809, 'favor': 5810, 'td': 5811, 'alwayslost': 5812, 'spike': 5813, 'giveawaypictwittercomsnwuoasr': 5814, 'upsess': 5815, 'grazi': 5816, 'lslpictwittercomaueumnu': 5817, 'pictwittercomaleebciu': 5818, 'nailsbynetti': 5819, 'hotguy': 5820, 'badpictwittercomhuofnjiuo': 5821, 'kyoto': 5822, 'cutecas': 5823, 'mela': 5824, 'fucki': 5825, 'familylov': 5826, 'qx': 5827, 'sheesh': 5828, 'pictwittercomizjgzpeyhl': 5829, 'trillion': 5830, 'lens': 5831, 'pictwittercomkrmipxyh': 5832, 'familyday': 5833, 'resistantwork': 5834, 'playmemori': 5835, 'mirrorlessgeek': 5836, 'rambl': 5837, 'resent': 5838, 'whosdi': 5839, 'prettiest': 5840, 'elev': 5841, 'blackboy': 5842, 'kingeazzi': 5843, 'haithamsadon': 5844, 'simultan': 5845, 'yearold': 5846, 'manlybeach': 5847, 'tanksfruit': 5848, 'breda': 5849, 'shellybeach': 5850, 'eiffeltow': 5851, 'kinkakuji': 5852, 'techfreak': 5853, 'francepictwittercomclquqb': 5854, 'manli': 5855, 'samsunggalaxyiiii': 5856, 'fragil': 5857, 'nonrespons': 5858, 'refer': 5859, 'ropetini': 5860, 'hawaiian': 5861, 'shelli': 5862, 'iphonelaunch': 5863, 'iphonequest': 5864, 'pud': 5865, 'igersph': 5866, 'igerspina': 5867, 'impiss': 5868, 'blingi': 5869, 'fibourk': 5870, 'coustommad': 5871, 'showmeyour': 5872, 'pictwittercombhdnfnj': 5873, 'xperiaxz': 5874, 'bagel': 5875, 'prone': 5876, 'bebett': 5877, 'chrismuso': 5878, 'vizo': 5879, 'jeaj': 5880, 'headshot': 5881, 'badkam': 5882, 'shelf': 5883, 'barbi': 5884, 'xperiasl': 5885, 'trash': 5886, 'd': 5887, 'dejeanjon': 5888, 'bryce': 5889, 'beautiful': 5890, 'phoneproblem': 5891, 'aplacetol': 5892, 'needtobuyanewlaptop': 5893, 'actitudpositiva': 5894, 'pictwittercomyjtpkkfmc': 5895, 'finali': 5896, 'subject': 5897, 'calibr': 5898, 'exposur': 5899, 'twitreaddo': 5900, 'daypictwittercomeyqubeadl': 5901, 'alwaysomethingbiggerandbett': 5902, 'gmornin': 5903, 'thinkyoum': 5904, 'guerrero': 5905, 'pictwittercombbtoxxhakw': 5906, 'dsxl': 5907, 'robber': 5908, 'aurora': 5909, 'sas': 5910, 'altruism': 5911, 'olymp': 5912, 'maintain': 5913, 'ottopug': 5914, 'brighter': 5915, 'inaccur': 5916, 'wirelesscarri': 5917, 'donor': 5918, 'sperm': 5919, 'spectrum': 5920, 'pictwittercomikrxbdr': 5921, 'pictwittercomdzunjndm': 5922, 'muah': 5923, 'vast': 5924, 'employ': 5925, 'tiger': 5926, 'magenta': 5927, 'bonnet': 5928, 'neverwillibuy': 5929, 'rha': 5930, 'brief': 5931, 'biden': 5932, 'weatherapp': 5933, 'pictwittercomwjzvcji': 5934, 'angkut': 5935, 'samsunga': 5936, 'museum': 5937, 'sandyprob': 5938, 'nowifiathom': 5939, 'sooooooo': 5940, 'postureo': 5941, 'nowstil': 5942, 'oldnew': 5943, 'whoneedsinnov': 5944, 'fslc': 5945, 'trinidad': 5946, 'maypictwittercomfvixekudo': 5947, 'coresystem': 5948, 'minenow': 5949, 'newstv': 5950, 'notgivinga': 5951, 'buenfin': 5952, 'winki': 5953, 'simplifi': 5954, 'noregret': 5955, 'ordinateur': 5956, 'nosleep': 5957, 'pictwittercomvnilmvswi': 5958, 'newrdinateur': 5959, 'clint': 5960, 'eastwood': 5961, 'protectmyprivaci': 5962, 'tradinginmyandroid': 5963, 'twfree': 5964, 'novi': 5965, 'infront': 5966, 'mypic': 5967, 'syncadd': 5968, 'woohooo': 5969, 'expand': 5970, 'besteld': 5971, 'friendswithbenefit': 5972, 'sorrybutbyebyenokia': 5973, 'welp': 5974, 'pictwittercomynplssth': 5975, 'stl': 5976, 'prouduncl': 5977, 'pictwittercomdcxrxazi': 5978, 'nephewlov': 5979, 'godson': 5980, 'updateiphon': 5981, 'stloui': 5982, 'pictwittercomcptnvkrgv': 5983, 'addon': 5984, 'dragonborn': 5985, 'cast': 5986, 'bono': 5987, 'itunesrap': 5988, 'bbb': 5989, 'halamadrid': 5990, 'fcb': 5991, 'pictwittercomwrcybtrgt': 5992, 'ormskirk': 5993, 'trendingnow': 5994, 'formbi': 5995, 'lancashirepictwittercomwpjegohl': 5996, 'boomerang': 5997, 'ahahahaha': 5998, 'maclifepictwittercomjyuffov': 5999, 'appreview': 6000, 'preston': 6001, 'fixmyscreen': 6002, 'nightspictwittercommeymjeqs': 6003, 'throat': 6004, 'natura': 6005, 'skyrim': 6006, 'cunt': 6007, 'pictwittercompmisdvdp': 6008, 'nexttim': 6009, 'verymuch': 6010, 'yourfirsttweet': 6011, 'webo': 6012, 'palmdi': 6013, 'sstinkybad': 6014, 'downgaurd': 6015, 'aud': 6016, 'mpl': 6017, 'youiphon': 6018, 'summerpictwittercomxxlzywpi': 6019, 'pictwittercomtjkmoksdt': 6020, 'pastav': 6021, 'foodblog': 6022, 'coresuit': 6023, 'bloggerlif': 6024, 'notworthit': 6025, 'sapb': 6026, 'macaroni': 6027, 'pictwittercomphznlzpgi': 6028, 'preach': 6029, 'welovethecloud': 6030, 'conterfeit': 6031, 'puertorico': 6032, 'mahindra': 6033, 'anand': 6034, 'foodforthought': 6035, 'glasgowpictwittercomoghzqsgsp': 6036, 'letsfacer': 6037, 'lostintransl': 6038, 'ippp': 6039, 'yujujiioioo': 6040, 'jamesbond': 6041, 'notinsur': 6042, 'arrrrrrgggggggggggg': 6043, 'pictwittercomjmmtldxzwk': 6044, 'watchdog': 6045, 'ubisoft': 6046, 'midnight': 6047, 'thisappl': 6048, 'instadrink': 6049, 'samsunggalaxytab': 6050, 'pictwittercomvmuepecn': 6051, 'thakyousomuchdad': 6052, 'yeehoo': 6053, 'secretservic': 6054, 'badtim': 6055, 'androidrul': 6056, 'silhouetpictwittercomdnoenbcc': 6057, 'soi': 6058, 'sikhi': 6059, 'tiiiimmmeeee': 6060, 'jo': 6061, 'blend': 6062, 'lookdia': 6063, 'wwwwwiiiiiiiiiii': 6064, 'dylan': 6065, 'nativeamerican': 6066, 'butyourmylif': 6067, 'humboldt': 6068, 'andim': 6069, 'meansi': 6070, 'reformat': 6071, 'echobox': 6072, 'sikh': 6073, 'bluetoothspeak': 6074, 'repostpictwittercomsvuzmt': 6075, 'wwwxlradioca': 6076, 'dugan': 6077, 'keertan': 6078, 'pictwittercomjbckxcauh': 6079, 'gurbani': 6080, 'impuls': 6081, 'devot': 6082, 'pictwittercomzvgbxciqwk': 6083, 'crispi': 6084, 'pictwittercomueqmfnkd': 6085, 'foodart': 6086, 'cming': 6087, 'fsck': 6088, 'pictwittercomirjoqnij': 6089, 'abscbn': 6090, 'ffinstagood': 6091, 'baker': 6092, 'sfo': 6093, 'sanfo': 6094, 'pictwittercommgcnpxym': 6095, 'ffinstagramhub': 6096, 'ffiger': 6097, 'ffiphonesia': 6098, 'pictwittercomoqbwcrc': 6099, 'nomorepati': 6100, 'ankuriview': 6101, 'pictwittercomiyynadgf': 6102, 'capturedbymyey': 6103, 'vinefam': 6104, 'facialhair': 6105, 'goodcustomerservic': 6106, 'lmbo': 6107, 'boxerdog': 6108, 'rainydayz': 6109, 'lapetiterobenoir': 6110, 'guerlain': 6111, 'cleaner': 6112, 'truestat': 6113, 'feelinggood': 6114, 'splashpictwittercomxfleosbi': 6115, 'rainyweath': 6116, 'spouseth': 6117, 'luv': 6118, 'follof': 6119, 'umbrella': 6120, 'puddl': 6121, 'sumu': 6122, 'elseth': 6123, 'whisk': 6124, 'remak': 6125, 'solar': 6126, 'powerbait': 6127, 'michaeljordan': 6128, 'zj': 6129, 'sperri': 6130, 'passionpictwittercomyqhbrchj': 6131, 'barbershop': 6132, 'draank': 6133, 'worm': 6134, 'missedy': 6135, 'fush': 6136, 'usernam': 6137, 'harbour': 6138, 'wtoo': 6139, 'creditcard': 6140, 'gearapp': 6141, 'balker': 6142, 'dancerpictwittercomdjkcwjtyr': 6143, 'pictwittercomccceppa': 6144, 'colorimag': 6145, 'pictwittercomchlbyav': 6146, 'funer': 6147, 'revinethi': 6148, 'variou': 6149, 'arduou': 6150, 'condit': 6151, 'spictwittercomuvgvulbrz': 6152, 'salamat': 6153, 'thewitt': 6154, 'westwitt': 6155, 'dafuq': 6156, 'playhard': 6157, 'blind': 6158, 'appleboycott': 6159, 'beacus': 6160, 'nicehardwar': 6161, 'southbeach': 6162, 'sonyalphaclub': 6163, 'olhr': 6164, 'zeykermutluson': 6165, 'jennif': 6166, 'hewitt': 6167, 'suicid': 6168, 'kuala': 6169, 'lumpur': 6170, 'trendingtop': 6171, 'ssl': 6172, 'unsaf': 6173, 'regard': 6174, 'wbb': 6175, 'onlineshoppin': 6176, 'digitalinfluenc': 6177, 'dreamcamera': 6178, 'courtship': 6179, 'staystrong': 6180, 'instamaz': 6181, 'freepress': 6182, 'nolan': 6183, 'darksid': 6184, 'crazysunset': 6185, 'sighhh': 6186, 'millionth': 6187, 'pictwittercomtfsmlmbej': 6188, 'firsthand': 6189, 'photowalk': 6190, 'prtvseattl': 6191, 'scotland': 6192, 'alphaariii': 6193, 'sonyfamili': 6194, 'youth': 6195, 'dogso': 6196, 'gayyyyyi': 6197, 'sunsetsnip': 6198, 'seapictwittercomuhykmjpi': 6199, 'digitalmarketingpictwittercomksyyeiknkd': 6200, 'historian': 6201, 'lien': 6202, 'aeon': 6203, 'paean': 6204, 'stayposit': 6205, 'congratz': 6206, 'panama': 6207, 'didirealysaythat': 6208, 'routin': 6209, 'stringchees': 6210, 'mochaccino': 6211, 'falta': 6212, 'rioolymp': 6213, 'sunsethunt': 6214, 'stat': 6215, 'aisl': 6216, 'kickoff': 6217, 'surfer': 6218, 'musiclif': 6219, 'electronicmus': 6220, 'musicismylif': 6221, 'musicproduct': 6222, 'pictwittercombgdnkkxub': 6223, 'notthebusi': 6224, 'tiredandpissedoff': 6225, 'anticompetit': 6226, 'beautifuldestin': 6227, 'crown': 6228, 'beachlif': 6229, 'sunsetlov': 6230, 'pictwittercomodjwjigb': 6231, 'eclips': 6232, 'wohoooo': 6233, 'kaw': 6234, 'hypebeast': 6235, 'thrown': 6236, 'reckon': 6237, 'vodacom': 6238, 'musicianpictwittercomyqkhxvp': 6239, 'amaishi': 6240, 'bearcas': 6241, 'mustbebonustim': 6242, 'pictwittercomsqvokdi': 6243, 'enjoythemo': 6244, 'pictwittercomhtjjoz': 6245, 'pictwittercomtyygilhq': 6246, 'zhitomir': 6247, 'zhytomyr': 6248, 'covergirl': 6249, 'peretti': 6250, 'princesspeach': 6251, 'hatetechnolog': 6252, 'yodona': 6253, 'uncomfi': 6254, 'frustratingconfus': 6255, 'phish': 6256, 'clap': 6257, 'meri': 6258, 'viviana': 6259, 'pictwittercomtyaizfk': 6260, 'ihateupd': 6261, 'meloco': 6262, 'sonyapictwittercomkucnsgdjh': 6263, 'parenthood': 6264, 'wallmount': 6265, 'whimsic': 6266, 'pinkpictwittercomxnqbvk': 6267, 'mario': 6268, 'solareclipseselfi': 6269, 'webshop': 6270, 'nz': 6271, 'mangawhai': 6272, 'katchafir': 6273, 'jaihoon': 6274, 'firstworldpain': 6275, 'inferiortech': 6276, 'crackdown': 6277, 'mahztravel': 6278, 'pictwittercometxzaeo': 6279, 'weee': 6280, 'sist': 6281, 'geminian': 6282, 'instandroid': 6283, 'bicycl': 6284, 'kiwimus': 6285, 'dub': 6286, 'erhm': 6287, 'cupertino': 6288, 'medicom': 6289, 'hoe': 6290, 'jjchalleng': 6291, 'dickhead': 6292, 'trayvon': 6293, 'nigger': 6294, 'ie': 6295, 'douch': 6296, 'rantpictwittercomwlhnexnu': 6297, 'bravo': 6298, 'pictwittercomckojiobh': 6299, 'xz': 6300, 'sensi': 6301, 'takemeout': 6302, 'enorm': 6303, 'pictwittercomqplrxhex': 6304, 'babysoon': 6305, 'themal': 6306, 'pictwittercommkakmvasn': 6307, 'hosepictwittercomkjaygjyo': 6308, 'overh': 6309, 'playbackseri': 6310, 'iphopictwittercomdbesmt': 6311, 'youfearspear': 6312, 'bestdayev': 6313, 'ilovemustard': 6314, 'handbag': 6315, 'unabl': 6316, 'rss': 6317, 'backbon': 6318, 'strength': 6319, 'getonmynerv': 6320, 'pictwittercomnexamacap': 6321, 'uniqlo': 6322, 'youpictwittercomevutcumzk': 6323, 'pictwittercomjvtnavd': 6324, 'spiaggiadeltonopictwittercomuxyvyeg': 6325, 'thevoicefinal': 6326, 'icsolut': 6327, 'basicsmtl': 6328, 'craig': 6329, 'techgindia': 6330, 'oxfordstreet': 6331, 'mogul': 6332, 'parker': 6333, 'imamartist': 6334, 'shred': 6335, 'mustard': 6336, 'snacktim': 6337, 'dpmg': 6338, 'kong': 6339, 'passionpictwittercomqlxyktw': 6340, 'chemistri': 6341, 'tallyweijl': 6342, 'becuas': 6343, 'vgv': 6344, 'eng': 6345, 'cupel': 6346, 'snowwatsom': 6347, 'pictwittercomjnlmccax': 6348, 'afterwork': 6349, 'cater': 6350, 'youi': 6351, 'lungo': 6352, 'simonlevelt': 6353, 'pijnenburgontbijtkoek': 6354, 'iwhan': 6355, 'samsungtv': 6356, 'getoverappl': 6357, 'sudden': 6358, 'sway': 6359, 'stillwontbuyandroidtho': 6360, 'homeentertain': 6361, 'saturdayeven': 6362, 'tweep': 6363, 'manhub': 6364, 'marley': 6365, 'redempt': 6366, 'fender': 6367, 'upris': 6368, 'bobmarley': 6369, 'getbetterservic': 6370, 'equival': 6371, 'iosshit': 6372, 'shitephon': 6373, 'nationalrelaxationday': 6374, 'nationaltellajokeday': 6375, 'nationallazyday': 6376, 'armygirl': 6377, 'bassjesu': 6378, 'bassjesusproblem': 6379, 'noooooooo': 6380, 'stare': 6381, 'willneverlearn': 6382, 'afterhour': 6383, 'mosquito': 6384, 'itwhen': 6385, 'shortfilm': 6386, 'filmlif': 6387, 'theliv': 6388, 'ist': 6389, 'tack': 6390, 'tick': 6391, 'smilebut': 6392, 'pictwittercomnatmloem': 6393, 'lean': 6394, 'fuckm': 6395, 'pictwittercomdognngmpwv': 6396, 'willthrowagainstwallsoon': 6397, 'givemetheirhead': 6398, 'lovepictwittercomqekqdwgko': 6399, 'slowiphon': 6400, 'kikm': 6401, 'pictwittercomgeroiejo': 6402, 'pictwittercomurzlyfor': 6403, 'bulk': 6404, 'pictwittercomdwdsxi': 6405, 'mythem': 6406, 'vivalarevoluton': 6407, 'havnefronten': 6408, 'aalborg': 6409, 'workspacepictwittercomjdyjefmmg': 6410, 'sixsigma': 6411, 'auricular': 6412, 'eddievedd': 6413, 'isushi': 6414, 'giveawaypictwittercomchldatrt': 6415, 'icomplaintz': 6416, 'nolen': 6417, 'seminol': 6418, 'pearljam': 6419, 'gala': 6420, 'drove': 6421, 'beandez': 6422, 'fsu': 6423, 'floridast': 6424, 'montmartr': 6425, 'iasi': 6426, 'samsunggalanot': 6427, 'eeee': 6428, 'cinnam': 6429, 'msi': 6430, 'rub': 6431, 'cocoa': 6432, 'gm': 6433, 'shonan': 6434, 'iannoy': 6435, 'icashback': 6436, 'inos': 6437, 'nurs': 6438, 'chia': 6439, 'hardli': 6440, 'eli': 6441, 'highway': 6442, 'noedit': 6443, 'goddam': 6444, 'oat': 6445, 'easyfuck': 6446, 'disrupt': 6447, 'gewichtsverlust': 6448, 'gatto': 6449, 'whodoyouthinkyouar': 6450, 'gentl': 6451, 'pictwittercomcfxrdjo': 6452, 'tuscani': 6453, 'tuscan': 6454, 'hotday': 6455, 'sandip': 6456, 'colmenarviejo': 6457, 'iheart': 6458, 'dec': 6459, 'catstagram': 6460, 'billboard': 6461, 'martian': 6462, 'derb': 6463, 'pictwittercomlnjovidfi': 6464, 'koffey': 6465, 'partyholicsanonym': 6466, 'uncontrol': 6467, 'gershwin': 6468, 'elm': 6469, 'farand': 6470, 'bi': 6471, 'nextphonesamsung': 6472, 'decreas': 6473, 'sake': 6474, 'gslaxi': 6475, 'mejoramiga': 6476, 'ultim': 6477, 'instart': 6478, 'corpu': 6479, 'blur': 6480, 'mock': 6481, 'wate': 6482, 'babysist': 6483, 'idontrun': 6484, 'roadshow': 6485, 'screenbutton': 6486, 'kotakinabalu': 6487, 'sloooooow': 6488, 'qea': 6489, 'lbc': 6490, 'sole': 6491, 'ufopictwittercomvihbaapiq': 6492, 'kittedout': 6493, 'lowyat': 6494, 'wuiiii': 6495, 'healthpictwittercomimxwgp': 6496, 'smallest': 6497, 'valley': 6498, 'eight': 6499, 'mundo': 6500, 'reve': 6501, 'retrato': 6502, 'sonysta': 6503, 'skyland': 6504, 'pictwittercomsusqzznv': 6505, 'ffvii': 6506, 'pictwittercomivcnqtv': 6507, 'whatthehealth': 6508, 'instanesia': 6509, 'instadroid': 6510, 'headwrap': 6511, 'yearbook': 6512, 'hmmmmm': 6513, 'schoolmat': 6514, 'bri': 6515, 'gresik': 6516, 'romania': 6517, 'photospictwittercomdgfvrmtx': 6518, 'tooexpensiveforcrap': 6519, 'breakfest': 6520, 'diario': 6521, 'hoy': 6522, 'instapuppi': 6523, 'iphoneipod': 6524, 'samsunggalaxyssgb': 6525, 'sal': 6526, 'igda': 6527, 'instantjoy': 6528, 'icesk': 6529, 'hydepark': 6530, 'logist': 6531, 'pictwittercomnxdwhjmck': 6532, 'thirdparti': 6533, 'feelingexcit': 6534, 'timelin': 6535, 'doglif': 6536, 'stronger': 6537, 'gnaydn': 6538, 'regalopami': 6539, 'xperiaxcompact': 6540, 'lucha': 6541, 'ma': 6542, 'pictwittercomeacjmoql': 6543, 'emowatch': 6544, 'xcompact': 6545, 'pictwittercomafemnqq': 6546, 'nutella': 6547, 'supriz': 6548, 'uglyman': 6549, 'motorolanexusxtfactori': 6550, 'adidasorigin': 6551, 'stayyoung': 6552, 'rki': 6553, 'fwb': 6554, 'mute': 6555, 'unfortun': 6556, 'xperiaj': 6557, 'attende': 6558, 'persuad': 6559, 'fortun': 6560, 'accompani': 6561, 'detect': 6562, 'iphonesel': 6563, 'cameralen': 6564, 'instaxperia': 6565, 'instasoni': 6566, 'freestyl': 6567, 'oldschoolpictwittercomhivjsvaa': 6568, 'relaxamovieortvshow': 6569, 'summervib': 6570, 'motogthgenerationxtgbblack': 6571, 'roshhashanah': 6572, 'fruitbowl': 6573, 'kitchenstuff': 6574, 'healthyfoodpictwittercomlrcuvko': 6575, 'amazonpictwittercomeyqdwgxi': 6576, 'tova': 6577, 'shana': 6578, 'iphonenev': 6579, 'hafta': 6580, 'newt': 6581, 'moot': 6582, 'lute': 6583, 'jojo': 6584, 'fletcher': 6585, 'jewelleri': 6586, 'loot': 6587, 'sortitout': 6588, 'techrepair': 6589, 'bridemaid': 6590, 'lotd': 6591, 'halfass': 6592, 'dnc': 6593, 'nomnom': 6594, 'fruitarian': 6595, 'batterybatteri': 6596, 'casper': 6597, 'greek': 6598, 'vod': 6599, 'aj': 6600, 'instagramhu': 6601, 'holidayspictwittercomnwzweugw': 6602, 'pictwittercomksagnu': 6603, 'longdistancerelationship': 6604, 'emiliojassi': 6605, 'cashgrab': 6606, 'movietrail': 6607, 'toshiba': 6608, 'discus': 6609, 'limo': 6610, 'bodymo': 6611, 'istor': 6612, 'istoresouthafrica': 6613, 'pigeon': 6614, 'venom': 6615, 'pictwittercomyrwlfthth': 6616, 'pictwittercomxlegkul': 6617, 'dissapoint': 6618, 'muchbett': 6619, 'nov': 6620, 'muchbetternow': 6621, 'moneysuckingbastard': 6622, 'venommovi': 6623, 'thankgodforfacetim': 6624, 'pictwittercomivpkidbm': 6625, 'modelsclick': 6626, 'jetblu': 6627, 'lander': 6628, 'mfi': 6629, 'readpictwittercombeluljkh': 6630, 'pictwittercomoazanmdhjd': 6631, 'eminem': 6632, 'margarita': 6633, 'gucci': 6634, 'pictwittercomlcqeixpq': 6635, 'goinghom': 6636, 'sixth': 6637, 'lax': 6638, 'antiknock': 6639, 'myjobpictwittercomzdfxvihd': 6640, 'freeconsult': 6641, 'sedan': 6642, 'suv': 6643, 'carlov': 6644, 'pictwittercomysopwna': 6645, 'blogpost': 6646, 'touchdown': 6647, 'marit': 6648, 'instov': 6649, 'gottalov': 6650, 'encourag': 6651, 'lamea': 6652, 'memorialday': 6653, 'monsterhutch': 6654, 'crew': 6655, 'newbuy': 6656, 'fuckoff': 6657, 'pictwittercommnuwsajda': 6658, 'xperiau': 6659, 'stalker': 6660, 'amapril': 6661, 'juicypictwittercomepzrqqbwh': 6662, 'sephora': 6663, 'amyle': 6664, 'jepang': 6665, 'kimono': 6666, 'timmccord': 6667, 'pictwittercomyvopwgpesb': 6668, 'jenmajura': 6669, 'newcas': 6670, 'spellcheck': 6671, 'tagsform': 6672, 'troymclawhorn': 6673, 'outmagazin': 6674, 'cantera': 6675, 'whatareyouafuckingidiot': 6676, 'fourno': 6677, 'synthesi': 6678, 'willhunt': 6679, 'appleman': 6680, 'iosdevelop': 6681, 'sharethemag': 6682, 'nomnomnom': 6683, 'endoftheworld': 6684, 'applenerd': 6685, 'iloveappl': 6686, 'fizzl': 6687, 'evanesc': 6688, 'shinni': 6689, 'brightsid': 6690, 'foodfact': 6691, 'unlockcod': 6692, 'unlockfus': 6693, 'followcheck': 6694, 'antena': 6695, 'badass': 6696, 'pictwittercommglrmepqf': 6697, 'urf': 6698, 'portraitpictwittercomuqivfvjezm': 6699, 'worldofwarcraft': 6700, 'wod': 6701, 'allianz': 6702, 'trebl': 6703, 'gnom': 6704, 'shortsight': 6705, 'blendpicblend': 6706, 'lockin': 6707, 'igersitaliaq': 6708, 'priest': 6709, 'memo': 6710, 'hotspot': 6711, 'pictwittercomecmkmfja': 6712, 'warcraft': 6713, 'mobileclick': 6714, 'knw': 6715, 'dandelion': 6716, 'infam': 6717, 'bodoh': 6718, 'ebaypictwittercomuqftylcbk': 6719, 'worstdayev': 6720, 'sia': 6721, 'widget': 6722, 'treatyourself': 6723, 'randomclick': 6724, 'rdgener': 6725, 'trumppictwittercomdmaevtkl': 6726, 'fitspo': 6727, 'imeandmyself': 6728, 'photodiari': 6729, 'fridayfeelingpictwittercomysfvnyuf': 6730, 'pictwittercomijqqfxgc': 6731, 'newapp': 6732, 'infest': 6733, 'hijink': 6734, 'gross': 6735, 'handfold': 6736, 'roar': 6737, 'pictwittercomhxcxtmlv': 6738, 'momoz': 6739, 'instapictur': 6740, 'momo': 6741, 'nuevo': 6742, 'roadsid': 6743, 'instaimag': 6744, 'upyour': 6745, 'pictwittercomztcywrma': 6746, 'melros': 6747, 'tohellwithyourproduct': 6748, 'pixvideoseveri': 6749, 'juguet': 6750, 'edtechteam': 6751, 'teamlightskin': 6752, 'numer': 6753, 'reveng': 6754, 'ebac': 6755, 'ganjagoddess': 6756, 'geneva': 6757, 'fanbas': 6758, 'genevalak': 6759, 'youtubechannel': 6760, 'franki': 6761, 'expact': 6762, 'beverli': 6763, 'bstngerg': 6764, 'pictwittercomndpeznqgk': 6765, 'sesion': 6766, 'melancholi': 6767, 'arianastansareskinni': 6768, 'skripal': 6769, 'versapictwittercommugeownsv': 6770, 'await': 6771, 'accountpictwittercomnybeyq': 6772, 'whyyyy': 6773, 'pictwittercombiqeqlchz': 6774, 'arunganesan': 6775, 'ccd': 6776, 'cubyrinth': 6777, 'yulia': 6778, 'alia': 6779, 'clark': 6780, 'john': 6781, 'polita': 6782, 'braveconvers': 6783, 'apvma': 6784, 'icant': 6785, 'horserid': 6786, 'pregger': 6787, 'christmasshop': 6788, 'stofdecemb': 6789, 'rsclubmovi': 6790, 'rsclub': 6791, 'bigassev': 6792, 'injuri': 6793, 'domor': 6794, 'cassettap': 6795, 'icas': 6796, 'iminlov': 6797, 'bankholidayweekend': 6798, 'pianoday': 6799, 'yrarticl': 6800, 'wearahatday': 6801, 'calvinklein': 6802, 'vicki': 6803, 'pictwittercomzxdlqiygt': 6804, 'gilett': 6805, 'consult': 6806, 'finallyfind': 6807, 'notaudi': 6808, 'alryt': 6809, 'nostoragemyass': 6810, 'instantli': 6811, 'qy': 6812, 'shave': 6813, 'leech': 6814, 'fuckit': 6815, 'whahah': 6816, 'oasscod': 6817, 'hopeeverythingistherewhenifinishrestor': 6818, 'christmaspictwittercomcdqtjckibm': 6819, 'bethefirst': 6820, 'wanker': 6821, 'stanbul': 6822, 'notinpress': 6823, 'ashol': 6824, 'aquari': 6825, 'travelin': 6826, 'superdr': 6827, 'voucher': 6828, 'iranian': 6829, 'hybrid': 6830, 'goodbyeiphon': 6831, 'revolution': 6832, 'evid': 6833, 'thenextbigth': 6834, 'muchneed': 6835, 'avday': 6836, 'dur': 6837, 'instacraft': 6838, 'madefory': 6839, 'luismiguel': 6840, 'belichek': 6841, 'hondalif': 6842, 'underarmour': 6843, 'nv': 6844, 'pictwittercomqajcwjtelv': 6845, 'doublecam': 6846, 'reoveri': 6847, 'belichick': 6848, 'sedgepictwittercomobuiheudm': 6849, 'kami': 6850, 'vscofilt': 6851, 'vscoph': 6852, 'macjunk': 6853, 'similar': 6854, 'crackedscreenpictwittercomatutotab': 6855, 'whath': 6856, 'pinkcamera': 6857, 'hpcase': 6858, 'mepictwittercomdpttthmuel': 6859, 'wip': 6860, 'pera': 6861, 'galata': 6862, 'fatlif': 6863, 'chet': 6864, 'ivey': 6865, 'lieee': 6866, 'licens': 6867, 'kroe': 6868, 'closest': 6869, 'imfromteam': 6870, 'babubi': 6871, 'pictwittercomzglzcwcww': 6872, 'fruitsnack': 6873, 'paulsimon': 6874, 'marunouchi': 6875, 'minipla': 6876, 'tg': 6877, 'iwa': 6878, 'girlfashion': 6879, 'likepleas': 6880, 'beautytip': 6881, 'sensor': 6882, 'makeov': 6883, 'libel': 6884, 'logitech': 6885, 'suckerrrrr': 6886, 'retweetpictwittercomfiajxhnzqg': 6887, 'grimm': 6888, 'consider': 6889, 'furnish': 6890, 'vomit': 6891, 'comparison': 6892, 'onetoonescam': 6893, 'wa': 6894, 'instaflow': 6895, 'majey': 6896, 'skullscandi': 6897, 'sday': 6898, 'wacksauc': 6899, 'movistar': 6900, 'laci': 6901, 'kpop': 6902, 'pictwittercompftitdb': 6903, 'apb': 6904, 'applefail': 6905, 'applenazi': 6906, 'dorset': 6907, 'tweetdeckapp': 6908, 'lavend': 6909, 'beenhipst': 6910, 'lightcandl': 6911, 'someonebuymethi': 6912, 'instaddict': 6913, 'sleepingdog': 6914, 'ccr': 6915, 'reddest': 6916, 'shiniest': 6917, 'talkinghead': 6918, 'whitney': 6919, 'cnet': 6920, 'sucker': 6921, 'brotherinlaw': 6922, 'fromm': 6923, 'pictwittercomcnlxjmxn': 6924, 'utter': 6925, 'poorchap': 6926, 'predecessor': 6927, 'duckfac': 6928, 'lymom': 6929, 'beautyoftechnolog': 6930, 'typedraw': 6931, 'textcal': 6932, 'summerday': 6933, 'razihel': 6934, 'matzo': 6935, 'memoji': 6936, 'rhab': 6937, 'rebound': 6938, 'selfpotrait': 6939, 'giveawaypictwittercomorindidcmp': 6940, 'thenewipad': 6941, 'newupd': 6942, 'iphonepowerbankcas': 6943, 'succeedpictwittercomsnzogmbejo': 6944, 'irig': 6945, 'giveawaypictwittercomwejukejk': 6946, 'eme': 6947, 'farmlif': 6948, 'kerala': 6949, 'wc': 6950, 'cr': 6951, 'lucif': 6952, 'pictwittercomblukkfksk': 6953, 'wcc': 6954, 'mustang': 6955, 'dormitori': 6956, 'sharingiscar': 6957, 'mizz': 6958, 'thee': 6959, 'pictwittercomvxdsrxksej': 6960, 'ford': 6961, 'pitbullblu': 6962, 'theweeknd': 6963, 'ilovemykid': 6964, 'caraca': 6965, 'thecurv': 6966, 'whitbi': 6967, 'pictwittercomktmburhywd': 6968, 'sonyrx': 6969, 'dscrx': 6970, 'conspiracyoftheknot': 6971, 'lenz': 6972, 'remem': 6973, 'poorservic': 6974, 'smilecam': 6975, 'weeknd': 6976, 'notgonhappn': 6977, 'whaev': 6978, 'orafewmonth': 6979, 'gether': 6980, 'americanpitbul': 6981, 'sanju': 6982, 'alaat': 6983, 'blackandwhitephotographi': 6984, 'foursquar': 6985, 'fol': 6986, 'armageddon': 6987, 'breaker': 6988, 'fraud': 6989, 'checkin': 6990, 'bienvenido': 6991, 'jiophon': 6992, 'jonat': 6993, 'correl': 6994, 'powernap': 6995, 'acquaint': 6996, 'began': 6997, 'nicknam': 6998, 'zunehd': 6999, 'hatelif': 7000, 'cleo': 7001, 'itunesyour': 7002, 'gaasperpark': 7003, 'goldros': 7004, 'newcar': 7005, 'techsupportsuck': 7006, 'stang': 7007, 'wontwork': 7008, 'bp': 7009, 'inappropri': 7010, 'method': 7011, 'poni': 7012, 'jiogigatv': 7013, 'jiodigitallif': 7014, 'backontrack': 7015, 'celeri': 7016, 'veganlif': 7017, 'veganfoodshar': 7018, 'happinessdeliv': 7019, 'instagrampictwittercomauyzregko': 7020, 'earthday': 7021, 'pictwittercomlavryqvq': 7022, 'scrump': 7023, 'healthcon': 7024, 'thankyoudaddi': 7025, 'vapictwittercomxqvqpvijfm': 7026, 'susan': 7027, 'iat': 7028, 'needmoney': 7029, 'compound': 7030, 'boyl': 7031, 'joinmyteam': 7032, 'incom': 7033, 'passiv': 7034, 'yes': 7035, 'goin': 7036, 'pictwittercombfnzanwti': 7037, 'mumbairain': 7038, 'staircas': 7039, 'cdmx': 7040, 'ramen': 7041, 'sacredgam': 7042, 'perspect': 7043, 'monsoon': 7044, 'doubleexposuremumbai': 7045, 'mirorless': 7046, 'gohantin': 7047, 'gemini': 7048, 'horoscop': 7049, 'iphonesiart': 7050, 'ilovethisth': 7051, 'thaistagram': 7052, 'bitcoin': 7053, 'apprentic': 7054, 'inflat': 7055, 'tropicalgirl': 7056, 'samsungphoto': 7057, 'brouwersdampictwittercomdanfplsx': 7058, 'droidproblem': 7059, 'koala': 7060, 'pictwittercomrfzfbtz': 7061, 'pictwittercomavvqnjfp': 7062, 'dogtoypictwittercomjeovcxxj': 7063, 'reinvest': 7064, 'blackberrypictwittercomrfkyxpz': 7065, 'atrix': 7066, 'santapaw': 7067, 'seattlemetro': 7068, 'youwillpay': 7069, 'boomskin': 7070, 'pete': 7071, 'fckkkked': 7072, 'lighter': 7073, 'ghcp': 7074, 'jollyolengland': 7075, 'mubarak': 7076, 'guard': 7077, 'fkn': 7078, 'ethernet': 7079, 'musket': 7080, 'samarinda': 7081, 'rainier': 7082, 'afreaid': 7083, 'oprah': 7084, 'mountraini': 7085, 'sactiv': 7086, 'pictwittercomzgsiygcah': 7087, 'salvat': 7088, 'iproduct': 7089, 'unbroken': 7090, 'whini': 7091, 'whitesnow': 7092, 'morado': 7093, 'muyhappi': 7094, 'lowereastsid': 7095, 'musicianpictwittercomyiksxozv': 7096, 'customcas': 7097, 'whitetrash': 7098, 'tellm': 7099, 'unfriend': 7100, 'noiphoto': 7101, 'nocamerarol': 7102, 'ripiphoto': 7103, 'ripcamerarol': 7104, 'wargam': 7105, 'withgalaxi': 7106, 'fashionista': 7107, 'mysweetest': 7108, 'coop': 7109, 'askdrandrew': 7110, 'pictwittercomobwdyqogkn': 7111, 'photoofthpictwittercomdvwpaktygv': 7112, 'doo': 7113, 'sammi': 7114, 'yayer': 7115, 'slip': 7116, 'janellemona': 7117, 'fixmi': 7118, 'yeahhhh': 7119, 'pictwittercomixwyngbtvm': 7120, 'drw': 7121, 'redw': 7122, 'magicbar': 7123, 'pictwittercomdythiaw': 7124, 'pictwittercomnbbkzolu': 7125, 'aiii': 7126, 'kimkardashian': 7127, 'bokehlici': 7128, 'bokehtumblr': 7129, 'asiangirl': 7130, 'beb': 7131, 'evaah': 7132, 'awww': 7133, 'mist': 7134, 'sonyaiii': 7135, 'runfun': 7136, 'inspirationpictwittercomvsartcjayk': 7137, 'rabbid': 7138, 'delaaaaaay': 7139, 'blackpictwittercomyxakkychc': 7140, 'izmir': 7141, 'atomium': 7142, 'letmespeak': 7143, 'patrickstar': 7144, 'kannietmeerverzinnen': 7145, 'krustycrab': 7146, 'blackwhit': 7147, 'pizzeria': 7148, 'tebow': 7149, 'gammelstad': 7150, 'laker': 7151, 'blij': 7152, 'succes': 7153, 'democract': 7154, 'chick': 7155, 'nextgam': 7156, 'weddingphotographi': 7157, 'chey': 7158, 'andrew': 7159, 'dr': 7160, 'hoax': 7161, 'miyak': 7162, 'apictwittercomduqkmcdoph': 7163, 'nf': 7164, 'mw': 7165, 'picturex': 7166, 'toledoc': 7167, 'liteship': 7168, 'simala': 7169, 'prada': 7170, 'datac': 7171, 'taguig': 7172, 'thefort': 7173, 'jpl': 7174, 'kpub': 7175, 'wealthi': 7176, 'issey': 7177, 'athen': 7178, 'kayrasu': 7179, 'varvato': 7180, 'earhoox': 7181, 'anberlin': 7182, 'monthsannoy': 7183, 'likelikepictwittercomkxadwvv': 7184, 'havingfun': 7185, 'hateadob': 7186, 'hategoogl': 7187, 'applesupport': 7188, 'hateatt': 7189, 'tweetdeck': 7190, 'dior': 7191, 'cheri': 7192, 'hatecomcast': 7193, 'payrol': 7194, 'designerpictwittercomjjyrxzfih': 7195, 'luca': 7196, 'orangepictwittercomyyayzbbfv': 7197, 'excercis': 7198, 'cranberri': 7199, 'momth': 7200, 'liit': 7201, 'icetea': 7202, 'longisland': 7203, 'twitterafterdark': 7204, 'teengirl': 7205, 'newphoneselfi': 7206, 'mirrorless': 7207, 'solac': 7208, 'twitterversari': 7209, 'mynewtarget': 7210, 'pictwittercomiinhdvtu': 7211, 'smilepictwittercomuyxidyr': 7212, 'browney': 7213, 'helmet': 7214, 'pictwittercomwiddqyeu': 7215, 'shazam': 7216, 'soundhound': 7217, 'freedompictwittercompixadyrc': 7218, 'chad': 7219, 'sled': 7220, 'closeup': 7221, 'ughgrrrr': 7222, 'pioneerday': 7223, 'parad': 7224, 'thick': 7225, 'lausphotographi': 7226, 'geeklif': 7227, 'ipaid': 7228, 'cancan': 7229, 'freephonepictwittercomexzomkrjn': 7230, 'hiroshima': 7231, 'mbg': 7232, 'backlit': 7233, 'bliev': 7234, 'angrylaura': 7235, 'hatevodafon': 7236, 'patrick': 7237, 'selfiepictwittercomavxtdkdkss': 7238, 'toot': 7239, 'sono': 7240, 'hellopictwittercomnbxywgcx': 7241, 'strand': 7242, 'quirk': 7243, 'lodsi': 7244, 'nonexist': 7245, 'mend': 7246, 'direct': 7247, 'jail': 7248, 'chart': 7249, 'tw': 7250, 'hove': 7251, 'funpictwittercomggnuvxbv': 7252, 'heal': 7253, 'fiasco': 7254, 'delish': 7255, 'iosupd': 7256, 'cabt': 7257, 'onlyiphon': 7258, 'mex': 7259, 'sostupid': 7260, 'vivoindiasuck': 7261, 'vivoindiasal': 7262, 'sonot': 7263, 'wce': 7264, 'rapunzel': 7265, 'igiveup': 7266, 'cida': 7267, 'recordingstudio': 7268, 'mixingstudio': 7269, 'jetson': 7270, 'magicalsiripictwittercomwzvbtutupd': 7271, 'baywatch': 7272, 'styleee': 7273, 'patriot': 7274, 'zazzlesal': 7275, 'naturepictwittercomsboteesxw': 7276, 'lilwayn': 7277, 'terrifi': 7278, 'trukfit': 7279, 'haribo': 7280, 'bykevinchoart': 7281, 'miserablyfigur': 7282, 'edtechtroubl': 7283, 'myson': 7284, 'makesmyday': 7285, 'stuckdisc': 7286, 'farmhous': 7287, 'segreg': 7288, 'fuzzi': 7289, 'losin': 7290, 'treepictwittercomxyqtrzdu': 7291, 'newyorkni': 7292, 'directori': 7293, 'devil': 7294, 'huntington': 7295, 'relev': 7296, 'westcoast': 7297, 'grandlovin': 7298, 'pictwittercomqfrkuiuxw': 7299, 'lotsa': 7300, 'tabsoo': 7301, 'flickr': 7302, 'saynotoopposmartphon': 7303, 'samsunguk': 7304, 'givemebackasamsung': 7305, 'pictwittercomuedyub': 7306, 'pictwittercomlvjmwbniu': 7307, 'cheesecakeshop': 7308, 'thecheesecakeshop': 7309, 'likeforlikeback': 7310, 'marshmello': 7311, 'chocolatecak': 7312, 'pictwittercomblobosu': 7313, 'gdragon': 7314, 'nothingbett': 7315, 'kidsofinstagram': 7316, 'unpack': 7317, 'pictwittercomogogkeopw': 7318, 'pictwittercomxtssgtlk': 7319, 'instagramkid': 7320, 'codww': 7321, 'sembreak': 7322, 'extend': 7323, 'queend': 7324, 'whatiswrongwithm': 7325, 'fiiiiin': 7326, 'pictwittercomoodeabu': 7327, 'xfactor': 7328, 'xfactorusa': 7329, 'demilovato': 7330, 'smitten': 7331, 'command': 7332, 'oldcamera': 7333, 'gamerchick': 7334, 'photoofthaday': 7335, 'unreleasedapp': 7336, 'stifl': 7337, 'twitchgirl': 7338, 'blaz': 7339, 'tattedup': 7340, 'segment': 7341, 'sofrustr': 7342, 'lube': 7343, 'aupair': 7344, 'edinburgh': 7345, 'afterward': 7346, 'pictwittercomusjaentfp': 7347, 'instagrampictwittercomuswoppsez': 7348, 'smd': 7349, 'bread': 7350, 'pictwittercomgymxwpawn': 7351, 'twitteranniversari': 7352, 'wacom': 7353, 'floradesign': 7354, 'loverli': 7355, 'wherea': 7356, 'nblow': 7357, 'pictwittercomgpwnfuzwh': 7358, 'sacrific': 7359, 'donrik': 7360, 'chriscornel': 7361, 'hail': 7362, 'puent': 7363, 'mmlp': 7364, 'streetfood': 7365, 'streetsoflucknowpictwittercomhlhpqegb': 7366, 'alto': 7367, 'lucien': 7368, 'emili': 7369, 'sungl': 7370, 'motor': 7371, 'biohazard': 7372, 'veget': 7373, 'sourdough': 7374, 'scoop': 7375, 'crunch': 7376, 'protein': 7377, 'fixmeiphon': 7378, 'sec': 7379, 'investig': 7380, 'appleonli': 7381, 'throttl': 7382, 'laracroft': 7383, 'tombraid': 7384, 'tecshit': 7385, 'pictwittercomnxdehxuy': 7386, 'getalif': 7387, 'scootervid': 7388, 'ave': 7389, 'guacamaya': 7390, 'presidenttrump': 7391, 'iherbord': 7392, 'thehungergam': 7393, 'lakehous': 7394, 'dsl': 7395, 'bestofthebest': 7396, 'anotherangrycustom': 7397, 'notfair': 7398, 'deni': 7399, 'phonehow': 7400, 'react': 7401, 'nih': 7402, 'ioanna': 7403, 'lakememphremagog': 7404, 'birthdaygirl': 7405, 'birthdaywish': 7406, 'gcseresultsday': 7407, 'llpictwittercomrhfwxngg': 7408, 'gev': 7409, 'vermont': 7410, 'galatasaray': 7411, 'debategram': 7412, 'bloomberg': 7413, 'polishgirl': 7414, 'waterboard': 7415, 'tygooseman': 7416, 'dryer': 7417, 'tumbl': 7418, 'snake': 7419, 'henna': 7420, 'awoln': 7421, 'lala': 7422, 'vtn': 7423, 'ratchetmovi': 7424, 'alkalin': 7425, 'insomniac': 7426, 'heathen': 7427, 'siriusmuzik': 7428, 'paha': 7429, 'rocksmyworld': 7430, 'sedgeplu': 7431, 'newstyl': 7432, 'ispoiledmyself': 7433, 'cia': 7434, 'nicolson': 7435, 'skye': 7436, 'errand': 7437, 'ap': 7438, 'pictwittercombtewbkx': 7439, 'resolv': 7440, 'bluri': 7441, 'icewolf': 7442, 'pictwittercomvgnknrspfx': 7443, 'asll': 7444, 'iphonefour': 7445, 'ubertwitt': 7446, 'doj': 7447, 'incolleg': 7448, 'powder': 7449, 'moodboost': 7450, 'soyjoy': 7451, 'takemeback': 7452, 'ultramilk': 7453, 'pictwittercomhsizay': 7454, 'marc': 7455, 'stroberi': 7456, 'macauleytaylor': 7457, 'sbado': 7458, 'playingnow': 7459, 'nelstar': 7460, 'nellyfurtado': 7461, 'sont': 7462, 'hayatinarenkkat': 7463, 'bootlogo': 7464, 'pinki': 7465, 'mediapictwittercomriqxgijj': 7466, 'byhilalak': 7467, 'icrackedyakima': 7468, 'pictwittercomhyqsqzyi': 7469, 'electra': 7470, 'beamman': 7471, 'crackedscreenrepairyakima': 7472, 'yakima': 7473, 'finalllllli': 7474, 'crackedscreen': 7475, 'screwappl': 7476, 'brokenphon': 7477, 'hampton': 7478, 'cellphonerepair': 7479, 'dreami': 7480, 'notahappycamp': 7481, 'wednesdaymorn': 7482, 'urbanear': 7483, 'tweak': 7484, 'kkk': 7485, 'kidstagram': 7486, 'sheffield': 7487, 'applaud': 7488, 'reyesmago': 7489, 'ank': 7490, 'followup': 7491, 'violat': 7492, 'slrdigi': 7493, 'phonepictwittercomtankglsmad': 7494, 'photito': 7495, 'niall': 7496, 'horan': 7497, 'marchphotochalleng': 7498, 'soppi': 7499, 'fanni': 7500, 'sslvulner': 7501, 'dateweek': 7502, 'lizardsquad': 7503, 'producesometh': 7504, 'xboxliv': 7505, 'lov': 7506, 'badday': 7507, 'troplong': 7508, 'chek': 7509, 'bitlygqhbnv': 7510, 'easytotalk': 7511, 'iphonelos': 7512, 'briantong': 7513, 'goappl': 7514, 'lowdown': 7515, 'photoday': 7516, 'bestofth': 7517, 'mishref': 7518, 'justappl': 7519, 'megusta': 7520, 'soundcloudrapp': 7521, 'coolpic': 7522, 'pictwittercommucxmxnlj': 7523, 'etihada': 7524, 'pictwittercomnusoluyf': 7525, 'outdat': 7526, 'grrrr': 7527, 'mush': 7528, 'mylifesajok': 7529, 'bagofshit': 7530, 'unadulter': 7531, 'osu': 7532, 'outterbox': 7533, 'photoadayjun': 7534, 'junephotoaday': 7535, 'hurray': 7536, 'magna': 7537, 'jaybe': 7538, 'idiotphon': 7539, 'hush': 7540, 'lighten': 7541, 'pictwittercomwhxtmrnj': 7542, 'pictwittercomcxoqbzzet': 7543, 'napl': 7544, 'pavement': 7545, 'bealiv': 7546, 'loft': 7547, 'disput': 7548, 'omigosh': 7549, 'inyr': 7550, 'youjustlostavaluablecustom': 7551, 'underbrush': 7552, 'twodaysinarow': 7553, 'tush': 7554, 'gush': 7555, 'artdeal': 7556, 'miguel': 7557, 'adorn': 7558, 'gopherspictwittercomildhlxwg': 7559, 'customercar': 7560, 'vnzla': 7561, 'paulfrank': 7562, 'surgeri': 7563, 'vill': 7564, 'pictwittercomvucodlkil': 7565, 'slipknot': 7566, 'observatoirepvm': 7567, 'byorder': 7568, 'sundaypictwittercommboxnwslk': 7569, 'pictwittercomvegowznshi': 7570, 'ashford': 7571, 'snuff': 7572, 'partyhard': 7573, 'labour': 7574, 'gracelessli': 7575, 'lethal': 7576, 'carta': 7577, 'blackfridayshop': 7578, 'deaf': 7579, 'videoofthedaypictwittercomplnunhi': 7580, 'igersportug': 7581, 'ahahaha': 7582, 'kaffe': 7583, 'daydream': 7584, 'shitbird': 7585, 'preguntaleaalicia': 7586, 'pictwittercomndbysuhc': 7587, 'asidk': 7588, 'grail': 7589, 'mihihi': 7590, 'colbertreport': 7591, 'nook': 7592, 'csgo': 7593, 'selfiecam': 7594, 'casetifi': 7595, 'needfollow': 7596, 'jx': 7597, 'hanep': 7598, 'kuyajosh': 7599, 'whilewait': 7600, 'dontcareforcub': 7601, 'folder': 7602, 'thestruggl': 7603, 'redappl': 7604, 'christian': 7605, 'danishgirl': 7606, 'fatti': 7607, 'pugislov': 7608, 'galaxyfamili': 7609, 'onyx': 7610, 'iiphonesia': 7611, 'bogota': 7612, 'pictwittercomukhtxiuzi': 7613, 'khlari': 7614, 'worldpictwittercomjrdwetxbjo': 7615, 'xyril': 7616, 'gifboom': 7617, 'pictwittercomykfpffix': 7618, 'meaning': 7619, 'pictwittercomqijfxktdw': 7620, 'goaway': 7621, 'englisch': 7622, 'dreamt': 7623, 'trippi': 7624, 'becausefuckappl': 7625, 'dieappl': 7626, 'nishimura': 7627, 'massachusett': 7628, 'mohito': 7629, 'peri': 7630, 'approach': 7631, 'canonpictwittercomkmdbdiv': 7632, 'zain': 7633, 'reschedul': 7634, 'mrw': 7635, 'amman': 7636, 'pictwittercomajwkwfq': 7637, 'phoneit': 7638, 'guest': 7639, 'likepictwittercomitxig': 7640, 'unstag': 7641, 'traveljob': 7642, 'gramophon': 7643, 'pictwittercomxhwknjqfyh': 7644, 'jsbach': 7645, 'northernlight': 7646, 'coldest': 7647, 'academia': 7648, 'eread': 7649, 'acedemi': 7650, 'avicii': 7651, 'bacardi': 7652, 'hardwel': 7653, 'pretty': 7654, 'iamprettytatti': 7655, 'productsfeatur': 7656, 'vdeogam': 7657, 'amigo': 7658, 'pictwittercommjjnomhpi': 7659, 'instamoood': 7660, 'speedtest': 7661, 'pictwittercommuhfkj': 7662, 'pictwittercomogvrjfgw': 7663, 'bookbook': 7664, 'marqu': 7665, 'solodivertimento': 7666, 'deciplin': 7667, 'usefuckingtorr': 7668, 'armenian': 7669, 'capitan': 7670, 'counselor': 7671, 'makingmylifesodifficultpictwittercomlzszgisb': 7672, 'aarrrggghhhh': 7673, 'dramapictwittercomxjcoodhjc': 7674, 'pleausr': 7675, 'pictwittercomozdxt': 7676, 'chavelin': 7677, 'unsupport': 7678, 'lookout': 7679, 'membership': 7680, 'teamp': 7681, 'hooray': 7682, 'steal': 7683, 'pictwittercompxbvqtc': 7684, 'appot': 7685, 'iamgod': 7686, 'bosh': 7687, 'diverseemoji': 7688, 'redheademoji': 7689, 'discop': 7690, 'overpricedpiecesofjunk': 7691, 'meltdown': 7692, 'glasgow': 7693, 'gnay': 7694, 'illus': 7695, 'muh': 7696, 'movin': 7697, 'spaz': 7698, 'vri': 7699, 'pictwittercomopjcujiub': 7700, 'waycoolerthanmylaston': 7701, 'linedol': 7702, 'saturdaynight': 7703, 'presid': 7704, 'steep': 7705, 'pictwittercomvvzlflq': 7706, 'picoft': 7707, 'infring': 7708, 'curri': 7709, 'usernamesplinkio': 7710, 'appleiphoneplusgbsilverunlock': 7711, 'lowspe': 7712, 'thou': 7713, 'citizen': 7714, 'fiaba': 7715, 'pictwittercomppxjlbaz': 7716, 'occasion': 7717, 'jennadugray': 7718, 'anth': 7719, 'samsunggalaxyftw': 7720, 'essenti': 7721, 'sodepress': 7722, 'lockedout': 7723, 'nomor': 7724, 'sehunday': 7725, 'banjaran': 7726, 'taita': 7727, 'mojo': 7728, 'instagramtagsdot': 7729, 'gufo': 7730, 'workin': 7731, 'shesh': 7732, 'followpictwittercommrnruc': 7733, 'aston': 7734, 'astonmartin': 7735, 'an': 7736, 'blacksea': 7737, 'chrismartin': 7738, 'rabat': 7739, 'rabon': 7740, 'bower': 7741, 'whydidyoubreak': 7742, 'nude': 7743, 'photostori': 7744, 'thanksappl': 7745, 'cashbox': 7746, 'pictwittercomibraglyn': 7747, 'marocco': 7748, 'cultist': 7749, 'reign': 7750, 'tyrann': 7751, 'pictwittercompkrac': 7752, 'iconvers': 7753, 'tuck': 7754, 'commedesgarcon': 7755, 'plush': 7756, 'minimalist': 7757, 'instagra': 7758, 'prom': 7759, 'grad': 7760, 'theorder': 7761, 'publicli': 7762, 'pictwittercompggwwxesk': 7763, 'seb': 7764, 'neat': 7765, 'amazonprimevideo': 7766, 'getbetterbatteri': 7767, 'stonehaven': 7768, 'blakesheltonpictwittercomitbfedup': 7769, 'toyota': 7770, 'uai': 7771, 'sooner': 7772, 'blacknwhit': 7773, 'diversifi': 7774, 'klaverfabrikken': 7775, 'ortho': 7776, 'sanbernardino': 7777, 'likeal': 7778, 'lb': 7779, 'crazyfriend': 7780, 'goodnipictwittercomsgeddczj': 7781, 'worldpictwittercomedblnrb': 7782, 'brace': 7783, 'disgust': 7784, 'sodonewithit': 7785, 'advisor': 7786, 'nadiainneverland': 7787, 'whatdoido': 7788, 'pictwittercomnmprvflw': 7789, 'medan': 7790, 'pictwittercomadhlkusxf': 7791, 'schwarz': 7792, 'blondehair': 7793, 'hemd': 7794, 'markt': 7795, 'felt': 7796, 'instaworthi': 7797, 'cuddli': 7798, 'sonymm': 7799, 'instapi': 7800, 'lovematch': 7801, 'monro': 7802, 'bitchesbego': 7803, 'menhairstyl': 7804, 'abukamalyasinpictwittercomvlzffupin': 7805, 'playstationasia': 7806, 'federalgovern': 7807, 'gif': 7808, 'soundcloudrap': 7809, 'dashsal': 7810, 'violet': 7811, 'poet': 7812, 'amplifi': 7813, 'apertur': 7814, 'waiter': 7815, 'substitut': 7816, 'mutitaedibleart': 7817, 'thumbnail': 7818, 'png': 7819, 'googlebr': 7820, 'someonefixit': 7821, 'audiophil': 7822, 'healthyhound': 7823, 'publish': 7824, 'cowen': 7825, 'research': 7826, 'thankyoustev': 7827, 'ultrathin': 7828, 'tozoreg': 7829, 'shelsilverstein': 7830, 'nouvellestar': 7831, 'bielsa': 7832, 'applertc': 7833, 'appstat': 7834, 'woah': 7835, 'givingtre': 7836, 'myworld': 7837, 'beij': 7838, 'multipli': 7839, 'apocalypt': 7840, 'german': 7841, 'wastedsaturday': 7842, 'thermal': 7843, 'indu': 7844, 'extremesportspictwittercomkiyxosk': 7845, 'male': 7846, 'fuckingpiss': 7847, 'bigd': 7848, 'metim': 7849, 'shift': 7850, 'whatadouch': 7851, 'succeedpictwittercomqlwipxqk': 7852, 'rxm': 7853, 'nb': 7854, 'dalla': 7855, 'pictwittercomgfknyecj': 7856, 'templat': 7857, 'tiredofthi': 7858, 'deepellum': 7859, 'brokedown': 7860, 'commit': 7861, 'lunchtim': 7862, 'stupidest': 7863, 'eggtooth': 7864, 'dopictwittercomlqvaykskl': 7865, 'diwalirangoli': 7866, 'hellosamsung': 7867, 'rangoli': 7868, 'pictwittercomeacpub': 7869, 'pictwittercomfpjdifdgij': 7870, 'blackberrypictwittercomzpggdcazn': 7871, 'yesi': 7872, 'deepawali': 7873, 'beaver': 7874, 'truthbetold': 7875, 'asthma': 7876, 'allergi': 7877, 'appleismonopolyandripoff': 7878, 'mybestfriend': 7879, 'pictwittercomzezvxnmu': 7880, 'thiphon': 7881, 'manchesterunit': 7882, 'psgcel': 7883, 'hepburn': 7884, 'styledirt': 7885, 'birthdayparti': 7886, 'audrey': 7887, 'obnoxi': 7888, 'cannon': 7889, 'fanat': 7890, 'lifestylepictwittercomcxwceqru': 7891, 'mountainspictwittercomjgivxtjljt': 7892, 'ari': 7893, 'hihi': 7894, 'tink': 7895, 'offend': 7896, 'ash': 7897, 'bestmoment': 7898, 'piggi': 7899, 'southerncharm': 7900, 'gshock': 7901, 'oneyear': 7902, 'hoggpictwittercommnogp': 7903, 'aha': 7904, 'airpad': 7905, 'thislif': 7906, 'notafan': 7907, 'girlgam': 7908, 'twoyear': 7909, 'americanidol': 7910, 'guarante': 7911, 'repent': 7912, 'abouttonight': 7913, 'bing': 7914, 'fuckingcharg': 7915, 'nightski': 7916, 'hayaki': 7917, 'pictwittercombligkb': 7918, 'theapprentic': 7919, 'farsi': 7920, 'giveawaypictwittercomdavrfnvz': 7921, 'bagrid': 7922, 'myloss': 7923, 'summ': 7924, 'duel': 7925, 'imagitor': 7926, 'urdu': 7927, 'sogladyouarentindustrystandard': 7928, 'sarahahpictwittercomadfcgkph': 7929, 'giveawaypictwittercomhumlt': 7930, 'prior': 7931, 'tff': 7932, 'coolpictwittercomwwhrsmifq': 7933, 'thrifter': 7934, 'graft': 7935, 'emi': 7936, 'ia': 7937, 'withyou': 7938, 'foley': 7939, 'prinn': 7940, 'phoneim': 7941, 'ipadsuck': 7942, 'provis': 7943, 'sabotag': 7944, 'favoritegam': 7945, 'fade': 7946, 'reson': 7947, 'watersport': 7948, 'sunpictwittercomhzlvjexlvv': 7949, 'syou': 7950, 'nacho': 7951, 'libr': 7952, 'prezzi': 7953, 'hateyouiphon': 7954, 'heldhostag': 7955, 'speedboost': 7956, 'pictwittercomhjctrlwqw': 7957, 'boston': 7958, 'bostonterri': 7959, 'pictwittercomqxodlqri': 7960, 'bazooka': 7961, 'metabon': 7962, 'preacher': 7963, 'dinnerforon': 7964, 'beersheva': 7965, 'ashdod': 7966, 'eilat': 7967, 'daventri': 7968, 'telaviv': 7969, 'ftfd': 7970, 'ipoo': 7971, 'ibeat': 7972, 'aeni': 7973, 'sonofa': 7974, 'baygrow': 7975, 'badg': 7976, 'thefoofight': 7977, 'soldout': 7978, 'sellout': 7979, 'iteat': 7980, 'immad': 7981, 'gettinreadytochuckthisphon': 7982, 'estudio': 7983, 'memorialdaysalepictwittercomgaafdvg': 7984, 'sunsit': 7985, 'uni': 7986, 'instagramq': 7987, 'iosdownd': 7988, 'georg': 7989, 'woth': 7990, 'goodlif': 7991, 'emoj': 7992, 'myfianceisbetterthanyour': 7993, 'advert': 7994, 'itub': 7995, 'ove': 7996, 'newsscreen': 7997, 'tipsi': 7998, 'gtd': 7999, 'ehhmm': 8000, 'opensit': 8001, 'skyrocket': 8002, 'liveoutloud': 8003, 'neighbor': 8004, 'pregnanc': 8005, 'anytimeanywher': 8006, 'applei': 8007, 'friendspictwittercomvhpelqbd': 8008, 'academi': 8009, 'oki': 8010, 'jgf': 8011, 'despciabl': 8012, 'pictwittercomkawuipnk': 8013, 'downwithappl': 8014, 'parisianneforaweek': 8015, 'makememori': 8016, 'headphoneaux': 8017, 'salvadorean': 8018, 'littleblackdress': 8019, 'bestmomma': 8020, 'lasvega': 8021, 'whatilov': 8022, 'pcgame': 8023, 'nothin': 8024, 'jetset': 8025, 'freshfood': 8026, 'godzwork': 8027, 'minit': 8028, 'pictwittercomfubkxwx': 8029, 'keyon': 8030, 'qwerti': 8031, 'machineri': 8032, 'joburg': 8033, 'listless': 8034, 'kiggi': 8035, 'verona': 8036, 'iphonplu': 8037, 'kittenpictwittercomhlrqxkdqqt': 8038, 'stupidglassscreen': 8039, 'largest': 8040, 'werk': 8041, 'jetski': 8042, 'lucamaistro': 8043, 'drinkyourhaterad': 8044, 'lezzzdothi': 8045, 'cearaemfoto': 8046, 'rvpruthless': 8047, 'illain': 8048, 'poe': 8049, 'ripsocomconfront': 8050, 'theori': 8051, 'lipenemo': 8052, 'jardim': 8053, 'carriag': 8054, 'frotin': 8055, 'idontwantto': 8056, 'mepictwittercomqekujvpey': 8057, 'cellcom': 8058, 'assault': 8059, 'bandwagon': 8060, 'lavanlang': 8061, 'subtl': 8062, 'chefmod': 8063, 'growl': 8064, 'pictwittercompjiwqwtc': 8065, 'cleaneat': 8066, 'cupu': 8067, 'culun': 8068, 'alay': 8069, 'gokil': 8070, 'spectr': 8071, 'earlyart': 8072, 'agricultur': 8073, 'mcmafia': 8074, 'evemun': 8075, 'exo': 8076, 'agchat': 8077, 'eureureong': 8078, 'hananachmad': 8079, 'sonja': 8080, 'pictwittercomtowarxwhuc': 8081, 'siren': 8082, 'pictwittercompvitbni': 8083, 'champagnegold': 8084, 'reconditionn': 8085, 'animasoft': 8086, 'specialist': 8087, 'gee': 8088, 'goodjob': 8089, 'playground': 8090, 'rolllll': 8091, 'iphonesareapieceof': 8092, 'idontrecommend': 8093, 'wagon': 8094, 'stancework': 8095, 'pound': 8096, 'dwindonesia': 8097, 'dwwatch': 8098, 'netflixandchil': 8099, 'instawatch': 8100, 'froot': 8101, 'cartefedelt': 8102, 'myvirtualgirlfriend': 8103, 'tselfi': 8104, 'facechang': 8105, 'toomanyselfi': 8106, 'alyssa': 8107, 'weirdchild': 8108, 'dontgetamac': 8109, 'waitwhat': 8110, 'thisisawarn': 8111, 'turkishgirl': 8112, 'instaturk': 8113, 'lalmerv': 8114, 'cabbag': 8115, 'shortvideo': 8116, 'whatdoesthismean': 8117, 'blackscreen': 8118, 'drum': 8119, 'massproduc': 8120, 'bubblelici': 8121, 'geometri': 8122, 'isi': 8123, 'jc': 8124, 'blew': 8125, 'static': 8126, 'gudget': 8127, 'meadowhal': 8128, 'anticip': 8129, 'quiver': 8130, 'yehey': 8131, 'tito': 8132, 'fidelitycard': 8133, 'thewhiteprincess': 8134, 'tudor': 8135, 'waroftheros': 8136, 'malamuteaddict': 8137, 'vscophil': 8138, 'blackfridayd': 8139, 'littleprincedanni': 8140, 'alaskanmalamut': 8141, 'malamut': 8142, 'newspictwittercomwtfinmxdjf': 8143, 'notahuski': 8144, 'kidnap': 8145, 'totallypawsomepup': 8146, 'vscodog': 8147, 'eastbay': 8148, 'bayarea': 8149, 'smilingdog': 8150, 'whosagoodboy': 8151, 'workth': 8152, 'upgradepictwittercomgxujjjmiwc': 8153, 'appstror': 8154, 'afraid': 8155, 'xxpictwittercomeynnvwyrq': 8156, 'kingdomheart': 8157, 'tearspictwittercomxmojjufjoy': 8158, 'holaaaa': 8159, 'blessedpictwittercomvlaanyx': 8160, 'nikosx': 8161, 'pictool': 8162, 'aarp': 8163, 'dearest': 8164, 'lifehack': 8165, 'mit': 8166, 'robert': 8167, 'maschk': 8168, 'robertmaschk': 8169, 'ifak': 8170, 'finallymadetheswitchpictwittercomokfaodev': 8171, 'losingfaith': 8172, 'hardyoupieceof': 8173, 'dontsuff': 8174, 'sonylaptop': 8175, 'materialisticboy': 8176, 'riau': 8177, 'pekanbaru': 8178, 'goooooo': 8179, 'xboxftw': 8180, 'actipatch': 8181, 'pictwittercomygsukec': 8182, 'brutal': 8183, 'alltim': 8184, 'planeteig': 8185, 'mack': 8186, 'lpictwittercomipcjypzx': 8187, 'pictwittercomcscuapj': 8188, 'tfio': 8189, 'meliiecandi': 8190, 'grandprim': 8191, 'felizmartespictwittercomxtldsjwpz': 8192, 'producttest': 8193, 'felizsemana': 8194, 'felizlun': 8195, 'mademan': 8196, 'felizdomingo': 8197, 'para': 8198, 'shoddywork': 8199, 'independentartistpictwittercomkbgnur': 8200, 'carcasa': 8201, 'platinum': 8202, 'psshare': 8203, 'pictwittercomvdgdctp': 8204, 'incept': 8205, 'ravpow': 8206, 'rpwd': 8207, 'manner': 8208, 'samsungdoom': 8209, 'caseahhh': 8210, 'mycard': 8211, 'fara': 8212, 'barcod': 8213, 'scanner': 8214, 'sobsess': 8215, 'onerepubl': 8216, 'nhlpictwittercomthekoqv': 8217, 'okcupid': 8218, 'albumcov': 8219, 'ean': 8220, 'qr': 8221, 'fettish': 8222, 'albumart': 8223, 'wakemeup': 8224, 'seller': 8225, 'filehub': 8226, 'acteur': 8227, 'pasadena': 8228, 'pictwittercomvcqrket': 8229, 'showreel': 8230, 'warnerpictwittercomgbeusyedm': 8231, 'extract': 8232, 'lmfaooooo': 8233, 'banded': 8234, 'helpingafriend': 8235, 'independencedaysal': 8236, 'infant': 8237, 'victorhugo': 8238, 'lesmiser': 8239, 'kardashian': 8240, 'weighin': 8241, 'nort': 8242, 'tastypictwittercomoxvqdjpsv': 8243, 'lolpictwittercomikrhumovz': 8244, 'bombay': 8245, 'whyyyyyyyy': 8246, 'maze': 8247, 'lite': 8248, 'submit': 8249, 'rejoic': 8250, 'yourea': 8251, 'atmashelt': 8252, 'attitud': 8253, 'dhantera': 8254, 'hometheatr': 8255, 'lifecoach': 8256, 'youarea': 8257, 'iphonexlaunchpictwittercomdymehrujq': 8258, 'tomm': 8259, 'havefunwithh': 8260, 'lifeisgood': 8261, 'ih': 8262, 'rihannah': 8263, 'thisisbullshit': 8264, 'woahhh': 8265, 'stuckinacontract': 8266, 'greatcallsamsungjitterbugtouchseniorsmartphon': 8267, 'dontbreakit': 8268, 'rehab': 8269, 'mehhh': 8270, 'mylook': 8271, 'smith': 8272, 'mylifepictwittercommmhcqyadb': 8273, 'eyesahahah': 8274, 'idontcar': 8275, 'photoeveryday': 8276, 'aspectsn': 8277, 'bellypierc': 8278, 'lightskin': 8279, 'giveawaypictwittercomglsmyykkow': 8280, 'msc': 8281, 'pipelin': 8282, 'whereismyphon': 8283, 'stopgivingmetherunaround': 8284, 'notthreeten': 8285, 'fdpictwittercomtedlrhvya': 8286, 'gameinsight': 8287, 'hahahaaa': 8288, 'trauser': 8289, 'maltes': 8290, 'alright': 8291, 'pictwittercomcxifijjg': 8292, 'knicker': 8293, 'instashoot': 8294, 'direzionevertical': 8295, 'badiphon': 8296, 'orderingfood': 8297, 'll': 8298, 'sirriious': 8299, 'cnt': 8300, 'vortex': 8301, 'discrep': 8302, 're': 8303, 'mmmmmm': 8304, 'jaijuic': 8305, 'dtfw': 8306, 'sod': 8307, 'fortwayn': 8308, 'pictwittercomdumbjjdl': 8309, 'wanttt': 8310, 'duuud': 8311, 'lotteri': 8312, 'ahol': 8313, 'anji': 8314, 'finder': 8315, 'pictwittercomxkoqkd': 8316, 'misspoki': 8317, 'wealth': 8318, 'pictwittercomduxhwscaa': 8319, 'boil': 8320, 'pictwittercomagfafb': 8321, 'bitcoinboy': 8322, 'yeg': 8323, 'honeymoon': 8324, 'tsukishimakei': 8325, 'carefreepictwittercomjwerwqvi': 8326, 'siguem': 8327, 'disservic': 8328, 'folloforfolloback': 8329, 'tumbar': 8330, 'martesdeganarseguidor': 8331, 'ent': 8332, 'mesientomascercadetsukki': 8333, 'ziess': 8334, 'basilica': 8335, 'horac': 8336, 'lblogger': 8337, 'illbuyadroidnext': 8338, 'instahaul': 8339, 'pictwittercomwruiudenqb': 8340, 'hedgehog': 8341, 'jd': 8342, 'photodaili': 8343, 'overcharg': 8344, 'homebar': 8345, 'pictwittercomlbmkjz': 8346, 'godaddi': 8347, 'outag': 8348, 'swagpictwittercomcdrrrnvg': 8349, 'instgramhub': 8350, 'biker': 8351, 'smackheadondesk': 8352, 'hazeley': 8353, 'del': 8354, 'acquisto': 8355, 'nationalselfieday': 8356, 'selfieday': 8357, 'eeeeee': 8358, 'selfiequeen': 8359, 'imagespictwittercombdxmaxf': 8360, 'ifeellikeakidagain': 8361, 'rebuild': 8362, 'shotoniphonpictwittercomeceiain': 8363, 'sonyartisan': 8364, 'frida': 8365, 'kahlo': 8366, 'whose': 8367, 'pictwittercomunjmqimpf': 8368, 'undo': 8369, 'antigua': 8370, 'pictwittercomeqlecrrhoz': 8371, 'fotografa': 8372, 'frasesqueirritan': 8373, 'travelpictwittercomawzshauqbk': 8374, 'dwaf': 8375, 'parrot': 8376, 'parakeet': 8377, 'feck': 8378, 'dolor': 8379, 'pencil': 8380, 'sarang': 8381, 'iphonegold': 8382, 'johor': 8383, 'hongmi': 8384, 'miui': 8385, 'migrain': 8386, 'ativ': 8387, 'whycruelworld': 8388, 'shaileshphotographypictwittercomrugpdxfpzk': 8389, 'yaay': 8390, 'abouttim': 8391, 'szoom': 8392, 'jwonli': 8393, 'haar': 8394, 'fiu': 8395, 'parkinglotview': 8396, 'nickii': 8397, 'jwgirl': 8398, 'affi': 8399, 'vistaprint': 8400, 'lll': 8401, 'hoesj': 8402, 'cashregisterrip': 8403, 'tabbi': 8404, 'hammerand': 8405, 'shotgunand': 8406, 'campu': 8407, 'babecaughtmesleep': 8408, 'hari': 8409, 'rofl': 8410, 'hdriphon': 8411, 'nothingworkswithm': 8412, 'wayl': 8413, 'lastofu': 8414, 'teamwindow': 8415, 'samsungcamera': 8416, 'tommi': 8417, 'marker': 8418, 'sharpi': 8419, 'straightforward': 8420, 'donotfallfortheirli': 8421, 'gagpictwittercomhzdiztho': 8422, 'ici': 8423, 'lavato': 8424, 'rekindl': 8425, 'pictwittercomldtgseg': 8426, 'emocion': 8427, 'razrd': 8428, 'estreno': 8429, 'dynasti': 8430, 'hairup': 8431, 'nomakeup': 8432, 'instakid': 8433, 'cutekidsclub': 8434, 'blacki': 8435, 'pictwittercomyxwdhcmfi': 8436, 'pottymouth': 8437, 'tame': 8438, 'fridayyy': 8439, 'pictwittercomoiajffndhv': 8440, 'eh': 8441, 'vanillacooki': 8442, 'lavat': 8443, 'brindl': 8444, 'ipadwatchand': 8445, 'ipadcas': 8446, 'sandart': 8447, 'godbless': 8448, 'bwlover': 8449, 'focus': 8450, 'lifepictwittercomgqvkynoax': 8451, 'poke': 8452, 'everyminut': 8453, 'swindl': 8454, 'freedomcarniv': 8455, 'telescreen': 8456, 'ordinari': 8457, 'dwindl': 8458, 'stuffpictwittercomosfbpgexq': 8459, 'ratsofinstagram': 8460, 'vidadura': 8461, 'cosmic': 8462, 'roguestorm': 8463, 'juizdefora': 8464, 'mri': 8465, 'gracierogu': 8466, 'appleiosupd': 8467, 'ivystorm': 8468, 'curtindo': 8469, 'lengthi': 8470, 'chicagonow': 8471, 'fexta': 8472, 'rua': 8473, 'pule': 8474, 'jule': 8475, 'mule': 8476, 'rude': 8477, 'ige': 8478, 'molecul': 8479, 'stopit': 8480, 'perphon': 8481, 'pap': 8482, 'pictwittercomynkbsxbf': 8483, 'bbloggerpictwittercomaimrggouij': 8484, 'pumpkinspic': 8485, 'donkey': 8486, 'avi': 8487, 'partiu': 8488, 'peiceof': 8489, 'shitphon': 8490, 'gamepictwittercomvkvhmkfi': 8491, 'flappybird': 8492, 'samsunggalaxyac': 8493, 'flappi': 8494, 'capinha': 8495, 'encantadora': 8496, 'verynic': 8497, 'fastandfuri': 8498, 'arabian': 8499, 'puasa': 8500, 'lurv': 8501, 'arabicey': 8502, 'drivebi': 8503, 'surreal': 8504, 'max': 8505, 'ju': 8506, 'readyforworldadventur': 8507, 'bestdealspictwittercommhxpmalf': 8508, 'yournewcas': 8509, 'jhawk': 8510, 'ign': 8511, 'bungi': 8512, 'onward': 8513, 'absenc': 8514, 'baphonica': 8515, 'liendja': 8516, 'sisterlov': 8517, 'kensington': 8518, 'rzkyff': 8519, 'rizkyff': 8520, 'windowscrash': 8521, 'iftar': 8522, 'popurri': 8523, 'igersmx': 8524, 'igersgdl': 8525, 'bersama': 8526, 'igersmexico': 8527, 'pictwittercomdhbnpgf': 8528, 'fmli': 8529, 'vscocammalaysia': 8530, 'znjq': 8531, 'ico': 8532, 'bum': 8533, 'scrummi': 8534, 'brad': 8535, 'chiwawa': 8536, 'picfortoday': 8537, 'cheesefreak': 8538, 'cctvpictwittercomeldycgcck': 8539, 'themoreyouknow': 8540, 'menu': 8541, 'oldshool': 8542, 'mash': 8543, 'bartergeek': 8544, 'bookmarket': 8545, 'pictwittercomudwimyrq': 8546, 'pork': 8547, 'factiti': 8548, 'boxberg': 8549, 'chime': 8550, 'cru': 8551, 'nederland': 8552, 'sparki': 8553, 'instadesign': 8554, 'stilt': 8555, 'doorentri': 8556, 'wandel': 8557, 'muchlovefromdd': 8558, 'magickeyboard': 8559, 'lpictwittercomnehcbqwp': 8560, 'moodmind': 8561, 'groet': 8562, 'woolworth': 8563, 'wooli': 8564, 'theshit': 8565, 'wifehusband': 8566, 'attach': 8567, 'furrtre': 8568, 'electrician': 8569, 'recit': 8570, 'instagadget': 8571, 'lockandrewmccabeup': 8572, 'prisonbitch': 8573, 'fuckedinth': 8574, 'xt': 8575, 'vaselin': 8576, 'hardtim': 8577, 'pricereduct': 8578, 'bigbobbasmans': 8579, 'thepokey': 8580, 'theyard': 8581, 'cigarett': 8582, 'thebighous': 8583, 'thejoint': 8584, 'hrhp': 8585, 'touchid': 8586, 'wehadagoodrun': 8587, 'fthi': 8588, 'rus': 8589, 'viciou': 8590, 'gifpictwittercomyzttdswpv': 8591, 'pspslim': 8592, 'pictwittercomvkaivshrj': 8593, 'downsiz': 8594, 'vl': 8595, 'nfc': 8596, 'healthstartpictwittercomisygcelm': 8597, 'shabbi': 8598, 'peacockb': 8599, 'mobilepictwittercomhpzxfzn': 8600, 'pea': 8601, 'contactless': 8602, 'sssssttttt': 8603, 'vogel': 8604, 'seamless': 8605, 'photobyclementino': 8606, 'theworst': 8607, 'noser': 8608, 'runkeep': 8609, 'lovingshop': 8610, 'snappier': 8611, 'superhd': 8612, 'viola': 8613, 'tabletand': 8614, 'musiccam': 8615, 'instadork': 8616, 'stnght': 8617, 'minggu': 8618, 'scale': 8619, 'yang': 8620, 'freeeeeeeeeeeeee': 8621, 'chopper': 8622, 'pictwittercomuluqufaelm': 8623, 'subhanallah': 8624, 'rotten': 8625, 'migrat': 8626, 'tgifpictwittercomoifgdpxr': 8627, 'applemusicsuck': 8628, 'streetwear': 8629, 'corporatehijack': 8630, 'hue': 8631, 'batterysuck': 8632, 'foxnew': 8633, 'wednesdaywisdompictwittercomzwckahslh': 8634, 'nbaplayoff': 8635, 'matt': 8636, 'adoro': 8637, 'scenekid': 8638, 'oil': 8639, 'biscuit': 8640, 'lolpictwittercomykfbchc': 8641, 'marcosrojopictwittercomfawxhtubev': 8642, 'yan': 8643, 'xmax': 8644, 'gambateh': 8645, 'newham': 8646, 'boylikeboy': 8647, 'monaco': 8648, 'wordsofgod': 8649, 'swedishfish': 8650, 'moschino': 8651, 'herbst': 8652, 'sterreich': 8653, 'wel': 8654, 'ignesia': 8655, 'filmmak': 8656, 'celeb': 8657, 'hellow': 8658, 'pel': 8659, 'redbridg': 8660, 'hitam': 8661, 'mediapictwittercomcffrwgdg': 8662, 'peclight': 8663, 'beetroot': 8664, 'shoploc': 8665, 'propper': 8666, 'endofstori': 8667, 'smog': 8668, 'somuch': 8669, 'avtweetup': 8670, 'avtweep': 8671, 'giveawaypictwittercombpgjryg': 8672, 'pictwittercomyfpeeslbg': 8673, 'dayno': 8674, 'greenhil': 8675, 'staytun': 8676, 'andrewmccab': 8677, 'pictwittercomrgjiklywh': 8678, 'enamorado': 8679, 'gayguy': 8680, 'pictwittercombunynyidj': 8681, 'puff': 8682, 'vape': 8683, 'instadict': 8684, 'aarhu': 8685, 'danmarkpictwittercompgkyhbhi': 8686, 'dreamhusband': 8687, 'orchid': 8688, 'crafthour': 8689, 'violatedpictwittercomukpmqbuyux': 8690, 'scottishbord': 8691, 'epcot': 8692, 'tweedvalley': 8693, 'homescreenchalleng': 8694, 'mihous': 8695, 'iphonexpictwittercomfueuhjtu': 8696, 'godblessm': 8697, 'appleiphonexgbspacegrayunlockeda': 8698, 'miyajima': 8699, 'worldheritag': 8700, 'goodmorninq': 8701, 'pictwittercomohlbcvg': 8702, 'rsnapshot': 8703, 'thunderbird': 8704, 'santiago': 8705, 'chriswint': 8706, 'yeeee': 8707, 'runaround': 8708, 'twc': 8709, 'paperweight': 8710, 'defectivemacbookpro': 8711, 'handmadehour': 8712, 'womaninbiz': 8713, 'numonday': 8714, 'fuckbesuch': 8715, 'amazonprm': 8716, 'passionpictwittercompiwgroiwn': 8717, 'giveawaypictwittercomdzooirsca': 8718, 'applebe': 8719, 'simpleth': 8720, 'cologn': 8721, 'arschsaft': 8722, 'bulmer': 8723, 'eon': 8724, 'pocketmoney': 8725, 'sonyxperiac': 8726, 'materialgirl': 8727, 'nerdlif': 8728, 'bestphon': 8729, 'geesh': 8730, 'chillaxn': 8731, 'scottish': 8732, 'everlunastor': 8733, 'feeder': 8734, 'wooden': 8735, 'periwinkl': 8736, 'gpictwittercomkulqoxgq': 8737, 'humanright': 8738, 'vac': 8739, 'sexier': 8740, 'thepowerpuffgirl': 8741, 'shipmenton': 8742, 'oliv': 8743, 'fedex': 8744, 'vehicl': 8745, 'legoland': 8746, 'sohohouseberlin': 8747, 'bidder': 8748, 'aunction': 8749, 'aritoaru': 8750, 'photohol': 8751, 'instruct': 8752, 'boohiss': 8753, 'teamalisa': 8754, 'yogapos': 8755, 'androidwear': 8756, 'tekkengod': 8757, 'pictwittercomwxbknbdfu': 8758, 'grandtheftauto': 8759, 'sasak': 8760, 'beanboot': 8761, 'aditya': 8762, 'stainboy': 8763, 'timburton': 8764, 'nikonista': 8765, 'bejewel': 8766, 'kumbh': 8767, 'utit': 8768, 'minor': 8769, 'perhap': 8770, 'goti': 8771, 'fallout': 8772, 'sweetest': 8773, 'countdown': 8774, 'sharehold': 8775, 'cynic': 8776, 'photostodiefor': 8777, 'pmwf': 8778, 'cinealta': 8779, 'woodcarvingpictwittercomiaelrvqnxg': 8780, 'footstep': 8781, 'goindia': 8782, 'ascend': 8783, 'dharma': 8784, 'setya': 8785, 'glitterglov': 8786, 'feg': 8787, 'xenovers': 8788, 'pictwittercomirjdikbka': 8789, 'hiroshimap': 8790, 'cereal': 8791, 'pilot': 8792, 'bacteri': 8793, 'lisboa': 8794, 'androidinstagram': 8795, 'japantrip': 8796, 'animalpictwittercomszkogwar': 8797, 'samuraiblu': 8798, 'pictwittercombnzgylboy': 8799, 'hellyeah': 8800, 'sw': 8801, 'spark': 8802, 'nana': 8803, 'weaven': 8804, 'sexpistol': 8805, 'playstationeurop': 8806, 'debbi': 8807, 'advocar': 8808, 'kuta': 8809, 'postworkout': 8810, 'dem': 8811, 'mungojerri': 8812, 'mmorpg': 8813, 'grammer': 8814, 'andyfrasco': 8815, 'bbq': 8816, 'russianbbq': 8817, 'yaaammmm': 8818, 'arginin': 8819, 'aboutdamntim': 8820, 'allday': 8821, 'yipeee': 8822, 'sundaymorningpictwittercomxjbqkywbg': 8823, 'galaxyphon': 8824, 'pictwittercomzfxqovl': 8825, 'writerslif': 8826, 'abah': 8827, 'stoppleas': 8828, 'vedio': 8829, 'mybirthday': 8830, 'scholl': 8831, 'bangladesh': 8832, 'asid': 8833, 'underton': 8834, 'racist': 8835, 'morechangesformoremoney': 8836, 'locan': 8837, 'kmrpocket': 8838, 'freeclla': 8839, 'surprisingli': 8840, 'applegram': 8841, 'teeth': 8842, 'milanes': 8843, 'fold': 8844, 'unitypictwittercomjmntbj': 8845, 'igersbrasil': 8846, 'antiquariu': 8847, 'sme': 8848, 'kanesma': 8849, 'earlygifttom': 8850, 'nomorecrackedscreen': 8851, 'mimic': 8852, 'froyo': 8853, 'follback': 8854, 'hood': 8855, 'nosleepthisweekend': 8856, 'tshirtdress': 8857, 'nyappi': 8858, 'motorolamotogsplusgbgblunargrey': 8859, 'funpictwittercomlytirdjpzj': 8860, 'yeaa': 8861, 'atheist': 8862, 'macpc': 8863, 'hardcas': 8864, 'makna': 8865, 'rtpictwittercomarocmqb': 8866, 'galaxyedg': 8867, 'cardiff': 8868, 'homeawayfromhom': 8869, 'psychic': 8870, 'koodo': 8871, 'everythingwhat': 8872, 'buddha': 8873, 'goodoldday': 8874, 'phonesuck': 8875, 'tshirtdesign': 8876, 'maid': 8877, 'blade': 8878, 'aid': 8879, 'tanktop': 8880, 'ade': 8881, 'lade': 8882, 'raid': 8883, 'camopictwittercomldkzwcn': 8884, 'andor': 8885, 'warlik': 8886, 'justout': 8887, 'tothemax': 8888, 'carepackag': 8889, 'technician': 8890, 'pictwittercombqqkbafr': 8891, 'bogor': 8892, 'forrealdo': 8893, 'lapictwittercompvrkmwgzcf': 8894, 'previous': 8895, 'uggghh': 8896, 'heathi': 8897, 'nintendoswitch': 8898, 'southerngirlproblem': 8899, 'photographerpictwittercomvtntitplzt': 8900, 'acknowledg': 8901, 'splatoon': 8902, 'martyarch': 8903, 'legitmomma': 8904, 'musicless': 8905, 'yurilovestheswitchpictwittercombkbknmkzm': 8906, 'srore': 8907, 'until': 8908, 'fridayfeelingpictwittercomdpjshrsn': 8909, 'hanogramcas': 8910, 'psslim': 8911, 'pictwittercomafclmrvai': 8912, 'capitnamrica': 8913, 'psx': 8914, 'imnotreallythatpal': 8915, 'boloco': 8916, 'ombr': 8917, 'gamerpictwittercomtwagapw': 8918, 'captainamerica': 8919, 'localis': 8920, 'fashioncas': 8921, 'spoof': 8922, 'taller': 8923, 'weareallindividu': 8924, 'letscopyandroid': 8925, 'firstselfi': 8926, 'proudown': 8927, 'pictwittercomiwxydmk': 8928, 'thegud': 8929, 'igersbsb': 8930, 'rizzo': 8931, 'bestofday': 8932, 'shirtless': 8933, 'sfree': 8934, 'killingmyself': 8935, 'iphoneograpgi': 8936, 'pictwittercompovrjxjth': 8937, 'pussypictwittercomkeiwra': 8938, 'lk': 8939, 'christima': 8940, 'empleo': 8941, 'picsofday': 8942, 'esp': 8943, 'cecy': 8944, 'pictwittercommyvbkpxq': 8945, 'instalo': 8946, 'ashtag': 8947, 'lilithpgh': 8948, 'chrisbrown': 8949, 'walkingday': 8950, 'weekendday': 8951, 'springday': 8952, 'thgener': 8953, 'photooftheweek': 8954, 'vii': 8955, 'hereiti': 8956, 'parfait': 8957, 'financialaid': 8958, 'rocio': 8959, 'pictwesbpictwittercomfehbcninvp': 8960, 'dayoff': 8961, 'fianc': 8962, 'lowfat': 8963, 'prison': 8964, 'umm': 8965, 'ba': 8966, 'dinosaur': 8967, 'coil': 8968, 'pictwittercomzunhhdhi': 8969, 'dmv': 8970, 'waitingoveranhour': 8971, 'fuappl': 8972, 'veryl': 8973, 'darthjobsstrikesagain': 8974, 'entourag': 8975, 'bourbon': 8976, 'synch': 8977, 'sunpoli': 8978, 'pictwittercomgrcohbsc': 8979, 'uniti': 8980, 'bareminimum': 8981, 'shouldv': 8982, 'pictwittercomhwxpuracjl': 8983, 'smileykidd': 8984, 'eseri': 8985, 'compleanno': 8986, 'ohyeah': 8987, 'hob': 8988, 'diablo': 8989, 'greatnessawait': 8990, 'excitedpictwittercomykyjbyhp': 8991, 'hb': 8992, 'nasimibeach': 8993, 'babolat': 8994, 'senza': 8995, 'instramod': 8996, 'companion': 8997, 'ibra': 8998, 'dreamjob': 8999, 'poliedro': 9000, 'itunesradio': 9001, 'nowpictwittercomhqmbkjuci': 9002, 'bruffback': 9003, 'maracay': 9004, 'marca': 9005, 'agent': 9006, 'wishishadagalaxi': 9007, 'sevend': 9008, 'aragua': 9009, 'swearif': 9010, 'cclosaviador': 9011, 'constel': 9012, 'ccparquelosaviador': 9013, 'losaviadorespictwittercomobdlxfgcqa': 9014, 'mychristmaswish': 9015, 'sumando': 9016, 'lamejoratencion': 9017, 'whitefrost': 9018, 'venta': 9019, 'ven': 9020, 'tremendo': 9021, 'fotoru': 9022, 'newartist': 9023, 'anton': 9024, 'lebron': 9025, 'yelchin': 9026, 'kobe': 9027, 'blackmamba': 9028, 'caa': 9029, 'bump': 9030, 'with': 9031, 'blocki': 9032, 'gsb': 9033, 'alpa': 9034, 'griffen': 9035, 'gusta': 9036, 'chrristmasev': 9037, 'xcx': 9038, 'cabello': 9039, 'campeditout': 9040, 'webzin': 9041, 'designerbag': 9042, 'justfun': 9043, 'armcandi': 9044, 'luxurybag': 9045, 'igph': 9046, 'nowtbetterthanipod': 9047, 'roman': 9048, 'gojiberri': 9049, 'screwyoujak': 9050, 'chokeberpictwittercomlwfhxtakp': 9051, 'booo': 9052, 'pictwittercomxyuvw': 9053, 'picofday': 9054, 'ffpictwittercompmivqqvdxi': 9055, 'instapict': 9056, 'hardwareupgradespictwittercompuhsqgmri': 9057, 'beachwer': 9058, 'thegooddionsaur': 9059, 'blazeit': 9060, 'kissemkon': 9061, 'galaxypictwittercomqlxxcicyf': 9062, 'gunslug': 9063, 'closedmonday': 9064, 'thsee': 9065, 'inocent': 9066, 'appleblueberrylemoncaramel': 9067, 'seasonalcrisp': 9068, 'allamerican': 9069, 'reunion': 9070, 'injunct': 9071, 'sanohltd': 9072, 'pontodepaz': 9073, 'photoofday': 9074, 'camila': 9075, 'evan': 9076, 'osama': 9077, 'canicustomorderonepl': 9078, 'rubi': 9079, 'jose': 9080, 'affliat': 9081, 'felin': 9082, 'amp': 9083, 'delimma': 9084, 'suckkkksssss': 9085, 'einstein': 9086, 'christmastim': 9087, 'horor': 9088, 'violenc': 9089, 'chronicl': 9090, 'saddam': 9091, 'reveillon': 9092, 'bahahahahahahah': 9093, 'tranna': 9094, 'ei': 9095, 'recycl': 9096, 'fuckup': 9097, 'gradpres': 9098, 'fuckingpump': 9099, 'skidubai': 9100, 'macbookpropictwittercommzcxkjuwqf': 9101, 'happynewyear': 9102, 'elodiewebdesign': 9103, 'webdesign': 9104, 'webmast': 9105, 'facetimem': 9106, 'nouvelleann': 9107, 'nouvelleanne': 9108, 'rewardingmyself': 9109, 'somanycomplaint': 9110, 'wantmyhtcback': 9111, 'fuckedup': 9112, 'ddb': 9113, 'nutritionplan': 9114, 'brenoswag': 9115, 'patricedeguign': 9116, 'instagramarabcam': 9117, 'pow': 9118, 'rtto': 9119, 'fab': 9120, 'fuckinsiri': 9121, 'northkoreanhack': 9122, 'slowroast': 9123, 'lamb': 9124, 'sundayroast': 9125, 'munch': 9126, 'br': 9127, 'marjdiari': 9128, 'overthemoon': 9129, 'pr': 9130, 'beh': 9131, 'jar': 9132, 'pictwittercompzyyaccix': 9133, 'buenosair': 9134, 'argentina': 9135, 'bestofheday': 9136, 'gifttoself': 9137, 'fabol': 9138, 'micromax': 9139, 'gfd': 9140, 'allthos': 9141, 'googledream': 9142, 'tedbak': 9143, 'stayhealthi': 9144, 'didalittleweepictwittercomzznjfjw': 9145, 'steel': 9146, 'galaxyproblem': 9147, 'instaandroid': 9148, 'ubbl': 9149, 'peel': 9150, 'met': 9151, 'acquir': 9152, 'theday': 9153, 'customerexperiencepictwittercomscykhvhz': 9154, 'leopardprint': 9155, 'jjdaili': 9156, 'exyno': 9157, 'veithani': 9158, 'hospitsl': 9159, 'prao': 9160, 'oneplusdiwalidash': 9161, 'gusto': 9162, 'photobomb': 9163, 'peanutbutt': 9164, 'stainless': 9165, 'gummi': 9166, 'roughli': 9167, 'karebear': 9168, 'trio': 9169, 'virtuel': 9170, 'gummibr': 9171, 'gamerpictwittercomvkljrivug': 9172, 'lategram': 9173, 'jjhub': 9174, 'hesa': 9175, 'ghv': 9176, 'hull': 9177, 'incasearmband': 9178, 'unitedkingdom': 9179, 'moodi': 9180, 'sorrysamsung': 9181, 'wifigg': 9182, 'nant': 9183, 'twothre': 9184, 'akey': 9185, 'grassland': 9186, 'workplac': 9187, 'happpppypictwittercomdvzjkphvh': 9188, 'topsel': 9189, 'bestproductspictwittercomjielsar': 9190, 'californiadream': 9191, 'pictwittercomxyqsnjgrn': 9192, 'instasunday': 9193, 'pict': 9194, 'instagramandroid': 9195, 'cantlivewithoutit': 9196, 'cruis': 9197, 'californiagirl': 9198, 'ingredi': 9199, 'googletransl': 9200, 'mazdamx': 9201, 'kerrywick': 9202, 'losmejor': 9203, 'frig': 9204, 'township': 9205, 'angst': 9206, 'heel': 9207, 'iheartradio': 9208, 'shadesofmoonlight': 9209, 'onscreen': 9210, 'kerrylewi': 9211, 'williamsburg': 9212, 'vendedor': 9213, 'xempr': 9214, 'phonecasepictwittercomurwghxa': 9215, 'kahapon': 9216, 'swissalp': 9217, 'awwww': 9218, 'androidproblem': 9219, 'haterelationship': 9220, 'jobsdead': 9221, 'zandzuig': 9222, 'iamsilli': 9223, 'sierra': 9224, 'hight': 9225, 'pictwittercomqjkelfyjyh': 9226, 'insthalik': 9227, 'lili': 9228, 'helpdesk': 9229, 'amazingli': 9230, 'neuv': 9231, 'pinkish': 9232, 'etat': 9233, 'insthagram': 9234, 'applenofutur': 9235, 'directli': 9236, 'penang': 9237, 'prosecco': 9238, 'georgetown': 9239, 'exsist': 9240, 'materialisticne': 9241, 'brotherlylov': 9242, 'ucdavi': 9243, 'thefizzqueen': 9244, 'gam': 9245, 'invit': 9246, 'gregori': 9247, 'mshin': 9248, 'mywindowsphon': 9249, 'wayback': 9250, 'instalif': 9251, 'jhb': 9252, 'nutribullet': 9253, 'bypictwittercomwautkfgi': 9254, 'sobul': 9255, 'valentinespictwittercomourpmcoy': 9256, 'animalshot': 9257, 'sexaayi': 9258, 'animallov': 9259, 'mustfollow': 9260, 'iter': 9261, 'weeniedog': 9262, 'naptim': 9263, 'survivor': 9264, 'checkout': 9265, 'piura': 9266, 'travelporn': 9267, 'igerspiura': 9268, 'fatal': 9269, 'mkx': 9270, 'pictwittercomvnwsqrcitz': 9271, 'catlik': 9272, 'otherhalf': 9273, 'biff': 9274, 'giveawaypictwittercomglpqygbjsd': 9275, 'tripl': 9276, 'muar': 9277, 'label': 9278, 'hafizh': 9279, 'shakeshack': 9280, 'pictwittercomowuvaiqci': 9281, 'rca': 9282, 'rival': 9283, 'lslpictwittercomipcsim': 9284, 'overiphon': 9285, 'prez': 9286, 'rst': 9287, 'procedur': 9288, 'entertainmentecosystem': 9289, 'supacamx': 9290, 'pictwittercomhppkymow': 9291, 'pictwittercomjjhwfysx': 9292, 'oneyey': 9293, 'countryhous': 9294, 'chowchow': 9295, 'evangelist': 9296, 'awk': 9297, 'beam': 9298, 'babypink': 9299, 'shirti': 9300, 'imissy': 9301, 'ide': 9302, 'flannel': 9303, 'redplaid': 9304, 'blondehai': 9305, 'feelingpictwittercomcschjerex': 9306, 'wala': 9307, 'renew': 9308, 'longdist': 9309, 'dairymilk': 9310, 'chipotl': 9311, 'munchhhhhh': 9312, 'relationshipgo': 9313, 'kasino': 9314, 'wakeup': 9315, 'wikomobil': 9316, 'kenya': 9317, 'beautifulday': 9318, 'christ': 9319, 'fixi': 9320, 'pictwittercomvorljntqc': 9321, 'sreblogg': 9322, 'toanycameatonc': 9323, 'soja': 9324, 'upgradesync': 9325, 'pictwittercomwggkocz': 9326, 'shat': 9327, 'pictwittercomkfusnmgp': 9328, 'litet': 9329, 'sarcastivil': 9330, 'milletinadamdenizlid': 9331, 'langeweil': 9332, 'gnr': 9333, 'hab': 9334, 'ohmann': 9335, 'lulipeacepictwittercombadhyuad': 9336, 'medicin': 9337, 'firsttim': 9338, 'miglight': 9339, 'orangecaf': 9340, 'jogaprael': 9341, 'legominifigur': 9342, 'brickcentr': 9343, 'noticeboard': 9344, 'butilovemyith': 9345, 'brickinsid': 9346, 'telephon': 9347, 'defiant': 9348, 'pureinnov': 9349, 'harvest': 9350, 'applesauc': 9351, 'chide': 9352, 'thinkenpictwittercomcqcdpumxz': 9353, 'weaker': 9354, 'dose': 9355, 'picoftheafternoon': 9356, 'anxieti': 9357, 'burgundi': 9358, 'iphonisia': 9359, 'likethisphoto': 9360, 'pictwittercomnxtrvqdwpo': 9361, 'artpictwittercombasejzfct': 9362, 'prilaga': 9363, 'remo': 9364, 'vitamin': 9365, 'neue': 9366, 'koreamakesbestphon': 9367, 'pictwittercomgpyuftiv': 9368, 'ilovepandora': 9369, 'robotthx': 9370, 'instagrampictwittercomqhrdobrm': 9371, 'instantunlock': 9372, 'handi': 9373, 'upscal': 9374, 'venetian': 9375, 'nfb': 9376, 'enchant': 9377, 'zapio': 9378, 'athensgreec': 9379, 'appleairport': 9380, 'neu': 9381, 'pictwittercomnxiotcmf': 9382, 'bmm': 9383, 'pictwittercomauuhkxbl': 9384, 'itsabouttim': 9385, 'freeappspictwittercomawdqysqlzg': 9386, 'pictwittercomdwdlvoup': 9387, 'onpic': 9388, 'idaili': 9389, 'forstal': 9390, 'handykauf': 9391, 'notthefruit': 9392, 'thebrand': 9393, 'twenti': 9394, 'findconvers': 9395, 'simplytweet': 9396, 'pictwittercomvvuseabji': 9397, 'sleepingbabypictwittercomdadsrrb': 9398, 'suicidesquad': 9399, 'harleyquinn': 9400, 'gogreen': 9401, 'menstyl': 9402, 'vicpaul': 9403, 'quackiest': 9404, 'quickest': 9405, 'mistyp': 9406, 'spell': 9407, 'retain': 9408, 'ninong': 9409, 'ifitmodel': 9410, 'fashioninspir': 9411, 'menfashion': 9412, 'dam': 9413, 'wana': 9414, 'tm': 9415, 'lima': 9416, 'peru': 9417, 'asii': 9418, 'goodwork': 9419, 'aveng': 9420, 'instagalaxi': 9421, 'pictwittercompfkjqtbl': 9422, 'cni': 9423, 'telangana': 9424, 'hyderabad': 9425, 'wedeserveit': 9426, 'damm': 9427, 'pictwittercomttjruzxzh': 9428, 'unexpect': 9429, 'naturepictwittercomxpfayfiim': 9430, 'madelief': 9431, 'thingsilov': 9432, 'instagramaddict': 9433, 'sonyasii': 9434, 'iseeyourdream': 9435, 'lid': 9436, 'carphonewarehousepictwittercomtueasmthcw': 9437, 'resend': 9438, 'pictwittercomycugwjopq': 9439, 'newmusicpictwittercomtzvzxg': 9440, 'starhub': 9441, 'volt': 9442, 'brill': 9443, 'quiet': 9444, 'restrict': 9445, 'rippingpeopleoff': 9446, 'smartpictwittercomstzylvwcwh': 9447, 'moutainlion': 9448, 'mikeelbeta': 9449, 'elija': 9450, 'itard': 9451, 'onlineshoppingpictwittercompjcygknco': 9452, 'motoxthgenerationwithhandsfre': 9453, 'fixitasap': 9454, 'teamminibar': 9455, 'pictwittercompmikmsvh': 9456, 'leanamari': 9457, 'screenshotspam': 9458, 'defend': 9459, 'androidcrew': 9460, 'pictwittercomcturnhlf': 9461, 'mayfair': 9462, 'confeder': 9463, 'ga': 9464, 'southernmen': 9465, 'clubdrunkvin': 9466, 'section': 9467, 'lgbt': 9468, 'artpop': 9469, 'telli': 9470, 'appt': 9471, 'selfieee': 9472, 'stockpil': 9473, 'gadgetfreak': 9474, 'tekki': 9475, 'livelif': 9476, 'investor': 9477, 'stocksmarket': 9478, 'accesori': 9479, 'bornthisway': 9480, 'hiddenpictwittercomctsfxfwr': 9481, 'stocktonscholar': 9482, 'stockport': 9483, 'stockmarket': 9484, 'acceler': 9485, 'turntabletuesday': 9486, 'muahh': 9487, 'retent': 9488, 'pictwittercomodosytgabd': 9489, 'vitaminsea': 9490, 'miomiomio': 9491, 'sonynex': 9492, 'pictwittercomblehebbrrn': 9493, 'tjr': 9494, 'rave': 9495, 'goodlook': 9496, 'supercool': 9497, 'molli': 9498, 'instavid': 9499, 'youbeauti': 9500, 'techjunki': 9501, 'tagfor': 9502, 'whyyyyi': 9503, 'selfiesaturday': 9504, 'oneaday': 9505, 'fullest': 9506, 'pictwittercomgfkcomqm': 9507, 'hid': 9508, 'panpictwittercomoaaemim': 9509, 'roger': 9510, 'tiffani': 9511, 'sterl': 9512, 'poptart': 9513, 'lure': 9514, 'rfj': 9515, 'workingi': 9516, 'telu': 9517, 'minomonst': 9518, 'cid': 9519, 'kie': 9520, 'uninstal': 9521, 'theirempsareemp': 9522, 'yid': 9523, 'disgruntledcustom': 9524, 'fib': 9525, 'pioneer': 9526, 'iphonepictwittercomavvqnjfp': 9527, 'musicevideo': 9528, 'rednos': 9529, 'serato': 9530, 'mohegansuncasino': 9531, 'imho': 9532, 'washingmachin': 9533, 'screwthat': 9534, 'multi': 9535, 'dib': 9536, 'rib': 9537, 'bib': 9538, 'jib': 9539, 'nib': 9540, 'sib': 9541, 'shittiest': 9542, 'estrenando': 9543, 'sonycam': 9544, 'sonymirrorless': 9545, 'alligatorskin': 9546, 'dun': 9547, 'sundaybrunch': 9548, 'sundaytimesza': 9549, 'pictwittercomboujgkxccb': 9550, 'sonyphotograph': 9551, 'desiblogg': 9552, 'bellandross': 9553, 'makeupaddict': 9554, 'allig': 9555, 'popu': 9556, 'followmeback': 9557, 'imstupid': 9558, 'crocodil': 9559, 'ww': 9560, 'bellross': 9561, 'alligatorstrap': 9562, 'frontfacingcamera': 9563, 'flockoverdos': 9564, 'punkshow': 9565, 'thofjuli': 9566, 'doha': 9567, 'qtr': 9568, 'rocki': 9569, 'blaze': 9570, 'shrine': 9571, 'noschool': 9572, 'sleepingin': 9573, 'pictwittercomuwftofpwm': 9574, 'sohappi': 9575, 'spoiiiiil': 9576, 'mymood': 9577, 'routor': 9578, 'oppopig': 9579, 'sakranti': 9580, 'poloralphlauren': 9581, 'iosdevelopmentfrustr': 9582, 'hateipad': 9583, 'deem': 9584, 'bestieverhad': 9585, 'gah': 9586, 'temptat': 9587, 'economi': 9588, 'jbb': 9589, 'zebra': 9590, 'londongrad': 9591, 'crocodilestrap': 9592, 'bellrosswatch': 9593, 'iphonegram': 9594, 'choorma': 9595, 'chern': 9596, 'advertfail': 9597, 'opposcam': 9598, 'oohh': 9599, 'sprintphilli': 9600, 'pictwittercomtqzyrtmi': 9601, 'south': 9602, 'nikejordan': 9603, 'deserveit': 9604, 'airjordan': 9605, 'esionihcpictwittercomkovkhcb': 9606, 'pictwittercomqgrwej': 9607, 'contort': 9608, 'wre': 9609, 'capabl': 9610, 'elgatopictwittercomobarnxb': 9611, 'streamsam': 9612, 'polo': 9613, 'lido': 9614, 'sanko': 9615, 'mua': 9616, 'pictwittercomyhpivp': 9617, 'neverappleagainpictwittercomskqgmrr': 9618, 'notiphon': 9619, 'pictwittercomvfvelh': 9620, 'breakfastpictwittercomfcglbg': 9621, 'brazillianboy': 9622, 'neck': 9623, 'isl': 9624, 'extens': 9625, 'raini': 9626, 'wight': 9627, 'skinnydip': 9628, 'dethron': 9629, 'giveawaypictwittercomnlpeqhqop': 9630, 'galaxypictwittercomnmmcaicum': 9631, 'acct': 9632, 'justawoman': 9633, 'joleversuch': 9634, 'expans': 9635, 'videospiel': 9636, 'ballern': 9637, 'freu': 9638, 'midterm': 9639, 'geekiest': 9640, 'sigmalen': 9641, 'fim': 9642, 'grin': 9643, 'valescapopozuda': 9644, 'covent': 9645, 'ilik': 9646, 'tuogh': 9647, 'aaron': 9648, 'zack': 9649, 'hq': 9650, 'justsayin': 9651, 'darl': 9652, 'creatur': 9653, 'uhr': 9654, 'upstat': 9655, 'applepick': 9656, 'orchard': 9657, 'followmeto': 9658, 'messang': 9659, 'othon': 9660, 'pictwittercomdoynpi': 9661, 'turtleshead': 9662, 'imapc': 9663, 'liz': 9664, 'fut': 9665, 'teck': 9666, 'nomansski': 9667, 'beacpictwittercomjlvwfxj': 9668, 'livewallpap': 9669, 'thankyousanta': 9670, 'cattivissimom': 9671, 'firstdayfal': 9672, 'natureisawesom': 9673, 'natureisamaz': 9674, 'boar': 9675, 'gore': 9676, 'sword': 9677, 'smarter': 9678, 'haaaappi': 9679, 'pictwittercombmzvdpqfbz': 9680, 'iphotographi': 9681, 'hatemacbook': 9682, 'missmymus': 9683, 'crapbook': 9684, 'daal': 9685, 'makar': 9686, 'planpictwittercomtbincqtfd': 9687, 'golfclub': 9688, 'musictheori': 9689, 'height': 9690, 'musicproduc': 9691, 'hundr': 9692, 'iib': 9693, 'mubarrak': 9694, 'tso': 9695, 'magnific': 9696, 'chudleigh': 9697, 'whoa': 9698, 'attsux': 9699, 'histdatapixapp': 9700, 'glitchey': 9701, 'dutch': 9702, 'pictwittercomgpquhlcx': 9703, 'followfollowpictwittercomaqqfvjbio': 9704, 'pictwittercomjiykjnp': 9705, 'machett': 9706, 'solteiro': 9707, 'noch': 9708, 'noit': 9709, 'boa': 9710, 'shittestphoneev': 9711, 'yadumbdawg': 9712, 'johni': 9713, 'greensmoothi': 9714, 'misik': 9715, 'signatur': 9716, 'autograph': 9717, 'redund': 9718, 'komatsuna': 9719, 'grapefruit': 9720, 'period': 9721, 'pictwittercomaynfjdj': 9722, 'notahappycustom': 9723, 'egypt': 9724, 'luckili': 9725, 'instagrampictwittercomukucvmw': 9726, 'southampton': 9727, 'germanshepherdpuppi': 9728, 'cheater': 9729, 'icould': 9730, 'littlesist': 9731, 'unfaith': 9732, 'instaglam': 9733, 'risa': 9734, 'rostro': 9735, 'felizhappi': 9736, 'siempr': 9737, 'amanda': 9738, 'takingnot': 9739, 'timecapsul': 9740, 'winvictorylov': 9741, 'webhallen': 9742, 'iphonecasepictwittercomqoagdkmpp': 9743, 'babyyi': 9744, 'fortheplayerspictwittercomkiajgqkzx': 9745, 'softbal': 9746, 'residentevil': 9747, 'poolsid': 9748, 'playstationvr': 9749, 'bestest': 9750, 'eksd': 9751, 'dann': 9752, 'xf': 9753, 'worstcustomerservic': 9754, 'hai': 9755, 'adorb': 9756, 'thisisawesom': 9757, 'newbi': 9758, 'laundromat': 9759, 'xb': 9760, 'notswag': 9761, 'niggasbelik': 9762, 'nbl': 9763, 'thestrugl': 9764, 'strugl': 9765, 'comicspictwittercomfxiaiuiffq': 9766, 'intellig': 9767, 'wovennylon': 9768, 'mmmbye': 9769, 'mon': 9770, 'confer': 9771, 'applewatchpictwittercomglddfrbk': 9772, 'gaydaddi': 9773, 'gayuk': 9774, 'applewach': 9775, 'nylonband': 9776, 'phot': 9777, 'needmylaptop': 9778, 'bellrosswatchpictwittercomcofxsyb': 9779, 'interraci': 9780, 'webcom': 9781, 'montgomerymal': 9782, 'galaxystudiousa': 9783, 'shashtyabdhi': 9784, 'sobor': 9785, 'newband': 9786, 'withdraw': 9787, 'masseng': 9788, 'donk': 9789, 'bagi': 9790, 'appleholicpictwittercomhdfezyugku': 9791, 'applewatchband': 9792, 'gaydeutschland': 9793, 'gaycph': 9794, 'gaydenmark': 9795, 'nikk': 9796, 'aol': 9797, 'forbidden': 9798, 'prohibido': 9799, 'iphoneonl': 9800, 'demonstr': 9801, 'shown': 9802, 'ought': 9803, 'cameo': 9804, 'driveclub': 9805, 'bepictwittercomyijokrw': 9806, 'teneri': 9807, 'enamorada': 9808, 'yicki': 9809, 'icki': 9810, 'nappyboy': 9811, 'headlinenew': 9812, 'bestoft': 9813, 'tshirtspictwittercomanzeqi': 9814, 'tpain': 9815, 'lifeisstrang': 9816, 'wineyard': 9817, 'yogyakarta': 9818, 'sii': 9819, 'wherearemyplaylist': 9820, 'nodrm': 9821, 'philli': 9822, 'phillygram': 9823, 'adeyhd': 9824, 'imstadaili': 9825, 'magicmous': 9826, 'worten': 9827, 'hhhhh': 9828, 'spiel': 9829, 'ji': 9830, 'how': 9831, 'wiz': 9832, 'veganpictwittercomoeptfkf': 9833, 'fuckthi': 9834, 'pictwittercomdnwjuwuaog': 9835, 'shiningsag': 9836, 'swanki': 9837, 'undelet': 9838, 'pictwittercomlylkdeaivl': 9839, 'torus': 9840, 'intim': 9841, 'sink': 9842, 'galaxytablet': 9843, 'zoomer': 9844, 'furbyboom': 9845, 'hateeveryon': 9846, 'twitterworld': 9847, 'pictwittercomhxlodjjyq': 9848, 'shoppingbag': 9849, 'vapid': 9850, 'mostli': 9851, 'stilll': 9852, 'dialibr': 9853, 'gorra': 9854, 'duff': 9855, 'jetsettravel': 9856, 'tipo': 9857, 'playstor': 9858, 'baglit': 9859, 'intellectualproperti': 9860, 'ith': 9861, 'douchebagcompani': 9862, 'astound': 9863, 'flavor': 9864, 'iosbeta': 9865, 'ubuntu': 9866, 'toda': 9867, 'donat': 9868, 'redpictwittercomfcbzlaji': 9869, 'yeayrt': 9870, 'deliciu': 9871, 'unbreak': 9872, 'yeahstay': 9873, 'heartbroken': 9874, 'pictwittercomnmwzqlphtu': 9875, 'lessonlearn': 9876, 'scream': 9877, 'gabala': 9878, 'baku': 9879, 'azerbaijan': 9880, 'smallmerci': 9881, 'supportm': 9882, 'grime': 9883, 'buttonsthatwork': 9884, 'zoooom': 9885, 'shinyshini': 9886, 'zoj': 9887, 'swgg': 9888, 'fridayfeelingpictwittercompumfhyhv': 9889, 'instapos': 9890, 'recal': 9891, 'freepictwittercomjqmhsvem': 9892, 'teknoax': 9893, 'pureevil': 9894, 'pictwittercompqtsmrqka': 9895, 'dogwalk': 9896, 'queenvictoria': 9897, 'queenbe': 9898, 'trevor': 9899, 'fawn': 9900, 'chicca': 9901, 'sundayfoul': 9902, 'googleandroid': 9903, 'therafcav': 9904, 'hometheat': 9905, 'sonysxrd': 9906, 'vplvwe': 9907, 'sonyk': 9908, 'rafcav': 9909, 'mondaypictwittercompdbahbpwj': 9910, 'tequilajack': 9911, 'skyporn': 9912, 'danonino': 9913, 'foodxm': 9914, 'otp': 9915, 'makan': 9916, 'kampung': 9917, 'longbeach': 9918, 'pictwittercomkxxkmrw': 9919, 'sweeet': 9920, 'arghhhhh': 9921, 'risk': 9922, 'orangecat': 9923, 'prayersofatwentysometh': 9924, 'itsalot': 9925, 'whoop': 9926, 'fluffi': 9927, 'mastercl': 9928, 'pictwittercomhqduxzvgq': 9929, 'galeanastudio': 9930, 'paintingbrush': 9931, 'supris': 9932, 'bien': 9933, 'habd': 9934, 'yi': 9935, 'pictwittercomicrognz': 9936, 'sethrogen': 9937, 'sonyu': 9938, 'fuckthemal': 9939, 'fuq': 9940, 'chic': 9941, 'landscapepictwittercombipigmkg': 9942, 'krakow': 9943, 'chillout': 9944, 'driodmaxx': 9945, 'sickbutstillhappi': 9946, 'besid': 9947, 'sonyxperiam': 9948, 'nophoto': 9949, 'haywardgalleri': 9950, 'pictwittercomefqxzimo': 9951, 'theresp': 9952, 'desir': 9953, 'withapass': 9954, 'spendingmoney': 9955, 'oop': 9956, 'spictwittercomjjmgobfji': 9957, 'denounc': 9958, 'mace': 9959, 'butwantmypodcast': 9960, 'jprime': 9961, 'mayor': 9962, 'reluctantli': 9963, 'oishii': 9964, 'wedg': 9965, 'readyforlondon': 9966, 'instagopictwittercomrcwcbsmen': 9967, 'idfa': 9968, 'teddybear': 9969, 'creation': 9970, 'snowleopard': 9971, 'uaeu': 9972, 'galaxygear': 9973, 'relinquish': 9974, 'nanci': 9975, 'electrolux': 9976, 'circleheart': 9977, 'iphoneyour': 9978, 'zpictwittercomgskxbmkrto': 9979, 'wufffyouuu': 9980, 'tagslik': 9981, 'learningtocookagain': 9982, 'como': 9983, 'ecxit': 9984, 'kfn': 9985, 'gsupgrat': 9986, 'sailintothesun': 9987, 'fyld': 9988, 'immakingfood': 9989, 'betray': 9990, 'pickuplin': 9991, 'alwayscrash': 9992, 'cpu': 9993, 'souvenir': 9994, 'canterburi': 9995, 'carnev': 9996, 'travelvib': 9997, 'womenw': 9998, 'wastebatteri': 9999, 'northern': 10000, 'soslow': 10001, 'pictwittercommrwamcfgvp': 10002, 'longtim': 10003, 'instaedit': 10004, 'iosnesia': 10005, 'joker': 10006, 'galaxysmini': 10007, 'onlinecommun': 10008, 'blueberri': 10009, 'pictwittercomulauvrpn': 10010, 'clickiti': 10011, 'pictwesbpictwittercomecedhqiin': 10012, 'vanilla': 10013, 'paular': 10014, 'ignpictwittercommadmsbw': 10015, 'robot': 10016, 'goodstartoftheday': 10017, 'freezer': 10018, 'lair': 10019, 'theplay': 10020, 'boe': 10021, 'americanair': 10022, 'lslpictwittercomlvfbrlickj': 10023, 'loveeeee': 10024, 'uncertifi': 10025, 'updatedmi': 10026, 'webapp': 10027, 'feather': 10028, 'stunt': 10029, 'updatesy': 10030, 'spendi': 10031, 'pixar': 10032, 'theincred': 10033, 'havili': 10034, 'incipio': 10035, 'iosmi': 10036, 'emul': 10037, 'foul': 10038, 'befre': 10039, 'competitor': 10040, 'surfacepro': 10041, 'pictwittercomcvibdzjrxw': 10042, 'itphotographi': 10043, 'bea': 10044, 'completli': 10045, 'tmrw': 10046, 'randomthought': 10047, 'holidayspictwittercomqskhreeoo': 10048, 'oona': 10049, 'preschoolersofig': 10050, 'llfe': 10051, 'impecc': 10052, 'gettig': 10053, 'amomuitotudoisso': 10054, 'wahooooo': 10055, 'goodjobsoni': 10056, 'nailswag': 10057, 'wetnwild': 10058, 'colorclub': 10059, 'pictwittercommktaydasi': 10060, 'grew': 10061, 'alt': 10062, 'pictwittercomqtfhcymq': 10063, 'brom': 10064, 'shipment': 10065, 'psone': 10066, 'bandicoot': 10067, 'minolta': 10068, 'ciol': 10069, 'mathcl': 10070, 'momof': 10071, 'sonyxperiamaqua': 10072, 'dd': 10073, 'quierosonyxperiazpictwittercompdsmtuiufx': 10074, 'carpa': 10075, 'chegou': 10076, 'pruebadeagua': 10077, 'acuario': 10078, 'sinist': 10079, 'gander': 10080, 'alrdi': 10081, 'newaddit': 10082, 'makin': 10083, 'luff': 10084, 'vneck': 10085, 'pssuck': 10086, 'casepictwittercomswtdaysku': 10087, 'anchor': 10088, 'pictwittercomyvtftpawnk': 10089, 'pictwittercomxcxaiuq': 10090, 'youcankeepiphon': 10091, 'hoot': 10092, 'stamp': 10093, 'locksav': 10094, 'yureka': 10095, 'lafleur': 10096, 'causin': 10097, 'sonni': 10098, 'ooohhhh': 10099, 'puckerup': 10100, 'biglip': 10101, 'batter': 10102, 'samsungindo': 10103, 'indosamsung': 10104, 'likm': 10105, 'homephotographi': 10106, 'artgalleri': 10107, 'transact': 10108, 'bankofamerica': 10109, 'puglia': 10110, 'sep': 10111, 'pim': 10112, 'pom': 10113, 'mchg': 10114, 'piecesofshit': 10115, 'vertusignaturetoquegbmpx': 10116, 'xmascov': 10117, 'estilo': 10118, 'evento': 10119, 'laaaaavli': 10120, 'bixbi': 10121, 'momento': 10122, 'amwf': 10123, 'forma': 10124, 'kidsfashion': 10125, 'cane': 10126, 'hawaii': 10127, 'voiceassist': 10128, 'pictwittercommvdpwarpz': 10129, 'megaland': 10130, 'flour': 10131, 'fearless': 10132, 'myne': 10133, 'moneybring': 10134, 'giallofluo': 10135, 'littlemind': 10136, 'thankateacherpictwittercomyhskrkg': 10137, 'freegift': 10138, 'xperianlpictwittercomtpoatpzml': 10139, 'wilmer': 10140, 'networkproblem': 10141, 'fluo': 10142, 'lgm': 10143, 'yellowfluo': 10144, 'iphonecov': 10145, 'enjoyeverymo': 10146, 'pictwittercomdvazmmorto': 10147, 'ribbi': 10148, 'carvedcas': 10149, 'fi': 10150, 'circletwelv': 10151, 'missedmyphon': 10152, 'celcom': 10153, 'britney': 10154, 'holla': 10155, 'rabito': 10156, 'smilelov': 10157, 'lft': 10158, 'manuscript': 10159, 'wooohooo': 10160, 'burst': 10161, 'eva': 10162, 'proprieti': 10163, 'jumpedtheshark': 10164, 'halfway': 10165, 'desperatehousew': 10166, 'notsolon': 10167, 'uuuu': 10168, 'flame': 10169, 'silico': 10170, 'mischa': 10171, 'cheeri': 10172, 'pictwittercomadycobxh': 10173, 'dougla': 10174, 'shortli': 10175, 'topless': 10176, 'barton': 10177, 'modepictwittercomehchhvwux': 10178, 'howr': 10179, 'jasmin': 10180, 'teo': 10181, 'carolann': 10182, 'muach': 10183, 'twitterfon': 10184, 'bebi': 10185, 'quiteveryday': 10186, 'nexr': 10187, 'fuckyosemit': 10188, 'verizonproblem': 10189, 'appleton': 10190, 'pictwittercomlwtptmubxv': 10191, 'queretaro': 10192, 'montymacciticom': 10193, 'horizon': 10194, 'skylin': 10195, 'badstarttotheweek': 10196, 'lu': 10197, 'igdaiy': 10198, 'canondmarkiii': 10199, 'nigeria': 10200, 'lenscultureportrait': 10201, 'lancashirepictwittercomrkqcynesf': 10202, 'sopretti': 10203, 'trocadero': 10204, 'haveyoureadmytext': 10205, 'checkth': 10206, 'timewast': 10207, 'homesick': 10208, 'yark': 10209, 'yeeeeh': 10210, 'aurorabeauti': 10211, 'philosophi': 10212, 'boreoff': 10213, 'bean': 10214, 'bdaygradu': 10215, 'baju': 10216, 'ghetto': 10217, 'sweatshirt': 10218, 'mcprice': 10219, 'qualitycontrol': 10220, 'mcpricestor': 10221, 'hogwart': 10222, 'teammvp': 10223, 'instaplac': 10224, 'sayhello': 10225, 'worldcuprussia': 10226, 'itscomimghom': 10227, 'myhappymobil': 10228, 'goingtobedpiss': 10229, 'nomus': 10230, 'feroci': 10231, 'nextisnow': 10232, 'instaitali': 10233, 'ipadi': 10234, 'gotcha': 10235, 'kickstartercampaign': 10236, 'tween': 10237, 'embarr': 10238, 'youtubepictwittercommmsohatcn': 10239, 'soutjport': 10240, 'pictwittercomgqiyfoay': 10241, 'straighten': 10242, 'supersu': 10243, 'hakunamatata': 10244, 'pictwittercomxqayaq': 10245, 'fimmak': 10246, 'hangout': 10247, 'thproduct': 10248, 'verif': 10249, 'gcc': 10250, 'emirati': 10251, 'dane': 10252, 'detran': 10253, 'rue': 10254, 'pictwittercomdfbypnl': 10255, 'instaproo': 10256, 'nowtogetnumb': 10257, 'luvinit': 10258, 'maga': 10259, 'jeah': 10260, 'badqual': 10261, 'pj': 10262, 'baka': 10263, 'getagrip': 10264, 'vest': 10265, 'besplendid': 10266, 'friendspictwittercombwpwgjgn': 10267, 'worldwideship': 10268, 'slate': 10269, 'dontcha': 10270, 'laguna': 10271, 'atop': 10272, 'paulson': 10273, 'sach': 10274, 'recharg': 10275, 'pictwittercomxlgmqmvldw': 10276, 'pictwittercomfljjndlz': 10277, 'getinonsomethinggood': 10278, 'momasgirl': 10279, 'moma': 10280, 'thanxmom': 10281, 'titaniumgrey': 10282, 'noteii': 10283, 'hotcak': 10284, 'thenoff': 10285, 'sortwar': 10286, 'bobevan': 10287, 'twister': 10288, 'facebooknew': 10289, 'poncho': 10290, 'refugeecrisi': 10291, 'lefti': 10292, 'bbmoh': 10293, 'kodak': 10294, 'erac': 10295, 'wantanewphon': 10296, 'kra': 10297, 'pictwittercomzepeihszmu': 10298, 'idurghhh': 10299, 'pub': 10300, 'gamingedit': 10301, 'astro': 10302, 'fieldh': 10303, 'movement': 10304, 'mcu': 10305, 'dontgetcut': 10306, 'learnfromhistori': 10307, 'appletech': 10308, 'queue': 10309, 'rz': 10310, 'houseofpir': 10311, 'shittier': 10312, 'singlepictwittercomjzoglegk': 10313, 'youd': 10314, 'twitterif': 10315, 'pictwittercomrstallva': 10316, 'miltari': 10317, 'pictwittercompfbjutau': 10318, 'pictwittercomuiqyrypjc': 10319, 'harrypott': 10320, 'entryway': 10321, 'clau': 10322, 'bench': 10323, 'footer': 10324, 'capn': 10325, 'pictwittercomjlmqhlb': 10326, 'wiggin': 10327, 'pictwittercomunutrwmjc': 10328, 'avit': 10329, 'ang': 10330, 'happy': 10331, 'macciticom': 10332, 'giveawaypictwittercomgnfnjuzwk': 10333, 'morganlsmith': 10334, 'civic': 10335, 'wheredidmybatterylifego': 10336, 'ex': 10337, 'tkjackson': 10338, 'ebookcas': 10339, 'moka': 10340, 'grain': 10341, 'oak': 10342, 'hahahahaha': 10343, 'rtpictwittercomemrkl': 10344, 'weeronlin': 10345, 'dirtymirror': 10346, 'descript': 10347, 'hairwhip': 10348, 'dewi': 10349, 'matethey': 10350, 'thyself': 10351, 'hilltop': 10352, 'believeitornot': 10353, 'leakag': 10354, 'batmantim': 10355, 'peed': 10356, 'illuminati': 10357, 'notgood': 10358, 'nigga': 10359, 'pictwittercomidmkwqblj': 10360, 'sorrymyphoneisdead': 10361, 'braless': 10362, 'jenner': 10363, 'kendal': 10364, 'rtpictwittercomeubqmvhg': 10365, 'redpoodl': 10366, 'toypoodl': 10367, 'knick': 10368, 'choonm': 10369, 'sculptur': 10370, 'blender': 10371, 'chiri': 10372, 'jan': 10373, 'youtubepictwittercomvdcsmhaefv': 10374, 'haagendaz': 10375, 'cel': 10376, 'complimentari': 10377, 'moreso': 10378, 'cameraphon': 10379, 'photoofthedaypictwittercomgcqbcxao': 10380, 'newyorkknick': 10381, 'ofw': 10382, 'gmaster': 10383, 'svss': 10384, 'imadethi': 10385, 'maropictwittercomdspaqgeug': 10386, 'yorker': 10387, 'ulyss': 10388, 'bloomsday': 10389, 'xerpiaz': 10390, 'launchday': 10391, 'erron': 10392, 'bcn': 10393, 'extort': 10394, 'igmalaysia': 10395, 'algerian': 10396, 'orlan': 10397, 'neig': 10398, 'finart': 10399, 'tyl': 10400, 'unr': 10401, 'subvert': 10402, 'reserv': 10403, 'tallingtomyphon': 10404, 'notlov': 10405, 'rogerthat': 10406, 'wizkhalifa': 10407, 'southam': 10408, 'rg': 10409, 'koba': 10410, 'adequ': 10411, 'analogu': 10412, 'regulateur': 10413, 'ateli': 10414, 'picot': 10415, 'bog': 10416, 'ethnogenesi': 10417, 'ahg': 10418, 'chiken': 10419, 'pictwittercomlalojjkza': 10420, 'buonnatal': 10421, 'virtu': 10422, 'patienc': 10423, 'ender': 10424, 'chilegram': 10425, 'pictwittercomeukfmxiuk': 10426, 'amnesia': 10427, 'iltop': 10428, 'smyle': 10429, 'regalobomba': 10430, 'altabrisa': 10431, 'telcel': 10432, 'hadsom': 10433, 'galeriapoli': 10434, 'deceit': 10435, 'broadcast': 10436, 'laru': 10437, 'gird': 10438, 'sheer': 10439, 'pictwittercombxlvsi': 10440, 'proven': 10441, 'grapeseedoli': 10442, 'whylort': 10443, 'onetouch': 10444, 'onetouchonechristma': 10445, 'advis': 10446, 'earnt': 10447, 'twogudpictwittercomlsinpgzp': 10448, 'sonyonetouch': 10449, 'pictwittercomktjyhifz': 10450, 'sundayselfi': 10451, 'regularli': 10452, 'tmobilestillsuck': 10453, 'patron': 10454, 'formula': 10455, 'pictwittercomljfbnxwr': 10456, 'imnotgooddud': 10457, 'nifti': 10458, 'crafti': 10459, 'charlatan': 10460, 'egomaniac': 10461, 'thiev': 10462, 'fil': 10463, 'iphoneyoud': 10464, 'leigh': 10465, 'attain': 10466, 'overwritten': 10467, 'nooooo': 10468, 'sonyid': 10469, 'shampoo': 10470, 'partylin': 10471, 'gotthejob': 10472, 'samsungreplenish': 10473, 'pictwittercompixrgnyq': 10474, 'cloudnin': 10475, 'marki': 10476, 'tallandproud': 10477, 'beachbal': 10478, 'pepperlunch': 10479, 'galaxygiftindonesia': 10480, 'pepper': 10481, 'instapictwittercomqyupriorl': 10482, 'tall': 10483, 'vitiligo': 10484, 'newegg': 10485, 'vitiligobeauti': 10486, 'prosphet': 10487, 'smallyoutuberarmypictwittercomcqxymalko': 10488, 'myxperia': 10489, 'tallgirl': 10490, 'basket': 10491, 'bloke': 10492, 'pictwittercomfxozlrlux': 10493, 'li': 10494, 'pout': 10495, 'tubeskirt': 10496, 'audac': 10497, 'gosia': 10498, 'finallllyyi': 10499, 'steemitphoto': 10500, 'tyrt': 10501, 'fog': 10502, 'bumbl': 10503, 'thisisegypt': 10504, 'clash': 10505, 'lslpictwittercomtdypdshc': 10506, 'lazysunday': 10507, 'techbargain': 10508, 'xperiaid': 10509, 'datchet': 10510, 'appll': 10511, 'updatefail': 10512, 'do': 10513, 'nocturn': 10514, 'teamnkut': 10515, 'boyz': 10516, 'unkut': 10517, 'itough': 10518, 'imnotpay': 10519, 'knuckl': 10520, 'sweeten': 10521, 'beachin': 10522, 'colossu': 10523, 'cutepictwittercomwmxzfd': 10524, 'dinasour': 10525, 'wheresstevejobswhenyouneedhim': 10526, 'dickmov': 10527, 'vanillaic': 10528, 'deliciouspictwittercomkeivwgdxyv': 10529, 'spiaggiadeltonopictwittercomsdcxpg': 10530, 'iphoneapp': 10531, 'fastmal': 10532, 'idothat': 10533, 'costarica': 10534, 'procreat': 10535, 'graphicdesigndaili': 10536, 'grappictwittercomeqwoanq': 10537, 'tele': 10538, 'greedi': 10539, 'androidsarebett': 10540, 'tmr': 10541, 'regent': 10542, 'pictwittercomzdyxrv': 10543, 'caribbean': 10544, 'rooney': 10545, 'numberon': 10546, 'avm': 10547, 'datter': 10548, 'newyearpictwittercomlambwddb': 10549, 'natavegapictwittercomuusdbxsd': 10550, 'lide': 10551, 'yawn': 10552, 'digitalinfluencerpictwittercomyadpjw': 10553, 'qig': 10554, 'aah': 10555, 'wafflehous': 10556, 'sight': 10557, 'indtsplu': 10558, 'baconeggandchees': 10559, 'nationaleggday': 10560, 'skiwif': 10561, 'noel': 10562, 'vici': 10563, 'finalfantasyxv': 10564, 'regalet': 10565, 'tecnologia': 10566, 'ktuin': 10567, 'fete': 10568, 'compr': 10569, 'evoglt': 10570, 'indefin': 10571, 'slope': 10572, 'shhhd': 10573, 'pictwittercomeankhsxt': 10574, 'rpg': 10575, 'jrpg': 10576, 'pictwittercomjskcmw': 10577, 'couplego': 10578, 'boystoy': 10579, 'jake': 10580, 'awesomeshot': 10581, 'traitor': 10582, 'poutin': 10583, 'smokeyhaz': 10584, 'ihaz': 10585, 'drdre': 10586, 'matur': 10587, 'iospictwittercomcriilsk': 10588, 'newbabi': 10589, 'ncaatourna': 10590, 'sososososomad': 10591, 'hateinstagram': 10592, 'marketshareloss': 10593, 'lslpictwittercomoepbexrz': 10594, 'spurt': 10595, 'herd': 10596, 'belleprovinc': 10597, 'sike': 10598, 'timhorton': 10599, 'randomwhitepictwittercomokpxfmup': 10600, 'mardigra': 10601, 'nightlif': 10602, 'jimmi': 10603, 'osxi': 10604, 'nomanhabib': 10605, 'pakistani': 10606, 'lollywood': 10607, 'exict': 10608, 'pictwittercomwovi': 10609, 'macciti': 10610, 'idevic': 10611, 'ighyp': 10612, 'bushleagu': 10613, 'oletu': 10614, 'lanegreta': 10615, 'wrapper': 10616, 'mouaaaaah': 10617, 'mediapictwittercomjtzxdqci': 10618, 'sexyselfi': 10619, 'loba': 10620, 'coloreo': 10621, 'fashionpictwittercomoettlrsz': 10622, 'geometr': 10623, 'instanic': 10624, 'pcgamer': 10625, 'swaggi': 10626, 'teixo': 10627, 'frenchboy': 10628, 'emas': 10629, 'sloth': 10630, 'collab': 10631, 'matrix': 10632, 'pcsetup': 10633, 'yearseasterbirthdayslif': 10634, 'stupidinvent': 10635, 'unreli': 10636, 'breathabl': 10637, 'carton': 10638, 'pictwittercomkxzvbuhqoi': 10639, 'badu': 10640, 'eryka': 10641, 'makemyphonework': 10642, 'killem': 10643, 'oooo': 10644, 'karibik': 10645, 'changer': 10646, 'pictwittercomdmkxycrb': 10647, 'jhez': 10648, 'razer': 10649, 'illusiveart': 10650, 'pictwittercombuwcwlmxh': 10651, 'mche': 10652, 'ilovehipho': 10653, 'cydina': 10654, 'wna': 10655, 'girlsnight': 10656, 'ontheroad': 10657, 'eatappl': 10658, 'meandmycousin': 10659, 'cafegloucest': 10660, 'govt': 10661, 'suprem': 10662, 'workphon': 10663, 'lugano': 10664, 'pictwittercomwtoenfdej': 10665, 'bepictwittercomgednhqpp': 10666, 'christmasboxingdaynew': 10667, 'giveawaypictwittercomzeabnqum': 10668, 'jailbrok': 10669, 'merci': 10670, 'ptaec': 10671, 'mobilem': 10672, 'connectingtravel': 10673, 'heureux': 10674, 'trop': 10675, 'slipcov': 10676, 'hover': 10677, 'plover': 10678, 'glover': 10679, 'fridayp': 10680, 'onehappyisland': 10681, 'maxgennel': 10682, 'behalf': 10683, 'rl': 10684, 'fatcat': 10685, 'bbi': 10686, 'mag': 10687, 'graduat': 10688, 'prouddad': 10689, 'frankshinoda': 10690, 'faci': 10691, 'mavericksnow': 10692, 'repairspictwittercomftieasda': 10693, 'newspap': 10694, 'picsforlik': 10695, 'heheheh': 10696, 'happiestyacineintheworld': 10697, 'bankholidaymonday': 10698, 'eastermonday': 10699, 'thewarrior': 10700, 'bsjueb': 10701, 'hei': 10702, 'theisland': 10703, 'expressionoflov': 10704, 'cantfitinmypocket': 10705, 'okgoogl': 10706, 'jokn': 10707, 'pharel': 10708, 'kamena': 10709, 'hisper': 10710, 'pictwittercomahdykocex': 10711, 'intown': 10712, 'casepictwittercomocgcdxddvr': 10713, 'boyf': 10714, 'grant': 10715, 'attim': 10716, 'equestrian': 10717, 'firstweek': 10718, 'luckygirl': 10719, 'dailytech': 10720, 'peasant': 10721, 'chetot': 10722, 'gavin': 10723, 'havin': 10724, 'youpi': 10725, 'muphin': 10726, 'powa': 10727, 'goinfr': 10728, 'bdaypres': 10729, 'taylorswift': 10730, 'myy': 10731, 'babelov': 10732, 'abt': 10733, 'thanksgivingpictwittercomwprncaaso': 10734, 'fresno': 10735, 'bakeri': 10736, 'jaicroqulapomm': 10737, 'goodmorni': 10738, 'twd': 10739, 'pardew': 10740, 'sandbox': 10741, 'winni': 10742, 'payback': 10743, 'itcosmet': 10744, 'revlon': 10745, 'dayyyi': 10746, 'pictwittercomffjvnrfo': 10747, 'aber': 10748, 'mandela': 10749, 'blackberrybold': 10750, 'mariahcarey': 10751, 'monica': 10752, 'valenti': 10753, 'halfamovi': 10754, 'alan': 10755, 'extremelyhappi': 10756, 'instanight': 10757, 'otstorepictwittercomhzkhrf': 10758, 'kickstart': 10759, 'paleo': 10760, 'risen': 10761, 'waaaaaait': 10762, 'paskha': 10763, 'layer': 10764, 'tera': 10765, 'phuck': 10766, 'crossfit': 10767, 'pictwesbpictwittercomhlgndyokt': 10768, 'krissirichard': 10769, 'followpictwittercomavadxvld': 10770, 'devildevic': 10771, 'passionpictwittercomimsloyom': 10772, 'adamsandl': 10773, 'talkin': 10774, 'samsunggalaxypictwittercomydjdi': 10775, 'penc': 10776, 'slowwww': 10777, 'dprint': 10778, 'mothernaturegetoffyourperiod': 10779, 'hooooolld': 10780, 'getdrunk': 10781, 'comper': 10782, 'boobsham': 10783, 'chesspictwittercomkpvaydmdb': 10784, 'festinha': 10785, 'garskin': 10786, 'luxooo': 10787, 'elect': 10788, 'romney': 10789, 'dex': 10790, 'smgu': 10791, 'surabaya': 10792, 'applex': 10793, 'pictwittercomkhqtjafvaf': 10794, 'misscorrigan': 10795, 'imacelebr': 10796, 'hollywoodhustl': 10797, 'audit': 10798, 'dubchalleng': 10799, 'kevin': 10800, 'bkchatldn': 10801, 'themis': 10802, 'dis': 10803, 'payoff': 10804, 'couponcodegbjpromo': 10805, 'stink': 10806, 'rear': 10807, 'backfac': 10808, 'walsal': 10809, 'barr': 10810, 'funpictwittercomelhearahu': 10811, 'motherhood': 10812, 'goddaught': 10813, 'keyoftwo': 10814, 'imatravel': 10815, 'marrakech': 10816, 'moroco': 10817, 'dese': 10818, 'agafay': 10819, 'indirectli': 10820, 'fash': 10821, 'pictwittercomonhcpevit': 10822, 'newgadget': 10823, 'bounti': 10824, 'hunter': 10825, 'quarter': 10826, 'worthit': 10827, 'technologiespictwittercomqqtyrzx': 10828, 'krishna': 10829, 'edlitam': 10830, 'ratp': 10831, 'htcone': 10832, 'citag': 10833, 'cooler': 10834, 'promar': 10835, 'atandtservic': 10836, 'sonymobil': 10837, 'badli': 10838, 'sadday': 10839, 'vxu': 10840, 'crampi': 10841, 'jncscom': 10842, 'intelpictwittercomyllcbxdw': 10843, 'hyperx': 10844, 'noctua': 10845, 'htcforev': 10846, 'weirdo': 10847, 'quadro': 10848, 'galaxymega': 10849, 'relationshipspictwittercomjdgreipj': 10850, 'mocktail': 10851, 'whiskey': 10852, 'rotarian': 10853, 'fellow': 10854, 'rotari': 10855, 'iamawindowsus': 10856, 'toomuchmus': 10857, 'arrr': 10858, 'highschool': 10859, 'contrast': 10860, 'canadapictwittercomseapctp': 10861, 'dayofpink': 10862, 'onlyinthehood': 10863, 'evga': 10864, 'pni': 10865, 'birth': 10866, 'lookgood': 10867, 'apt': 10868, 'watcho': 10869, 'waistedtim': 10870, 'blondi': 10871, 'anicca': 10872, 'elvi': 10873, 'sosa': 10874, 'iphonehat': 10875, 'yesterdaywassaturday': 10876, 'fuckyea': 10877, 'ittalkstom': 10878, 'firsttimeev': 10879, 'misshim': 10880, 'moulinroug': 10881, 'midsumm': 10882, 'samsungnx': 10883, 'aoru': 10884, 'thaifranco': 10885, 'gigabyt': 10886, 'motivationmonday': 10887, 'lyon': 10888, 'fed': 10889, 'belladonna': 10890, 'thaimix': 10891, 'geniusbarisntsogeniuspictwittercomtjcjgun': 10892, 'neednumb': 10893, 'plussssss': 10894, 'siriproblem': 10895, 'yaya': 10896, 'errrrrr': 10897, 'nyork': 10898, 'nowww': 10899, 'screenbigg': 10900, 'againannoy': 10901, 'psplu': 10902, 'deleteandreinstal': 10903, 'kelana': 10904, 'condominium': 10905, 'pictwittercomhhjttnzxrp': 10906, 'imrightmatepictwittercomddpsgbkepz': 10907, 'thisislondon': 10908, 'doesntwork': 10909, 'howmanytim': 10910, 'cellular': 10911, 'syncfail': 10912, 'yaaa': 10913, 'pictwittercomfdegizceti': 10914, 'eurostar': 10915, 'ldn': 10916, 'stpancra': 10917, 'curv': 10918, 'aayp': 10919, 'drm': 10920, 'lingeri': 10921, 'janamashtmi': 10922, 'galaxytabpro': 10923, 'girlsgt': 10924, 'speedway': 10925, 'breast': 10926, 'porno': 10927, 'dtm': 10928, 'coin': 10929, 'smileypictwittercomerfflydf': 10930, 'lightningc': 10931, 'xu': 10932, 'uspictwittercomtjigdfzv': 10933, 'wirelessli': 10934, 'ter': 10935, 'hatemyiphon': 10936, 'wednesdaypictwittercompvvhqroq': 10937, 'selflov': 10938, 'revin': 10939, 'rabitto': 10940, 'photoshpictwittercombabhvvycud': 10941, 'verd': 10942, 'palo': 10943, 'worldseri': 10944, 'applepi': 10945, 'pictwittercomxglaenttrk': 10946, 'pictwittercomrlzojhd': 10947, 'dash': 10948, 'pixeldash': 10949, 'videogamesday': 10950, 'purfect': 10951, 'etti': 10952, 'thetruth': 10953, 'crazyforredcolor': 10954, 'ifollow': 10955, 'foll': 10956, 'aircraft': 10957, 'pleaserevinefollowandlik': 10958, 'vibespictwittercomnlnhfjonnr': 10959, 'canni': 10960, 'di': 10961, 'wnti': 10962, 'dexter': 10963, 'nooo': 10964, 'businesswoman': 10965, 'accord': 10966, 'moneymak': 10967, 'bestrong': 10968, 'spirit': 10969, 'gingerbread': 10970, 'ohh': 10971, 'hectic': 10972, 'tshirtspictwittercomtaqdsttv': 10973, 'dontknowm': 10974, 'nightpic': 10975, 'stanford': 10976, 'dbrandpictwittercompjtpbxsrc': 10977, 'piercetheveil': 10978, 'butnotalway': 10979, 'tendenc': 10980, 'gfi': 10981, 'pictwittercomizzshmea': 10982, 'dek': 10983, 'ptv': 10984, 'sokoban': 10985, 'boxworld': 10986, 'collidewithth': 10987, 'cmo': 10988, 'mkbhd': 10989, 'qiang': 10990, 'donteatcak': 10991, 'photootheday': 10992, 'midvalley': 10993, 'wif': 10994, 'instamus': 10995, 'wevegottonight': 10996, 'replay': 10997, 'phillip': 10998, 'wonderfulindonesia': 10999, 'chinesenewyear': 11000, 'stripey': 11001, 'stupidipho': 11002, 'er': 11003, 'untam': 11004, 'cheerlead': 11005, 'liondanc': 11006, 'bsi': 11007, 'globaltv': 11008, 'merk': 11009, 'mykita': 11010, 'zpictwittercomnlmqvrxzv': 11011, 'isay': 11012, 'prettycoolstuffag': 11013, 'livestream': 11014, 'fir': 11015, 'beirut': 11016, 'lebanon': 11017, 'whatsyourmood': 11018, 'stud': 11019, 'hotti': 11020, 'insati': 11021, 'chutneypictwittercomydkmzphbj': 11022, 'pictwittercomettyvsqn': 11023, 'waterfal': 11024, 'maverick': 11025, 'justdrihhh': 11026, 'pictwittercomhqljzor': 11027, 'eyewear': 11028, 'followy': 11029, 'followersthank': 11030, 'columbiapictur': 11031, 'scenic': 11032, 'konstantinlavysh': 11033, 'alexionic': 11034, 'muslimforpeac': 11035, 'twotim': 11036, 'moodygram': 11037, 'moodr': 11038, 'casem': 11039, 'lnt': 11040, 'meetup': 11041, 'bumpili': 11042, 'newli': 11043, 'reno': 11044, 'instadail': 11045, 'everett': 11046, 'pictwittercomubkswpxqv': 11047, 'ballerina': 11048, 'mdrzx': 11049, 'dayyy': 11050, 'brighten': 11051, 'wesc': 11052, 'wrapsbysabrina': 11053, 'techporn': 11054, 'fkin': 11055, 'instapad': 11056, 'likeforalik': 11057, 'djing': 11058, 'sweetphoto': 11059, 'cooljump': 11060, 'brb': 11061, 'gbram': 11062, 'ilovepink': 11063, 'acc': 11064, 'pictwittercomwzwrktvleg': 11065, 'nolongercool': 11066, 'fuuuck': 11067, 'haaat': 11068, 'pictwittercomclkwhaw': 11069, 'viaio': 11070, 'picturesvideosmessag': 11071, 'gbhdhiresmattdisplay': 11072, 'likeyi': 11073, 'sunpictwittercomvluwcmaxk': 11074, 'fantasm': 11075, 'pictwittercomamyiqkjqh': 11076, 'mediapictwittercomwcktoqti': 11077, 'crackl': 11078, 'bastardupd': 11079, 'collid': 11080, 'hadron': 11081, 'dufan': 11082, 'coolpictwittercommztxrjf': 11083, 'coquediphon': 11084, 'coquedetelephon': 11085, 'laboutiquedubracelet': 11086, 'coquetelephon': 11087, 'coqueiphon': 11088, 'couponcod': 11089, 'iphoneimag': 11090, 'envywear': 11091, 'taxi': 11092, 'andropictwittercomsvarhsotzd': 11093, 'colorado': 11094, 'eden': 11095, 'polkadot': 11096, 'hysteria': 11097, 'graduati': 11098, 'menick': 11099, 'codelet': 11100, 'breakiny': 11101, 'gov': 11102, 'apologis': 11103, 'imessageisshit': 11104, 'litup': 11105, 'autofix': 11106, 'cracker': 11107, 'applecak': 11108, 'appletrifl': 11109, 'lzh': 11110, 'potter': 11111, 'leider': 11112, 'leiderphotographi': 11113, 'pictwittercomjzydysoek': 11114, 'backend': 11115, 'mobileworldcongress': 11116, 'pictwittercomdttvkqit': 11117, 'itssamsung': 11118, 'ima': 11119, 'audiosystem': 11120, 'datapbstitlemarkerpostidspan': 11121, 'androidspan': 11122, 'lefthandersday': 11123, 'debtfreeisthenewsexi': 11124, 'distract': 11125, 'makemoneydontletitmakeu': 11126, 'savem': 11127, 'studyyyyyy': 11128, 'opportunitypictwittercomiwhlzbgfi': 11129, 'instragramm': 11130, 'inphonesia': 11131, 'teenchoic': 11132, 'lastyear': 11133, 'winwith': 11134, 'rainbowsix': 11135, 'treespictwittercompivzfok': 11136, 'ryidah': 11137, 'jeddah': 11138, 'dolcegabbanapictwittercombfqjyvnnh': 11139, 'rikshaw': 11140, 'dogg': 11141, 'isla': 11142, 'pataturri': 11143, 'igmelbourn': 11144, 'sorryappl': 11145, 'wishlist': 11146, 'girlswholikesgirl': 11147, 'loppi': 11148, 'movilphon': 11149, 'jdi': 11150, 'gh': 11151, 'founder': 11152, 'kuwaiti': 11153, 'imagesoftoronto': 11154, 'igcapturepictwittercomgkthwglu': 11155, 'cheep': 11156, 'rself': 11157, 'ronaldo': 11158, 'cristiano': 11159, 'queri': 11160, 'object': 11161, 'thephilosoph': 11162, 'chillibean': 11163, 'patrocnio': 11164, 'pictwittercomznzpcim': 11165, 'badminton': 11166, 'casualgam': 11167, 'atmospher': 11168, 'savoy': 11169, 'pictwittercomhcqrkeol': 11170, 'aglknox': 11171, 'rape': 11172, 'windowssuck': 11173, 'dailyp': 11174, 'pictwittercomquxutpb': 11175, 'charliekocourek': 11176, 'anticorrupt': 11177, 'ape': 11178, 'za': 11179, 'friendshav': 11180, 'poverti': 11181, 'nuclear': 11182, 'disast': 11183, 'inanim': 11184, 'nate': 11185, 'danganronpa': 11186, 'mwc': 11187, 'blackmag': 11188, 'ioss': 11189, 'wavepictwittercombexnvaxyz': 11190, 'pictwittercomljymldhbi': 11191, 'leoar': 11192, 'leo': 11193, 'whatsup': 11194, 'jeremytryit': 11195, 'lostcostum': 11196, 'mister': 11197, 'shootm': 11198, 'pictwittercomueljfihyo': 11199, 'yy': 11200, 'horseback': 11201, 'nouveau': 11202, 'worldphotographyday': 11203, 'samsunggalaxylif': 11204, 'havoc': 11205, 'exampl': 11206, 'factor': 11207, 'assfac': 11208, 'thehobbitthebattleoffivearmi': 11209, 'homewifi': 11210, 'neverinmyhous': 11211, 'intend': 11212, 'airplay': 11213, 'baskinrobbin': 11214, 'smartcov': 11215, 'unimagin': 11216, 'horrend': 11217, 'evad': 11218, 'ivori': 11219, 'edwina': 11220, 'mydog': 11221, 'aussi': 11222, 'burendo': 11223, 'arghhhhhh': 11224, 'xdcam': 11225, 'vipgr': 11226, 'pictwittercomyuriqrb': 11227, 'actionpack': 11228, 'suprisegift': 11229, 'musicmonday': 11230, 'canonphoto': 11231, 'yingliwong': 11232, 'appsworld': 11233, 'lifeinadayofcarl': 11234, 'musicphil': 11235, 'motorolamotox': 11236, 'halloffam': 11237, 'trofei': 11238, 'truehappi': 11239, 'jewishlivesmatt': 11240, 'pictwittercomwqftykprt': 11241, 'danger': 11242, 'motozwithstylemodunlockeddualsim': 11243, 'puso': 11244, 'tagblend': 11245, 'badgirlsclub': 11246, 'pictwittercomkusdcx': 11247, 'hassl': 11248, 'instagapp': 11249, 'whatth': 11250, 'kita': 11251, 'sahabat': 11252, 'psndown': 11253, 'sonyblowschunk': 11254, 'consumeloc': 11255, 'cabaret': 11256, 'italyistoofar': 11257, 'skittl': 11258, 'rantov': 11259, 'linuxpictwittercomwjfwdedpp': 11260, 'debian': 11261, 'highsierra': 11262, 'dylann': 11263, 'fbtwitter': 11264, 'charleston': 11265, 'coffin': 11266, 'demolish': 11267, 'iphoneh': 11268, 'doodlejump': 11269, 'pictwittercomxduwxqnq': 11270, 'minutesth': 11271, 'inn': 11272, 'jock': 11273, 'flashback': 11274, 'middi': 11275, 'saigon': 11276, 'applecom': 11277, 'samsungpictwittercomzzitacox': 11278, 'rulemak': 11279, 'dismiss': 11280, 'therer': 11281, 'mcilroy': 11282, 'herefacebook': 11283, 'pictwittercomnfvdryxo': 11284, 'eastern': 11285, 'pupsfollow': 11286, 'cav': 11287, 'reaction': 11288, 'instagrampictwittercomgxefughzlp': 11289, 'tottenham': 11290, 'torshi': 11291, 'shinspear': 11292, 'pictwittercomroiozgog': 11293, 'fullscreen': 11294, 'artsfineart': 11295, 'instafamili': 11296, 'stopforcingupd': 11297, 'redownload': 11298, 'newbedon': 11299, 'fia': 11300, 'ificouldiwould': 11301, 'friendlymor': 11302, 'pictwittercomntimhrba': 11303, 'iphoneipad': 11304, 'pictwittercomnlyjkjzgb': 11305, 'jr': 11306, 'yogapictwittercomrlgljkm': 11307, 'arc': 11308, 'everythingels': 11309, 'keiranadinemazaya': 11310, 'shiryu': 11311, 'hunff': 11312, 'hugoboss': 11313, 'digitalmarketingpictwittercomyyieovu': 11314, 'pictwittercomfpnicsyytx': 11315, 'samsungtaba': 11316, 'samsungtab': 11317, 'friggen': 11318, 'pictwittercombqrinoyi': 11319, 'worktim': 11320, 'cantinho': 11321, 'sunnyday': 11322, 'fulda': 11323, 'sein': 11324, 'mal': 11325, 'einfach': 11326, 'hahaah': 11327, 'spatial': 11328, 'biraci': 11329, 'clutch': 11330, 'gover': 11331, 'damian': 11332, 'byebyedata': 11333, 'differnt': 11334, 'armada': 11335, 'tranc': 11336, 'pictwittercomnsrwdz': 11337, 'chavez': 11338, 'inword': 11339, 'smartphonespictwittercomisptjd': 11340, 'bureaucrat': 11341, 'appleisstupid': 11342, 'bluemerl': 11343, 'dingu': 11344, 'chromecastultra': 11345, 'lillard': 11346, 'pictwittercomuexwxwsgo': 11347, 'ae': 11348, 'turkiy': 11349, 'jayco': 11350, 'designyourunivers': 11351, 'stvalentin': 11352, 'spcial': 11353, 'assdfghjkl': 11354, 'pictwittercomsswmp': 11355, 'turkish': 11356, 'ja': 11357, 'horribleday': 11358, 'align': 11359, 'applefamili': 11360, 'thursdaypictwittercomowedumpaz': 11361, 'leathergood': 11362, 'www': 11363, 'dogsofig': 11364, 'bordercolliesofinstagram': 11365, 'cure': 11366, 'coverag': 11367, 'chilli': 11368, 'pecan': 11369, 'looooong': 11370, 'goodnew': 11371, 'spidervers': 11372, 'spidermanp': 11373, 'fiction': 11374, 'swineflu': 11375, 'newcharg': 11376, 'aviari': 11377, 'cinco': 11378, 'mayo': 11379, 'twittl': 11380, 'badmemori': 11381, 'thbithday': 11382, 'giftfrommom': 11383, 'saucyyyy': 11384, 'pieor': 11385, 'boredmonkeyphotographi': 11386, 'whenwithfilipino': 11387, 'ignrw': 11388, 'sdeutschland': 11389, 'pinasmuna': 11390, 'igdeutschland': 11391, 'pinoyig': 11392, 'amateurphotographi': 11393, 'summerpictwittercomzbwrhk': 11394, 'oswrub': 11395, 'nexuspictwittercomxtzcinp': 11396, 'hn': 11397, 'tester': 11398, 'multimonitor': 11399, 'owl': 11400, 'xianj': 11401, 'pictwittercomcsdyapirz': 11402, 'throne': 11403, 'applov': 11404, 'applemaniac': 11405, 'chiragdahiya': 11406, 'cokepictwittercomqhrxrvwtbv': 11407, 'ddr': 11408, 'laptopbut': 11409, 'ankermann': 11410, 'porrada': 11411, 'mai': 11412, 'sonymus': 11413, 'deutschpop': 11414, 'pictwittercommqhglpbi': 11415, 'prettier': 11416, 'amfenst': 11417, 'thisiswhyim': 11418, 'cosmo': 11419, 'airmax': 11420, 'aperitif': 11421, 'wantmyphoneback': 11422, 'breckfast': 11423, 'pn': 11424, 'jenna': 11425, 'coe': 11426, 'sodoesu': 11427, 'sparklez': 11428, 'lunarlon': 11429, 'grid': 11430, 'turki': 11431, 'makeupmoretagsyourself': 11432, 'whoopwhoop': 11433, 'neither': 11434, 'pinkflow': 11435, 'cosmosf': 11436, 'hiccup': 11437, 'appleid': 11438, 'bigmov': 11439, 'todaymad': 11440, 'haircut': 11441, 'minki': 11442, 'sprob': 11443, 'cablebrok': 11444, 'agoni': 11445, 'sofa': 11446, 'fckin': 11447, 'designpictwittercomubwzlzz': 11448, 'olaf': 11449, 'recours': 11450, 'rerout': 11451, 'theparallax': 11452, 'shithead': 11453, 'bringin': 11454, 'wend': 11455, 'timesup': 11456, 'rockstargam': 11457, 'applepictwittercomtfekqymwfq': 11458, 'pronto': 11459, 'fitpictwittercomzewuttyw': 11460, 'buenosdia': 11461, 'spreadlov': 11462, 'strongwomen': 11463, 'sidekick': 11464, 'bebrav': 11465, 'heroin': 11466, 'fack': 11467, 'authent': 11468, 'supermoon': 11469, 'giftphotographyclub': 11470, 'tshirtiamo': 11471, 'menswear': 11472, 'timessquar': 11473, 'macsupport': 11474, 'pictwittercomwtxzbizye': 11475, 'spoiledd': 11476, 'default': 11477, 'sumt': 11478, 'realpro': 11479, 'nocallbacksasyoupromis': 11480, 'giveawaypictwittercomlcizoqfwd': 11481, 'omgggg': 11482, 'muchl': 11483, 'finito': 11484, 'inconsider': 11485, 'iphoneonamazon': 11486, 'pastelspank': 11487, 'pastelcolor': 11488, 'iswhi': 11489, 'millionsnot': 11490, 'iloveni': 11491, 'adjust': 11492, 'androidpictwittercomopwkjgtec': 11493, 'dieiphon': 11494, 'sorrento': 11495, 'pictwittercomepgfxwcuo': 11496, 'kickbox': 11497, 'ojg': 11498, 'finallygo': 11499, 'quandari': 11500, 'mycat': 11501, 'birba': 11502, 'convinc': 11503, 'windi': 11504, 'pictwittercombtoglmnozm': 11505, 'pictwittercomqukjxsv': 11506, 'jealousi': 11507, 'galaxysplu': 11508, 'pretend': 11509, 'stillbuyinganiphon': 11510, 'instava': 11511, 'cookiessh': 11512, 'sunget': 11513, 'xioti': 11514, 'neko': 11515, 'grumpi': 11516, 'brandonkoppelphotographi': 11517, 'geez': 11518, 'picsart': 11519, 'deliciousfoodpictwittercomzqapbssk': 11520, 'gourmet': 11521, 'stepclosertogettingagalaxi': 11522, 'forgo': 11523, 'thebigappl': 11524, 'rtpictwittercomprjxfwkr': 11525, 'flintston': 11526, 'tender': 11527, 'row': 11528, 'zpictwittercomsschughesb': 11529, 'bassmus': 11530, 'greatli': 11531, 'pictwittercomeatwfknb': 11532, 'byebyegradmoney': 11533, 'boyfi': 11534, 'hagel': 11535, 'jzp': 11536, 'thatisal': 11537, 'mockup': 11538, 'behanc': 11539, 'uipictwittercomtrdawfmyf': 11540, 'stockearbud': 11541, 'tokay': 11542, 'pictwittercomzyrithxkuv': 11543, 'fricken': 11544, 'sule': 11545, 'missouri': 11546, 'tal': 11547, 'pinay': 11548, 'filipina': 11549, 'chieftanc': 11550, 'thehuncom': 11551, 'gjfi': 11552, 'rosey': 11553, 'y': 11554, 'musicproblem': 11555, 'pod': 11556, 'shawnmend': 11557, 'lifeoftheparti': 11558, 'iphonepictwittercomgpbxdnqr': 11559, 'greatservic': 11560, 'iphoneupd': 11561, 'fairydalia': 11562, 'arsalanchipictwittercomhevwavqbzu': 11563, 'nepal': 11564, 'manang': 11565, 'japaneseanim': 11566, 'totoro': 11567, 'cellolov': 11568, 'cellistlif': 11569, 'gtv': 11570, 'whey': 11571, 'domburg': 11572, 'nini': 11573, 'phew': 11574, 'pictwittercomyhvawltmn': 11575, 'modem': 11576, 'applerel': 11577, 'dalialan': 11578, 'rihanna': 11579, 'toomuchhashtag': 11580, 'juanmartiphoto': 11581, 'darn': 11582, 'ituneshelp': 11583, 'itreinstal': 11584, 'rebooteduninstal': 11585, 'gop': 11586, 'juanmarti': 11587, 'fuji': 11588, 'onepluslaunch': 11589, 'yaaayyyi': 11590, 'sugarco': 11591, 'manikin': 11592, 'brah': 11593, 'obvi': 11594, 'revolutionari': 11595, 'pictwittercomwwmsejkw': 11596, 'gti': 11597, 'whatshappen': 11598, 'mediterranean': 11599, 'tie': 11600, 'hpg': 11601, 'sunshinepictwittercomrcbqlqyzhf': 11602, 'mylens': 11603, 'myphotographi': 11604, 'mosqu': 11605, 'instashar': 11606, 'seatbelt': 11607, 'lolashous': 11608, 'lookingcool': 11609, 'neversettl': 11610, 'lola': 11611, 'youretheworst': 11612, 'beig': 11613, 'sunnypradhanphotographi': 11614, 'nepalipeopl': 11615, 'travelpictwittercomcobsgcvuf': 11616, 'classmat': 11617, 'instagramvideo': 11618, 'xxxxxxxx': 11619, 'slammin': 11620, 'butreal': 11621, 'worldpictwittercomxfuunkxfm': 11622, 'getthisstufftogeth': 11623, 'nosi': 11624, 'laborday': 11625, 'straightedg': 11626, 'jessa': 11627, 'londonfashion': 11628, 'englishsumm': 11629, 'pictwittercomtdbpwrxuv': 11630, 'citymi': 11631, 'ibox': 11632, 'upallnight': 11633, 'citt': 11634, 'ajfonemnet': 11635, 'pictwittercomcfimkorx': 11636, 'jeancarlo': 11637, 'instanatur': 11638, 'daybym': 11639, 'photoperday': 11640, 'instasvk': 11641, 'zivotiphonem': 11642, 'tessel': 11643, 'zachytenenaiphon': 11644, 'walker': 11645, 'tx': 11646, 'hidayah': 11647, 'yeayi': 11648, 'igger': 11649, 'commission': 11650, 'funpictwittercomjgbbrtvoqa': 11651, 'juicyjellyfun': 11652, 'eep': 11653, 'germaneigh': 11654, 'accessoriespictwittercompkaldadhq': 11655, 'livestyl': 11656, 'opportunitypictwittercomdaijapya': 11657, 'neverhadproblemswithandroid': 11658, 'shall': 11659, 'skew': 11660, 'viewnyc': 11661, 'bendgat': 11662, 'bendaniphon': 11663, 'doyoueveniphon': 11664, 'coolkid': 11665, 'expopictwittercomyoqvtdm': 11666, 'infoodwetrust': 11667, 'nonetflix': 11668, 'onlyonamericanitunesanyway': 11669, 'idean': 11670, 'acrobat': 11671, 'aerialist': 11672, 'cirqu': 11673, 'pace': 11674, 'mayst': 11675, 'hast': 11676, 'pictwittercomggzjjwl': 11677, 'devast': 11678, 'christoph': 11679, 'reev': 11680, 'giveawaypictwittercomzuamnabt': 11681, 'spmgift': 11682, 'dadmuax': 11683, 'lyche': 11684, 'bloodborn': 11685, 'praisethelight': 11686, 'casingmurah': 11687, 'wink': 11688, 'pictwittercomucmukthmf': 11689, 'hll': 11690, 'uuuuuuuuuuuuuuuuu': 11691, 'lilo': 11692, 'igfam': 11693, 'healer': 11694, 'frikkin': 11695, 'grandmoth': 11696, 'cutepictwittercomllbccoc': 11697, 'quan': 11698, 'hay': 11699, 'alpin': 11700, 'howdidtheiphonechangeyourlifepictwittercomxruoiiyna': 11701, 'iphoneat': 11702, 'goddamn': 11703, 'convent': 11704, 'hotshot': 11705, 'biee': 11706, 'thisguy': 11707, 'urkel': 11708, 'pictwittercomxonkotkpst': 11709, 'whimsi': 11710, 'bracket': 11711, 'papua': 11712, 'neverbuyaniphon': 11713, 'conventgarden': 11714, 'pictwittercomblmbefgz': 11715, 'cousi': 11716, 'babycousin': 11717, 'lizzi': 11718, 'hz': 11719, 'timl': 11720, 'ritchierockstar': 11721, 'ournewtoy': 11722, 'decemberphotochalleng': 11723, 'amanz': 11724, 'numbersaddict': 11725, 'pictwittercomufjvhvh': 11726, 'unleash': 11727, 'trakai': 11728, 'vilniu': 11729, 'lithuania': 11730, 'neeed': 11731, 'funday': 11732, 'jodi': 11733, 'fuckwitm': 11734, 'valetinesday': 11735, 'applelif': 11736, 'firefight': 11737, 'uspictwittercomevvhmdtjr': 11738, 'pictwittercomxsqijwezf': 11739, 'childrensday': 11740, 'artificialintellig': 11741, 'chatbot': 11742, 'moli': 11743, 'technologypictwittercomssqhhx': 11744, 'cn': 11745, 'toaster': 11746, 'tong': 11747, 'coolepark': 11748, 'scotti': 11749, 'mccreeri': 11750, 'issuesappl': 11751, 'enthusiast': 11752, 'greentea': 11753, 'acer': 11754, 'ifyoubuymeaiphon': 11755, 'iwould': 11756, 'sandiegoart': 11757, 'iphonexcas': 11758, 'australiapictwittercomymmyprxx': 11759, 'tata': 11760, 'landrov': 11761, 'evoqu': 11762, 'rangerov': 11763, 'crush': 11764, 'newphonewhereartth': 11765, 'xhr': 11766, 'teammitsubishi': 11767, 'smksm': 11768, 'bepopular': 11769, 'figureitout': 11770, 'jerri': 11771, 'lolli': 11772, 'pictwittercomulzrzxsd': 11773, 'pictwittercomljrscruq': 11774, 'aconcagua': 11775, 'pictwittercomgvpxxwdkw': 11776, 'rallylov': 11777, 'newpost': 11778, 'pictwittercomvzhxbkemin': 11779, 'bestday': 11780, 'anywher': 11781, 'rallylifepictwittercomowxgvjk': 11782, 'rallytim': 11783, 'adrenalina': 11784, 'dirt': 11785, 'ralli': 11786, 'lifeisr': 11787, 'wrc': 11788, 'codemast': 11789, 'rallytogeth': 11790, 'coopertir': 11791, 'opprtun': 11792, 'pictwittercomddzqcxo': 11793, 'lepak': 11794, 'coronado': 11795, 'xuan': 11796, 'iosfail': 11797, 'envi': 11798, 'aboard': 11799, 'optimist': 11800, 'alhamdulillah': 11801, 'croatia': 11802, 'poppag': 11803, 'bullsnat': 11804, 'drose': 11805, 'athlet': 11806, 'bigbenlondon': 11807, 'becam': 11808, 'smoother': 11809, 'tubeproject': 11810, 'natachahorn': 11811, 'underground': 11812, 'metro': 11813, 'complicatd': 11814, 'highlif': 11815, 'retweetpictwittercomxyryufqf': 11816, 'sour': 11817, 'autom': 11818, 'cocacola': 11819, 'immedi': 11820, 'thanh': 11821, 'airbook': 11822, 'stevewazoniak': 11823, 'johnyaiv': 11824, 'ion': 11825, 'mocha': 11826, 'aroundm': 11827, 'mishap': 11828, 'maxx': 11829, 'samsungfastcharg': 11830, 'jerzey': 11831, 'favotit': 11832, 'uspictwittercomcyyogvgh': 11833, 'kamyar': 11834, 'kamyr': 11835, 'lollipopupd': 11836, 'lslpictwittercomgtkgksgt': 11837, 'mobarak': 11838, 'rotinhel': 11839, 'energydrink': 11840, 'imaginacion': 11841, 'tortur': 11842, 'pintar': 11843, 'vivir': 11844, 'alic': 11845, 'tellthetruth': 11846, 'hamui': 11847, 'minicrumbl': 11848, 'cuss': 11849, 'yknow': 11850, 'baba': 11851, 'yell': 11852, 'technologysuck': 11853, 'rooz': 11854, 'sundaypictwittercomypousivkn': 11855, 'coastcoast': 11856, 'selfitoon': 11857, 'suprisingdad': 11858, 'lue': 11859, 'macssuck': 11860, 'ov': 11861, 'bezel': 11862, 'snowwatson': 11863, 'looserstatu': 11864, 'basment': 11865, 'solo': 11866, 'igotswag': 11867, 'situat': 11868, 'econom': 11869, 'connectedhav': 11870, 'electricidad': 11871, 'conectado': 11872, 'funciona': 11873, 'dunkpictwittercombxqmqcu': 11874, 'telfono': 11875, 'pregunta': 11876, 'dice': 11877, 'neverforgotten': 11878, 'dissapear': 11879, 'pictwittercomzgfdugsj': 11880, 'reliev': 11881, 'updateno': 11882, 'braviascreen': 11883, 'novalaunch': 11884, 'clown': 11885, 'francoi': 11886, 'ado': 11887, 'pendriv': 11888, 'powerbank': 11889, 'vista': 11890, 'teachersday': 11891, 'appleisshit': 11892, 'zooper': 11893, 'arsehol': 11894, 'buttplug': 11895, 'eyeintheski': 11896, 'oneplusgalleri': 11897, 'oneplusoffici': 11898, 'yummmmi': 11899, 'pictwittercomhahkfkowl': 11900, 'ruinedmynight': 11901, 'maseratilevant': 11902, 'witti': 11903, 'tiedy': 11904, 'crimbo': 11905, 'manila': 11906, 'soconfus': 11907, 'itsthingsinlif': 11908, 'maserati': 11909, 'needthisfix': 11910, 'obviou': 11911, 'fray': 11912, 'union': 11913, 'productsof': 11914, 'weareon': 11915, 'huaman': 11916, 'satir': 11917, 'elizabethan': 11918, 'etgoodsleepgood': 11919, 'pictwittercomrcglfhvibq': 11920, 'pictwittercomvynwcor': 11921, 'healthyli': 11922, 'senior': 11923, 'noonecar': 11924, 'boringconvo': 11925, 'shutthehellup': 11926, 'sonyph': 11927, 'pictwittercomtewptai': 11928, 'pictwittercomromzmcfyu': 11929, 'fpictwittercomelfirmtv': 11930, 'thecityfanspictwittercomirffvfwbxc': 11931, 'lenovomobilecov': 11932, 'redminot': 11933, 'iphonemobilecov': 11934, 'stupidipod': 11935, 'unrepair': 11936, 'cantstandthewait': 11937, 'pictwittercomrwygvgqkw': 11938, 'yaa': 11939, 'notetofemal': 11940, 'dontstop': 11941, 'pictwittercomneegcwcqv': 11942, 'cupi': 11943, 'petal': 11944, 'ladybug': 11945, 'stupidiphonestor': 11946, 'pictwittercomanrnjcpspk': 11947, 'hottest': 11948, 'pictwittercomdemtvzu': 11949, 'latin': 11950, 'bmf': 11951, 'getlikem': 11952, 'munich': 11953, 'xperiap': 11954, 'hkig': 11955, 'inuninstal': 11956, 'synnnnnnch': 11957, 'hurcul': 11958, 'lutsk': 11959, 'sweethom': 11960, 'wolv': 11961, 'ukrain': 11962, 'instawesom': 11963, 'massivephon': 11964, 'bigphon': 11965, 'toogood': 11966, 'downsid': 11967, 'handcraftedcocktail': 11968, 'horriblewaittim': 11969, 'ceil': 11970, 'bigamus': 11971, 'hitsseri': 11972, 'makeasongsingl': 11973, 'ospina': 11974, 'gunreformnow': 11975, 'reddwarf': 11976, 'europaleagu': 11977, 'bennel': 11978, 'barri': 11979, 'summerpictwittercomvurojuob': 11980, 'gamesinmovi': 11981, 'veteranown': 11982, 'antiviru': 11983, 'computerrepair': 11984, 'cyberexpress': 11985, 'baldwin': 11986, 'emailsal': 11987, 'hailey': 11988, 'noworriesher': 11989, 'goodmorningpost': 11990, 'gangsta': 11991, 'randb': 11992, 'brouwersdampictwittercomdzwknlc': 11993, 'powersound': 11994, 'peacep': 11995, 'djmisterquindi': 11996, 'leftw': 11997, 'mefriend': 11998, 'lou': 11999, 'jbl': 12000, 'bangolufsen': 12001, 'takin': 12002, 'autocorrectfail': 12003, 'iphonexpictwittercomedydtevor': 12004, 'alwaysm': 12005, 'lovingmyself': 12006, 'mepictwittercomdogunwbv': 12007, 'autopay': 12008, 'bestp': 12009, 'samsungloyalti': 12010, 'ilovesamsung': 12011, 'bloggerd': 12012, 'needu': 12013, 'endlichda': 12014, 'cud': 12015, 'newmakeup': 12016, 'pictwittercomnpdkegfwj': 12017, 'boxingday': 12018, 'seasid': 12019, 'pictwittercomdwouauoj': 12020, 'joypictwittercomcgtaszi': 12021, 'agenc': 12022, 'motolov': 12023, 'missu': 12024, 'rubbishsoftwar': 12025, 'dc': 12026, 'wii': 12027, 'wirelessairpod': 12028, 'pictwittercomjrqtfagl': 12029, 'nikefc': 12030, 'pipeandbarrel': 12031, 'nasti': 12032, 'punish': 12033, 'ipl': 12034, 'canari': 12035, 'afteriplisnation': 12036, 'iphoneograp': 12037, 'picfram': 12038, 'zonbi': 12039, 'canaria': 12040, 'canaryisland': 12041, 'saniti': 12042, 'speakerphon': 12043, 'sview': 12044, 'yap': 12045, 'sentfrommyiphon': 12046, 'rosengarten': 12047, 'screenc': 12048, 'veganpictwittercomjujvkibzw': 12049, 'kullan': 12050, 'haunt': 12051, 'tcfollowtrain': 12052, 'instabest': 12053, 'instagroov': 12054, 'gutushot': 12055, 'theirdevic': 12056, 'frankreich': 12057, 'blurri': 12058, 'sexta': 12059, 'rotin': 12060, 'foco': 12061, 'luissuarez': 12062, 'gin': 12063, 'weekold': 12064, 'eventomax': 12065, 'percentag': 12066, 'homeshar': 12067, 'smiler': 12068, 'bitchesssss': 12069, 'luxpictwittercomkomhuort': 12070, 'giveawaypictwittercombronnplocp': 12071, 'meeennn': 12072, 'automobil': 12073, 'mondaymotivationpictwittercomlqukrsmn': 12074, 'mandala': 12075, 'bulb': 12076, 'cocksuck': 12077, 'pictwittercombohxnwrg': 12078, 'androidpay': 12079, 'casal': 12080, 'easysubject': 12081, 'filamento': 12082, 'loce': 12083, 'bj': 12084, 'anti': 12085, 'applefreak': 12086, 'babymusclesboo': 12087, 'wohoo': 12088, 'resolut': 12089, 'glare': 12090, 'bestdealspictwittercomhgjcpwhn': 12091, 'instawow': 12092, 'ringpop': 12093, 'elementpixi': 12094, 'tronsmart': 12095, 'hardpay': 12096, 'giveawaypictwittercomygxmcjlq': 12097, 'thegoodlif': 12098, 'nosociallif': 12099, 'psvsxbox': 12100, 'fajita': 12101, 'playstationfour': 12102, 'rootbeer': 12103, 'beoooooti': 12104, 'qualityphon': 12105, 'rojo': 12106, 'nowswitch': 12107, 'revistaamora': 12108, 'sextapos': 12109, 'thyn': 12110, 'vidaadoi': 12111, 'instafriend': 12112, 'perfectscor': 12113, 'quizup': 12114, 'napoli': 12115, 'forgiv': 12116, 'giveawaypictwittercomvwziyifm': 12117, 'ipamini': 12118, 'dade': 12119, 'samespotallthetim': 12120, 'myfith': 12121, 'coolmum': 12122, 'wishstevejobswasstillher': 12123, 'jeep': 12124, 'jen': 12125, 'messyroom': 12126, 'skunkwe': 12127, 'bonu': 12128, 'alli': 12129, 'martedi': 12130, 'jesflix': 12131, 'iphonecharg': 12132, 'bendabl': 12133, 'apphookup': 12134, 'inexcus': 12135, 'pictwittercomlzlwtxlnp': 12136, 'pleaseee': 12137, 'chargefast': 12138, 'vahid': 12139, 'pictwittercomxgdhxivg': 12140, 'islamabad': 12141, 'pictwittercomummebjvddm': 12142, 'madison': 12143, 'fruiti': 12144, 'mihiravi': 12145, 'crazygirl': 12146, 'fyou': 12147, 'ayodya': 12148, 'spydercopictwittercomhhmifudc': 12149, 'vilifi': 12150, 'whatsoev': 12151, 'harmoni': 12152, 'spectacular': 12153, 'phonecov': 12154, 'restock': 12155, 'idvd': 12156, 'pictwittercomaaydojbfkq': 12157, 'blackbusi': 12158, 'cring': 12159, 'ammysmil': 12160, 'techtuesday': 12161, 'davidgift': 12162, 'iphonepictwittercomqciyumv': 12163, 'ipadpropictwittercomkonmjnftl': 12164, 'igandroid': 12165, 'decal': 12166, 'zombi': 12167, 'georgou': 12168, 'pictwittercomdfzumuvu': 12169, 'feder': 12170, 'caul': 12171, 'lostallmyfav': 12172, 'isbett': 12173, 'passbook': 12174, 'fpictwittercomgkswwahm': 12175, 'meeen': 12176, 'antoniotrillicoso': 12177, 'instamania': 12178, 'ol': 12179, 'jolli': 12180, 'pictwittercomflhnjjg': 12181, 'bestphonefornow': 12182, 'segd': 12183, 'igersv': 12184, 'chain': 12185, 'apl': 12186, 'allegedli': 12187, 'uaepictwittercomlzhohfoj': 12188, 'sandiegocomiccon': 12189, 'makemelookgood': 12190, 'showroom': 12191, 'dontshootmepleas': 12192, 'zegna': 12193, 'creaki': 12194, 'fortaleza': 12195, 'selina': 12196, 'fisttim': 12197, 'shotgun': 12198, 'daisuketakahashi': 12199, 'mcgiorg': 12200, 'expo': 12201, 'tweetforit': 12202, 'scifi': 12203, 'giveawaypictwittercomsbgtiixia': 12204, 'obey': 12205, 'samsungmobilepictwittercomkrztspzv': 12206, 'ystvnpivpictwittercomsgfnuvhb': 12207, 'pickofth': 12208, 'spakbook': 12209, 'awh': 12210, 'balla': 12211, 'shotsnew': 12212, 'samsungphoneblast': 12213, 'beautifulgirl': 12214, 'henri': 12215, 'zhoumi': 12216, 'welovehenmi': 12217, 'constant': 12218, 'pictwittercomvdshxehw': 12219, 'pictwittercomgygadkjpp': 12220, 'thewalkingdead': 12221, 'boredddddd': 12222, 'gram': 12223, 'luglio': 12224, 'predict': 12225, 'rom': 12226, 'bold': 12227, 'iphonecamera': 12228, 'domani': 12229, 'magicland': 12230, 'earlypres': 12231, 'chardonnay': 12232, 'averag': 12233, 'earlychristmasgift': 12234, 'paysoff': 12235, 'samsunggalaxysinchsimdualgb': 12236, 'minihop': 12237, 'zumi': 12238, 'pictwittercomknyxxsbuy': 12239, 'daybut': 12240, 'oggiscrivo': 12241, 'theatremodepictwittercomixoakt': 12242, 'nostalgia': 12243, 'younger': 12244, 'instangood': 12245, 'toystori': 12246, 'pictwittercomwmixddugl': 12247, 'pictwittercomgyrxjwz': 12248, 'unseat': 12249, 'woodi': 12250, 'lookalik': 12251, 'usher': 12252, 'happyjoyjoy': 12253, 'brigadabeat': 12254, 'lifemus': 12255, 'coolrecip': 12256, 'theinterviewmovi': 12257, 'alien': 12258, 'otw': 12259, 'mountaind': 12260, 'charlottesvil': 12261, 'carter': 12262, 'pictwittercomhrdgxjpbw': 12263, 'naughtyboy': 12264, 'pictwittercomhamfprdoi': 12265, 'crazywrapth': 12266, 'givememyringtoneback': 12267, 'fitnessjourney': 12268, 'nonappl': 12269, 'animalaura': 12270, 'killin': 12271, 'mirme': 12272, 'awwwww': 12273, 'repurpos': 12274, 'onlysometim': 12275, 'pommymommi': 12276, 'gizmodocom': 12277, 'obeycloth': 12278, 'beetgreen': 12279, 'enviou': 12280, 'potdpictwittercomnfibtu': 12281, 'glitchi': 12282, 'imagecach': 12283, 'cach': 12284, 'annoyingfrustr': 12285, 'shitday': 12286, 'igerscolombia': 12287, 'vegetarian': 12288, 'thedeck': 12289, 'husbandandwif': 12290, 'foodvideo': 12291, 'burnappleburn': 12292, 'ind': 12293, 'pictwittercomgmibgrzc': 12294, 'iansomerhald': 12295, 'gamif': 12296, 'itsalligot': 12297, 'sadli': 12298, 'nvidia': 12299, 'nina': 12300, 'makeawish': 12301, 'pictwittercomxyrcylvx': 12302, 'dreamcometru': 12303, 'firstdat': 12304, 'googlepictwittercomjpaobokv': 12305, 'gujarat': 12306, 'vi': 12307, 'aspettiamo': 12308, 'hominext': 12309, 'twirl': 12310, 'gtlive': 12311, 'spinningwheelofdoompictwittercomyfsiwcvaq': 12312, 'batesmotel': 12313, 'hvite': 12314, 'yeey': 12315, 'fountainofyouth': 12316, 'notok': 12317, 'hopstop': 12318, 'gtx': 12319, 'geforc': 12320, 'cmari': 12321, 'miniatur': 12322, 'lotion': 12323, 'shwekaung': 12324, 'yesterdayi': 12325, 'ac': 12326, 'pomeranian': 12327, 'char': 12328, 'mehdilahrach': 12329, 'bandeg': 12330, 'pinkiepi': 12331, 'standupcomedi': 12332, 'comicseen': 12333, 'pinkieey': 12334, 'twine': 12335, 'plaster': 12336, 'pikachuplast': 12337, 'sweetcas': 12338, 'bulbasaur': 12339, 'paintpictwittercomxolqyii': 12340, 'thereturn': 12341, 'derrick': 12342, 'impressedpictwittercompzcsmf': 12343, 'bstatjejenihelavrlden': 12344, 'lolpictwittercommpnasuwa': 12345, 'sidney': 12346, 'carbonsteel': 12347, 'dustproof': 12348, 'huf': 12349, 'shutup': 12350, 'casablanca': 12351, 'anger': 12352, 'cutepictwittercomxkgxeeaq': 12353, 'gumbo': 12354, 'offlineeven': 12355, 'teamsad': 12356, 'hokey': 12357, 'zpictwittercomhnzltjvn': 12358, 'primemark': 12359, 'photographpictwittercomwerpmehdzm': 12360, 'elix': 12361, 'neverland': 12362, 'samsuck': 12363, 'pictwittercomjhfhphzu': 12364, 'pictwittercomizdwurkuzx': 12365, 'getoutsid': 12366, 'smapictwittercomatexwxarl': 12367, 'keyword': 12368, 'pictwittercomrtoplnvh': 12369, 'lakeview': 12370, 'disasterhik': 12371, 'explorecanada': 12372, 'natureshot': 12373, 'storewid': 12374, 'backcountri': 12375, 'algonquin': 12376, 'dailytweet': 12377, 'josh': 12378, 'deportivopictwittercomzgrcevkvg': 12379, 'dxb': 12380, 'burjalarab': 12381, 'blackdress': 12382, 'luvocraci': 12383, 'sportcar': 12384, 'mensfashionpictwittercommacocvhi': 12385, 'holyday': 12386, 'bowti': 12387, 'amazingcar': 12388, 'thankyoumamapakcik': 12389, 'pictwittercombpmttlli': 12390, 'etro': 12391, 'screenreplac': 12392, 'dapper': 12393, 'coch': 12394, 'foreground': 12395, 'googleassist': 12396, 'pictwittercomreenjuitp': 12397, 'pictwittercommhjjmeat': 12398, 'upppp': 12399, 'ikr': 12400, 'blackandwhitephoto': 12401, 'profotob': 12402, 'profoto': 12403, 'dontworri': 12404, 'weddingphotograph': 12405, 'fashionphotograph': 12406, 'streetphotograph': 12407, 'needflashplay': 12408, 'familiapictwittercompvfrzsli': 12409, 'nemo': 12410, 'valuabl': 12411, 'pictwittercomanflfunqek': 12412, 'foundobject': 12413, 'compet': 12414, 'inmyworld': 12415, 'sonyariii': 12416, 'qd': 12417, 'afterlight': 12418, 'rajathegreat': 12419, 'thumbsup': 12420, 'elimin': 12421, 'perfelena': 12422, 'helenaist': 12423, 'helenabonhamcart': 12424, 'lolpictwittercomqtixzbjku': 12425, 'raviteja': 12426, 'quietli': 12427, 'raja': 12428, 'teja': 12429, 'ravi': 12430, 'screwtmob': 12431, 'learnt': 12432, 'tricki': 12433, 'logan': 12434, 'androidpictwittercomwuncstjwh': 12435, 'gamespictwittercomrbslzhx': 12436, 'misspel': 12437, 'galvan': 12438, 'htcisthewayforward': 12439, 'carlson': 12440, 'pictwittercomokyskokabf': 12441, 'fest': 12442, 'customiz': 12443, 'thmonth': 12444, 'sic': 12445, 'bosnia': 12446, 'avatar': 12447, 'pictwittercomcnauwiqf': 12448, 'happyit': 12449, 'posese': 12450, 'enormoupictwittercomhaqgtxlufm': 12451, 'followfollowpictwittercomnoypxg': 12452, 'tic': 12453, 'pictwittercomfwlbjzdtk': 12454, 'geekout': 12455, 'giveawaypictwittercombmsuxkihr': 12456, 'offfre': 12457, 'pictwittercommbutfyad': 12458, 'sharkobsess': 12459, 'trivial': 12460, 'somanyopt': 12461, 'applianc': 12462, 'mick': 12463, 'milad': 12464, 'yaaay': 12465, 'fuckingstupid': 12466, 'khosseini': 12467, 'unsplash': 12468, 'hick': 12469, 'jamesmcvey': 12470, 'thevamp': 12471, 'abb': 12472, 'dissidiafinalfantasyoperaomnia': 12473, 'ose': 12474, 'stylepictwittercomskyejcf': 12475, 'squaresoft': 12476, 'viper': 12477, 'autocorrector': 12478, 'plantat': 12479, 'dissidiafinalfantasi': 12480, 'almostdead': 12481, 'carrollwood': 12482, 'pictwittercomjuabuksomd': 12483, 'notshav': 12484, 'singlegay': 12485, 'unhappi': 12486, 'lgv': 12487, 'tvo': 12488, 'iwantwork': 12489, 'vline': 12490, 'doe': 12491, 'ffoo': 12492, 'vacay': 12493, 'moldiv': 12494, 'nextmonth': 12495, 'sarcasm': 12496, 'sucess': 12497, 'hayyyllll': 12498, 'butic': 12499, 'fromjapan': 12500, 'softbank': 12501, 'glimps': 12502, 'mpx': 12503, 'silveredit': 12504, 'goproplu': 12505, 'wowza': 12506, 'telkom': 12507, 'flint': 12508, 'inject': 12509, 'uuuuugh': 12510, 'brinkmanship': 12511, 'weight': 12512, 'apoxoniphon': 12513, 'sip': 12514, 'gyp': 12515, 'picturepictur': 12516, 'tortois': 12517, 'yegpictwittercomugjciqhh': 12518, 'marketingrx': 12519, 'surftheshelti': 12520, 'newport': 12521, 'goat': 12522, 'todat': 12523, 'cliqxt': 12524, 'spictwittercomyziaotu': 12525, 'presson': 12526, 'irresist': 12527, 'secretfriend': 12528, 'struck': 12529, 'agenooooo': 12530, 'pattyboland': 12531, 'sunligh': 12532, 'polydor': 12533, 'nohat': 12534, 'tagsfo': 12535, 'pictwittercomstegpozksc': 12536, 'magsaf': 12537, 'bandana': 12538, 'behav': 12539, 'mybabi': 12540, 'yeaaaaah': 12541, 'whitecouch': 12542, 'iliveonmus': 12543, 'reload': 12544, 'equin': 12545, 'giftideasforh': 12546, 'minu': 12547, 'pictwittercomwnkkdxnd': 12548, 'hatelaptop': 12549, 'xxpictwittercomrlawx': 12550, 'connipt': 12551, 'bestjob': 12552, 'teamfollowm': 12553, 'drummer': 12554, 'kate': 12555, 'thisisgoinback': 12556, 'onthego': 12557, 'kein': 12558, 'illustratorpictwittercomcjzetili': 12559, 'funnywork': 12560, 'boutpow': 12561, 'samyang': 12562, 'idavid': 12563, 'hoesho': 12564, 'cameraman': 12565, 'camerarigz': 12566, 'appleisevil': 12567, 'antieco': 12568, 'autocad': 12569, 'italiangirl': 12570, 'nada': 12571, 'hawaian': 12572, 'dha': 12573, 'harryosborn': 12574, 'europegirl': 12575, 'istagirl': 12576, 'der': 12577, 'plazapictwittercomrbiohehyg': 12578, 'tribut': 12579, 'mobilephon': 12580, 'eggbutt': 12581, 'joint': 12582, 'instantmessag': 12583, 'wirelessphon': 12584, 'pictwittercomimyffgef': 12585, 'phonepictwittercomxqamajmi': 12586, 'eastlegon': 12587, 'tengo': 12588, 'accra': 12589, 'villa': 12590, 'gadgetsghana': 12591, 'wholesal': 12592, 'pictwittercomlxtwphmnr': 12593, 'getaway': 12594, 'itslevelsdi': 12595, 'insect': 12596, 'suntan': 12597, 'itsov': 12598, 'eureka': 12599, 'cuisin': 12600, 'juda': 12601, 'pictwittercomeytmubx': 12602, 'wax': 12603, 'iwantanewphon': 12604, 'waitedallnight': 12605, 'sylrom': 12606, 'bansamsung': 12607, 'grenad': 12608, 'samsungwow': 12609, 'workday': 12610, 'selfiboy': 12611, 'gaygboy': 12612, 'newyearforeverybodi': 12613, 'newcam': 12614, 'hilton': 12615, 'bom': 12616, 'destress': 12617, 'tweetmast': 12618, 'conch': 12619, 'ukbizhour': 12620, 'ppictwittercomohjsrsoef': 12621, 'turnov': 12622, 'mamet': 12623, 'ilookforwardtoyouremail': 12624, 'presenc': 12625, 'crumb': 12626, 'appleturnoverday': 12627, 'iphoneo': 12628, 'fika': 12629, 'georgeou': 12630, 'glasgowpictwittercomccengkdea': 12631, 'garag': 12632, 'cartagena': 12633, 'writer': 12634, 'bowi': 12635, 'mybirthar': 12636, 'pictwittercomgfgvquepuc': 12637, 'pictwittercomsplybxyvi': 12638, 'instacolor': 12639, 'warmth': 12640, 'repairreplac': 12641, 'spartako': 12642, 'tine': 12643, 'pictwittercomfgjekken': 12644, 'pedal': 12645, 'faggott': 12646, 'synth': 12647, 'tooklongenough': 12648, 'earlybirdlov': 12649, 'pictwittercomprgdfynai': 12650, 'goingcrazi': 12651, 'idcwha': 12652, 'jagag': 12653, 'columbia': 12654, 'modelsearch': 12655, 'modelstatu': 12656, 'freshfoodpictwittercompyajokbi': 12657, 'modellif': 12658, 'instaspr': 12659, 'littleangel': 12660, 'newlyw': 12661, 'brillia': 12662, 'goty': 12663, 'modelag': 12664, 'proport': 12665, 'mmh': 12666, 'avenu': 12667, 'av': 12668, 'instanyc': 12669, 'anaheim': 12670, 'attservic': 12671, 'newhom': 12672, 'comencemo': 12673, 'ene': 12674, 'handstand': 12675, 'igkid': 12676, 'tspnet': 12677, 'bestor': 12678, 'curious': 12679, 'vnt': 12680, 'headgear': 12681, 'girlnextdoor': 12682, 'jog': 12683, 'twitpic': 12684, 'nelson': 12685, 'pictwittercomumyfcpetq': 12686, 'lilj': 12687, 'tmob': 12688, 'galaxyj': 12689, 'instagd': 12690, 'instaporn': 12691, 'instacam': 12692, 'bolli': 12693, 'tealblu': 12694, 'pictwittercomobjzjfvlr': 12695, 'needmymus': 12696, 'mobilepow': 12697, 'uspictwittercomxufgyzuxca': 12698, 'diabloii': 12699, 'spreadinghappi': 12700, 'ilmi': 12701, 'downey': 12702, 'mim': 12703, 'pictwittercomyigifrtbg': 12704, 'makeportra': 12705, 'withafierypass': 12706, 'yeh': 12707, 'trueli': 12708, 'burninafir': 12709, 'chocolatemilk': 12710, 'pictwittercombwdiogehdx': 12711, 'rosetta': 12712, 'iasmin': 12713, 'strain': 12714, 'exhibitg': 12715, 'lgg': 12716, 'folloback': 12717, 'christmasbirthday': 12718, 'missmyandriod': 12719, 'pictwittercomakovocifsq': 12720, 'pictwittercomjxwfuklay': 12721, 'cupid': 12722, 'hatee': 12723, 'pictwittercomqzdsoshk': 12724, 'candykay': 12725, 'psl': 12726, 'baffin': 12727, 'crappyproduct': 12728, 'pictwittercomlkxdmzwjjz': 12729, 'suitabl': 12730, 'felicit': 12731, 'allerg': 12732, 'thur': 12733, 'birthdaystev': 12734, 'tampabaypictwittercomgiijndi': 12735, 'tampa': 12736, 'santana': 12737, 'lovingit': 12738, 'chalk': 12739, 'gooddeal': 12740, 'berkah': 12741, 'showoff': 12742, 'religi': 12743, 'biblevers': 12744, 'wegonnasu': 12745, 'theplung': 12746, 'accessorypictwittercompunxurlm': 12747, 'jet': 12748, 'mythreeson': 12749, 'pictwittercomtgixzng': 12750, 'iloveindonesia': 12751, 'butfirst': 12752, 'grandduo': 12753, 'pictwittercomzabxqpa': 12754, 'amtra': 12755, 'exodu': 12756, 'blessedinde': 12757, 'mothfuck': 12758, 'opi': 12759, 'greedybigbusi': 12760, 'pictwittercomoryktnswn': 12761, 'followfollowpictwittercomcopsavxmov': 12762, 'noreal': 12763, 'pictwittercomqumnmtan': 12764, 'brave': 12765, 'santantonio': 12766, 'flaccid': 12767, 'pictwittercomsumusbg': 12768, 'mctrendsphoto': 12769, 'tampapictwittercommzmteotara': 12770, 'pb': 12771, 'spinach': 12772, 'jpeg': 12773, 'theoffic': 12774, 'vagina': 12775, 'brouwersdampictwittercomrlblzxgxcn': 12776, 'intro': 12777, 'justbecaus': 12778, 'randomgift': 12779, 'wontunlock': 12780, 'gluegelsold': 12781, 'teamo': 12782, 'pictwittercomceiqeewt': 12783, 'otherwis': 12784, 'toldm': 12785, 'safest': 12786, 'agustu': 12787, 'manggabesarjakbar': 12788, 'durian': 12789, 'inaccess': 12790, 'horni': 12791, 'detox': 12792, 'worldhealthday': 12793, 'precis': 12794, 'hategaddafi': 12795, 'bemyvalentin': 12796, 'strawberriespictwittercomdffjhvpg': 12797, 'eid': 12798, 'feelslik': 12799, 'beautiffful': 12800, 'innout': 12801, 'gaddafi': 12802, 'livemus': 12803, 'instadiali': 12804, 'antwerp': 12805, 'sagar': 12806, 'photoaday': 12807, 'loca': 12808, 'pictwittercomhwpwwvt': 12809, 'diamondtouch': 12810, 'entreprenu': 12811, 'ilovemyself': 12812, 'ihavetoomani': 12813, 'stillnotenough': 12814, 'girlincast': 12815, 'crutch': 12816, 'veg': 12817, 'nokiasiroccogold': 12818, 'phoneorigin': 12819, 'cavern': 12820, 'jim': 12821, 'goldman': 12822, 'pictwittercomsbsvhyfava': 12823, 'pictwittercomnlaxaufwah': 12824, 'bottlerock': 12825, 'napa': 12826, 'hitachi': 12827, 'myreactionwhen': 12828, 'bakersfield': 12829, 'tmospeak': 12830, 'giggl': 12831, 'spontan': 12832, 'lem': 12833, 'lappi': 12834, 'sirocco': 12835, 'obsessedpictwittercomhldplmhqmc': 12836, 'favour': 12837, 'iphoneeffect': 12838, 'carga': 12839, 'pilha': 12840, 'acess': 12841, 'acid': 12842, 'sonyhack': 12843, 'sonysuck': 12844, 'designfail': 12845, 'extent': 12846, 'followpictwittercomytldnfjd': 12847, 'applekiwi': 12848, 'donutscandi': 12849, 'eagerli': 12850, 'nikeair': 12851, 'metom': 12852, 'kremajuic': 12853, 'newchapt': 12854, 'newborn': 12855, 'whysocool': 12856, 'mammi': 12857, 'asburypark': 12858, 'asburyparkboardwalk': 12859, 'ooplukpla': 12860, 'newjersey': 12861, 'bodyshop': 12862, 'growsom': 12863, 'terrorist': 12864, 'yourselfyour': 12865, 'gothic': 12866, 'retir': 12867, 'anditsfinalsweek': 12868, 'greatinventor': 12869, 'christmaspictwittercomuczqwdlh': 12870, 'onfleek': 12871, 'pictwittercomecnckzmwwd': 12872, 'goth': 12873, 'holycow': 12874, 'cuteaf': 12875, 'witchi': 12876, 'witchyth': 12877, 'theprocess': 12878, 'rogueandwolf': 12879, 'portraitur': 12880, 'jobsi': 12881, 'linen': 12882, 'videographi': 12883, 'revolv': 12884, 'thinkyouknowm': 12885, 'berlinpictwittercomzzjvgtyaxl': 12886, 'facebookad': 12887, 'cyber': 12888, 'alfa': 12889, 'benhil': 12890, 'theywerefinebefor': 12891, 'tkp': 12892, 'emoshtim': 12893, 'pictwittercomhlmkwuto': 12894, 'alliwantistoplayinfam': 12895, 'mg': 12896, 'thewait': 12897, 'harley': 12898, 'barista': 12899, 'pictwittercomvvqxiasfo': 12900, 'startingto': 12901, 'higpictwittercomomxfuv': 12902, 'wifii': 12903, 'inkjet': 12904, 'lazer': 12905, 'imsomabaitnadaught': 12906, 'comeonappl': 12907, 'aunti': 12908, 'yearight': 12909, 'stylistikafadj': 12910, 'dsctfb': 12911, 'scheer': 12912, 'pictwittercomhokmhpaiiy': 12913, 'beeroclock': 12914, 'juke': 12915, 'shouldhavegotazun': 12916, 'internationaldayofpeac': 12917, 'pictwittercomjtffnivzam': 12918, 'deven': 12919, 'daygetchuck': 12920, 'refriger': 12921, 'toner': 12922, 'portion': 12923, 'goodli': 12924, 'portug': 12925, 'mousavi': 12926, 'pictwittercomisbdqbhjt': 12927, 'democracyiniran': 12928, 'seaofgreen': 12929, 'iranelect': 12930, 'roppongi': 12931, 'rtd': 12932, 'mepictwittercomddanzdex': 12933, 'instapick': 12934, 'instaad': 12935, 'gamingexperi': 12936, 'conced': 12937, 'kidsjustwannahavefun': 12938, 'kodakblack': 12939, 'livediffer': 12940, 'livediff': 12941, 'pallet': 12942, 'direction': 12943, 'rosi': 12944, 'videopictwittercomojqpwqdzej': 12945, 'antennag': 12946, 'pmapril': 12947, 'trivia': 12948, 'atlant': 12949, 'clarksvilletnpictwittercommdqdesv': 12950, 'gz': 12951, 'memoriesfromthedr': 12952, 'lifeisaboutpeopl': 12953, 'launion': 12954, 'pictwittercomrqgpyysi': 12955, 'ultrabook': 12956, 'bcoz': 12957, 'backcov': 12958, 'kyliejenn': 12959, 'finedin': 12960, 'trench': 12961, 'samsungwishlist': 12962, 'welovethem': 12963, 'kiddo': 12964, 'ipe': 12965, 'stranger': 12966, 'ripictwittercomykysvmleci': 12967, 'paw': 12968, 'finland': 12969, 'barquisimeto': 12970, 'layout': 12971, 'outa': 12972, 'freepictwittercomfdsdczfev': 12973, 'tizen': 12974, 'wheez': 12975, 'izon': 12976, 'behavior': 12977, 'unaccept': 12978, 'tweez': 12979, 'instagollag': 12980, 'ripaaliyah': 12981, 'passionpictwittercombaxhqqwwf': 12982, 'merryxma': 12983, 'fusion': 12984, 'sinestrocorp': 12985, 'jetblack': 12986, 'ftbol': 12987, 'pictwittercomolurdxhw': 12988, 'appletwitt': 12989, 'newipod': 12990, 'pgrinteract': 12991, 'soccermod': 12992, 'pictwittercomluzurtrdxu': 12993, 'musicislif': 12994, 'musicslif': 12995, 'musicseveryth': 12996, 'pictwittercommajkreyd': 12997, 'foodnetwork': 12998, 'workfromhom': 12999, 'hugescreen': 13000, 'igerbra': 13001, 'manau': 13002, 'ridin': 13003, 'allllll': 13004, 'batmanarkhamc': 13005, 'finnali': 13006, 'greeneri': 13007, 'primetim': 13008, 'healti': 13009, 'distort': 13010, 'apoge': 13011, 'remain': 13012, 'highest': 13013, 'corn': 13014, 'louisvil': 13015, 'hulksmashedpictwittercommznmxvpcg': 13016, 'hoodoo': 13017, 'englishclub': 13018, 'hoodoobrown': 13019, 'brownhair': 13020, 'dy': 13021, 'neighborhoodpictwittercombgxzlhqi': 13022, 'letsdoit': 13023, 'fallenangel': 13024, 'beautyguru': 13025, 'earlyaccess': 13026, 'yp': 13027, 'joseph': 13028, 'arequipa': 13029, 'someday': 13030, 'pictwittercomfvanltgwc': 13031, 'seven': 13032, 'sexual': 13033, 'demon': 13034, 'sexualhealth': 13035, 'lamest': 13036, 'tweegrpictwittercomsfpsqtf': 13037, 'imaginari': 13038, 'pictwittercomqqhtlsrm': 13039, 'felizmiercolespictwittercomfwagegfph': 13040, 'playblackjack': 13041, 'mania': 13042, 'retweetgam': 13043, 'amber': 13044, 'cartridg': 13045, 'sticktolaptop': 13046, 'bxleex': 13047, 'aaaahhhhhhh': 13048, 'thor': 13049, 'regal': 13050, 'alleg': 13051, 'areyoukiddingm': 13052, 'appleday': 13053, 'depp': 13054, 'johnni': 13055, 'loooov': 13056, 'crust': 13057, 'windowwwww': 13058, 'grabacion': 13059, 'noob': 13060, 'quickestrt': 13061, 'saul': 13062, 'experienc': 13063, 'pictwittercomhgzyqmmul': 13064, 'forevergalaxi': 13065, 'horriblephon': 13066, 'failpictwittercomcysqzxsv': 13067, 'inexplic': 13068, 'photoburst': 13069, 'geekinghard': 13070, 'droidfan': 13071, 'crimin': 13072, 'wantmi': 13073, 'vino': 13074, 'zap': 13075, 'scientist': 13076, 'ryanbeatti': 13077, 'visitindonesia': 13078, 'masaya': 13079, 'bmxbabe': 13080, 'luckywinn': 13081, 'yiv': 13082, 'happ': 13083, 'displeas': 13084, 'tablett': 13085, 'enfin': 13086, 'angiemarino': 13087, 'paskona': 13088, 'bmx': 13089, 'cilacap': 13090, 'pictwittercomasclqnsuom': 13091, 'seiz': 13092, 'stabl': 13093, 'slothdev': 13094, 'mygalaxi': 13095, 'pictwittercomgchtxyrz': 13096, 'inferiorproductproblem': 13097, 'fuckatt': 13098, 'fucksamsung': 13099, 'kygo': 13100, 'fireston': 13101, 'ioc': 13102, 'ragin': 13103, 'fbtwitterinsta': 13104, 'outoppi': 13105, 'sammyfriday': 13106, 'auch': 13107, 'pacsun': 13108, 'rbb': 13109, 'delco': 13110, 'pasko': 13111, 'slay': 13112, 'designerlif': 13113, 'turnin': 13114, 'dfu': 13115, 'makingoff': 13116, 'djlife': 13117, 'traktor': 13118, 'pictwittercomtasopsgv': 13119, 'producerlif': 13120, 'lockingitin': 13121, 'photograpi': 13122, 'turnip': 13123, 'greatday': 13124, 'wasdalo': 13125, 'endlichwochend': 13126, 'ensu': 13127, 'footballpictwittercomhusfpkppq': 13128, 'catastroph': 13129, 'listenpictwittercomasfhxxyhzj': 13130, 'unforgett': 13131, 'worthi': 13132, 'furnitur': 13133, 'greenlif': 13134, 'naturelif': 13135, 'likelikepictwittercomkpstpxvrkx': 13136, 'wheresmymac': 13137, 'plapictwittercomequflvhja': 13138, 'hermoso': 13139, 'furnitureso': 13140, 'collardgreen': 13141, 'makeadiffer': 13142, 'ness': 13143, 'xa': 13144, 'lotu': 13145, 'moodoftheday': 13146, 'mindhunt': 13147, 'harrd': 13148, 'zacefron': 13149, 'designlif': 13150, 'canadian': 13151, 'xadrez': 13152, 'igersvenezuela': 13153, 'dload': 13154, 'bberri': 13155, 'frm': 13156, 'noon': 13157, 'allstat': 13158, 'mdrv': 13159, 'ihavetobeupsoon': 13160, 'seeeeeeee': 13161, 'techologyisgay': 13162, 'floodalert': 13163, 'abe': 13164, 'ratpack': 13165, 'gep': 13166, 'igersmaracay': 13167, 'fackappl': 13168, 'gtfcchink': 13169, 'whaat': 13170, 'couldcri': 13171, 'assembl': 13172, 'pictwittercomtahqcswv': 13173, 'activis': 13174, 'iight': 13175, 'amazonalexa': 13176, 'yeiglez': 13177, 'pictwittercomqdsjgqb': 13178, 'krphotographi': 13179, 'aii': 13180, 'ruinediphon': 13181, 'nohardfeel': 13182, 'aseri': 13183, 'pewdiepi': 13184, 'rtx': 13185, 'iknow': 13186, 'sansung': 13187, 'sportster': 13188, 'googlemusicpictwittercompcktyr': 13189, 'dualipa': 13190, 'earbu': 13191, 'hooooli': 13192, 'yessssss': 13193, 'ummm': 13194, 'bixbyfin': 13195, 'pictwittercomhnuxfubzeq': 13196, 'pheromon': 13197, 'moth': 13198, 'codl': 13199, 'dimica': 13200, 'worksgood': 13201, 'organiqa': 13202, 'mhprd': 13203, 'pictwittercomqvqnhnivb': 13204, 'justsay': 13205, 'iwokeuplikethi': 13206, 'aura': 13207, 'neighborhood': 13208, 'gdmt': 13209, 'stamford': 13210, 'westchest': 13211, 'iosgat': 13212, 'monsterhunterportablerd': 13213, 'ibook': 13214, 'appley': 13215, 'rupe': 13216, 'vivovplu': 13217, 'env': 13218, 'bigto': 13219, 'jackson': 13220, 'realmus': 13221, 'whch': 13222, 'pictwittercomxpywkyow': 13223, 'growth': 13224, 'anniversarygift': 13225, 'startupindia': 13226, 'pictwittercomwggenhifl': 13227, 'shh': 13228, 'rawest': 13229, 'miau': 13230, 'pictwittercomadwyzogm': 13231, 'usaf': 13232, 'mstorepictwittercomghrchetnb': 13233, 'offlol': 13234, 'tnx': 13235, 'airforc': 13236, 'givemebackmysmartphon': 13237, 'goa': 13238, 'chese': 13239, 'pictwittercompopxbpw': 13240, 'fee': 13241, 'heartim': 13242, 'smm': 13243, 'oneplustwo': 13244, 'redbeast': 13245, 'santorini': 13246, 'oyeee': 13247, 'latino': 13248, 'geekpornpictwittercomszgvxhmc': 13249, 'mami': 13250, 'digitalmarket': 13251, 'competiton': 13252, 'suunto': 13253, 'movat': 13254, 'shockproof': 13255, 'meshal': 13256, 'youtubepictwittercomqaupwkj': 13257, 'gmi': 13258, 'iphonen': 13259, 'hlyk': 13260, 'healthcar': 13261, 'automatedsystem': 13262, 'nn': 13263, 'yumm': 13264, 'livefilt': 13265, 'jnj': 13266, 'familypictwittercomdyyrhumc': 13267, 'iphonepictwittercomycasizwsb': 13268, 'negoti': 13269, 'photogtaphi': 13270, 'phonecal': 13271, 'fucktheiphonepictwittercomdekmzgilg': 13272, 'ownership': 13273, 'mediapictwittercompyowaag': 13274, 'roomi': 13275, 'rollercoast': 13276, 'kitkit': 13277, 'vrpictwittercomajwdsikro': 13278, 'candycoast': 13279, 'mhamhinekitkit': 13280, 'applink': 13281, 'gearvr': 13282, 'friendd': 13283, 'llpictwittercomknxvlco': 13284, 'pictwittercomvgffardep': 13285, 'scallywag': 13286, 'iphonetori': 13287, 'dumbfuck': 13288, 'gamerguy': 13289, 'dontstarv': 13290, 'sfuad': 13291, 'adm': 13292, 'lotr': 13293, 'weekendpictwittercomhcojahmzj': 13294, 'sever': 13295, 'shameless': 13296, 'pictwittercomblewwktiq': 13297, 'ipictwittercomzdrxznomgj': 13298, 'butilovey': 13299, 'galaxyiv': 13300, 'greatsal': 13301, 'christmassi': 13302, 'oportun': 13303, 'broward': 13304, 'switchhappen': 13305, 'tygervalley': 13306, 'nutritionpictwittercomasjqrng': 13307, 'wellb': 13308, 'restday': 13309, 'bladdi': 13310, 'fastcompani': 13311, 'surg': 13312, 'guttenmorgen': 13313, 'beautifulpictwittercomqehzxrcgl': 13314, 'sweeti': 13315, 'certainli': 13316, 'allur': 13317, 'pictwittercombtylmrcpx': 13318, 'ofmanyexampl': 13319, 'whowouldhavekid': 13320, 'celllifedependsonit': 13321, 'dontwanttogotothedarksid': 13322, 'stilllovejob': 13323, 'ipodsbrok': 13324, 'gettingridofiphon': 13325, 'applemi': 13326, 'robinamb': 13327, 'hahahahahah': 13328, 'sickwhing': 13329, 'dyou': 13330, 'anyday': 13331, 'appleidiot': 13332, 'microsoftloy': 13333, 'motorolamotogthgenerationxtgbblack': 13334, 'hateblackberri': 13335, 'hateandroid': 13336, 'crime': 13337, 'hatearsen': 13338, 'imgladstevejobsdi': 13339, 'androidnextim': 13340, 'sneez': 13341, 'baaabi': 13342, 'cadiz': 13343, 'hairdy': 13344, 'houli': 13345, 'tail': 13346, 'dodson': 13347, 'oem': 13348, 'mehpictwittercomdeqgbqjkgz': 13349, 'sirisay': 13350, 'aime': 13351, 'noncommitt': 13352, 'pictwittercomglkchuvfq': 13353, 'odm': 13354, 'computeraccessori': 13355, 'thug': 13356, 'scrap': 13357, 'rj': 13358, 'typec': 13359, 'tooexpens': 13360, 'usbc': 13361, 'ucouso': 13362, 'dye': 13363, 'istagood': 13364, 'timeout': 13365, 'princessjuju': 13366, 'ou': 13367, 'dorito': 13368, 'protecteur': 13369, 'worstluckwithphon': 13370, 'tacobel': 13371, 'juno': 13372, 'eugeneoregon': 13373, 'oijh': 13374, 'comf': 13375, 'pictwittercomtwexwtbfa': 13376, 'pictwittercomkecxltd': 13377, 'gostosa': 13378, 'loreenpaperlight': 13379, 'mhamhin': 13380, 'cellulair': 13381, 'worktool': 13382, 'fashionaddictpictwittercomzobwcb': 13383, 'thuglif': 13384, 'funi': 13385, 'imo': 13386, 'lookmypictur': 13387, 'animali': 13388, 'dial': 13389, 'wbokam': 13390, 'guangzhou': 13391, 'pictwittercomybkjcynpd': 13392, 'lookmyp': 13393, 'comentforco': 13394, 'samsungsmini': 13395, 'juspictwittercomwhcuyzxw': 13396, 'prework': 13397, 'selfcar': 13398, 'clickabl': 13399, 'popup': 13400, 'sjp': 13401, 'est': 13402, 'bel': 13403, 'che': 13404, 'pictwittercomoxasnfmt': 13405, 'monthinreview': 13406, 'iphonesgold': 13407, 'qf': 13408, 'rusher': 13409, 'illinoi': 13410, 'pictwittercomqemwlzvg': 13411, 'skyscrap': 13412, 'romanticsunset': 13413, 'bigciti': 13414, 'malwar': 13415, 'carlospena': 13416, 'septiembr': 13417, 'derbi': 13418, 'pictwittercomfvcncqmqh': 13419, 'worstev': 13420, 'weloveyoudad': 13421, 'sayi': 13422, 'motogwellit': 13423, 'misto': 13424, 'minibagel': 13425, 'lend': 13426, 'dorado': 13427, 'gogogadget': 13428, 'godbro': 13429, 'thier': 13430, 'thisisstupid': 13431, 'pictwittercomumdxsmwu': 13432, 'applenew': 13433, 'fsecur': 13434, 'grindpictwittercomizeqcacq': 13435, 'dtsa': 13436, 'macwith': 13437, 'studentforlif': 13438, 'workoutfit': 13439, 'followforafollow': 13440, 'toast': 13441, 'omar': 13442, 'awesomepictwittercommbymvpx': 13443, 'gayhappi': 13444, 'santaana': 13445, 'tiefin': 13446, 'prankster': 13447, 'prankcal': 13448, 'callmebabi': 13449, 'moviescen': 13450, 'lordofth': 13451, 'jensen': 13452, 'awhil': 13453, 'lndian': 13454, 'feelspictwittercomrxsceondqp': 13455, 'newlook': 13456, 'bdaygift': 13457, 'thebiggestreason': 13458, 'mwahahaha': 13459, 'ax': 13460, 'selfietim': 13461, 'bestphoto': 13462, 'thirti': 13463, 'workvib': 13464, 'famjam': 13465, 'marin': 13466, 'oc': 13467, 'orangecounti': 13468, 'destruct': 13469, 'giveawaypictwittercomfnactbm': 13470, 'insur': 13471, 'jmpngwthgmbi': 13472, 'bdsfail': 13473, 'gari': 13474, 'thatscooltoo': 13475, 'casee': 13476, 'palchip': 13477, 'chiptun': 13478, 'mewlikebit': 13479, 'bd': 13480, 'parisienn': 13481, 'libraryxml': 13482, 'diff': 13483, 'walkway': 13484, 'smilepictwittercomayobufdc': 13485, 'salam': 13486, 'muppet': 13487, 'viva': 13488, 'googlenow': 13489, 'referr': 13490, 'bmo': 13491, 'xtreme': 13492, 'customerpictwittercomzqwtadxnhm': 13493, 'riogrand': 13494, 'southtexa': 13495, 'rgv': 13496, 'neven': 13497, 'auction': 13498, 'highland': 13499, 'twitchgirlpictwittercomazgjkv': 13500, 'isra': 13501, 'berrrr': 13502, 'pictwittercomrglqwzakc': 13503, 'photoofthenight': 13504, 'happenseverytim': 13505, 'incarn': 13506, 'candycrush': 13507, 'yellowlightofdeath': 13508, 'pissin': 13509, 'pictwittercombqtbojti': 13510, 'mindofitsown': 13511, 'bollox': 13512, 'vipgra': 13513, 'datacool': 13514, 'mydad': 13515, 'universalportnomor': 13516, 'mlr': 13517, 'ylmr': 13518, 'wantyou': 13519, 'ylli': 13520, 'pleasednot': 13521, 'documentspdfsnot': 13522, 'droidbut': 13523, 'rtakuapppictwittercomjgtyvyf': 13524, 'letsgo': 13525, 'cardiokil': 13526, 'stressreliev': 13527, 'powerbeat': 13528, 'summerpictwittercomuabpcwo': 13529, 'appeal': 13530, 'ivepaidforthi': 13531, 'takebackthenight': 13532, 'takuapp': 13533, 'icool': 13534, 'insuffici': 13535, 'et': 13536, 'borrow': 13537, 'oldappleus': 13538, 'stopchangingmodel': 13539, 'flex': 13540, 'whitete': 13541, 'isheep': 13542, 'descanso': 13543, 'panecea': 13544, 'dnd': 13545, 'bodrum': 13546, 'sualt': 13547, 'tamujunto': 13548, 'ehnoi': 13549, 'feria': 13550, 'intrud': 13551, 'dmstyle': 13552, 'foundat': 13553, 'frontier': 13554, 'siva': 13555, 'pictwittercomhdwbrdbmd': 13556, 'sivaratri': 13557, 'gumbet': 13558, 'grounghog': 13559, 'aashamsak': 13560, 'singlet': 13561, 'winder': 13562, 'mechan': 13563, 'mmmm': 13564, 'cutepictwittercomujqrlffjq': 13565, 'vike': 13566, 'pardon': 13567, 'puddingto': 13568, 'bruxel': 13569, 'pictwittercomsaxvkup': 13570, 'seenonceleb': 13571, 'pill': 13572, 'ilovemycat': 13573, 'catey': 13574, 'ao': 13575, 'bossbabi': 13576, 'samsun': 13577, 'julieday': 13578, 'cutepictwittercomoryppi': 13579, 'pictwittercomesqisdi': 13580, 'nw': 13581, 'thbirthday': 13582, 'bsb': 13583, 'gimmemylaptop': 13584, 'laptoppp': 13585, 'easytocook': 13586, 'fisheyelen': 13587, 'tatto': 13588, 'arian': 13589, 'pictwittercomgwqqkujnb': 13590, 'todaysor': 13591, 'spaghetti': 13592, 'disciplin': 13593, 'rodriguez': 13594, 'sponsor': 13595, 'wiki': 13596, 'sheepl': 13597, 'punctual': 13598, 'mtf': 13599, 'slimclipcasefind': 13600, 'holyfuck': 13601, 'roam': 13602, 'funnymem': 13603, 'itunesstor': 13604, 'creationswapcom': 13605, 'ddd': 13606, 'radiohost': 13607, 'pictwittercomvghyhlya': 13608, 'instaxonlineph': 13609, 'prais': 13610, 'phoster': 13611, 'dictionari': 13612, 'jackpot': 13613, 'prequel': 13614, 'saudi': 13615, 'likeacharm': 13616, 'thunderclap': 13617, 'feluma': 13618, 'ben': 13619, 'goodmorningpictwittercominleqfodw': 13620, 'krishnagiri': 13621, 'dq': 13622, 'blowingup': 13623, 'photooftoday': 13624, 'tone': 13625, 'teast': 13626, 'mylittlebro': 13627, 'clipfight': 13628, 'itrock': 13629, 'fighter': 13630, 'arena': 13631, 'comicbook': 13632, 'mbaak': 13633, 'roadi': 13634, 'crow': 13635, 'pleasestop': 13636, 'kentang': 13637, 'bawang': 13638, 'apel': 13639, 'displeasur': 13640, 'notfunni': 13641, 'shottiest': 13642, 'pictwittercomvmzuaifykm': 13643, 'artofportr': 13644, 'playstationpro': 13645, 'imtir': 13646, 'needl': 13647, 'butmi': 13648, 'iphoneit': 13649, 'sadfac': 13650, 'jubil': 13651, 'spaziocellular': 13652, 'git': 13653, 'employeebenefit': 13654, 'wage': 13655, 'effort': 13656, 'februarychalleng': 13657, 'googler': 13658, 'slimclip': 13659, 'novic': 13660, 'photochalleng': 13661, 'endlich': 13662, 'daisi': 13663, 'jwvisual': 13664, 'rotf': 13665, 'smug': 13666, 'unemploy': 13667, 'makenosens': 13668, 'assjuic': 13669, 'ihatemicrosoft': 13670, 'galaxyiii': 13671, 'ofici': 13672, 'eleph': 13673, 'wahoo': 13674, 'yesss': 13675, 'goodtv': 13676, 'applefaith': 13677, 'janisjoplin': 13678, 'mybackground': 13679, 'thewtfactori': 13680, 'notgeniu': 13681, 'appleerror': 13682, 'nothingthi': 13683, 'competieion': 13684, 'suitspremier': 13685, 'sparkli': 13686, 'instahigh': 13687, 'bloom': 13688, 'giftpictwittercomamqlwyttex': 13689, 'despic': 13690, 'boyyyi': 13691, 'rainsmel': 13692, 'spe': 13693, 'fuxxwi': 13694, 'victoria': 13695, 'km': 13696, 'pictwittercomwhyqrhhnh': 13697, 'japanes': 13698, 'sherweezi': 13699, 'nuthin': 13700, 'instagang': 13701, 'loadofshit': 13702, 'fashionstyl': 13703, 'clank': 13704, 'rewind': 13705, 'yank': 13706, 'winsford': 13707, 'rank': 13708, 'wank': 13709, 'correr': 13710, 'bluesho': 13711, 'asic': 13712, 'tintin': 13713, 'kalenjirun': 13714, 'horrif': 13715, 'stepstosurviveahorrormovi': 13716, 'rnbclassic': 13717, 'ushouldnt': 13718, 'mah': 13719, 'nova': 13720, 'constanstli': 13721, 'prservativ': 13722, 'pictwittercomxkivarif': 13723, 'isuck': 13724, 'nuffsaid': 13725, 'stupidmac': 13726, 'goner': 13727, 'resetmyphon': 13728, 'nonoffici': 13729, 'motoblur': 13730, 'conformist': 13731, 'saritaceram': 13732, 'galaxytabfan': 13733, 'samsungfanat': 13734, 'ceram': 13735, 'helsinki': 13736, 'germangirl': 13737, 'dagger': 13738, 'healthylif': 13739, 'amazonfiretv': 13740, 'narsi': 13741, 'ricpictwittercomlyogowtfm': 13742, 'spack': 13743, 'oppa': 13744, 'niceday': 13745, 'netgear': 13746, 'cate': 13747, 'exi': 13748, 'underdoxx': 13749, 'bunakenchacha': 13750, 'bestparentsev': 13751, 'schnauzer': 13752, 'schnauzerniec': 13753, 'salon': 13754, 'goodbyeappl': 13755, 'helloandroid': 13756, 'samsungfutur': 13757, 'iphonemania': 13758, 'laptopcas': 13759, 'pictwittercomfvxpuctnb': 13760, 'pun': 13761, 'fungi': 13762, 'vscox': 13763, 'pictwittercommpqljdbiga': 13764, 'giancarlo': 13765, 'journal': 13766, 'carlo': 13767, 'pictwittercomoyfmqxo': 13768, 'starttheparti': 13769, 'widow': 13770, 'victim': 13771, 'benghazi': 13772, 'totebag': 13773, 'iento': 13774, 'pictwittercomakhfwnsarb': 13775, 'lopeta': 13776, 'loveappl': 13777, 'shallot': 13778, 'dailyphoto': 13779, 'koreanpepp': 13780, 'bestcaseev': 13781, 'lom': 13782, 'wasteoftim': 13783, 'enjoylif': 13784, 'headach': 13785, 'unnecessari': 13786, 'homemadefood': 13787, 'italianfood': 13788, 'pictwittercomcrytaecd': 13789, 'bakocas': 13790, 'bfast': 13791, 'blo': 13792, 'chelsea': 13793, 'spoon': 13794, 'slipperday': 13795, 'iphonert': 13796, 'slipper': 13797, 'iphonesnapshot': 13798, 'bolsov': 13799, 'sesh': 13800, 'nokialif': 13801, 'meghan': 13802, 'beachpictwittercomqjitegwcx': 13803, 'nortononderw': 13804, 'afforment': 13805, 'frok': 13806, 'canonbr': 13807, 'sonybrasil': 13808, 'albumpictwittercomfbyeakbc': 13809, 'physic': 13810, 'thatd': 13811, 'godofwar': 13812, 'haterim': 13813, 'ieiiiii': 13814, 'ieiii': 13815, 'scamster': 13816, 'vivofraud': 13817, 'vivoscamst': 13818, 'floridapictwittercomkkwcfk': 13819, 'ieeeey': 13820, 'globegalaxyslt': 13821, 'grandcentr': 13822, 'argh': 13823, 'hihihi': 13824, 'graham': 13825, 'pictwittercomaubkpyjzwj': 13826, 'nexn': 13827, 'katiewertheimerr': 13828, 'iphoneog': 13829, 'wantmydroid': 13830, 'peeper': 13831, 'duvet': 13832, 'odject': 13833, 'workarea': 13834, 'malaysian': 13835, 'fiance': 13836, 'coral': 13837, 'myrtl': 13838, 'suckit': 13839, 'citat': 13840, 'df': 13841, 'queenofspr': 13842, 'humpday': 13843, 'tapestri': 13844, 'thooooo': 13845, 'studioc': 13846, 'nuest': 13847, 'secretli': 13848, 'pictwittercomejqlywi': 13849, 'lpictwittercomepewnxupvj': 13850, 'twilight': 13851, 'pictwittercomjswgwbfvik': 13852, 'freeli': 13853, 'canva': 13854, 'goodeven': 13855, 'fuckiphon': 13856, 'hatingmyphon': 13857, 'fulli': 13858, 'sobeauti': 13859, 'samsunggalaxysedg': 13860, 'closur': 13861, 'pictwittercomytzyfw': 13862, 'spyroonesi': 13863, 'mere': 13864, 'unlik': 13865, 'multicopt': 13866, 'dhruv': 13867, 'technosi': 13868, 'pixhawk': 13869, 'dji': 13870, 'dronelif': 13871, 'thisisarealproblemokay': 13872, 'fpv': 13873, 'dronegear': 13874, 'ua': 13875, 'uav': 13876, 'somi': 13877, 'dmforcredit': 13878, 'iphonerantcontinu': 13879, 'quadcopt': 13880, 'dronefli': 13881, 'novelti': 13882, 'whenll': 13883, 'spyro': 13884, 'awesomeon': 13885, 'opticalzoom': 13886, 'weapon': 13887, 'holograph': 13888, 'sweater': 13889, 'insthgram': 13890, 'copter': 13891, 'tasha': 13892, 'badpictwittercomrauxhzd': 13893, 'pig': 13894, 'wander': 13895, 'hopei': 13896, 'tattpictwittercompaaxkziy': 13897, 'buress': 13898, 'hannib': 13899, 'southsid': 13900, 'hbd': 13901, 'marilynm': 13902, 'skinit': 13903, 'marilyn': 13904, 'againstappl': 13905, 'neverappl': 13906, 'incap': 13907, 'sonystudio': 13908, 'shanghai': 13909, 'remark': 13910, 'atlol': 13911, 'applolthi': 13912, 'followpictwittercompefctqabp': 13913, 'iphonecs': 13914, 'hateapp': 13915, 'mypad': 13916, 'tomson': 13917, 'suburb': 13918, 'aggrav': 13919, 'facemelt': 13920, 'pictwittercomynkcvwvbaz': 13921, 'headon': 13922, 'injur': 13923, 'wantandroidback': 13924, 'string': 13925, 'tara': 13926, 'pudong': 13927, 'streetsnap': 13928, 'culverc': 13929, 'laloc': 13930, 'ana': 13931, 'resterfortbel': 13932, 'blackandw': 13933, 'pictwittercomsalfbjqwka': 13934, 'hatemypad': 13935, 'ventaja': 13936, 'bh': 13937, 'gut': 13938, 'giveawaypictwittercomxsbotxfuk': 13939, 'samn': 13940, 'uspictwittercomhftytiyat': 13941, 'caradapt': 13942, 'monoton': 13943, 'vibratehigh': 13944, 'gogoogl': 13945, 'coreduo': 13946, 'yourefuckingidiot': 13947, 'fuckfuckfuck': 13948, 'aand': 13949, 'wack': 13950, 'successpictwittercomwcanyjnb': 13951, 'malm': 13952, 'instagraphi': 13953, 'natmiaa': 13954, 'virgo': 13955, 'messiah': 13956, 'discipl': 13957, 'bollywood': 13958, 'talkingcarl': 13959, 'souli': 13960, 'arebre': 13961, 'weirdogangbang': 13962, 'nlbeesh': 13963, 'inlay': 13964, 'silverandgold': 13965, 'weng': 13966, 'pictwittercomxfppkkf': 13967, 'athom': 13968, 'adhi': 13969, 'hagiasophia': 13970, 'tariff': 13971, 'retinadisplay': 13972, 'bewild': 13973, 'spraypaint': 13974, 'motorcycl': 13975, 'arcadia': 13976, 'pickl': 13977, 'magictrick': 13978, 'dogswel': 13979, 'whisker': 13980, 'pictwittercomvwzfwxwsc': 13981, 'mommypictwittercomuligtibp': 13982, 'furbabi': 13983, 'petlov': 13984, 'shihtzupuppi': 13985, 'sarkozi': 13986, 'pussyinmyfac': 13987, 'mangrov': 13988, 'adbust': 13989, 'foam': 13990, 'comerciojusto': 13991, 'fairtrad': 13992, 'coberturasanitariaunivers': 13993, 'planmedicounivers': 13994, 'hare': 13995, 'universalhealthcar': 13996, 'ay': 13997, 'seru': 13998, 'pur': 13999, 'chef': 14000, 'whipcream': 14001, 'keithhar': 14002, 'freeday': 14003, 'purringcat': 14004, 'isweariwontdropit': 14005, 'frond': 14006, 'portal': 14007, 'vancouv': 14008, 'itslikechristma': 14009, 'newtechnolog': 14010, 'slovenia': 14011, 'colbi': 14012, 'linu': 14013, 'torvald': 14014, 'mrolympia': 14015, 'companioncub': 14016, 'jaycutl': 14017, 'naruto': 14018, 'darnitlookssorealyoujustcantbelieveit': 14019, 'pictwittercomjlhagyea': 14020, 'motorama': 14021, 'lslpictwittercomcmcjvvdj': 14022, 'thinli': 14023, 'slice': 14024, 'approxim': 14025, 'tastypictwittercomykknskq': 14026, 'bankholiday': 14027, 'earlychristma': 14028, 'birdi': 14029, 'galaxygrand': 14030, 'applemap': 14031, 'everydaygrand': 14032, 'sandwich': 14033, 'cdi': 14034, 'wrongtim': 14035, 'pussyn': 14036, 'alot': 14037, 'beachphotographi': 14038, 'wand': 14039, 'wepa': 14040, 'murmuyo': 14041, 'firm': 14042, 'pictwittercomgbbhmpr': 14043, 'meeeeeee': 14044, 'efrenav': 14045, 'recycleart': 14046, 'fruitstick': 14047, 'concuss': 14048, 'soonsumm': 14049, 'yesyesy': 14050, 'eternidad': 14051, 'mainstag': 14052, 'instacanada': 14053, 'gn': 14054, 'pictwittercomxyluaambj': 14055, 'thenotoriousmma': 14056, 'betterthanxbox': 14057, 'mango': 14058, 'pictwittercomipbbdtvsyx': 14059, 'boricua': 14060, 'baggi': 14061, 'penalis': 14062, 'strider': 14063, 'towerfallascent': 14064, 'appgam': 14065, 'byzantin': 14066, 'applestoreistanbul': 14067, 'tambun': 14068, 'roastappl': 14069, 'knit': 14070, 'blambal': 14071, 'iaintafraidtosay': 14072, 'krono': 14073, 'miltonkeyn': 14074, 'korg': 14075, 'newprofilep': 14076, 'worldjunior': 14077, 'suddenli': 14078, 'tuesdaymotiv': 14079, 'cafenero': 14080, 'fri': 14081, 'megansum': 14082, 'arrrrgggghhhhhhh': 14083, 'mamaknowspictwittercompidsomtd': 14084, 'joytrain': 14085, 'keith': 14086, 'wayo': 14087, 'tweetheart': 14088, 'pictwittercomftnkxnbsyz': 14089, 'playpictwittercomtdggpbrbu': 14090, 'scandal': 14091, 'swirl': 14092, 'elfabianpictwittercomkvsvur': 14093, 'megan': 14094, 'whatisearth': 14095, 'musetto': 14096, 'bello': 14097, 'hayden': 14098, 'petspictwittercomdcaxketzyf': 14099, 'bestiv': 14100, 'sandown': 14101, 'isleofwight': 14102, 'godmorgen': 14103, 'all': 14104, 'sammen': 14105, 'dk': 14106, 'bereadi': 14107, 'trafic': 14108, 'worldstar': 14109, 'tilbehr': 14110, 'cabincrew': 14111}\n"
          ]
        }
      ]
    },
    {
      "cell_type": "markdown",
      "source": [
        "Bag of Words"
      ],
      "metadata": {
        "id": "stoF6yVVkagy"
      }
    },
    {
      "cell_type": "code",
      "source": [
        "vectorizer = CountVectorizer(max_features=5000)  # Limit the number of features (words)\n",
        "X_bow = vectorizer.fit_transform(data['cleaned_tweet']).toarray()"
      ],
      "metadata": {
        "id": "GBl91VxKIBcz"
      },
      "execution_count": null,
      "outputs": []
    },
    {
      "cell_type": "code",
      "source": [
        "print(X_bow.shape)"
      ],
      "metadata": {
        "colab": {
          "base_uri": "https://localhost:8080/"
        },
        "id": "GrR0t_MjIJbk",
        "outputId": "6954ca17-d5c9-4f2b-cf07-ad5fab774246"
      },
      "execution_count": null,
      "outputs": [
        {
          "output_type": "stream",
          "name": "stdout",
          "text": [
            "(7920, 5000)\n"
          ]
        }
      ]
    },
    {
      "cell_type": "code",
      "source": [
        "# Initialize the CountVectorizer with n-grams (1, 2)\n",
        "cv = CountVectorizer(ngram_range=(1, 2))\n",
        "\n",
        "# Apply fit_transform to the cleaned tweets\n",
        "X = cv.fit_transform(data['cleaned_tweet'])\n",
        "\n",
        "# Get the labels (y)\n",
        "y = data['label']\n"
      ],
      "metadata": {
        "id": "zveupnfPBriR"
      },
      "execution_count": null,
      "outputs": []
    },
    {
      "cell_type": "code",
      "source": [
        "data['label']"
      ],
      "metadata": {
        "colab": {
          "base_uri": "https://localhost:8080/",
          "height": 458
        },
        "id": "StbKgmtyByNb",
        "outputId": "d9004817-c897-4e72-d427-0294b07fe96c"
      },
      "execution_count": null,
      "outputs": [
        {
          "output_type": "execute_result",
          "data": {
            "text/plain": [
              "0       0\n",
              "1       0\n",
              "2       0\n",
              "3       0\n",
              "4       1\n",
              "       ..\n",
              "7915    0\n",
              "7916    0\n",
              "7917    0\n",
              "7918    0\n",
              "7919    0\n",
              "Name: label, Length: 7920, dtype: int64"
            ],
            "text/html": [
              "<div>\n",
              "<style scoped>\n",
              "    .dataframe tbody tr th:only-of-type {\n",
              "        vertical-align: middle;\n",
              "    }\n",
              "\n",
              "    .dataframe tbody tr th {\n",
              "        vertical-align: top;\n",
              "    }\n",
              "\n",
              "    .dataframe thead th {\n",
              "        text-align: right;\n",
              "    }\n",
              "</style>\n",
              "<table border=\"1\" class=\"dataframe\">\n",
              "  <thead>\n",
              "    <tr style=\"text-align: right;\">\n",
              "      <th></th>\n",
              "      <th>label</th>\n",
              "    </tr>\n",
              "  </thead>\n",
              "  <tbody>\n",
              "    <tr>\n",
              "      <th>0</th>\n",
              "      <td>0</td>\n",
              "    </tr>\n",
              "    <tr>\n",
              "      <th>1</th>\n",
              "      <td>0</td>\n",
              "    </tr>\n",
              "    <tr>\n",
              "      <th>2</th>\n",
              "      <td>0</td>\n",
              "    </tr>\n",
              "    <tr>\n",
              "      <th>3</th>\n",
              "      <td>0</td>\n",
              "    </tr>\n",
              "    <tr>\n",
              "      <th>4</th>\n",
              "      <td>1</td>\n",
              "    </tr>\n",
              "    <tr>\n",
              "      <th>...</th>\n",
              "      <td>...</td>\n",
              "    </tr>\n",
              "    <tr>\n",
              "      <th>7915</th>\n",
              "      <td>0</td>\n",
              "    </tr>\n",
              "    <tr>\n",
              "      <th>7916</th>\n",
              "      <td>0</td>\n",
              "    </tr>\n",
              "    <tr>\n",
              "      <th>7917</th>\n",
              "      <td>0</td>\n",
              "    </tr>\n",
              "    <tr>\n",
              "      <th>7918</th>\n",
              "      <td>0</td>\n",
              "    </tr>\n",
              "    <tr>\n",
              "      <th>7919</th>\n",
              "      <td>0</td>\n",
              "    </tr>\n",
              "  </tbody>\n",
              "</table>\n",
              "<p>7920 rows × 1 columns</p>\n",
              "</div><br><label><b>dtype:</b> int64</label>"
            ]
          },
          "metadata": {},
          "execution_count": 71
        }
      ]
    },
    {
      "cell_type": "code",
      "source": [
        "feature_names = cv.get_feature_names_out()\n",
        "print(\"Feature Names (Unigrams):\", feature_names[:20])"
      ],
      "metadata": {
        "colab": {
          "base_uri": "https://localhost:8080/"
        },
        "id": "F4YGu4h0B-H5",
        "outputId": "cb02e092-37d4-4b38-c0f6-85d1a5d99c54"
      },
      "execution_count": null,
      "outputs": [
        {
          "output_type": "stream",
          "name": "stdout",
          "text": [
            "Feature Names (Unigrams): ['aa' 'aa american' 'aa appl' 'aa ax' 'aa kfn' 'aa magic' 'aaaahhhhhhh'\n",
            " 'aaaahhhhhhh excit' 'aah' 'aah see' 'aalborg' 'aand' 'aand probabl'\n",
            " 'aapl' 'aapl cross' 'aapl lawyer' 'aapl proprietari' 'aarhu'\n",
            " 'aarhu danmarkpictwittercompgkyhbhi' 'aaron']\n"
          ]
        }
      ]
    },
    {
      "cell_type": "code",
      "source": [
        "X_train, X_test, y_train, y_test = train_test_split(X, y, test_size=0.2, random_state=42)"
      ],
      "metadata": {
        "id": "4fdgWYDtCwK3"
      },
      "execution_count": null,
      "outputs": []
    },
    {
      "cell_type": "code",
      "source": [
        "from sklearn.ensemble import RandomForestClassifier\n",
        "clf = RandomForestClassifier(n_estimators = 100)\n",
        "clf.fit(X_train, y_train)"
      ],
      "metadata": {
        "colab": {
          "base_uri": "https://localhost:8080/",
          "height": 80
        },
        "id": "b7i0QGCRC8ZM",
        "outputId": "4b616597-74c2-4406-f79f-73504a69d36e"
      },
      "execution_count": null,
      "outputs": [
        {
          "output_type": "execute_result",
          "data": {
            "text/plain": [
              "RandomForestClassifier()"
            ],
            "text/html": [
              "<style>#sk-container-id-3 {\n",
              "  /* Definition of color scheme common for light and dark mode */\n",
              "  --sklearn-color-text: #000;\n",
              "  --sklearn-color-text-muted: #666;\n",
              "  --sklearn-color-line: gray;\n",
              "  /* Definition of color scheme for unfitted estimators */\n",
              "  --sklearn-color-unfitted-level-0: #fff5e6;\n",
              "  --sklearn-color-unfitted-level-1: #f6e4d2;\n",
              "  --sklearn-color-unfitted-level-2: #ffe0b3;\n",
              "  --sklearn-color-unfitted-level-3: chocolate;\n",
              "  /* Definition of color scheme for fitted estimators */\n",
              "  --sklearn-color-fitted-level-0: #f0f8ff;\n",
              "  --sklearn-color-fitted-level-1: #d4ebff;\n",
              "  --sklearn-color-fitted-level-2: #b3dbfd;\n",
              "  --sklearn-color-fitted-level-3: cornflowerblue;\n",
              "\n",
              "  /* Specific color for light theme */\n",
              "  --sklearn-color-text-on-default-background: var(--sg-text-color, var(--theme-code-foreground, var(--jp-content-font-color1, black)));\n",
              "  --sklearn-color-background: var(--sg-background-color, var(--theme-background, var(--jp-layout-color0, white)));\n",
              "  --sklearn-color-border-box: var(--sg-text-color, var(--theme-code-foreground, var(--jp-content-font-color1, black)));\n",
              "  --sklearn-color-icon: #696969;\n",
              "\n",
              "  @media (prefers-color-scheme: dark) {\n",
              "    /* Redefinition of color scheme for dark theme */\n",
              "    --sklearn-color-text-on-default-background: var(--sg-text-color, var(--theme-code-foreground, var(--jp-content-font-color1, white)));\n",
              "    --sklearn-color-background: var(--sg-background-color, var(--theme-background, var(--jp-layout-color0, #111)));\n",
              "    --sklearn-color-border-box: var(--sg-text-color, var(--theme-code-foreground, var(--jp-content-font-color1, white)));\n",
              "    --sklearn-color-icon: #878787;\n",
              "  }\n",
              "}\n",
              "\n",
              "#sk-container-id-3 {\n",
              "  color: var(--sklearn-color-text);\n",
              "}\n",
              "\n",
              "#sk-container-id-3 pre {\n",
              "  padding: 0;\n",
              "}\n",
              "\n",
              "#sk-container-id-3 input.sk-hidden--visually {\n",
              "  border: 0;\n",
              "  clip: rect(1px 1px 1px 1px);\n",
              "  clip: rect(1px, 1px, 1px, 1px);\n",
              "  height: 1px;\n",
              "  margin: -1px;\n",
              "  overflow: hidden;\n",
              "  padding: 0;\n",
              "  position: absolute;\n",
              "  width: 1px;\n",
              "}\n",
              "\n",
              "#sk-container-id-3 div.sk-dashed-wrapped {\n",
              "  border: 1px dashed var(--sklearn-color-line);\n",
              "  margin: 0 0.4em 0.5em 0.4em;\n",
              "  box-sizing: border-box;\n",
              "  padding-bottom: 0.4em;\n",
              "  background-color: var(--sklearn-color-background);\n",
              "}\n",
              "\n",
              "#sk-container-id-3 div.sk-container {\n",
              "  /* jupyter's `normalize.less` sets `[hidden] { display: none; }`\n",
              "     but bootstrap.min.css set `[hidden] { display: none !important; }`\n",
              "     so we also need the `!important` here to be able to override the\n",
              "     default hidden behavior on the sphinx rendered scikit-learn.org.\n",
              "     See: https://github.com/scikit-learn/scikit-learn/issues/21755 */\n",
              "  display: inline-block !important;\n",
              "  position: relative;\n",
              "}\n",
              "\n",
              "#sk-container-id-3 div.sk-text-repr-fallback {\n",
              "  display: none;\n",
              "}\n",
              "\n",
              "div.sk-parallel-item,\n",
              "div.sk-serial,\n",
              "div.sk-item {\n",
              "  /* draw centered vertical line to link estimators */\n",
              "  background-image: linear-gradient(var(--sklearn-color-text-on-default-background), var(--sklearn-color-text-on-default-background));\n",
              "  background-size: 2px 100%;\n",
              "  background-repeat: no-repeat;\n",
              "  background-position: center center;\n",
              "}\n",
              "\n",
              "/* Parallel-specific style estimator block */\n",
              "\n",
              "#sk-container-id-3 div.sk-parallel-item::after {\n",
              "  content: \"\";\n",
              "  width: 100%;\n",
              "  border-bottom: 2px solid var(--sklearn-color-text-on-default-background);\n",
              "  flex-grow: 1;\n",
              "}\n",
              "\n",
              "#sk-container-id-3 div.sk-parallel {\n",
              "  display: flex;\n",
              "  align-items: stretch;\n",
              "  justify-content: center;\n",
              "  background-color: var(--sklearn-color-background);\n",
              "  position: relative;\n",
              "}\n",
              "\n",
              "#sk-container-id-3 div.sk-parallel-item {\n",
              "  display: flex;\n",
              "  flex-direction: column;\n",
              "}\n",
              "\n",
              "#sk-container-id-3 div.sk-parallel-item:first-child::after {\n",
              "  align-self: flex-end;\n",
              "  width: 50%;\n",
              "}\n",
              "\n",
              "#sk-container-id-3 div.sk-parallel-item:last-child::after {\n",
              "  align-self: flex-start;\n",
              "  width: 50%;\n",
              "}\n",
              "\n",
              "#sk-container-id-3 div.sk-parallel-item:only-child::after {\n",
              "  width: 0;\n",
              "}\n",
              "\n",
              "/* Serial-specific style estimator block */\n",
              "\n",
              "#sk-container-id-3 div.sk-serial {\n",
              "  display: flex;\n",
              "  flex-direction: column;\n",
              "  align-items: center;\n",
              "  background-color: var(--sklearn-color-background);\n",
              "  padding-right: 1em;\n",
              "  padding-left: 1em;\n",
              "}\n",
              "\n",
              "\n",
              "/* Toggleable style: style used for estimator/Pipeline/ColumnTransformer box that is\n",
              "clickable and can be expanded/collapsed.\n",
              "- Pipeline and ColumnTransformer use this feature and define the default style\n",
              "- Estimators will overwrite some part of the style using the `sk-estimator` class\n",
              "*/\n",
              "\n",
              "/* Pipeline and ColumnTransformer style (default) */\n",
              "\n",
              "#sk-container-id-3 div.sk-toggleable {\n",
              "  /* Default theme specific background. It is overwritten whether we have a\n",
              "  specific estimator or a Pipeline/ColumnTransformer */\n",
              "  background-color: var(--sklearn-color-background);\n",
              "}\n",
              "\n",
              "/* Toggleable label */\n",
              "#sk-container-id-3 label.sk-toggleable__label {\n",
              "  cursor: pointer;\n",
              "  display: flex;\n",
              "  width: 100%;\n",
              "  margin-bottom: 0;\n",
              "  padding: 0.5em;\n",
              "  box-sizing: border-box;\n",
              "  text-align: center;\n",
              "  align-items: start;\n",
              "  justify-content: space-between;\n",
              "  gap: 0.5em;\n",
              "}\n",
              "\n",
              "#sk-container-id-3 label.sk-toggleable__label .caption {\n",
              "  font-size: 0.6rem;\n",
              "  font-weight: lighter;\n",
              "  color: var(--sklearn-color-text-muted);\n",
              "}\n",
              "\n",
              "#sk-container-id-3 label.sk-toggleable__label-arrow:before {\n",
              "  /* Arrow on the left of the label */\n",
              "  content: \"▸\";\n",
              "  float: left;\n",
              "  margin-right: 0.25em;\n",
              "  color: var(--sklearn-color-icon);\n",
              "}\n",
              "\n",
              "#sk-container-id-3 label.sk-toggleable__label-arrow:hover:before {\n",
              "  color: var(--sklearn-color-text);\n",
              "}\n",
              "\n",
              "/* Toggleable content - dropdown */\n",
              "\n",
              "#sk-container-id-3 div.sk-toggleable__content {\n",
              "  max-height: 0;\n",
              "  max-width: 0;\n",
              "  overflow: hidden;\n",
              "  text-align: left;\n",
              "  /* unfitted */\n",
              "  background-color: var(--sklearn-color-unfitted-level-0);\n",
              "}\n",
              "\n",
              "#sk-container-id-3 div.sk-toggleable__content.fitted {\n",
              "  /* fitted */\n",
              "  background-color: var(--sklearn-color-fitted-level-0);\n",
              "}\n",
              "\n",
              "#sk-container-id-3 div.sk-toggleable__content pre {\n",
              "  margin: 0.2em;\n",
              "  border-radius: 0.25em;\n",
              "  color: var(--sklearn-color-text);\n",
              "  /* unfitted */\n",
              "  background-color: var(--sklearn-color-unfitted-level-0);\n",
              "}\n",
              "\n",
              "#sk-container-id-3 div.sk-toggleable__content.fitted pre {\n",
              "  /* unfitted */\n",
              "  background-color: var(--sklearn-color-fitted-level-0);\n",
              "}\n",
              "\n",
              "#sk-container-id-3 input.sk-toggleable__control:checked~div.sk-toggleable__content {\n",
              "  /* Expand drop-down */\n",
              "  max-height: 200px;\n",
              "  max-width: 100%;\n",
              "  overflow: auto;\n",
              "}\n",
              "\n",
              "#sk-container-id-3 input.sk-toggleable__control:checked~label.sk-toggleable__label-arrow:before {\n",
              "  content: \"▾\";\n",
              "}\n",
              "\n",
              "/* Pipeline/ColumnTransformer-specific style */\n",
              "\n",
              "#sk-container-id-3 div.sk-label input.sk-toggleable__control:checked~label.sk-toggleable__label {\n",
              "  color: var(--sklearn-color-text);\n",
              "  background-color: var(--sklearn-color-unfitted-level-2);\n",
              "}\n",
              "\n",
              "#sk-container-id-3 div.sk-label.fitted input.sk-toggleable__control:checked~label.sk-toggleable__label {\n",
              "  background-color: var(--sklearn-color-fitted-level-2);\n",
              "}\n",
              "\n",
              "/* Estimator-specific style */\n",
              "\n",
              "/* Colorize estimator box */\n",
              "#sk-container-id-3 div.sk-estimator input.sk-toggleable__control:checked~label.sk-toggleable__label {\n",
              "  /* unfitted */\n",
              "  background-color: var(--sklearn-color-unfitted-level-2);\n",
              "}\n",
              "\n",
              "#sk-container-id-3 div.sk-estimator.fitted input.sk-toggleable__control:checked~label.sk-toggleable__label {\n",
              "  /* fitted */\n",
              "  background-color: var(--sklearn-color-fitted-level-2);\n",
              "}\n",
              "\n",
              "#sk-container-id-3 div.sk-label label.sk-toggleable__label,\n",
              "#sk-container-id-3 div.sk-label label {\n",
              "  /* The background is the default theme color */\n",
              "  color: var(--sklearn-color-text-on-default-background);\n",
              "}\n",
              "\n",
              "/* On hover, darken the color of the background */\n",
              "#sk-container-id-3 div.sk-label:hover label.sk-toggleable__label {\n",
              "  color: var(--sklearn-color-text);\n",
              "  background-color: var(--sklearn-color-unfitted-level-2);\n",
              "}\n",
              "\n",
              "/* Label box, darken color on hover, fitted */\n",
              "#sk-container-id-3 div.sk-label.fitted:hover label.sk-toggleable__label.fitted {\n",
              "  color: var(--sklearn-color-text);\n",
              "  background-color: var(--sklearn-color-fitted-level-2);\n",
              "}\n",
              "\n",
              "/* Estimator label */\n",
              "\n",
              "#sk-container-id-3 div.sk-label label {\n",
              "  font-family: monospace;\n",
              "  font-weight: bold;\n",
              "  display: inline-block;\n",
              "  line-height: 1.2em;\n",
              "}\n",
              "\n",
              "#sk-container-id-3 div.sk-label-container {\n",
              "  text-align: center;\n",
              "}\n",
              "\n",
              "/* Estimator-specific */\n",
              "#sk-container-id-3 div.sk-estimator {\n",
              "  font-family: monospace;\n",
              "  border: 1px dotted var(--sklearn-color-border-box);\n",
              "  border-radius: 0.25em;\n",
              "  box-sizing: border-box;\n",
              "  margin-bottom: 0.5em;\n",
              "  /* unfitted */\n",
              "  background-color: var(--sklearn-color-unfitted-level-0);\n",
              "}\n",
              "\n",
              "#sk-container-id-3 div.sk-estimator.fitted {\n",
              "  /* fitted */\n",
              "  background-color: var(--sklearn-color-fitted-level-0);\n",
              "}\n",
              "\n",
              "/* on hover */\n",
              "#sk-container-id-3 div.sk-estimator:hover {\n",
              "  /* unfitted */\n",
              "  background-color: var(--sklearn-color-unfitted-level-2);\n",
              "}\n",
              "\n",
              "#sk-container-id-3 div.sk-estimator.fitted:hover {\n",
              "  /* fitted */\n",
              "  background-color: var(--sklearn-color-fitted-level-2);\n",
              "}\n",
              "\n",
              "/* Specification for estimator info (e.g. \"i\" and \"?\") */\n",
              "\n",
              "/* Common style for \"i\" and \"?\" */\n",
              "\n",
              ".sk-estimator-doc-link,\n",
              "a:link.sk-estimator-doc-link,\n",
              "a:visited.sk-estimator-doc-link {\n",
              "  float: right;\n",
              "  font-size: smaller;\n",
              "  line-height: 1em;\n",
              "  font-family: monospace;\n",
              "  background-color: var(--sklearn-color-background);\n",
              "  border-radius: 1em;\n",
              "  height: 1em;\n",
              "  width: 1em;\n",
              "  text-decoration: none !important;\n",
              "  margin-left: 0.5em;\n",
              "  text-align: center;\n",
              "  /* unfitted */\n",
              "  border: var(--sklearn-color-unfitted-level-1) 1pt solid;\n",
              "  color: var(--sklearn-color-unfitted-level-1);\n",
              "}\n",
              "\n",
              ".sk-estimator-doc-link.fitted,\n",
              "a:link.sk-estimator-doc-link.fitted,\n",
              "a:visited.sk-estimator-doc-link.fitted {\n",
              "  /* fitted */\n",
              "  border: var(--sklearn-color-fitted-level-1) 1pt solid;\n",
              "  color: var(--sklearn-color-fitted-level-1);\n",
              "}\n",
              "\n",
              "/* On hover */\n",
              "div.sk-estimator:hover .sk-estimator-doc-link:hover,\n",
              ".sk-estimator-doc-link:hover,\n",
              "div.sk-label-container:hover .sk-estimator-doc-link:hover,\n",
              ".sk-estimator-doc-link:hover {\n",
              "  /* unfitted */\n",
              "  background-color: var(--sklearn-color-unfitted-level-3);\n",
              "  color: var(--sklearn-color-background);\n",
              "  text-decoration: none;\n",
              "}\n",
              "\n",
              "div.sk-estimator.fitted:hover .sk-estimator-doc-link.fitted:hover,\n",
              ".sk-estimator-doc-link.fitted:hover,\n",
              "div.sk-label-container:hover .sk-estimator-doc-link.fitted:hover,\n",
              ".sk-estimator-doc-link.fitted:hover {\n",
              "  /* fitted */\n",
              "  background-color: var(--sklearn-color-fitted-level-3);\n",
              "  color: var(--sklearn-color-background);\n",
              "  text-decoration: none;\n",
              "}\n",
              "\n",
              "/* Span, style for the box shown on hovering the info icon */\n",
              ".sk-estimator-doc-link span {\n",
              "  display: none;\n",
              "  z-index: 9999;\n",
              "  position: relative;\n",
              "  font-weight: normal;\n",
              "  right: .2ex;\n",
              "  padding: .5ex;\n",
              "  margin: .5ex;\n",
              "  width: min-content;\n",
              "  min-width: 20ex;\n",
              "  max-width: 50ex;\n",
              "  color: var(--sklearn-color-text);\n",
              "  box-shadow: 2pt 2pt 4pt #999;\n",
              "  /* unfitted */\n",
              "  background: var(--sklearn-color-unfitted-level-0);\n",
              "  border: .5pt solid var(--sklearn-color-unfitted-level-3);\n",
              "}\n",
              "\n",
              ".sk-estimator-doc-link.fitted span {\n",
              "  /* fitted */\n",
              "  background: var(--sklearn-color-fitted-level-0);\n",
              "  border: var(--sklearn-color-fitted-level-3);\n",
              "}\n",
              "\n",
              ".sk-estimator-doc-link:hover span {\n",
              "  display: block;\n",
              "}\n",
              "\n",
              "/* \"?\"-specific style due to the `<a>` HTML tag */\n",
              "\n",
              "#sk-container-id-3 a.estimator_doc_link {\n",
              "  float: right;\n",
              "  font-size: 1rem;\n",
              "  line-height: 1em;\n",
              "  font-family: monospace;\n",
              "  background-color: var(--sklearn-color-background);\n",
              "  border-radius: 1rem;\n",
              "  height: 1rem;\n",
              "  width: 1rem;\n",
              "  text-decoration: none;\n",
              "  /* unfitted */\n",
              "  color: var(--sklearn-color-unfitted-level-1);\n",
              "  border: var(--sklearn-color-unfitted-level-1) 1pt solid;\n",
              "}\n",
              "\n",
              "#sk-container-id-3 a.estimator_doc_link.fitted {\n",
              "  /* fitted */\n",
              "  border: var(--sklearn-color-fitted-level-1) 1pt solid;\n",
              "  color: var(--sklearn-color-fitted-level-1);\n",
              "}\n",
              "\n",
              "/* On hover */\n",
              "#sk-container-id-3 a.estimator_doc_link:hover {\n",
              "  /* unfitted */\n",
              "  background-color: var(--sklearn-color-unfitted-level-3);\n",
              "  color: var(--sklearn-color-background);\n",
              "  text-decoration: none;\n",
              "}\n",
              "\n",
              "#sk-container-id-3 a.estimator_doc_link.fitted:hover {\n",
              "  /* fitted */\n",
              "  background-color: var(--sklearn-color-fitted-level-3);\n",
              "}\n",
              "</style><div id=\"sk-container-id-3\" class=\"sk-top-container\"><div class=\"sk-text-repr-fallback\"><pre>RandomForestClassifier()</pre><b>In a Jupyter environment, please rerun this cell to show the HTML representation or trust the notebook. <br />On GitHub, the HTML representation is unable to render, please try loading this page with nbviewer.org.</b></div><div class=\"sk-container\" hidden><div class=\"sk-item\"><div class=\"sk-estimator fitted sk-toggleable\"><input class=\"sk-toggleable__control sk-hidden--visually\" id=\"sk-estimator-id-3\" type=\"checkbox\" checked><label for=\"sk-estimator-id-3\" class=\"sk-toggleable__label fitted sk-toggleable__label-arrow\"><div><div>RandomForestClassifier</div></div><div><a class=\"sk-estimator-doc-link fitted\" rel=\"noreferrer\" target=\"_blank\" href=\"https://scikit-learn.org/1.6/modules/generated/sklearn.ensemble.RandomForestClassifier.html\">?<span>Documentation for RandomForestClassifier</span></a><span class=\"sk-estimator-doc-link fitted\">i<span>Fitted</span></span></div></label><div class=\"sk-toggleable__content fitted\"><pre>RandomForestClassifier()</pre></div> </div></div></div></div>"
            ]
          },
          "metadata": {},
          "execution_count": 80
        }
      ]
    },
    {
      "cell_type": "code",
      "source": [
        "#Display the accuracy\n",
        "from sklearn import metrics\n",
        "y_pred = clf.predict(X_test)\n",
        "metrics.accuracy_score(y_test, y_pred)"
      ],
      "metadata": {
        "colab": {
          "base_uri": "https://localhost:8080/"
        },
        "id": "9hPlklFcC2GQ",
        "outputId": "27bacc2a-7d3e-4195-8f72-1010ba87c70f"
      },
      "execution_count": null,
      "outputs": [
        {
          "output_type": "execute_result",
          "data": {
            "text/plain": [
              "0.8566919191919192"
            ]
          },
          "metadata": {},
          "execution_count": 81
        }
      ]
    },
    {
      "cell_type": "markdown",
      "source": [
        "Word Embedding Model"
      ],
      "metadata": {
        "id": "XqnweTW7lxK9"
      }
    },
    {
      "cell_type": "code",
      "source": [
        "tokenizer = Tokenizer(num_words=5000)  # Limit to 5000 most frequent words\n",
        "tokenizer.fit_on_texts(data['cleaned_tweet'])\n",
        "X_sequences = tokenizer.texts_to_sequences(data['cleaned_tweet'])"
      ],
      "metadata": {
        "id": "tb3KsDPwDIDf"
      },
      "execution_count": null,
      "outputs": []
    },
    {
      "cell_type": "code",
      "source": [
        "X_padded = pad_sequences(X_sequences, maxlen=100)"
      ],
      "metadata": {
        "id": "ubhvvGi1ItN_"
      },
      "execution_count": null,
      "outputs": []
    },
    {
      "cell_type": "code",
      "source": [
        "y = data['label'].values"
      ],
      "metadata": {
        "id": "fiEkRi2pI9x3"
      },
      "execution_count": null,
      "outputs": []
    },
    {
      "cell_type": "code",
      "source": [
        "X_train, X_test, y_train, y_test = train_test_split(X_padded, y, test_size=0.20, random_state=42)"
      ],
      "metadata": {
        "id": "8gcDzwd1P9cF"
      },
      "execution_count": null,
      "outputs": []
    },
    {
      "cell_type": "markdown",
      "source": [
        "RNN MODEL"
      ],
      "metadata": {
        "id": "_1IJFq7clc3Q"
      }
    },
    {
      "cell_type": "code",
      "source": [
        "rnn = Sequential()\n",
        "rnn.add(Embedding(input_dim=len(tokenizer.word_index) + 1,  # Number of words in the tokenizer's vocabulary\n",
        "                    output_dim=100,  # Vector size for each word\n",
        "                    input_length=100))  # Le\n",
        "\n",
        "rnn.add(SimpleRNN(128,activation='relu',return_sequences=True))\n",
        "\n",
        "rnn.add(SimpleRNN(64,activation='relu',return_sequences=False))\n",
        "\n",
        "rnn.add(Dense(5, activation='softmax'))\n",
        "\n",
        "# printing model summary\n",
        "print(rnn.summary())"
      ],
      "metadata": {
        "colab": {
          "base_uri": "https://localhost:8080/",
          "height": 289
        },
        "id": "9DBpFOoaJA8f",
        "outputId": "6b9f252a-7f54-492b-e4fa-111a06d21a1d"
      },
      "execution_count": null,
      "outputs": [
        {
          "output_type": "display_data",
          "data": {
            "text/plain": [
              "\u001b[1mModel: \"sequential_1\"\u001b[0m\n"
            ],
            "text/html": [
              "<pre style=\"white-space:pre;overflow-x:auto;line-height:normal;font-family:Menlo,'DejaVu Sans Mono',consolas,'Courier New',monospace\"><span style=\"font-weight: bold\">Model: \"sequential_1\"</span>\n",
              "</pre>\n"
            ]
          },
          "metadata": {}
        },
        {
          "output_type": "display_data",
          "data": {
            "text/plain": [
              "┏━━━━━━━━━━━━━━━━━━━━━━━━━━━━━━━━━━━━━━┳━━━━━━━━━━━━━━━━━━━━━━━━━━━━━┳━━━━━━━━━━━━━━━━━┓\n",
              "┃\u001b[1m \u001b[0m\u001b[1mLayer (type)                        \u001b[0m\u001b[1m \u001b[0m┃\u001b[1m \u001b[0m\u001b[1mOutput Shape               \u001b[0m\u001b[1m \u001b[0m┃\u001b[1m \u001b[0m\u001b[1m        Param #\u001b[0m\u001b[1m \u001b[0m┃\n",
              "┡━━━━━━━━━━━━━━━━━━━━━━━━━━━━━━━━━━━━━━╇━━━━━━━━━━━━━━━━━━━━━━━━━━━━━╇━━━━━━━━━━━━━━━━━┩\n",
              "│ embedding_3 (\u001b[38;5;33mEmbedding\u001b[0m)              │ ?                           │     \u001b[38;5;34m0\u001b[0m (unbuilt) │\n",
              "├──────────────────────────────────────┼─────────────────────────────┼─────────────────┤\n",
              "│ simple_rnn_4 (\u001b[38;5;33mSimpleRNN\u001b[0m)             │ ?                           │     \u001b[38;5;34m0\u001b[0m (unbuilt) │\n",
              "├──────────────────────────────────────┼─────────────────────────────┼─────────────────┤\n",
              "│ simple_rnn_5 (\u001b[38;5;33mSimpleRNN\u001b[0m)             │ ?                           │     \u001b[38;5;34m0\u001b[0m (unbuilt) │\n",
              "├──────────────────────────────────────┼─────────────────────────────┼─────────────────┤\n",
              "│ dense_2 (\u001b[38;5;33mDense\u001b[0m)                      │ ?                           │     \u001b[38;5;34m0\u001b[0m (unbuilt) │\n",
              "└──────────────────────────────────────┴─────────────────────────────┴─────────────────┘\n"
            ],
            "text/html": [
              "<pre style=\"white-space:pre;overflow-x:auto;line-height:normal;font-family:Menlo,'DejaVu Sans Mono',consolas,'Courier New',monospace\">┏━━━━━━━━━━━━━━━━━━━━━━━━━━━━━━━━━━━━━━┳━━━━━━━━━━━━━━━━━━━━━━━━━━━━━┳━━━━━━━━━━━━━━━━━┓\n",
              "┃<span style=\"font-weight: bold\"> Layer (type)                         </span>┃<span style=\"font-weight: bold\"> Output Shape                </span>┃<span style=\"font-weight: bold\">         Param # </span>┃\n",
              "┡━━━━━━━━━━━━━━━━━━━━━━━━━━━━━━━━━━━━━━╇━━━━━━━━━━━━━━━━━━━━━━━━━━━━━╇━━━━━━━━━━━━━━━━━┩\n",
              "│ embedding_3 (<span style=\"color: #0087ff; text-decoration-color: #0087ff\">Embedding</span>)              │ ?                           │     <span style=\"color: #00af00; text-decoration-color: #00af00\">0</span> (unbuilt) │\n",
              "├──────────────────────────────────────┼─────────────────────────────┼─────────────────┤\n",
              "│ simple_rnn_4 (<span style=\"color: #0087ff; text-decoration-color: #0087ff\">SimpleRNN</span>)             │ ?                           │     <span style=\"color: #00af00; text-decoration-color: #00af00\">0</span> (unbuilt) │\n",
              "├──────────────────────────────────────┼─────────────────────────────┼─────────────────┤\n",
              "│ simple_rnn_5 (<span style=\"color: #0087ff; text-decoration-color: #0087ff\">SimpleRNN</span>)             │ ?                           │     <span style=\"color: #00af00; text-decoration-color: #00af00\">0</span> (unbuilt) │\n",
              "├──────────────────────────────────────┼─────────────────────────────┼─────────────────┤\n",
              "│ dense_2 (<span style=\"color: #0087ff; text-decoration-color: #0087ff\">Dense</span>)                      │ ?                           │     <span style=\"color: #00af00; text-decoration-color: #00af00\">0</span> (unbuilt) │\n",
              "└──────────────────────────────────────┴─────────────────────────────┴─────────────────┘\n",
              "</pre>\n"
            ]
          },
          "metadata": {}
        },
        {
          "output_type": "display_data",
          "data": {
            "text/plain": [
              "\u001b[1m Total params: \u001b[0m\u001b[38;5;34m0\u001b[0m (0.00 B)\n"
            ],
            "text/html": [
              "<pre style=\"white-space:pre;overflow-x:auto;line-height:normal;font-family:Menlo,'DejaVu Sans Mono',consolas,'Courier New',monospace\"><span style=\"font-weight: bold\"> Total params: </span><span style=\"color: #00af00; text-decoration-color: #00af00\">0</span> (0.00 B)\n",
              "</pre>\n"
            ]
          },
          "metadata": {}
        },
        {
          "output_type": "display_data",
          "data": {
            "text/plain": [
              "\u001b[1m Trainable params: \u001b[0m\u001b[38;5;34m0\u001b[0m (0.00 B)\n"
            ],
            "text/html": [
              "<pre style=\"white-space:pre;overflow-x:auto;line-height:normal;font-family:Menlo,'DejaVu Sans Mono',consolas,'Courier New',monospace\"><span style=\"font-weight: bold\"> Trainable params: </span><span style=\"color: #00af00; text-decoration-color: #00af00\">0</span> (0.00 B)\n",
              "</pre>\n"
            ]
          },
          "metadata": {}
        },
        {
          "output_type": "display_data",
          "data": {
            "text/plain": [
              "\u001b[1m Non-trainable params: \u001b[0m\u001b[38;5;34m0\u001b[0m (0.00 B)\n"
            ],
            "text/html": [
              "<pre style=\"white-space:pre;overflow-x:auto;line-height:normal;font-family:Menlo,'DejaVu Sans Mono',consolas,'Courier New',monospace\"><span style=\"font-weight: bold\"> Non-trainable params: </span><span style=\"color: #00af00; text-decoration-color: #00af00\">0</span> (0.00 B)\n",
              "</pre>\n"
            ]
          },
          "metadata": {}
        },
        {
          "output_type": "stream",
          "name": "stdout",
          "text": [
            "None\n"
          ]
        }
      ]
    },
    {
      "cell_type": "code",
      "source": [
        "print(X_train.shape, X_test.shape, y_train.shape, y_test.shape)"
      ],
      "metadata": {
        "colab": {
          "base_uri": "https://localhost:8080/"
        },
        "id": "hfycFt5KQFkj",
        "outputId": "d8e5d351-47ed-4cf3-b6fd-cf8218e0dc7d"
      },
      "execution_count": null,
      "outputs": [
        {
          "output_type": "stream",
          "name": "stdout",
          "text": [
            "(6336, 100) (1584, 100) (6336,) (1584,)\n"
          ]
        }
      ]
    },
    {
      "cell_type": "code",
      "source": [
        "#Compile the model\n",
        "rnn.compile(optimizer='adam', loss='sparse_categorical_crossentropy', metrics=['accuracy'])"
      ],
      "metadata": {
        "id": "tHnyAcK4Jk0R"
      },
      "execution_count": null,
      "outputs": []
    },
    {
      "cell_type": "code",
      "source": [
        "history = rnn.fit(X_padded, y, batch_size=64, epochs=2, verbose=1, validation_data=(X_test, y_test))\n"
      ],
      "metadata": {
        "colab": {
          "base_uri": "https://localhost:8080/"
        },
        "id": "xPOZ1RtiOQIk",
        "outputId": "7f570e34-403d-4346-db72-076b565f0364"
      },
      "execution_count": null,
      "outputs": [
        {
          "output_type": "stream",
          "name": "stdout",
          "text": [
            "Epoch 1/2\n",
            "\u001b[1m124/124\u001b[0m \u001b[32m━━━━━━━━━━━━━━━━━━━━\u001b[0m\u001b[37m\u001b[0m \u001b[1m98s\u001b[0m 131ms/step - accuracy: 0.7352 - loss: 0.7413 - val_accuracy: 0.9217 - val_loss: 0.2093\n",
            "Epoch 2/2\n",
            "\u001b[1m124/124\u001b[0m \u001b[32m━━━━━━━━━━━━━━━━━━━━\u001b[0m\u001b[37m\u001b[0m \u001b[1m16s\u001b[0m 125ms/step - accuracy: 0.9155 - loss: 0.2104 - val_accuracy: 0.9602 - val_loss: 0.1496\n"
          ]
        }
      ]
    },
    {
      "cell_type": "code",
      "source": [
        "metrics = history.history\n",
        "plt.figure(figsize=(10, 5))\n",
        "plt.subplot(1, 2, 1)\n",
        "plt.plot(history.epoch, metrics['loss'], metrics['val_loss'])\n",
        "plt.legend(['loss', 'val_loss'])\n",
        "plt.xlabel('Epoch')\n",
        "plt.ylabel('Loss')"
      ],
      "metadata": {
        "colab": {
          "base_uri": "https://localhost:8080/",
          "height": 482
        },
        "id": "_zwTLTU4RZRP",
        "outputId": "cf5072be-2aaa-48d6-9fb9-14305f71afb7"
      },
      "execution_count": null,
      "outputs": [
        {
          "output_type": "execute_result",
          "data": {
            "text/plain": [
              "Text(0, 0.5, 'Loss')"
            ]
          },
          "metadata": {},
          "execution_count": 112
        },
        {
          "output_type": "display_data",
          "data": {
            "text/plain": [
              "<Figure size 1000x500 with 1 Axes>"
            ],
            "image/png": "[encoded data removed]"
          },
          "metadata": {}
        }
      ]
    },
    {
      "cell_type": "code",
      "source": [
        "#Display the accuracy metric\n",
        "plt.subplot(1, 2, 2)\n",
        "plt.plot(history.epoch, metrics['accuracy'], metrics['val_accuracy'])\n",
        "plt.legend(['accuracy', 'val_accuracy'])\n",
        "plt.xlabel('Epoch')\n",
        "plt.ylabel('Accuracy')"
      ],
      "metadata": {
        "colab": {
          "base_uri": "https://localhost:8080/",
          "height": 466
        },
        "id": "7UrbvrznRGA7",
        "outputId": "dddee7bc-d478-427b-cbf4-c57a4cdef35b"
      },
      "execution_count": null,
      "outputs": [
        {
          "output_type": "execute_result",
          "data": {
            "text/plain": [
              "Text(0, 0.5, 'Accuracy')"
            ]
          },
          "metadata": {},
          "execution_count": 113
        },
        {
          "output_type": "display_data",
          "data": {
            "text/plain": [
              "<Figure size 640x480 with 1 Axes>"
            ],
            "image/png": "[encoded data removed]"
          },
          "metadata": {}
        }
      ]
    },
    {
      "cell_type": "markdown",
      "source": [
        "LSTM MODEL"
      ],
      "metadata": {
        "id": "6br7w1MrlE82"
      }
    },
    {
      "cell_type": "code",
      "source": [
        "model = Sequential(name=\"LSTM_Model\")\n",
        "model.add(Embedding(len(tokenizer.word_index)+1,\n",
        "                    max_words,\n",
        "                    input_length=max_words))\n",
        "\n",
        "# adding a LSTM layer\n",
        "model.add(LSTM(150, return_sequences=False))\n",
        "model.add(BatchNormalization())  # Correct placement\n",
        "model.add(Dropout(0.5))\n",
        "\n",
        "# adding a dense layer with activation function of relu\n",
        "model.add(Dense(50, activation='relu'))\n",
        "model.add(BatchNormalization())  # Correct placement\n",
        "model.add(Dropout(0.5))\n",
        "\n",
        "# adding the final output activation with activation function of softmax\n",
        "model.add(Dense(5, activation='softmax'))\n",
        "\n",
        "# printing model summary\n",
        "print(model.summary())\n"
      ],
      "metadata": {
        "colab": {
          "base_uri": "https://localhost:8080/",
          "height": 459
        },
        "id": "izxj-NPQR0IV",
        "outputId": "ba75d747-58be-4ec5-b384-fabf5ebd7b12"
      },
      "execution_count": null,
      "outputs": [
        {
          "output_type": "display_data",
          "data": {
            "text/plain": [
              "\u001b[1mModel: \"LSTM_Model\"\u001b[0m\n"
            ],
            "text/html": [
              "<pre style=\"white-space:pre;overflow-x:auto;line-height:normal;font-family:Menlo,'DejaVu Sans Mono',consolas,'Courier New',monospace\"><span style=\"font-weight: bold\">Model: \"LSTM_Model\"</span>\n",
              "</pre>\n"
            ]
          },
          "metadata": {}
        },
        {
          "output_type": "display_data",
          "data": {
            "text/plain": [
              "┏━━━━━━━━━━━━━━━━━━━━━━━━━━━━━━━━━━━━━━┳━━━━━━━━━━━━━━━━━━━━━━━━━━━━━┳━━━━━━━━━━━━━━━━━┓\n",
              "┃\u001b[1m \u001b[0m\u001b[1mLayer (type)                        \u001b[0m\u001b[1m \u001b[0m┃\u001b[1m \u001b[0m\u001b[1mOutput Shape               \u001b[0m\u001b[1m \u001b[0m┃\u001b[1m \u001b[0m\u001b[1m        Param #\u001b[0m\u001b[1m \u001b[0m┃\n",
              "┡━━━━━━━━━━━━━━━━━━━━━━━━━━━━━━━━━━━━━━╇━━━━━━━━━━━━━━━━━━━━━━━━━━━━━╇━━━━━━━━━━━━━━━━━┩\n",
              "│ embedding_5 (\u001b[38;5;33mEmbedding\u001b[0m)              │ ?                           │     \u001b[38;5;34m0\u001b[0m (unbuilt) │\n",
              "├──────────────────────────────────────┼─────────────────────────────┼─────────────────┤\n",
              "│ lstm_1 (\u001b[38;5;33mLSTM\u001b[0m)                        │ ?                           │     \u001b[38;5;34m0\u001b[0m (unbuilt) │\n",
              "├──────────────────────────────────────┼─────────────────────────────┼─────────────────┤\n",
              "│ batch_normalization_2                │ ?                           │     \u001b[38;5;34m0\u001b[0m (unbuilt) │\n",
              "│ (\u001b[38;5;33mBatchNormalization\u001b[0m)                 │                             │                 │\n",
              "├──────────────────────────────────────┼─────────────────────────────┼─────────────────┤\n",
              "│ dropout_2 (\u001b[38;5;33mDropout\u001b[0m)                  │ ?                           │     \u001b[38;5;34m0\u001b[0m (unbuilt) │\n",
              "├──────────────────────────────────────┼─────────────────────────────┼─────────────────┤\n",
              "│ dense_5 (\u001b[38;5;33mDense\u001b[0m)                      │ ?                           │     \u001b[38;5;34m0\u001b[0m (unbuilt) │\n",
              "├──────────────────────────────────────┼─────────────────────────────┼─────────────────┤\n",
              "│ batch_normalization_3                │ ?                           │     \u001b[38;5;34m0\u001b[0m (unbuilt) │\n",
              "│ (\u001b[38;5;33mBatchNormalization\u001b[0m)                 │                             │                 │\n",
              "├──────────────────────────────────────┼─────────────────────────────┼─────────────────┤\n",
              "│ dropout_3 (\u001b[38;5;33mDropout\u001b[0m)                  │ ?                           │     \u001b[38;5;34m0\u001b[0m (unbuilt) │\n",
              "├──────────────────────────────────────┼─────────────────────────────┼─────────────────┤\n",
              "│ dense_6 (\u001b[38;5;33mDense\u001b[0m)                      │ ?                           │     \u001b[38;5;34m0\u001b[0m (unbuilt) │\n",
              "└──────────────────────────────────────┴─────────────────────────────┴─────────────────┘\n"
            ],
            "text/html": [
              "<pre style=\"white-space:pre;overflow-x:auto;line-height:normal;font-family:Menlo,'DejaVu Sans Mono',consolas,'Courier New',monospace\">┏━━━━━━━━━━━━━━━━━━━━━━━━━━━━━━━━━━━━━━┳━━━━━━━━━━━━━━━━━━━━━━━━━━━━━┳━━━━━━━━━━━━━━━━━┓\n",
              "┃<span style=\"font-weight: bold\"> Layer (type)                         </span>┃<span style=\"font-weight: bold\"> Output Shape                </span>┃<span style=\"font-weight: bold\">         Param # </span>┃\n",
              "┡━━━━━━━━━━━━━━━━━━━━━━━━━━━━━━━━━━━━━━╇━━━━━━━━━━━━━━━━━━━━━━━━━━━━━╇━━━━━━━━━━━━━━━━━┩\n",
              "│ embedding_5 (<span style=\"color: #0087ff; text-decoration-color: #0087ff\">Embedding</span>)              │ ?                           │     <span style=\"color: #00af00; text-decoration-color: #00af00\">0</span> (unbuilt) │\n",
              "├──────────────────────────────────────┼─────────────────────────────┼─────────────────┤\n",
              "│ lstm_1 (<span style=\"color: #0087ff; text-decoration-color: #0087ff\">LSTM</span>)                        │ ?                           │     <span style=\"color: #00af00; text-decoration-color: #00af00\">0</span> (unbuilt) │\n",
              "├──────────────────────────────────────┼─────────────────────────────┼─────────────────┤\n",
              "│ batch_normalization_2                │ ?                           │     <span style=\"color: #00af00; text-decoration-color: #00af00\">0</span> (unbuilt) │\n",
              "│ (<span style=\"color: #0087ff; text-decoration-color: #0087ff\">BatchNormalization</span>)                 │                             │                 │\n",
              "├──────────────────────────────────────┼─────────────────────────────┼─────────────────┤\n",
              "│ dropout_2 (<span style=\"color: #0087ff; text-decoration-color: #0087ff\">Dropout</span>)                  │ ?                           │     <span style=\"color: #00af00; text-decoration-color: #00af00\">0</span> (unbuilt) │\n",
              "├──────────────────────────────────────┼─────────────────────────────┼─────────────────┤\n",
              "│ dense_5 (<span style=\"color: #0087ff; text-decoration-color: #0087ff\">Dense</span>)                      │ ?                           │     <span style=\"color: #00af00; text-decoration-color: #00af00\">0</span> (unbuilt) │\n",
              "├──────────────────────────────────────┼─────────────────────────────┼─────────────────┤\n",
              "│ batch_normalization_3                │ ?                           │     <span style=\"color: #00af00; text-decoration-color: #00af00\">0</span> (unbuilt) │\n",
              "│ (<span style=\"color: #0087ff; text-decoration-color: #0087ff\">BatchNormalization</span>)                 │                             │                 │\n",
              "├──────────────────────────────────────┼─────────────────────────────┼─────────────────┤\n",
              "│ dropout_3 (<span style=\"color: #0087ff; text-decoration-color: #0087ff\">Dropout</span>)                  │ ?                           │     <span style=\"color: #00af00; text-decoration-color: #00af00\">0</span> (unbuilt) │\n",
              "├──────────────────────────────────────┼─────────────────────────────┼─────────────────┤\n",
              "│ dense_6 (<span style=\"color: #0087ff; text-decoration-color: #0087ff\">Dense</span>)                      │ ?                           │     <span style=\"color: #00af00; text-decoration-color: #00af00\">0</span> (unbuilt) │\n",
              "└──────────────────────────────────────┴─────────────────────────────┴─────────────────┘\n",
              "</pre>\n"
            ]
          },
          "metadata": {}
        },
        {
          "output_type": "display_data",
          "data": {
            "text/plain": [
              "\u001b[1m Total params: \u001b[0m\u001b[38;5;34m0\u001b[0m (0.00 B)\n"
            ],
            "text/html": [
              "<pre style=\"white-space:pre;overflow-x:auto;line-height:normal;font-family:Menlo,'DejaVu Sans Mono',consolas,'Courier New',monospace\"><span style=\"font-weight: bold\"> Total params: </span><span style=\"color: #00af00; text-decoration-color: #00af00\">0</span> (0.00 B)\n",
              "</pre>\n"
            ]
          },
          "metadata": {}
        },
        {
          "output_type": "display_data",
          "data": {
            "text/plain": [
              "\u001b[1m Trainable params: \u001b[0m\u001b[38;5;34m0\u001b[0m (0.00 B)\n"
            ],
            "text/html": [
              "<pre style=\"white-space:pre;overflow-x:auto;line-height:normal;font-family:Menlo,'DejaVu Sans Mono',consolas,'Courier New',monospace\"><span style=\"font-weight: bold\"> Trainable params: </span><span style=\"color: #00af00; text-decoration-color: #00af00\">0</span> (0.00 B)\n",
              "</pre>\n"
            ]
          },
          "metadata": {}
        },
        {
          "output_type": "display_data",
          "data": {
            "text/plain": [
              "\u001b[1m Non-trainable params: \u001b[0m\u001b[38;5;34m0\u001b[0m (0.00 B)\n"
            ],
            "text/html": [
              "<pre style=\"white-space:pre;overflow-x:auto;line-height:normal;font-family:Menlo,'DejaVu Sans Mono',consolas,'Courier New',monospace\"><span style=\"font-weight: bold\"> Non-trainable params: </span><span style=\"color: #00af00; text-decoration-color: #00af00\">0</span> (0.00 B)\n",
              "</pre>\n"
            ]
          },
          "metadata": {}
        },
        {
          "output_type": "stream",
          "name": "stdout",
          "text": [
            "None\n"
          ]
        }
      ]
    },
    {
      "cell_type": "code",
      "source": [
        "#Compile the model\n",
        "model.compile(optimizer='adam', loss='sparse_categorical_crossentropy', metrics=['accuracy'])\n"
      ],
      "metadata": {
        "id": "d79QN2baSrEE"
      },
      "execution_count": null,
      "outputs": []
    },
    {
      "cell_type": "code",
      "source": [
        "model.fit(X_padded, y, epochs=5, batch_size=64, validation_split=0.2)"
      ],
      "metadata": {
        "colab": {
          "base_uri": "https://localhost:8080/"
        },
        "id": "WXZX_WygSvhj",
        "outputId": "94a0bfca-a8fb-45b4-ed11-9465b62037ca"
      },
      "execution_count": null,
      "outputs": [
        {
          "output_type": "stream",
          "name": "stdout",
          "text": [
            "Epoch 1/5\n",
            "\u001b[1m99/99\u001b[0m \u001b[32m━━━━━━━━━━━━━━━━━━━━\u001b[0m\u001b[37m\u001b[0m \u001b[1m35s\u001b[0m 312ms/step - accuracy: 0.3588 - loss: 1.9928 - val_accuracy: 0.7569 - val_loss: 0.9515\n",
            "Epoch 2/5\n",
            "\u001b[1m99/99\u001b[0m \u001b[32m━━━━━━━━━━━━━━━━━━━━\u001b[0m\u001b[37m\u001b[0m \u001b[1m40s\u001b[0m 305ms/step - accuracy: 0.8441 - loss: 0.7322 - val_accuracy: 0.7551 - val_loss: 0.7786\n",
            "Epoch 3/5\n",
            "\u001b[1m99/99\u001b[0m \u001b[32m━━━━━━━━━━━━━━━━━━━━\u001b[0m\u001b[37m\u001b[0m \u001b[1m41s\u001b[0m 306ms/step - accuracy: 0.9144 - loss: 0.3981 - val_accuracy: 0.7582 - val_loss: 0.7189\n",
            "Epoch 4/5\n",
            "\u001b[1m99/99\u001b[0m \u001b[32m━━━━━━━━━━━━━━━━━━━━\u001b[0m\u001b[37m\u001b[0m \u001b[1m46s\u001b[0m 361ms/step - accuracy: 0.9412 - loss: 0.2640 - val_accuracy: 0.7551 - val_loss: 0.8872\n",
            "Epoch 5/5\n",
            "\u001b[1m99/99\u001b[0m \u001b[32m━━━━━━━━━━━━━━━━━━━━\u001b[0m\u001b[37m\u001b[0m \u001b[1m37s\u001b[0m 324ms/step - accuracy: 0.9502 - loss: 0.2187 - val_accuracy: 0.8510 - val_loss: 0.4464\n"
          ]
        },
        {
          "output_type": "execute_result",
          "data": {
            "text/plain": [
              "<keras.src.callbacks.history.History at 0x7ab60d32ffd0>"
            ]
          },
          "metadata": {},
          "execution_count": 121
        }
      ]
    },
    {
      "cell_type": "code",
      "source": [
        "#Display the accuracy\n",
        "loss,accuracy = model.evaluate(X_padded, y)\n",
        "print(f\"Test Accuracy: {accuracy}\")"
      ],
      "metadata": {
        "colab": {
          "base_uri": "https://localhost:8080/"
        },
        "id": "ABGlLzfhUvta",
        "outputId": "61b75b6b-e944-497f-ff10-ecb26197cceb"
      },
      "execution_count": null,
      "outputs": [
        {
          "output_type": "stream",
          "name": "stdout",
          "text": [
            "\u001b[1m248/248\u001b[0m \u001b[32m━━━━━━━━━━━━━━━━━━━━\u001b[0m\u001b[37m\u001b[0m \u001b[1m20s\u001b[0m 80ms/step - accuracy: 0.9567 - loss: 0.1442\n",
            "Test Accuracy: 0.9369949698448181\n"
          ]
        }
      ]
    },
    {
      "cell_type": "markdown",
      "source": [
        "GRU Model"
      ],
      "metadata": {
        "id": "50oc-_-hkkmp"
      }
    },
    {
      "cell_type": "code",
      "source": [
        "model = Sequential()\n",
        "\n",
        "# Adding an Embedding layer\n",
        "model.add(Embedding(len(tokenizer.word_index) + 1,\n",
        "                    max_words,\n",
        "                    input_length=max_words))\n",
        "\n",
        "# Adding a GRU layer instead of LSTM\n",
        "model.add(GRU(150, return_sequences=False))\n",
        "model.add(BatchNormalization())\n",
        "model.add(Dropout(0.5))\n",
        "\n",
        "# Adding a Dense layer with 'relu' activation\n",
        "model.add(Dense(50, activation='relu'))\n",
        "model.add(BatchNormalization())  # Correct placement for batch normalization\n",
        "model.add(Dropout(0.5))\n",
        "\n",
        "# Adding the output layer with 'softmax' activation for multi-class classification\n",
        "model.add(Dense(5, activation='softmax'))\n",
        "\n",
        "# Printing the model summary\n",
        "print(model.summary())"
      ],
      "metadata": {
        "colab": {
          "base_uri": "https://localhost:8080/",
          "height": 459
        },
        "id": "7FcP3A3Lf6MY",
        "outputId": "2d087f3b-157e-4948-9604-04b815d3737a"
      },
      "execution_count": 129,
      "outputs": [
        {
          "output_type": "display_data",
          "data": {
            "text/plain": [
              "\u001b[1mModel: \"sequential_3\"\u001b[0m\n"
            ],
            "text/html": [
              "<pre style=\"white-space:pre;overflow-x:auto;line-height:normal;font-family:Menlo,'DejaVu Sans Mono',consolas,'Courier New',monospace\"><span style=\"font-weight: bold\">Model: \"sequential_3\"</span>\n",
              "</pre>\n"
            ]
          },
          "metadata": {}
        },
        {
          "output_type": "display_data",
          "data": {
            "text/plain": [
              "┏━━━━━━━━━━━━━━━━━━━━━━━━━━━━━━━━━━━━━━┳━━━━━━━━━━━━━━━━━━━━━━━━━━━━━┳━━━━━━━━━━━━━━━━━┓\n",
              "┃\u001b[1m \u001b[0m\u001b[1mLayer (type)                        \u001b[0m\u001b[1m \u001b[0m┃\u001b[1m \u001b[0m\u001b[1mOutput Shape               \u001b[0m\u001b[1m \u001b[0m┃\u001b[1m \u001b[0m\u001b[1m        Param #\u001b[0m\u001b[1m \u001b[0m┃\n",
              "┡━━━━━━━━━━━━━━━━━━━━━━━━━━━━━━━━━━━━━━╇━━━━━━━━━━━━━━━━━━━━━━━━━━━━━╇━━━━━━━━━━━━━━━━━┩\n",
              "│ embedding_7 (\u001b[38;5;33mEmbedding\u001b[0m)              │ ?                           │     \u001b[38;5;34m0\u001b[0m (unbuilt) │\n",
              "├──────────────────────────────────────┼─────────────────────────────┼─────────────────┤\n",
              "│ gru (\u001b[38;5;33mGRU\u001b[0m)                            │ ?                           │     \u001b[38;5;34m0\u001b[0m (unbuilt) │\n",
              "├──────────────────────────────────────┼─────────────────────────────┼─────────────────┤\n",
              "│ batch_normalization_4                │ ?                           │     \u001b[38;5;34m0\u001b[0m (unbuilt) │\n",
              "│ (\u001b[38;5;33mBatchNormalization\u001b[0m)                 │                             │                 │\n",
              "├──────────────────────────────────────┼─────────────────────────────┼─────────────────┤\n",
              "│ dropout_4 (\u001b[38;5;33mDropout\u001b[0m)                  │ ?                           │     \u001b[38;5;34m0\u001b[0m (unbuilt) │\n",
              "├──────────────────────────────────────┼─────────────────────────────┼─────────────────┤\n",
              "│ dense_7 (\u001b[38;5;33mDense\u001b[0m)                      │ ?                           │     \u001b[38;5;34m0\u001b[0m (unbuilt) │\n",
              "├──────────────────────────────────────┼─────────────────────────────┼─────────────────┤\n",
              "│ batch_normalization_5                │ ?                           │     \u001b[38;5;34m0\u001b[0m (unbuilt) │\n",
              "│ (\u001b[38;5;33mBatchNormalization\u001b[0m)                 │                             │                 │\n",
              "├──────────────────────────────────────┼─────────────────────────────┼─────────────────┤\n",
              "│ dropout_5 (\u001b[38;5;33mDropout\u001b[0m)                  │ ?                           │     \u001b[38;5;34m0\u001b[0m (unbuilt) │\n",
              "├──────────────────────────────────────┼─────────────────────────────┼─────────────────┤\n",
              "│ dense_8 (\u001b[38;5;33mDense\u001b[0m)                      │ ?                           │     \u001b[38;5;34m0\u001b[0m (unbuilt) │\n",
              "└──────────────────────────────────────┴─────────────────────────────┴─────────────────┘\n"
            ],
            "text/html": [
              "<pre style=\"white-space:pre;overflow-x:auto;line-height:normal;font-family:Menlo,'DejaVu Sans Mono',consolas,'Courier New',monospace\">┏━━━━━━━━━━━━━━━━━━━━━━━━━━━━━━━━━━━━━━┳━━━━━━━━━━━━━━━━━━━━━━━━━━━━━┳━━━━━━━━━━━━━━━━━┓\n",
              "┃<span style=\"font-weight: bold\"> Layer (type)                         </span>┃<span style=\"font-weight: bold\"> Output Shape                </span>┃<span style=\"font-weight: bold\">         Param # </span>┃\n",
              "┡━━━━━━━━━━━━━━━━━━━━━━━━━━━━━━━━━━━━━━╇━━━━━━━━━━━━━━━━━━━━━━━━━━━━━╇━━━━━━━━━━━━━━━━━┩\n",
              "│ embedding_7 (<span style=\"color: #0087ff; text-decoration-color: #0087ff\">Embedding</span>)              │ ?                           │     <span style=\"color: #00af00; text-decoration-color: #00af00\">0</span> (unbuilt) │\n",
              "├──────────────────────────────────────┼─────────────────────────────┼─────────────────┤\n",
              "│ gru (<span style=\"color: #0087ff; text-decoration-color: #0087ff\">GRU</span>)                            │ ?                           │     <span style=\"color: #00af00; text-decoration-color: #00af00\">0</span> (unbuilt) │\n",
              "├──────────────────────────────────────┼─────────────────────────────┼─────────────────┤\n",
              "│ batch_normalization_4                │ ?                           │     <span style=\"color: #00af00; text-decoration-color: #00af00\">0</span> (unbuilt) │\n",
              "│ (<span style=\"color: #0087ff; text-decoration-color: #0087ff\">BatchNormalization</span>)                 │                             │                 │\n",
              "├──────────────────────────────────────┼─────────────────────────────┼─────────────────┤\n",
              "│ dropout_4 (<span style=\"color: #0087ff; text-decoration-color: #0087ff\">Dropout</span>)                  │ ?                           │     <span style=\"color: #00af00; text-decoration-color: #00af00\">0</span> (unbuilt) │\n",
              "├──────────────────────────────────────┼─────────────────────────────┼─────────────────┤\n",
              "│ dense_7 (<span style=\"color: #0087ff; text-decoration-color: #0087ff\">Dense</span>)                      │ ?                           │     <span style=\"color: #00af00; text-decoration-color: #00af00\">0</span> (unbuilt) │\n",
              "├──────────────────────────────────────┼─────────────────────────────┼─────────────────┤\n",
              "│ batch_normalization_5                │ ?                           │     <span style=\"color: #00af00; text-decoration-color: #00af00\">0</span> (unbuilt) │\n",
              "│ (<span style=\"color: #0087ff; text-decoration-color: #0087ff\">BatchNormalization</span>)                 │                             │                 │\n",
              "├──────────────────────────────────────┼─────────────────────────────┼─────────────────┤\n",
              "│ dropout_5 (<span style=\"color: #0087ff; text-decoration-color: #0087ff\">Dropout</span>)                  │ ?                           │     <span style=\"color: #00af00; text-decoration-color: #00af00\">0</span> (unbuilt) │\n",
              "├──────────────────────────────────────┼─────────────────────────────┼─────────────────┤\n",
              "│ dense_8 (<span style=\"color: #0087ff; text-decoration-color: #0087ff\">Dense</span>)                      │ ?                           │     <span style=\"color: #00af00; text-decoration-color: #00af00\">0</span> (unbuilt) │\n",
              "└──────────────────────────────────────┴─────────────────────────────┴─────────────────┘\n",
              "</pre>\n"
            ]
          },
          "metadata": {}
        },
        {
          "output_type": "display_data",
          "data": {
            "text/plain": [
              "\u001b[1m Total params: \u001b[0m\u001b[38;5;34m0\u001b[0m (0.00 B)\n"
            ],
            "text/html": [
              "<pre style=\"white-space:pre;overflow-x:auto;line-height:normal;font-family:Menlo,'DejaVu Sans Mono',consolas,'Courier New',monospace\"><span style=\"font-weight: bold\"> Total params: </span><span style=\"color: #00af00; text-decoration-color: #00af00\">0</span> (0.00 B)\n",
              "</pre>\n"
            ]
          },
          "metadata": {}
        },
        {
          "output_type": "display_data",
          "data": {
            "text/plain": [
              "\u001b[1m Trainable params: \u001b[0m\u001b[38;5;34m0\u001b[0m (0.00 B)\n"
            ],
            "text/html": [
              "<pre style=\"white-space:pre;overflow-x:auto;line-height:normal;font-family:Menlo,'DejaVu Sans Mono',consolas,'Courier New',monospace\"><span style=\"font-weight: bold\"> Trainable params: </span><span style=\"color: #00af00; text-decoration-color: #00af00\">0</span> (0.00 B)\n",
              "</pre>\n"
            ]
          },
          "metadata": {}
        },
        {
          "output_type": "display_data",
          "data": {
            "text/plain": [
              "\u001b[1m Non-trainable params: \u001b[0m\u001b[38;5;34m0\u001b[0m (0.00 B)\n"
            ],
            "text/html": [
              "<pre style=\"white-space:pre;overflow-x:auto;line-height:normal;font-family:Menlo,'DejaVu Sans Mono',consolas,'Courier New',monospace\"><span style=\"font-weight: bold\"> Non-trainable params: </span><span style=\"color: #00af00; text-decoration-color: #00af00\">0</span> (0.00 B)\n",
              "</pre>\n"
            ]
          },
          "metadata": {}
        },
        {
          "output_type": "stream",
          "name": "stdout",
          "text": [
            "None\n"
          ]
        }
      ]
    },
    {
      "cell_type": "code",
      "source": [
        "#Compile the model\n",
        "model.compile(optimizer='adam', loss='sparse_categorical_crossentropy', metrics=['accuracy'])"
      ],
      "metadata": {
        "id": "HxyDEa7QgNZa"
      },
      "execution_count": 130,
      "outputs": []
    },
    {
      "cell_type": "code",
      "source": [
        "model.fit(X_padded, y, epochs=5, batch_size=64, validation_split=0.2)"
      ],
      "metadata": {
        "colab": {
          "base_uri": "https://localhost:8080/"
        },
        "id": "b4TUQ5augq1L",
        "outputId": "726b2bd7-4f2c-4fcb-c641-c1a667901060"
      },
      "execution_count": 131,
      "outputs": [
        {
          "output_type": "stream",
          "name": "stdout",
          "text": [
            "Epoch 1/5\n",
            "\u001b[1m99/99\u001b[0m \u001b[32m━━━━━━━━━━━━━━━━━━━━\u001b[0m\u001b[37m\u001b[0m \u001b[1m41s\u001b[0m 361ms/step - accuracy: 0.3969 - loss: 1.8979 - val_accuracy: 0.7519 - val_loss: 0.8603\n",
            "Epoch 2/5\n",
            "\u001b[1m99/99\u001b[0m \u001b[32m━━━━━━━━━━━━━━━━━━━━\u001b[0m\u001b[37m\u001b[0m \u001b[1m40s\u001b[0m 348ms/step - accuracy: 0.8579 - loss: 0.6608 - val_accuracy: 0.7519 - val_loss: 0.8971\n",
            "Epoch 3/5\n",
            "\u001b[1m99/99\u001b[0m \u001b[32m━━━━━━━━━━━━━━━━━━━━\u001b[0m\u001b[37m\u001b[0m \u001b[1m32s\u001b[0m 328ms/step - accuracy: 0.9370 - loss: 0.3475 - val_accuracy: 0.7532 - val_loss: 1.0015\n",
            "Epoch 4/5\n",
            "\u001b[1m99/99\u001b[0m \u001b[32m━━━━━━━━━━━━━━━━━━━━\u001b[0m\u001b[37m\u001b[0m \u001b[1m41s\u001b[0m 324ms/step - accuracy: 0.9474 - loss: 0.2610 - val_accuracy: 0.8043 - val_loss: 0.5294\n",
            "Epoch 5/5\n",
            "\u001b[1m99/99\u001b[0m \u001b[32m━━━━━━━━━━━━━━━━━━━━\u001b[0m\u001b[37m\u001b[0m \u001b[1m42s\u001b[0m 334ms/step - accuracy: 0.9617 - loss: 0.1846 - val_accuracy: 0.8125 - val_loss: 0.6292\n"
          ]
        },
        {
          "output_type": "execute_result",
          "data": {
            "text/plain": [
              "<keras.src.callbacks.history.History at 0x7ab60fbf9cf0>"
            ]
          },
          "metadata": {},
          "execution_count": 131
        }
      ]
    },
    {
      "cell_type": "code",
      "source": [
        "#Display the accuracy\n",
        "loss,accuracy = model.evaluate(X_padded, y)\n",
        "print(f\"Test Accuracy: {accuracy}\")"
      ],
      "metadata": {
        "colab": {
          "base_uri": "https://localhost:8080/"
        },
        "id": "sAWgnRa8g0XZ",
        "outputId": "848a172f-0abe-417d-e554-3f5b653c0026"
      },
      "execution_count": 132,
      "outputs": [
        {
          "output_type": "stream",
          "name": "stdout",
          "text": [
            "\u001b[1m248/248\u001b[0m \u001b[32m━━━━━━━━━━━━━━━━━━━━\u001b[0m\u001b[37m\u001b[0m \u001b[1m15s\u001b[0m 62ms/step - accuracy: 0.8726 - loss: 0.3205\n",
            "Test Accuracy: 0.8585858345031738\n"
          ]
        }
      ]
    }
  ]
}